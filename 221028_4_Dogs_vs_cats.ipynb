{
  "cells": [
    {
      "cell_type": "markdown",
      "metadata": {
        "id": "view-in-github",
        "colab_type": "text"
      },
      "source": [
        "<a href=\"https://colab.research.google.com/github/hkhong72/big_data/blob/main/221028_4_Dogs_vs_cats.ipynb\" target=\"_parent\"><img src=\"https://colab.research.google.com/assets/colab-badge.svg\" alt=\"Open In Colab\"/></a>"
      ]
    },
    {
      "cell_type": "code",
      "execution_count": null,
      "id": "bd19bc93",
      "metadata": {
        "id": "bd19bc93"
      },
      "outputs": [],
      "source": [
        "import os, shutil\n",
        "os.environ[\"KMP_DUPLICATE_LIB_OK\"]=\"TRUE\"\n",
        "import matplotlib.pyplot as plt"
      ]
    },
    {
      "cell_type": "code",
      "execution_count": null,
      "id": "9082f9dc",
      "metadata": {
        "id": "9082f9dc"
      },
      "outputs": [],
      "source": [
        "original_dataset_dir = 'data/original/train'\n",
        "\n",
        "base_dir = 'data/cats_vs_dogs'\n",
        "if not os.path.exists(base_dir):\n",
        "    os.mkdir(base_dir)"
      ]
    },
    {
      "cell_type": "code",
      "execution_count": null,
      "id": "15ac40f5",
      "metadata": {
        "id": "15ac40f5"
      },
      "outputs": [],
      "source": [
        "train_dir = os.path.join(base_dir, 'train')\n",
        "os.mkdir(train_dir)\n",
        "test_dir = os.path.join(base_dir, 'test')\n",
        "os.mkdir(test_dir)"
      ]
    },
    {
      "cell_type": "code",
      "execution_count": null,
      "id": "d19a04a8",
      "metadata": {
        "id": "d19a04a8"
      },
      "outputs": [],
      "source": [
        "train_cats_dir = os.path.join(train_dir, 'cats')\n",
        "os.mkdir(train_cats_dir)\n",
        "\n",
        "train_dogs_dir = os.path.join(train_dir, 'dogs')\n",
        "os.mkdir(train_dogs_dir)"
      ]
    },
    {
      "cell_type": "code",
      "execution_count": null,
      "id": "1b40c39b",
      "metadata": {
        "id": "1b40c39b"
      },
      "outputs": [],
      "source": [
        "test_cats_dir = os.path.join(test_dir, 'cats')\n",
        "os.mkdir(test_cats_dir)\n",
        "\n",
        "test_dogs_dir = os.path.join(test_dir, 'dogs')\n",
        "os.mkdir(test_dogs_dir)"
      ]
    },
    {
      "cell_type": "code",
      "execution_count": null,
      "id": "ffd88e96",
      "metadata": {
        "id": "ffd88e96"
      },
      "outputs": [],
      "source": [
        "# 훈련용 고양이 10000개\n",
        "fnames = ['cat.{}.jpg'.format(i) for i in range(10000)]\n",
        "for fname in fnames:\n",
        "    src = os.path.join(original_dataset_dir, fname)\n",
        "    dst = os.path.join(train_cats_dir, fname)\n",
        "    shutil.copyfile(src, dst)"
      ]
    },
    {
      "cell_type": "code",
      "execution_count": null,
      "id": "d2f929a8",
      "metadata": {
        "id": "d2f929a8"
      },
      "outputs": [],
      "source": [
        "# 훈련용 강아지 10000개\n",
        "fnames = ['dog.{}.jpg'.format(i) for i in range(10000)]\n",
        "for fname in fnames:\n",
        "    src = os.path.join(original_dataset_dir, fname)\n",
        "    dst = os.path.join(train_dogs_dir, fname)\n",
        "    shutil.copyfile(src, dst)"
      ]
    },
    {
      "cell_type": "code",
      "execution_count": null,
      "id": "1aec583b",
      "metadata": {
        "id": "1aec583b"
      },
      "outputs": [],
      "source": [
        "# 테스트용 고양이 2500개\n",
        "fnames = ['cat.{}.jpg'.format(i) for i in range(10000, 12500)]\n",
        "for fname in fnames:\n",
        "    src = os.path.join(original_dataset_dir, fname)\n",
        "    dst = os.path.join(test_cats_dir, fname)\n",
        "    shutil.copyfile(src, dst)"
      ]
    },
    {
      "cell_type": "code",
      "execution_count": null,
      "id": "b6c9072b",
      "metadata": {
        "id": "b6c9072b"
      },
      "outputs": [],
      "source": [
        "# 테스트용 강아지 2500개\n",
        "fnames = ['dog.{}.jpg'.format(i) for i in range(10000, 12500)]\n",
        "for fname in fnames:\n",
        "    src = os.path.join(original_dataset_dir, fname)\n",
        "    dst = os.path.join(test_dogs_dir, fname)\n",
        "    shutil.copyfile(src, dst)"
      ]
    },
    {
      "cell_type": "code",
      "execution_count": null,
      "id": "a46f744e",
      "metadata": {
        "id": "a46f744e",
        "outputId": "b8f234b3-c126-4253-83b3-4164e5218d66"
      },
      "outputs": [
        {
          "name": "stdout",
          "output_type": "stream",
          "text": [
            "훈련용 고양이 이미지 전체 개수: 10000\n",
            "훈련용 강아지 이미지 전체 개수: 10000\n",
            "테스트용 고양이 이미지 전체 개수: 2500\n",
            "테스트용 강아지 이미지 전체 개수: 2500\n"
          ]
        }
      ],
      "source": [
        "print('훈련용 고양이 이미지 전체 개수:', len(os.listdir(train_cats_dir)))\n",
        "print('훈련용 강아지 이미지 전체 개수:', len(os.listdir(train_dogs_dir)))\n",
        "print('테스트용 고양이 이미지 전체 개수:', len(os.listdir(test_cats_dir)))\n",
        "print('테스트용 강아지 이미지 전체 개수:', len(os.listdir(test_dogs_dir)))"
      ]
    },
    {
      "cell_type": "code",
      "execution_count": null,
      "id": "ab767a96",
      "metadata": {
        "id": "ab767a96"
      },
      "outputs": [],
      "source": [
        "from tensorflow.keras import layers\n",
        "from tensorflow.keras import models\n",
        "\n",
        "model = models.Sequential()\n",
        "model.add(layers.Conv2D(32, (3, 3), activation='relu', input_shape=(150, 150, 3)))\n",
        "model.add(layers.MaxPooling2D((2, 2)))\n",
        "model.add(layers.Conv2D(64, (3, 3), activation='relu'))\n",
        "model.add(layers.MaxPooling2D((2, 2)))\n",
        "model.add(layers.Conv2D(128, (3, 3), activation='relu'))\n",
        "model.add(layers.MaxPooling2D((2, 2)))\n",
        "model.add(layers.Conv2D(128, (3, 3), activation='relu'))\n",
        "model.add(layers.MaxPooling2D((2, 2)))\n",
        "model.add(layers.Flatten())\n",
        "model.add(layers.Dropout(0.5))\n",
        "model.add(layers.Dense(512, activation='relu'))\n",
        "model.add(layers.Dense(1, activation='sigmoid'))"
      ]
    },
    {
      "cell_type": "code",
      "execution_count": null,
      "id": "d00eaac9",
      "metadata": {
        "id": "d00eaac9",
        "outputId": "0ded4177-3126-4560-c54a-286d01387632"
      },
      "outputs": [
        {
          "name": "stdout",
          "output_type": "stream",
          "text": [
            "Model: \"sequential\"\n",
            "_________________________________________________________________\n",
            " Layer (type)                Output Shape              Param #   \n",
            "=================================================================\n",
            " conv2d (Conv2D)             (None, 148, 148, 32)      896       \n",
            "                                                                 \n",
            " max_pooling2d (MaxPooling2D  (None, 74, 74, 32)       0         \n",
            " )                                                               \n",
            "                                                                 \n",
            " conv2d_1 (Conv2D)           (None, 72, 72, 64)        18496     \n",
            "                                                                 \n",
            " max_pooling2d_1 (MaxPooling  (None, 36, 36, 64)       0         \n",
            " 2D)                                                             \n",
            "                                                                 \n",
            " conv2d_2 (Conv2D)           (None, 34, 34, 128)       73856     \n",
            "                                                                 \n",
            " max_pooling2d_2 (MaxPooling  (None, 17, 17, 128)      0         \n",
            " 2D)                                                             \n",
            "                                                                 \n",
            " conv2d_3 (Conv2D)           (None, 15, 15, 128)       147584    \n",
            "                                                                 \n",
            " max_pooling2d_3 (MaxPooling  (None, 7, 7, 128)        0         \n",
            " 2D)                                                             \n",
            "                                                                 \n",
            " flatten (Flatten)           (None, 6272)              0         \n",
            "                                                                 \n",
            " dropout (Dropout)           (None, 6272)              0         \n",
            "                                                                 \n",
            " dense (Dense)               (None, 512)               3211776   \n",
            "                                                                 \n",
            " dense_1 (Dense)             (None, 1)                 513       \n",
            "                                                                 \n",
            "=================================================================\n",
            "Total params: 3,453,121\n",
            "Trainable params: 3,453,121\n",
            "Non-trainable params: 0\n",
            "_________________________________________________________________\n"
          ]
        }
      ],
      "source": [
        "model.summary()"
      ]
    },
    {
      "cell_type": "code",
      "execution_count": null,
      "id": "0c636094",
      "metadata": {
        "id": "0c636094"
      },
      "outputs": [],
      "source": [
        "# 1. (1) * (3 x 3) * (3) * (32) + 32=> w = 288 / bias = 32 / total = 896 => 이미지크기 150* 150 => (150-2) * (150-2) => (148/2=74) * (148/2=74)\n",
        "# 2. (32) *  (3 x 3) * (64) + 64 =>  w =18432 / bias = 64 / total = 18496 => 이미지크기 74 * 74 => (74-2) * (74-2) => (72/2=36) * (72/2=36)\n",
        "# 3. (64) *  (3 x 3) * (128) + 128 =>  w =73728 / bias = 128 / total = 73856 => 이미지크기 36 * 36 => (36-2) * (36-2) => (34/2=17) * (34/2=17)\n",
        "# 4. (128) *  (3 x 3) * (128) + 128 =>  w =147456 / bias = 128 / total = 147584 => 이미지크기 17 * 17 => (17-2) * (17-2) => (15/2=7) * (15/2=7)\n",
        "# 5. 이미지 크기 150 * 150 였는데 Conv2D(3,3) 이랑(2,2) maxpooling 을 총 4번하면서  => 7 * 7  \n",
        "# 6. Flatten ==> 1차원으로 눌러서 7 * 7 크기의 128개 ==> 입력 6272\n",
        "# 7. Dropout 은 파라미터 영향 x\n",
        "# 8. (6272) * (512) + 512 =>  w = 3,211,264 / bias = 512 / total = 3,211,776\n",
        "# 9. (512) * (1) + 1 = w = 512 / bias = 1 / total = 513"
      ]
    },
    {
      "cell_type": "code",
      "execution_count": null,
      "id": "d905a7d3",
      "metadata": {
        "id": "d905a7d3"
      },
      "outputs": [],
      "source": [
        "model.compile(loss='binary_crossentropy', optimizer='adam', metrics=['accuracy'])"
      ]
    },
    {
      "cell_type": "code",
      "execution_count": null,
      "id": "cef6e457",
      "metadata": {
        "id": "cef6e457",
        "outputId": "bda9ea66-a643-4361-b571-2d0872172062"
      },
      "outputs": [
        {
          "name": "stdout",
          "output_type": "stream",
          "text": [
            "Found 20000 images belonging to 2 classes.\n",
            "Found 5000 images belonging to 2 classes.\n"
          ]
        }
      ],
      "source": [
        "from tensorflow.keras.preprocessing.image import ImageDataGenerator\n",
        "\n",
        "train_datagen = ImageDataGenerator(rescale=1./255)\n",
        "test_datagen = ImageDataGenerator(rescale=1./255)\n",
        "\n",
        "train_generator = train_datagen.flow_from_directory(train_dir, target_size=(150, 150), batch_size=20, class_mode='binary')\n",
        "# 알파벳순서로 정렬한뒤, 첫번째데이터값을 0, 두번째데이터값을 1로 설정하고 가지고올때 150,150 크기로 가져옴\n",
        "\n",
        "validation_generator = test_datagen.flow_from_directory(test_dir, target_size=(150, 150), batch_size=20, class_mode='binary')\n"
      ]
    },
    {
      "cell_type": "code",
      "execution_count": null,
      "id": "e72ce510",
      "metadata": {
        "id": "e72ce510",
        "outputId": "f56e7c3c-75ad-4752-be08-639a2db0a2b3"
      },
      "outputs": [
        {
          "name": "stdout",
          "output_type": "stream",
          "text": [
            "배치 데이터 크기 :  (20, 150, 150, 3)\n",
            "배치 레이블 크기 :  (20,)\n"
          ]
        }
      ],
      "source": [
        "for data_batch, lables_batch in train_generator:\n",
        "    print('배치 데이터 크기 : ', data_batch.shape)\n",
        "    print('배치 레이블 크기 : ', lables_batch.shape)\n",
        "    break"
      ]
    },
    {
      "cell_type": "code",
      "execution_count": null,
      "id": "860e4aee",
      "metadata": {
        "id": "860e4aee",
        "outputId": "1059bdaf-cf04-425c-9c89-d02567f2df32"
      },
      "outputs": [
        {
          "name": "stdout",
          "output_type": "stream",
          "text": [
            "Epoch 1/30\n",
            "1000/1000 [==============================] - 286s 285ms/step - loss: 0.6787 - accuracy: 0.5609 - val_loss: 0.6304 - val_accuracy: 0.6512\n",
            "Epoch 2/30\n",
            "1000/1000 [==============================] - 225s 225ms/step - loss: 0.5873 - accuracy: 0.6895 - val_loss: 0.5059 - val_accuracy: 0.7628\n",
            "Epoch 3/30\n",
            "1000/1000 [==============================] - 217s 217ms/step - loss: 0.4802 - accuracy: 0.7653 - val_loss: 0.4421 - val_accuracy: 0.8002\n",
            "Epoch 4/30\n",
            "1000/1000 [==============================] - 223s 223ms/step - loss: 0.4089 - accuracy: 0.8145 - val_loss: 0.3988 - val_accuracy: 0.8204\n",
            "Epoch 5/30\n",
            "1000/1000 [==============================] - 222s 222ms/step - loss: 0.3505 - accuracy: 0.8457 - val_loss: 0.3573 - val_accuracy: 0.8502\n",
            "Epoch 6/30\n",
            "1000/1000 [==============================] - 218s 218ms/step - loss: 0.3039 - accuracy: 0.8699 - val_loss: 0.2950 - val_accuracy: 0.8736\n",
            "Epoch 7/30\n",
            "1000/1000 [==============================] - 223s 223ms/step - loss: 0.2643 - accuracy: 0.8879 - val_loss: 0.2913 - val_accuracy: 0.8786\n",
            "Epoch 8/30\n",
            "1000/1000 [==============================] - 217s 217ms/step - loss: 0.2362 - accuracy: 0.8994 - val_loss: 0.2673 - val_accuracy: 0.8896\n",
            "Epoch 9/30\n",
            "1000/1000 [==============================] - 217s 217ms/step - loss: 0.2042 - accuracy: 0.9158 - val_loss: 0.2749 - val_accuracy: 0.8814\n",
            "Epoch 10/30\n",
            "1000/1000 [==============================] - 225s 225ms/step - loss: 0.1769 - accuracy: 0.9285 - val_loss: 0.2777 - val_accuracy: 0.8918\n",
            "Epoch 11/30\n",
            "1000/1000 [==============================] - 219s 219ms/step - loss: 0.1630 - accuracy: 0.9341 - val_loss: 0.2669 - val_accuracy: 0.8968\n",
            "Epoch 12/30\n",
            "1000/1000 [==============================] - 223s 223ms/step - loss: 0.1464 - accuracy: 0.9416 - val_loss: 0.2734 - val_accuracy: 0.8950\n",
            "Epoch 13/30\n",
            "1000/1000 [==============================] - 227s 227ms/step - loss: 0.1304 - accuracy: 0.9474 - val_loss: 0.3152 - val_accuracy: 0.8964\n",
            "Epoch 14/30\n",
            "1000/1000 [==============================] - 218s 218ms/step - loss: 0.1174 - accuracy: 0.9527 - val_loss: 0.2926 - val_accuracy: 0.8990\n",
            "Epoch 15/30\n",
            "1000/1000 [==============================] - 219s 219ms/step - loss: 0.1110 - accuracy: 0.9570 - val_loss: 0.3109 - val_accuracy: 0.8868\n",
            "Epoch 16/30\n",
            "1000/1000 [==============================] - 225s 225ms/step - loss: 0.1006 - accuracy: 0.9623 - val_loss: 0.3027 - val_accuracy: 0.8994\n",
            "Epoch 17/30\n",
            "1000/1000 [==============================] - 219s 219ms/step - loss: 0.0931 - accuracy: 0.9660 - val_loss: 0.3060 - val_accuracy: 0.8956\n",
            "Epoch 18/30\n",
            "1000/1000 [==============================] - 231s 231ms/step - loss: 0.0787 - accuracy: 0.9702 - val_loss: 0.3176 - val_accuracy: 0.8948\n",
            "Epoch 19/30\n",
            "1000/1000 [==============================] - 226s 226ms/step - loss: 0.0787 - accuracy: 0.9692 - val_loss: 0.3570 - val_accuracy: 0.8968\n",
            "Epoch 20/30\n",
            "1000/1000 [==============================] - 222s 222ms/step - loss: 0.0834 - accuracy: 0.9700 - val_loss: 0.3835 - val_accuracy: 0.8966\n",
            "Epoch 21/30\n",
            "1000/1000 [==============================] - 220s 220ms/step - loss: 0.0676 - accuracy: 0.9750 - val_loss: 0.3454 - val_accuracy: 0.8996\n",
            "Epoch 22/30\n",
            "1000/1000 [==============================] - 220s 220ms/step - loss: 0.0708 - accuracy: 0.9738 - val_loss: 0.3611 - val_accuracy: 0.8958\n",
            "Epoch 23/30\n",
            "1000/1000 [==============================] - 219s 219ms/step - loss: 0.0665 - accuracy: 0.9766 - val_loss: 0.3604 - val_accuracy: 0.8918\n",
            "Epoch 24/30\n",
            "1000/1000 [==============================] - 221s 221ms/step - loss: 0.0629 - accuracy: 0.9771 - val_loss: 0.3661 - val_accuracy: 0.8982\n",
            "Epoch 25/30\n",
            "1000/1000 [==============================] - 219s 219ms/step - loss: 0.0569 - accuracy: 0.9800 - val_loss: 0.3238 - val_accuracy: 0.8986\n",
            "Epoch 26/30\n",
            "1000/1000 [==============================] - 221s 221ms/step - loss: 0.0609 - accuracy: 0.9775 - val_loss: 0.3322 - val_accuracy: 0.8924\n",
            "Epoch 27/30\n",
            "1000/1000 [==============================] - 225s 224ms/step - loss: 0.0479 - accuracy: 0.9826 - val_loss: 0.4017 - val_accuracy: 0.8938\n",
            "Epoch 28/30\n",
            "1000/1000 [==============================] - 223s 223ms/step - loss: 0.0582 - accuracy: 0.9803 - val_loss: 0.3723 - val_accuracy: 0.8994\n",
            "Epoch 29/30\n",
            "1000/1000 [==============================] - 223s 223ms/step - loss: 0.0623 - accuracy: 0.9791 - val_loss: 0.3428 - val_accuracy: 0.8998\n",
            "Epoch 30/30\n",
            "1000/1000 [==============================] - 223s 223ms/step - loss: 0.0520 - accuracy: 0.9808 - val_loss: 0.3774 - val_accuracy: 0.8952\n"
          ]
        }
      ],
      "source": [
        "history = model.fit(train_generator, epochs=30, validation_data=validation_generator)\n",
        "# 최소2시간반 4시10분시작"
      ]
    },
    {
      "cell_type": "code",
      "execution_count": null,
      "id": "8e22d6c9",
      "metadata": {
        "id": "8e22d6c9",
        "outputId": "6b6d0f73-fab7-4528-bef0-91ba5e8b2be3"
      },
      "outputs": [
        {
          "data": {
            "image/png": "[encoded data removed]",
            "text/plain": [
              "<Figure size 640x480 with 1 Axes>"
            ]
          },
          "metadata": {},
          "output_type": "display_data"
        },
        {
          "data": {
            "image/png": "[encoded data removed]",
            "text/plain": [
              "<Figure size 640x480 with 1 Axes>"
            ]
          },
          "metadata": {},
          "output_type": "display_data"
        }
      ],
      "source": [
        "acc = history.history['accuracy']\n",
        "val_acc = history.history['val_accuracy']\n",
        "loss = history.history['loss']\n",
        "val_loss = history.history['val_loss']\n",
        "\n",
        "epochs = range(len(acc))\n",
        "\n",
        "plt.plot(epochs, acc, 'ro', label='Training acc')\n",
        "plt.plot(epochs, val_acc, 'b', label='Validation acc')\n",
        "plt.title('Training and validation accuracy')\n",
        "plt.legend()\n",
        "\n",
        "plt.figure()\n",
        "\n",
        "plt.plot(epochs, loss, 'ro', label='Training loss')\n",
        "plt.plot(epochs, val_loss, 'b', label='Validation loss')\n",
        "plt.title('Training and validation loss')\n",
        "plt.legend()\n",
        "\n",
        "plt.show()"
      ]
    }
  ],
  "metadata": {
    "kernelspec": {
      "display_name": "Python 3 (ipykernel)",
      "language": "python",
      "name": "python3"
    },
    "language_info": {
      "codemirror_mode": {
        "name": "ipython",
        "version": 3
      },
      "file_extension": ".py",
      "mimetype": "text/x-python",
      "name": "python",
      "nbconvert_exporter": "python",
      "pygments_lexer": "ipython3",
      "version": "3.8.13"
    },
    "colab": {
      "provenance": [],
      "include_colab_link": true
    }
  },
  "nbformat": 4,
  "nbformat_minor": 5
}