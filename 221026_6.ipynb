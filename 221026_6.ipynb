{
  "cells": [
    {
      "cell_type": "markdown",
      "metadata": {
        "id": "view-in-github",
        "colab_type": "text"
      },
      "source": [
        "<a href=\"https://colab.research.google.com/github/hkhong72/big_data/blob/main/221026_6.ipynb\" target=\"_parent\"><img src=\"https://colab.research.google.com/assets/colab-badge.svg\" alt=\"Open In Colab\"/></a>"
      ]
    },
    {
      "cell_type": "code",
      "execution_count": null,
      "id": "f6fc0bd1",
      "metadata": {
        "id": "f6fc0bd1"
      },
      "outputs": [],
      "source": [
        "#전체데이터가 적을때 -> K겹교차검증\n",
        "from tensorflow.keras import models, layers\n",
        "from sklearn.model_selection import KFold\n",
        "import pandas as pd"
      ]
    },
    {
      "cell_type": "code",
      "execution_count": null,
      "id": "8cbca166",
      "metadata": {
        "id": "8cbca166"
      },
      "outputs": [],
      "source": [
        "df = pd.read_csv('data/sonar3.csv', header=None)"
      ]
    },
    {
      "cell_type": "code",
      "execution_count": null,
      "id": "e02cb4bd",
      "metadata": {
        "id": "e02cb4bd"
      },
      "outputs": [],
      "source": [
        "X = df.iloc[:, :60]\n",
        "y = df.iloc[:, 60]"
      ]
    },
    {
      "cell_type": "code",
      "execution_count": null,
      "id": "9f709775",
      "metadata": {
        "id": "9f709775"
      },
      "outputs": [],
      "source": [
        "k = 5\n",
        "\n",
        "kfold = KFold(n_splits=k, shuffle=True)"
      ]
    },
    {
      "cell_type": "code",
      "execution_count": null,
      "id": "c6d73ec8",
      "metadata": {
        "id": "c6d73ec8"
      },
      "outputs": [],
      "source": [
        "def model_fn(): #함수생성\n",
        "    model = models.Sequential()\n",
        "    model.add(layers.Dense(24, input_dim=60, activation='relu'))\n",
        "    model.add(layers.Dense(10, activation='relu'))\n",
        "    model.add(layers.Dense(1, activation='sigmoid'))\n",
        "    return model"
      ]
    },
    {
      "cell_type": "code",
      "execution_count": null,
      "id": "028a49d0",
      "metadata": {
        "id": "028a49d0"
      },
      "outputs": [],
      "source": [
        "acc_score = [] #리스트생성\n",
        "#k겹교차검증"
      ]
    },
    {
      "cell_type": "code",
      "execution_count": null,
      "id": "0f11abb7",
      "metadata": {
        "id": "0f11abb7",
        "outputId": "8c541393-be2b-4732-d9e6-cb76722095c7"
      },
      "outputs": [
        {
          "name": "stdout",
          "output_type": "stream",
          "text": [
            "2/2 [==============================] - 0s 4ms/step - loss: 0.2115 - accuracy: 0.9048\n",
            "2/2 [==============================] - 0s 2ms/step - loss: 0.5251 - accuracy: 0.8095\n",
            "2/2 [==============================] - 0s 2ms/step - loss: 0.5209 - accuracy: 0.8333\n",
            "2/2 [==============================] - 0s 3ms/step - loss: 0.9026 - accuracy: 0.8049\n",
            "WARNING:tensorflow:5 out of the last 9 calls to <function Model.make_test_function.<locals>.test_function at 0x0000027D64E731F0> triggered tf.function retracing. Tracing is expensive and the excessive number of tracings could be due to (1) creating @tf.function repeatedly in a loop, (2) passing tensors with different shapes, (3) passing Python objects instead of tensors. For (1), please define your @tf.function outside of the loop. For (2), @tf.function has experimental_relax_shapes=True option that relaxes argument shapes that can avoid unnecessary retracing. For (3), please refer to https://www.tensorflow.org/guide/function#controlling_retracing and https://www.tensorflow.org/api_docs/python/tf/function for  more details.\n",
            "2/2 [==============================] - 0s 2ms/step - loss: 0.6250 - accuracy: 0.8049\n",
            "Accuracy :  [0.9047619104385376, 0.8095238208770752, 0.8333333134651184, 0.8048780560493469, 0.8048780560493469]\n",
            "Average Accuracy :  0.831475031375885\n"
          ]
        }
      ],
      "source": [
        "for train_index, test_index in kfold.split(X):\n",
        "    X_train, X_test = X.iloc[train_index, :], X.iloc[test_index, :]\n",
        "    y_train, y_test = y.iloc[train_index], y.iloc[test_index]\n",
        "    \n",
        "    model = model_fn()\n",
        "# 모델 컴파일\n",
        "    model.compile(loss='binary_crossentropy', optimizer='adam', metrics=['accuracy'])\n",
        "# 모델 실행\n",
        "    history = model.fit(X_train, y_train, epochs=200, batch_size=10, verbose=0) #verbose 뜻은 수다쟁이, 디폴트값은 1, 화면에출력안되게 0으로설정\n",
        "    \n",
        "    accuracy = model.evaluate(X_test, y_test)[1] # [0]은 loss [1]은 accuracy\n",
        "    acc_score.append(accuracy)\n",
        "    \n",
        "avg_acc_score = sum( acc_score) / k\n",
        "print('Accuracy : ', acc_score)\n",
        "print('Average Accuracy : ', avg_acc_score)"
      ]
    },
    {
      "cell_type": "code",
      "execution_count": null,
      "id": "397deaab",
      "metadata": {
        "id": "397deaab"
      },
      "outputs": [],
      "source": [
        "# Accuracy :  [0.9047619104385376, 0.8095238208770752, 0.8333333134651184, 0.8048780560493469, 0.8048780560493469]\n",
        "# Average Accuracy :  0.831475031375885\n",
        "# 위의 결과값은 k=5 설정했을때, k겹교차검증의 결과."
      ]
    }
  ],
  "metadata": {
    "kernelspec": {
      "display_name": "Python 3 (ipykernel)",
      "language": "python",
      "name": "python3"
    },
    "language_info": {
      "codemirror_mode": {
        "name": "ipython",
        "version": 3
      },
      "file_extension": ".py",
      "mimetype": "text/x-python",
      "name": "python",
      "nbconvert_exporter": "python",
      "pygments_lexer": "ipython3",
      "version": "3.8.13"
    },
    "colab": {
      "provenance": [],
      "include_colab_link": true
    }
  },
  "nbformat": 4,
  "nbformat_minor": 5
}