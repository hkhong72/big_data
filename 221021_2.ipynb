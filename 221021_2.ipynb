{
  "nbformat": 4,
  "nbformat_minor": 0,
  "metadata": {
    "colab": {
      "provenance": [],
      "collapsed_sections": [],
      "authorship_tag": "ABX9TyNrtqOLaOoKHgqRd0gFzGng",
      "include_colab_link": true
    },
    "kernelspec": {
      "name": "python3",
      "display_name": "Python 3"
    },
    "language_info": {
      "name": "python"
    }
  },
  "cells": [
    {
      "cell_type": "markdown",
      "metadata": {
        "id": "view-in-github",
        "colab_type": "text"
      },
      "source": [
        "<a href=\"https://colab.research.google.com/github/hkhong72/big_data/blob/main/221021_2.ipynb\" target=\"_parent\"><img src=\"https://colab.research.google.com/assets/colab-badge.svg\" alt=\"Open In Colab\"/></a>"
      ]
    },
    {
      "cell_type": "markdown",
      "source": [
        "배열 - 메모리상의 연속적인 공간을 만들어놓고 씀\n",
        "      중간의 데이터를 조회삽입등의 경우에 문제가 생김\n",
        "\n",
        "Linked-list > 노드를 구성해서 각 데이터마다 포인터를 연결해서 줌\n",
        "\n",
        "맵 - 키값에따라서 밸류를 지정\n",
        "     다른 키, 동일한주소 X \n",
        "     주소가 지정한 범위바깥으로 가면안됨\n",
        "     속도가 빨라야함 \n",
        "     -->> hash 함수가 나옴\n",
        "\n",
        "자바의 최상위 함수 - 오브젝트함수\n",
        "\n",
        "오브젝트생성시 오브젝트마다 아이디부여\n",
        "\n",
        "\n"
      ],
      "metadata": {
        "id": "-2hRgeBXth5Z"
      }
    },
    {
      "cell_type": "markdown",
      "source": [
        "common 패키지에\n",
        "\n",
        "GroupKeyComparator 클래스생성\n"
      ],
      "metadata": {
        "id": "9cR04ocIvnqo"
      }
    },
    {
      "cell_type": "code",
      "source": [
        "package com.adacho.common;\n",
        "\n",
        "import org.apache.hadoop.io.WritableComparable;\n",
        "import org.apache.hadoop.io.WritableComparator;\n",
        "\n",
        "public class GroupKeyComparator extends WritableComparator{\n",
        "\tprotected GroupKeyComparator() {\n",
        "\t\tsuper(DateKey.class,true);\n",
        "\t}\n",
        "\n",
        "\t@Override\n",
        "\tpublic int compare(WritableComparable a, WritableComparable b) {\n",
        "\t\t// TODO Auto-generated method stub\n",
        "\t\tDateKey k1 = (DateKey)a;\n",
        "\t\tDateKey k2 = (DateKey)b;\n",
        "\t\treturn k1.getYear().compareTo(k2.getYear()); //년도만비교\n",
        "\t}\n",
        "\t\n",
        "}\n"
      ],
      "metadata": {
        "id": "MvJyheTWvqD5"
      },
      "execution_count": null,
      "outputs": []
    },
    {
      "cell_type": "markdown",
      "source": [
        "매퍼클래스에 \n",
        "\n",
        "DelayCountMapperDateKey 클래스 생성"
      ],
      "metadata": {
        "id": "TEMyNSmnwJW_"
      }
    },
    {
      "cell_type": "code",
      "source": [
        "package com.adacho.mapper;\n",
        "\n",
        "import java.io.IOException;\n",
        "\n",
        "import org.apache.hadoop.io.IntWritable;\n",
        "import org.apache.hadoop.io.LongWritable;\n",
        "import org.apache.hadoop.io.Text;\n",
        "import org.apache.hadoop.mapreduce.Mapper;\n",
        "\n",
        "import com.adacho.common.AirlinePerformanceParser;\n",
        "import com.adacho.common.DateKey;\n",
        "import com.adacho.counter.DelayCounter;\n",
        "\n",
        "public class DelayCountMapperDateKey extends Mapper<LongWritable, Text, DateKey, IntWritable>{\n",
        "\tprivate final static IntWritable outputValue = new IntWritable(1);\n",
        "\tprivate DateKey outputKey = new DateKey();\n",
        "\t\n",
        "\t@Override\n",
        "\tprotected void map(LongWritable key, Text value, Mapper<LongWritable, Text, DateKey, IntWritable>.Context context)\n",
        "\t\t\tthrows IOException, InterruptedException {\n",
        "\t\t// TODO Auto-generated method stub\n",
        "\t\tAirlinePerformanceParser parser = new AirlinePerformanceParser(value);\n",
        "\n",
        "\t\t\n",
        "\t\tif (parser.isDepartureDelayAvailable()) {\n",
        "\t\t\tif (parser.getDepartureDelayTime() > 0) {// 도착딜레이시간이양수면 -> 지연상황\n",
        "\t\t\t\toutputKey.setYear(\"D,\" + parser.getYear());\n",
        "\t\t\t\toutputKey.setMonth(parser.getMonth());\n",
        "\t\t\t\tcontext.write(outputKey, outputValue);\n",
        "\t\t\t} else if (parser.getDepartureDelayTime() == 0) {// 예정시간과 같은 정시에도착\n",
        "\t\t\t\tcontext.getCounter(DelayCounter.scheduled_departure).increment(1);\n",
        "\t\t\t} else if (parser.getDepartureDelayTime() < 0) {// 정시보다도 빨리도착\n",
        "\t\t\t\tcontext.getCounter(DelayCounter.early_departure).increment(1);\n",
        "\t\t\t}\n",
        "\t\t} else {// 도착 지연시간이 존재하지 않는다면 (데이터가 누락됬다면?)\n",
        "\t\t\tcontext.getCounter(DelayCounter.not_available_departure).increment(1);\n",
        "\t\t}\n",
        "\t\t\n",
        "\t\t\n",
        "\t\tif (parser.isArriveDelayAvailable()) {\n",
        "\t\t\tif (parser.getArriveDelayTime() > 0) { // 도착딜레이시간이양수면 -> 지연상황\n",
        "\t\t\t\toutputKey.setYear(\"A,\" + parser.getYear());\n",
        "\t\t\t\toutputKey.setMonth(parser.getMonth());\n",
        "\t\t\t\tcontext.write(outputKey, outputValue);\n",
        "\t\t\t} else if (parser.getArriveDelayTime() == 0) { // 예정시간과 같은 정시에도착\n",
        "\t\t\t\tcontext.getCounter(DelayCounter.scheduled_arrival).increment(1);\n",
        "\t\t\t} else if (parser.getArriveDelayTime() < 0) {// 정시보다도 빨리도착\n",
        "\t\t\t\tcontext.getCounter(DelayCounter.early_arrival).increment(1);\n",
        "\t\t\t}\n",
        "\t\t} else {// 도착 지연시간이 존재하지 않는다면 (데이터가 누락됬다면?)\n",
        "\t\t\tcontext.getCounter(DelayCounter.not_available_arrival).increment(1);\n",
        "\t\t}\n",
        "\t\t\n",
        "\t}\n",
        "}\n"
      ],
      "metadata": {
        "id": "DpJr7XhGwMe2"
      },
      "execution_count": null,
      "outputs": []
    },
    {
      "cell_type": "markdown",
      "source": [
        "리듀서 패키지에\n",
        "\n",
        "DelayCountReducerDateKey 클래스생성\n"
      ],
      "metadata": {
        "id": "rTVQHOh-xT3-"
      }
    },
    {
      "cell_type": "code",
      "source": [
        "package com.adacho.reducer;\n",
        "\n",
        "import java.io.IOException;\n",
        "\n",
        "import org.apache.hadoop.io.IntWritable;\n",
        "import org.apache.hadoop.io.Text;\n",
        "import org.apache.hadoop.mapreduce.Reducer;\n",
        "import org.apache.hadoop.mapreduce.lib.output.MultipleOutputs;\n",
        "\n",
        "import com.adacho.common.DateKey;\n",
        "\n",
        "public class DelayCountReducerDateKey extends Reducer<DateKey, IntWritable, DateKey, IntWritable>{\n",
        "\tprivate IntWritable result = new IntWritable();\n",
        "\tprivate MultipleOutputs<DateKey, IntWritable> mos;\n",
        "\tprivate DateKey outputKey = new DateKey();\n",
        "\n",
        "\t@Override\n",
        "\tprotected void setup(Reducer<DateKey, IntWritable, DateKey, IntWritable>.Context context)\n",
        "\t\t\tthrows IOException, InterruptedException {\n",
        "\t\t// TODO Auto-generated method stub\n",
        "\t\tmos = new MultipleOutputs<DateKey, IntWritable>(context);\n",
        "\t}\n",
        "\n",
        "\t@Override\n",
        "\tprotected void reduce(DateKey key, Iterable<IntWritable> values,\n",
        "\t\t\tReducer<DateKey, IntWritable, DateKey, IntWritable>.Context context) throws IOException, InterruptedException {\n",
        "\t\t// TODO Auto-generated method stub\n",
        "\t\tString[] columns = key.toString().split(\",\"); //키를 문자열로바꾸고콤마 기준으로짜름\n",
        "\n",
        "\t\tint sum = 0;\n",
        "\t\tInteger bMonth = key.getMonth();\t\t\n",
        "\n",
        "\t\tif(columns[0].equals(\"D\")) {\n",
        "\t\t\tfor(IntWritable value : values) {\n",
        "\t\t\t\tif(bMonth != key.getMonth()) {\n",
        "\t\t\t\t\tresult.set(sum);\n",
        "\t\t\t\t\toutputKey.setYear(key.getYear().substring(2)); //1998년일때 인덱스2부터 끝까지. 즉, 98년을 뜻함\n",
        "\t\t\t\t\toutputKey.setMonth(bMonth);\n",
        "\t\t\t\t\tmos.write(\"departure\", outputKey, result);\n",
        "\t\t\t\t\tsum = 0;\n",
        "\t\t\t\t}\n",
        "\t\t\t\tsum += value.get();\n",
        "\t\t\t\tbMonth = key.getMonth();\n",
        "\t\t\t}\n",
        "\t\t\tif(key.getMonth() == bMonth) {\n",
        "\t\t\t\tresult.set(sum);\n",
        "\t\t\t\toutputKey.setYear(key.getYear().substring(2)); //1998년일때 인덱스2부터 끝까지. 즉, 98년을 뜻함\n",
        "\t\t\t\toutputKey.setMonth(bMonth);\n",
        "\t\t\t\tmos.write(\"departure\", outputKey, result);\n",
        "\t\t\t\tsum = 0;\n",
        "\t\t\t}\n",
        "\t\t}else {\n",
        "\t\t\tfor(IntWritable value : values) {\n",
        "\t\t\t\tif(bMonth != key.getMonth()) {\n",
        "\t\t\t\t\tresult.set(sum);\n",
        "\t\t\t\t\toutputKey.setYear(key.getYear().substring(2)); //1998년일때 인덱스2부터 끝까지. 즉, 98년을 뜻함\n",
        "\t\t\t\t\toutputKey.setMonth(bMonth);\n",
        "\t\t\t\t\tmos.write(\"arrival\", outputKey, result);\n",
        "\t\t\t\t\tsum = 0;\n",
        "\t\t\t\t}\n",
        "\t\t\t\tsum += value.get();\n",
        "\t\t\t\tbMonth = key.getMonth();\n",
        "\t\t\t}\n",
        "\t\t\tif(key.getMonth() == bMonth) {\n",
        "\t\t\t\tresult.set(sum);\n",
        "\t\t\t\toutputKey.setYear(key.getYear().substring(2)); //1998년일때 인덱스2부터 끝까지. 즉, 98년을 뜻함\n",
        "\t\t\t\toutputKey.setMonth(bMonth);\n",
        "\t\t\t\tmos.write(\"arrival\", outputKey, result);\n",
        "\t\t\t\tsum = 0;\n",
        "\t\t\t}\n",
        "\t\t}\n",
        "\n",
        "\t}\n",
        "\t@Override\n",
        "\tprotected void cleanup(Reducer<DateKey, IntWritable, DateKey, IntWritable>.Context context)\n",
        "\t\t\tthrows IOException, InterruptedException {\n",
        "\t\t// TODO Auto-generated method stub\n",
        "\t\tmos.close(); //메모리릭발생방지를 위해 닫아줘야 함\n",
        "\t}\n",
        "}\n"
      ],
      "metadata": {
        "id": "r3-B7IWCyDwm"
      },
      "execution_count": null,
      "outputs": []
    },
    {
      "cell_type": "markdown",
      "source": [
        "드라이버 패키지에 \n",
        "\n",
        "DelayCountDateKey 클래스 생성\n"
      ],
      "metadata": {
        "id": "8o7aCnCZ0W3D"
      }
    },
    {
      "cell_type": "code",
      "source": [
        "package com.adacho.driver;\n",
        "\n",
        "import org.apache.hadoop.conf.Configuration;\n",
        "import org.apache.hadoop.conf.Configured;\n",
        "import org.apache.hadoop.fs.Path;\n",
        "import org.apache.hadoop.io.IntWritable;\n",
        "import org.apache.hadoop.mapreduce.Job;\n",
        "import org.apache.hadoop.mapreduce.lib.input.FileInputFormat;\n",
        "import org.apache.hadoop.mapreduce.lib.input.TextInputFormat;\n",
        "import org.apache.hadoop.mapreduce.lib.output.FileOutputFormat;\n",
        "import org.apache.hadoop.mapreduce.lib.output.MultipleOutputs;\n",
        "import org.apache.hadoop.mapreduce.lib.output.TextOutputFormat;\n",
        "import org.apache.hadoop.util.GenericOptionsParser;\n",
        "import org.apache.hadoop.util.Tool;\n",
        "import org.apache.hadoop.util.ToolRunner;\n",
        "\n",
        "import com.adacho.common.DateKey;\n",
        "import com.adacho.common.DateKeyComparator;\n",
        "import com.adacho.common.GroupKeyComparator;\n",
        "import com.adacho.common.GroupKeyPartitioner;\n",
        "import com.adacho.mapper.DelayCountMapperDateKey;\n",
        "import com.adacho.reducer.DelayCountReducerDateKey;\n",
        "\n",
        "public class DelayCountDateKey extends Configured implements Tool{\n",
        "\tpublic static void main(String[] args) throws Exception{\n",
        "\t\tint res = ToolRunner.run(new Configuration(), new DelayCountDateKey(), args);\n",
        "\t\tSystem.out.println(\"MapReduce Result : \" + res);\n",
        "\t}\n",
        "\t\n",
        "\t@Override\n",
        "\tpublic int run(String[] args) throws Exception {\n",
        "\t\t// TODO Auto-generated method stub\n",
        "\t\tString[] otherArgs = new GenericOptionsParser(getConf(), args).getRemainingArgs();\n",
        "\t\tif(otherArgs.length !=2) {\n",
        "\t\t\tSystem.err.println(\"Usage: DelayCountDateKey <input> <output>\");\n",
        "\t\t\tSystem.exit(1);\n",
        "\t\t}\n",
        "\t\t\n",
        "\t\tJob job = Job.getInstance(getConf(), \"DelayCountDateKey\");\n",
        "\t\t\n",
        "\t\tjob.setJarByClass(DelayCountDateKey.class); //드라이브 클래스 저장\n",
        "\t\tjob.setMapperClass(DelayCountMapperDateKey.class); //메퍼클래스저장\n",
        "\t\tjob.setReducerClass(DelayCountReducerDateKey.class); //리듀스클래스저장\n",
        "\t\t\n",
        "\t\tjob.setInputFormatClass(TextInputFormat.class); //두개중에 길이가 긴 것 임포트\n",
        "\t\tjob.setOutputFormatClass(TextOutputFormat.class); //두개중에 길이가 긴 것 임포트\n",
        "\t\t\n",
        "\t\tjob.setMapOutputKeyClass(DateKey.class);\n",
        "\t\tjob.setMapOutputValueClass(IntWritable.class);\n",
        "\t\t\n",
        "\t\tFileInputFormat.addInputPath(job, new Path(otherArgs[0])); //여러개에 인풋데이타가 있으면 다 줄 수 있음\n",
        "\t\tFileOutputFormat.setOutputPath(job, new Path(otherArgs[1]));\n",
        "\t\t\n",
        "\t\tMultipleOutputs.addNamedOutput(job, \"departure\", TextOutputFormat.class, DateKey.class, IntWritable.class);\n",
        "\t\tMultipleOutputs.addNamedOutput(job, \"arrival\", TextOutputFormat.class, DateKey.class, IntWritable.class);\n",
        "\t\t\n",
        "\t\tjob.setPartitionerClass(GroupKeyPartitioner.class);\n",
        "\t\tjob.setGroupingComparatorClass(GroupKeyComparator.class);\n",
        "\t\tjob.setSortComparatorClass(DateKeyComparator.class);\n",
        "\t\t\n",
        "\t\tjob.waitForCompletion(true); //job이끝날때까지 기다리고있다가 동기방식으로\n",
        "\t\t\n",
        "\t\treturn 0;\n",
        "\t}\n",
        "}\n"
      ],
      "metadata": {
        "id": "GAu-mhNk3Oyq"
      },
      "execution_count": null,
      "outputs": []
    },
    {
      "cell_type": "markdown",
      "source": [
        "maven clean , install\n",
        "\n",
        "scp .\\airPerformance-0.1.jar ubuntu:~/work/java\n",
        "\n",
        "/work/java에서\n",
        "\n",
        "yarn jar ./airPerformance-0.1.jar com.adacho.driver.DelayCountDateKey air-input delay-count-sort\n",
        "\n",
        "hdfs dfs -ls delay-count-sort\n",
        "\n",
        "hdfs dfs -cat delay-count-sort/arrival-r-00000\n",
        "\n",
        "hdfs dfs -cat delay-count-sort/departure-r-00000\n",
        "로 정렬확인\n"
      ],
      "metadata": {
        "id": "VChgYv7C3ABN"
      }
    },
    {
      "cell_type": "markdown",
      "source": [
        "수업 끝\n",
        "\n",
        "월요일 하둡에코시스템\n",
        "\n",
        "화요일 딥러닝 예정\n"
      ],
      "metadata": {
        "id": "2xIximef8kUM"
      }
    }
  ]
}