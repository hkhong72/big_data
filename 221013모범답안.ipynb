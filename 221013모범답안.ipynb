{
  "nbformat": 4,
  "nbformat_minor": 0,
  "metadata": {
    "colab": {
      "provenance": [],
      "collapsed_sections": [],
      "name": "221013모범답안.ipynb",
      "include_colab_link": true
    },
    "kernelspec": {
      "name": "python3",
      "display_name": "Python 3"
    },
    "language_info": {
      "name": "python"
    }
  },
  "cells": [
    {
      "cell_type": "markdown",
      "metadata": {
        "id": "view-in-github",
        "colab_type": "text"
      },
      "source": [
        "<a href=\"https://colab.research.google.com/github/hkhong72/big_data/blob/main/221013%EB%AA%A8%EB%B2%94%EB%8B%B5%EC%95%88.ipynb\" target=\"_parent\"><img src=\"https://colab.research.google.com/assets/colab-badge.svg\" alt=\"Open In Colab\"/></a>"
      ]
    },
    {
      "cell_type": "code",
      "source": [
        "path = '/content/data.csv'\n",
        "import numpy as np\n",
        "import pandas as pd\n",
        "import matplotlib.pyplot as plt"
      ],
      "metadata": {
        "id": "cff1z94uHnJE"
      },
      "execution_count": null,
      "outputs": []
    },
    {
      "cell_type": "markdown",
      "source": [
        "1. 전체 인원 수, 생존자 수, 사망자 수는 몇 명인가?\n"
      ],
      "metadata": {
        "id": "CmijTS5zFyk1"
      }
    },
    {
      "cell_type": "code",
      "source": [
        "df = pd.read_csv(path)\n",
        "s_data = df['Survived']\n",
        "svc = s_data.value_counts()\n",
        "svc"
      ],
      "metadata": {
        "colab": {
          "base_uri": "https://localhost:8080/"
        },
        "id": "RKhLqQxDJN3N",
        "outputId": "cb92d30e-c44f-4909-af10-bbb39b3544ff"
      },
      "execution_count": null,
      "outputs": [
        {
          "output_type": "execute_result",
          "data": {
            "text/plain": [
              "0    549\n",
              "1    342\n",
              "Name: Survived, dtype: int64"
            ]
          },
          "metadata": {},
          "execution_count": 115
        }
      ]
    },
    {
      "cell_type": "markdown",
      "source": [
        "2. 생존자와 사망자를 Pie그래프로 나타내고 생존자와 사망자의 퍼센트를 소수점 2자리까지 나타내시오. (파이 이미지를 제출하시오.)\n"
      ],
      "metadata": {
        "id": "9J_EFU3OF081"
      }
    },
    {
      "cell_type": "code",
      "source": [
        "plt.pie(svc.values,labels=[\"dead\",\"alive\"],autopct=\"%.2f%%\")\n",
        "plt.show()"
      ],
      "metadata": {
        "colab": {
          "base_uri": "https://localhost:8080/",
          "height": 248
        },
        "id": "c87__nJcJfnr",
        "outputId": "3d5218f0-d1c3-43e4-f34f-524d8d3aa0c4"
      },
      "execution_count": null,
      "outputs": [
        {
          "output_type": "display_data",
          "data": {
            "text/plain": [
              "<Figure size 432x288 with 1 Axes>"
            ],
            "image/png": "[encoded data removed]"
          },
          "metadata": {}
        }
      ]
    },
    {
      "cell_type": "markdown",
      "source": [
        "3. 결측 데이터가 있는 컬럼을 조사하시오.(컬럼 별로 결측 데이터 개수)\n"
      ],
      "metadata": {
        "id": "76SNapH0F2o9"
      }
    },
    {
      "cell_type": "code",
      "source": [
        "df.info()\n",
        "print(df['Age'].isnull().sum())\n",
        "print(df['Cabin'].isnull().sum())\n",
        "print(df['Embarked'].isnull().sum())"
      ],
      "metadata": {
        "colab": {
          "base_uri": "https://localhost:8080/"
        },
        "id": "75hSVfOzKOuj",
        "outputId": "c8f93592-5918-447e-b031-c4dcf2770cb8"
      },
      "execution_count": null,
      "outputs": [
        {
          "output_type": "stream",
          "name": "stdout",
          "text": [
            "<class 'pandas.core.frame.DataFrame'>\n",
            "RangeIndex: 891 entries, 0 to 890\n",
            "Data columns (total 12 columns):\n",
            " #   Column       Non-Null Count  Dtype  \n",
            "---  ------       --------------  -----  \n",
            " 0   PassengerId  891 non-null    int64  \n",
            " 1   Survived     891 non-null    int64  \n",
            " 2   Pclass       891 non-null    int64  \n",
            " 3   Name         891 non-null    object \n",
            " 4   Sex          891 non-null    object \n",
            " 5   Age          714 non-null    float64\n",
            " 6   SibSp        891 non-null    int64  \n",
            " 7   Parch        891 non-null    int64  \n",
            " 8   Ticket       891 non-null    object \n",
            " 9   Fare         891 non-null    float64\n",
            " 10  Cabin        204 non-null    object \n",
            " 11  Embarked     889 non-null    object \n",
            "dtypes: float64(2), int64(5), object(5)\n",
            "memory usage: 83.7+ KB\n",
            "177\n",
            "687\n",
            "2\n"
          ]
        }
      ]
    },
    {
      "cell_type": "markdown",
      "source": [
        "4. Pclass의 종류 별로 승객 분포를 파이 그래프로 나타내시오.\n"
      ],
      "metadata": {
        "id": "84FKlB7zF4g0"
      }
    },
    {
      "cell_type": "code",
      "source": [
        "p_data = df['Pclass']\n",
        "pvc = p_data.value_counts().sort_index()\n",
        "plt.pie(pvc.values,labels=pvc.index,autopct=\"%.2f%%\")\n",
        "plt.show()"
      ],
      "metadata": {
        "colab": {
          "base_uri": "https://localhost:8080/",
          "height": 248
        },
        "id": "JxwkrIZRKyaj",
        "outputId": "a5278e22-0b12-4125-e1e9-38f6a2ede71d"
      },
      "execution_count": null,
      "outputs": [
        {
          "output_type": "display_data",
          "data": {
            "text/plain": [
              "<Figure size 432x288 with 1 Axes>"
            ],
            "image/png": "[encoded data removed]"
          },
          "metadata": {}
        }
      ]
    },
    {
      "cell_type": "markdown",
      "source": [
        "5. Pclass의 종류 별로 생존자 수와 사망자 수를 막대그래프로 나타내시오.(종류 별로 하나의 막대에 생존자 수와 사망자 수를 표시하시오.)\n"
      ],
      "metadata": {
        "id": "1S_tu140F6X9"
      }
    },
    {
      "cell_type": "code",
      "source": [
        "labels=['1','2','3']\n",
        "pc_alive_arr = np.zeros(len(pvc))\n",
        "pc_dead_arr = np.zeros(len(pvc))\n",
        "\n",
        "for index in range(len(p_data)):\n",
        "  pi = p_data[index]-1 #인덱스 = 클래스 값 -1\n",
        "  if s_data[index] == 0:#죽었을 때\n",
        "    pc_dead_arr[pi]+=1\n",
        "  else:#살았을 때\n",
        "    pc_alive_arr[pi]+=1\n",
        "plt.bar(labels,pc_alive_arr,label=\"alive\")\n",
        "plt.bar(labels,pc_dead_arr,bottom=pc_alive_arr,label=\"dead\")\n",
        "for i in range(len(pvc)):\n",
        "  plt.annotate(str(int(pc_alive_arr[i])),(i-0.1,pc_alive_arr[i]-40))\n",
        "  plt.annotate(str(int(pc_dead_arr[i])),(i-0.1,pc_alive_arr[i]+pc_dead_arr[i]-40))\n",
        "plt.legend()\n",
        "plt.show()"
      ],
      "metadata": {
        "colab": {
          "base_uri": "https://localhost:8080/",
          "height": 265
        },
        "id": "KSqoPA3vLU2j",
        "outputId": "3db97e76-61c3-4b89-c88f-e234db5e6f70"
      },
      "execution_count": null,
      "outputs": [
        {
          "output_type": "display_data",
          "data": {
            "text/plain": [
              "<Figure size 432x288 with 1 Axes>"
            ],
            "image/png": "[encoded data removed]"
          },
          "metadata": {
            "needs_background": "light"
          }
        }
      ]
    },
    {
      "cell_type": "markdown",
      "source": [
        "6. Name 컬럼에 호칭을 Mr, Mrs, Miss, Master, Dr, ETC(나머지)로 나누어 분포를 파이 그래프로 나타내시오.\n"
      ],
      "metadata": {
        "id": "mYIG7XseF8Wl"
      }
    },
    {
      "cell_type": "code",
      "source": [
        "cns = ['Mr','Mrs','Miss','Master','Dr','ETC']\n",
        "def get_call_ni(n):  \n",
        "  sub_s = n.split(',')\n",
        "  ssub_s = sub_s[1].split('.')\n",
        "  cn = ssub_s[0].replace(' ','')\n",
        "  for i in range(len(cns)-1):\n",
        "    if cn == cns[i]:\n",
        "      return i\n",
        "  return 5"
      ],
      "metadata": {
        "id": "7rgnPfmSNgdz"
      },
      "execution_count": null,
      "outputs": []
    },
    {
      "cell_type": "code",
      "source": [
        "n_data = df['Name']\n",
        "pn_arr = np.zeros(6)\n",
        "pn_alive_arr = np.zeros(6)\n",
        "pn_dead_arr = np.zeros(6)\n",
        "for index in range(len(n_data)):\n",
        "  ni = get_call_ni(n_data[index]) #인덱스 = 클래스 값 -1\n",
        "  if s_data[index] == 0:#죽었을 때\n",
        "    pn_dead_arr[ni]+=1\n",
        "  else:#살았을 때\n",
        "    pn_alive_arr[ni]+=1\n",
        "  pn_arr[ni]+=1\n",
        "plt.pie(pn_arr,labels=cns,autopct=\"%.2f%%\")\n",
        "plt.show()"
      ],
      "metadata": {
        "colab": {
          "base_uri": "https://localhost:8080/",
          "height": 248
        },
        "id": "E2XSc_fLNH4L",
        "outputId": "7bb15c38-ebe5-4d24-e628-7ca7da38f95e"
      },
      "execution_count": null,
      "outputs": [
        {
          "output_type": "display_data",
          "data": {
            "text/plain": [
              "<Figure size 432x288 with 1 Axes>"
            ],
            "image/png": "[encoded data removed]"
          },
          "metadata": {}
        }
      ]
    },
    {
      "cell_type": "markdown",
      "source": [
        "7. 호칭에 따른 생존자 수와 사망자 수를 막대그래프로 나타내시오.(아래:생존자, 위:사망자)\n"
      ],
      "metadata": {
        "id": "zqq3wOa9F-I8"
      }
    },
    {
      "cell_type": "code",
      "source": [
        "plt.bar(cns,pn_alive_arr,label=\"alive\")\n",
        "plt.bar(cns,pn_dead_arr,bottom=pn_alive_arr,label=\"dead\")\n",
        "for i in range(len(cns)):\n",
        "  if pn_alive_arr[i]<40:\n",
        "    plt.annotate(str(int(pn_alive_arr[i])),(i-0.1,20))\n",
        "  else:\n",
        "    plt.annotate(str(int(pn_alive_arr[i])),(i-0.1,pn_alive_arr[i]-40))\n",
        "  if pn_alive_arr[i] + pn_dead_arr[i] < 80:\n",
        "    plt.annotate(str(int(pn_dead_arr[i])),(i-0.1,80))\n",
        "  else:\n",
        "    plt.annotate(str(int(pn_dead_arr[i])),(i-0.1,pn_alive_arr[i]+pn_dead_arr[i]-40))\n",
        "plt.legend()\n",
        "plt.show()"
      ],
      "metadata": {
        "colab": {
          "base_uri": "https://localhost:8080/",
          "height": 265
        },
        "id": "jxDHFbijPqL8",
        "outputId": "5e093f98-4003-4a50-ab79-f2d5e83aa75d"
      },
      "execution_count": null,
      "outputs": [
        {
          "output_type": "display_data",
          "data": {
            "text/plain": [
              "<Figure size 432x288 with 1 Axes>"
            ],
            "image/png": "[encoded data removed]"
          },
          "metadata": {
            "needs_background": "light"
          }
        }
      ]
    },
    {
      "cell_type": "markdown",
      "source": [
        "8. 성별에 따른 승객 분포를 파이 그래프로 나타내시오.\n"
      ],
      "metadata": {
        "id": "Ac0yYewBF_pt"
      }
    },
    {
      "cell_type": "code",
      "source": [
        "g_data = df['Sex']\n",
        "gvc = g_data.value_counts()\n",
        "plt.pie(gvc.values, labels=gvc.index,autopct=\"%.2f%%\")\n",
        "plt.show()"
      ],
      "metadata": {
        "colab": {
          "base_uri": "https://localhost:8080/",
          "height": 248
        },
        "id": "vLHI7Y5oRw3c",
        "outputId": "5e6924d4-1bcc-4fee-de27-49e08af2f303"
      },
      "execution_count": null,
      "outputs": [
        {
          "output_type": "display_data",
          "data": {
            "text/plain": [
              "<Figure size 432x288 with 1 Axes>"
            ],
            "image/png": "[encoded data removed]"
          },
          "metadata": {}
        }
      ]
    },
    {
      "cell_type": "markdown",
      "source": [
        "9. 성별에 따른 생존자 수와 사망자 수를 막대그래프로 나타내시오.(아래:생존자, 위:사망자)\n"
      ],
      "metadata": {
        "id": "KgxyZIXhGBGN"
      }
    },
    {
      "cell_type": "code",
      "source": [
        "labels=gvc.index\n",
        "g_alive_arr = np.zeros(len(gvc))\n",
        "g_dead_arr = np.zeros(len(gvc))\n",
        "\n",
        "for index in range(len(g_data)):\n",
        "  if g_data[index] == 'female':\n",
        "    gi = 0\n",
        "  else:\n",
        "    gi = 1\n",
        "  if s_data[index] == 0:#죽었을 때\n",
        "    g_dead_arr[gi]+=1\n",
        "  else:#살았을 때\n",
        "    g_alive_arr[gi]+=1\n",
        "plt.bar(labels,g_alive_arr,label=\"alive\")\n",
        "plt.bar(labels,g_dead_arr,bottom=g_alive_arr,label=\"dead\")\n",
        "for i in range(len(gvc)):\n",
        "  plt.annotate(str(int(g_alive_arr[i])),(i-0.1,g_alive_arr[i]-40))\n",
        "  plt.annotate(str(int(g_dead_arr[i])),(i-0.1,g_alive_arr[i]+g_dead_arr[i]-40))\n",
        "plt.legend()\n",
        "plt.show()"
      ],
      "metadata": {
        "colab": {
          "base_uri": "https://localhost:8080/",
          "height": 267
        },
        "id": "FieH6UaKSQm1",
        "outputId": "d3d64b0f-de64-49aa-b0eb-1f5753efbc31"
      },
      "execution_count": null,
      "outputs": [
        {
          "output_type": "display_data",
          "data": {
            "text/plain": [
              "<Figure size 432x288 with 1 Axes>"
            ],
            "image/png": "[encoded data removed]"
          },
          "metadata": {
            "needs_background": "light"
          }
        }
      ]
    },
    {
      "cell_type": "markdown",
      "source": [
        "10. 나이를 5살 범위로(0~5, 5~10,...) 나누어 승객 분포를 파이 그래프로 나타내시오.(결측값은 평균 나이로 처리하시오.)\n"
      ],
      "metadata": {
        "id": "2bVTRJM8GCgW"
      }
    },
    {
      "cell_type": "code",
      "source": [
        "bins = [i for i in range(0,90,5)]\n",
        "labels = []\n",
        "cnt = 0\n",
        "for i in range(0,85,5):\n",
        "  labels.append(str(i)+\"~\"+str(i+5))  \n",
        "print(cnt)\n",
        "\n",
        "a_data = df['Age']\n",
        "a_data = a_data.fillna(a_data.mean())\n",
        "hist, bins = np.histogram(a_data.values,bins=bins)\n",
        "plt.pie(hist,labels=labels,autopct=\"%.2f%%\")\n",
        "plt.show()"
      ],
      "metadata": {
        "colab": {
          "base_uri": "https://localhost:8080/",
          "height": 285
        },
        "id": "ujUV8b5KS1xE",
        "outputId": "a4f85201-66b9-4b71-9c65-f5da7312c12d"
      },
      "execution_count": null,
      "outputs": [
        {
          "output_type": "stream",
          "name": "stdout",
          "text": [
            "0\n"
          ]
        },
        {
          "output_type": "display_data",
          "data": {
            "text/plain": [
              "<Figure size 432x288 with 1 Axes>"
            ],
            "image/png": "[encoded data removed]"
          },
          "metadata": {}
        },
        {
          "output_type": "stream",
          "name": "stdout",
          "text": [
            "[ 40  22  16  86 114 283  95  72  48  41  32  16  15   4   6   0   1]\n"
          ]
        }
      ]
    },
    {
      "cell_type": "markdown",
      "source": [
        "11. 나이(10번 문제에서 구분한 범위)에 따른 생존자 수와 사망자 수를 막대그래프로 나타내시오.(아래:생존자, 위:사망자)\n"
      ],
      "metadata": {
        "id": "ZpPH-fWpGERN"
      }
    },
    {
      "cell_type": "code",
      "source": [
        "print(len(labels))"
      ],
      "metadata": {
        "colab": {
          "base_uri": "https://localhost:8080/"
        },
        "id": "RHnS0Z0-Zip0",
        "outputId": "fc6c40ee-f024-4211-aeeb-36cefb192a39"
      },
      "execution_count": null,
      "outputs": [
        {
          "output_type": "stream",
          "name": "stdout",
          "text": [
            "16\n"
          ]
        }
      ]
    },
    {
      "cell_type": "code",
      "source": [
        "print(v_labels)"
      ],
      "metadata": {
        "colab": {
          "base_uri": "https://localhost:8080/"
        },
        "id": "IfPQ6UKUcHLl",
        "outputId": "d07a8af3-4d11-4ddc-d718-8c9c76e78093"
      },
      "execution_count": null,
      "outputs": [
        {
          "output_type": "stream",
          "name": "stdout",
          "text": [
            "['0', '', '', '', '', '', '', '', '', '', '', '', '', '', '', '', '80']\n"
          ]
        }
      ]
    },
    {
      "cell_type": "code",
      "source": [
        "a_alive_arr = np.zeros(len(labels))\n",
        "a_dead_arr = np.zeros(len(labels))\n",
        "\n",
        "for index in range(len(a_data)):\n",
        "  ai = int(a_data[index]//5)\n",
        "  if s_data[index] == 0:#죽었을 때\n",
        "    a_dead_arr[ai]+=1\n",
        "  else:#살았을 때\n",
        "    a_alive_arr[ai]+=1\n",
        "\n",
        "plt.bar(labels,a_alive_arr,label=\"alive\")\n",
        "plt.bar(labels,a_dead_arr,bottom=a_alive_arr,label=\"dead\")\n",
        "\n",
        "plt.legend()\n",
        "plt.show()\n",
        "for i in range(len(labels)):\n",
        "  print(f\"{int(i*5):02d}~{int((i+1)*5):02d}\",a_alive_arr[i],\",\",a_dead_arr[i])"
      ],
      "metadata": {
        "colab": {
          "base_uri": "https://localhost:8080/",
          "height": 583
        },
        "id": "K8jHWNBcUocE",
        "outputId": "b466058c-d712-4511-a3a2-38f45b3125f6"
      },
      "execution_count": null,
      "outputs": [
        {
          "output_type": "display_data",
          "data": {
            "text/plain": [
              "<Figure size 432x288 with 1 Axes>"
            ],
            "image/png": "[encoded data removed]"
          },
          "metadata": {
            "needs_background": "light"
          }
        },
        {
          "output_type": "stream",
          "name": "stdout",
          "text": [
            "00~05 27.0 , 13.0\n",
            "05~10 11.0 , 11.0\n",
            "10~15 7.0 , 9.0\n",
            "15~20 34.0 , 52.0\n",
            "20~25 39.0 , 75.0\n",
            "25~30 90.0 , 193.0\n",
            "30~35 40.0 , 55.0\n",
            "35~40 33.0 , 39.0\n",
            "40~45 18.0 , 30.0\n",
            "45~50 16.0 , 25.0\n",
            "50~55 14.0 , 18.0\n",
            "55~60 6.0 , 10.0\n",
            "60~65 6.0 , 9.0\n",
            "65~70 0.0 , 4.0\n",
            "70~75 0.0 , 6.0\n",
            "75~80 0.0 , 0.0\n",
            "80~85 1.0 , 0.0\n"
          ]
        }
      ]
    },
    {
      "cell_type": "markdown",
      "source": [
        "12. SibSp 값에 따라 승객 분포를 파이 그래프로 나타내시오.\n"
      ],
      "metadata": {
        "id": "sdQSjq63GFll"
      }
    },
    {
      "cell_type": "code",
      "source": [
        "ss_data = df['SibSp']\n",
        "svc = ss_data.value_counts().sort_index()\n",
        "plt.pie(svc.values,labels=svc.index,autopct=\"%.2f%%\")\n",
        "plt.show()"
      ],
      "metadata": {
        "colab": {
          "base_uri": "https://localhost:8080/",
          "height": 248
        },
        "id": "aPbGOrM5cnt1",
        "outputId": "3abc4b3b-0c31-474f-c8f3-29ecc3d327a0"
      },
      "execution_count": null,
      "outputs": [
        {
          "output_type": "display_data",
          "data": {
            "text/plain": [
              "<Figure size 432x288 with 1 Axes>"
            ],
            "image/png": "[encoded data removed]"
          },
          "metadata": {}
        }
      ]
    },
    {
      "cell_type": "code",
      "source": [
        "print(svc)"
      ],
      "metadata": {
        "colab": {
          "base_uri": "https://localhost:8080/"
        },
        "id": "G7ICf708dImc",
        "outputId": "999ec530-45f9-4f86-c481-cf81ab9c5a7f"
      },
      "execution_count": null,
      "outputs": [
        {
          "output_type": "stream",
          "name": "stdout",
          "text": [
            "0    608\n",
            "1    209\n",
            "2     28\n",
            "3     16\n",
            "4     18\n",
            "5      5\n",
            "8      7\n",
            "Name: SibSp, dtype: int64\n"
          ]
        }
      ]
    },
    {
      "cell_type": "markdown",
      "source": [
        "13. SibSp 값에 따른 생존자 수와 사망자 수를 막대그래프로 나타내시오.(아래:생존자, 위:사망자)\n"
      ],
      "metadata": {
        "id": "FUBpLx65GG2F"
      }
    },
    {
      "cell_type": "code",
      "source": [
        "sc_dead_arr, sc_alive_arr"
      ],
      "metadata": {
        "colab": {
          "base_uri": "https://localhost:8080/"
        },
        "id": "f98YwMQIdwnV",
        "outputId": "192e79e9-8b43-4cc9-e72b-0302fb54e0d7"
      },
      "execution_count": null,
      "outputs": [
        {
          "output_type": "execute_result",
          "data": {
            "text/plain": [
              "(array([608.,   0.,   0.,   0.,   0.,   0.,   0.,   0.,   0.]),\n",
              " array([  0., 209.,  28.,  16.,  18.,   5.,   0.,   0.,   7.]))"
            ]
          },
          "metadata": {},
          "execution_count": 114
        }
      ]
    },
    {
      "cell_type": "code",
      "source": [
        "labels=[str(i) for i in range(9)]\n",
        "sc_alive_arr = np.zeros(9)\n",
        "sc_dead_arr = np.zeros(9)\n",
        "\n",
        "for index in range(len(s_data)):\n",
        "  si = ss_data[index] \n",
        "  if s_data[index] == 0:#죽었을 때\n",
        "    sc_dead_arr[si]+=1\n",
        "  else:#살았을 때\n",
        "    sc_alive_arr[si]+=1\n",
        "plt.bar(labels,sc_alive_arr,label=\"alive\")\n",
        "plt.bar(labels,sc_dead_arr,bottom=sc_alive_arr,label=\"dead\")\n",
        "for i in range(len(labels)):\n",
        "  if sc_alive_arr[i] <40:\n",
        "    plt.annotate(str(int(sc_alive_arr[i])),(i-0.1,40))    \n",
        "    plt.annotate(str(int(sc_dead_arr[i])),(i-0.1,80))\n",
        "  else:\n",
        "    plt.annotate(str(int(sc_alive_arr[i])),(i-0.1,sc_alive_arr[i]-40))\n",
        "    plt.annotate(str(int(sc_dead_arr[i])),(i-0.1,sc_alive_arr[i]+sc_dead_arr[i]-40))\n",
        "plt.legend()\n",
        "plt.show()"
      ],
      "metadata": {
        "colab": {
          "base_uri": "https://localhost:8080/",
          "height": 265
        },
        "id": "EpHNjwJ1c83l",
        "outputId": "f51e9d99-dece-470c-c9dd-132e72cad92d"
      },
      "execution_count": null,
      "outputs": [
        {
          "output_type": "display_data",
          "data": {
            "text/plain": [
              "<Figure size 432x288 with 1 Axes>"
            ],
            "image/png": "[encoded data removed]"
          },
          "metadata": {
            "needs_background": "light"
          }
        }
      ]
    },
    {
      "cell_type": "markdown",
      "source": [
        "14. Parch 값에 따라 승객 분포를 파이 그래프로 나타내시오.\n"
      ],
      "metadata": {
        "id": "7Fbu_bpHGIG9"
      }
    },
    {
      "cell_type": "code",
      "source": [
        "ps_data = df['Parch']\n",
        "pvc = ps_data.value_counts().sort_index()\n",
        "plt.pie(pvc.values,labels=pvc.index,autopct=\"%.2f%%\")\n",
        "plt.show()"
      ],
      "metadata": {
        "colab": {
          "base_uri": "https://localhost:8080/",
          "height": 248
        },
        "id": "xW_ag1AdenH1",
        "outputId": "fa79191d-65af-43ef-cb61-b275cb7d8d74"
      },
      "execution_count": null,
      "outputs": [
        {
          "output_type": "display_data",
          "data": {
            "text/plain": [
              "<Figure size 432x288 with 1 Axes>"
            ],
            "image/png": "[encoded data removed]"
          },
          "metadata": {}
        }
      ]
    },
    {
      "cell_type": "markdown",
      "source": [
        "15. Parch 값에 따른 생존자 수와 사망자 수를 막대그래프로 나타내시오.(아래:생존자, 위:사망자)\n"
      ],
      "metadata": {
        "id": "6xH-cAs9GJx1"
      }
    },
    {
      "cell_type": "code",
      "source": [
        "labels=[str(i) for i in range(9)]\n",
        "pc_alive_arr = np.zeros(9)\n",
        "pc_dead_arr = np.zeros(9)\n",
        "\n",
        "for index in range(len(s_data)):\n",
        "  si = ps_data[index] \n",
        "  if s_data[index] == 0:#죽었을 때\n",
        "    pc_dead_arr[si]+=1\n",
        "  else:#살았을 때\n",
        "    pc_alive_arr[si]+=1\n",
        "plt.bar(labels,pc_alive_arr,label=\"alive\")\n",
        "plt.bar(labels,pc_dead_arr,bottom=pc_alive_arr,label=\"dead\")\n",
        "for i in range(len(labels)):\n",
        "  if sc_alive_arr[i] <40:\n",
        "    plt.annotate(str(int(pc_alive_arr[i])),(i-0.1,40))    \n",
        "    plt.annotate(str(int(pc_dead_arr[i])),(i-0.1,80))\n",
        "  else:\n",
        "    plt.annotate(str(int(pc_alive_arr[i])),(i-0.1,pc_alive_arr[i]-40))\n",
        "    plt.annotate(str(int(pc_dead_arr[i])),(i-0.1,pc_alive_arr[i]+pc_dead_arr[i]-40))\n",
        "plt.legend()\n",
        "plt.show()"
      ],
      "metadata": {
        "colab": {
          "base_uri": "https://localhost:8080/",
          "height": 266
        },
        "id": "vM7SC0Jpezzs",
        "outputId": "3baff1d9-fe16-4191-ac07-471fbc3f7a23"
      },
      "execution_count": null,
      "outputs": [
        {
          "output_type": "display_data",
          "data": {
            "text/plain": [
              "<Figure size 432x288 with 1 Axes>"
            ],
            "image/png": "[encoded data removed]"
          },
          "metadata": {
            "needs_background": "light"
          }
        }
      ]
    },
    {
      "cell_type": "markdown",
      "source": [
        "16. 승선한 항구(Embarked)에 따른 승객 분포를 파이 그래프로 나타내시오.(결측 값은 'N'으로 처리)\n"
      ],
      "metadata": {
        "id": "JRmoeuSXGK-0"
      }
    },
    {
      "cell_type": "code",
      "source": [
        "es_data = df['Embarked']\n",
        "es_data = es_data.fillna('N')\n",
        "evc = es_data.value_counts().sort_index()\n",
        "plt.pie(evc.values,labels=evc.index,autopct=\"%.2f%%\")\n",
        "plt.show()"
      ],
      "metadata": {
        "colab": {
          "base_uri": "https://localhost:8080/",
          "height": 248
        },
        "id": "vdPo0yZcfKtl",
        "outputId": "d8fbf495-9f0e-43f3-af2b-84269137554c"
      },
      "execution_count": null,
      "outputs": [
        {
          "output_type": "display_data",
          "data": {
            "text/plain": [
              "<Figure size 432x288 with 1 Axes>"
            ],
            "image/png": "[encoded data removed]"
          },
          "metadata": {}
        }
      ]
    },
    {
      "cell_type": "code",
      "source": [
        "evc"
      ],
      "metadata": {
        "colab": {
          "base_uri": "https://localhost:8080/"
        },
        "id": "9YtoKGa4f5-8",
        "outputId": "0fa35641-2ef5-44e5-e2fe-ade4c80ccf36"
      },
      "execution_count": null,
      "outputs": [
        {
          "output_type": "execute_result",
          "data": {
            "text/plain": [
              "C    168\n",
              "N      2\n",
              "Q     77\n",
              "S    644\n",
              "Name: Embarked, dtype: int64"
            ]
          },
          "metadata": {},
          "execution_count": 124
        }
      ]
    },
    {
      "cell_type": "markdown",
      "source": [
        "17. 승선한 항구(Embarked)에 따른 생존자 수와 사망자 수를 막대그래프로 나타내시오.(아래:생존자, 위:사망자)"
      ],
      "metadata": {
        "id": "abdM9N6FGMN1"
      }
    },
    {
      "cell_type": "code",
      "source": [
        "labels=evc.index\n",
        "ec_alive_arr = np.zeros(4)\n",
        "ec_dead_arr = np.zeros(4)\n",
        "\n",
        "for index in range(len(es_data)):\n",
        "  rei=-1\n",
        "  for ei in range(len(labels)):\n",
        "    if labels[ei] == es_data[index]:\n",
        "      rei = ei\n",
        "      break\n",
        "  si = s_data[index] \n",
        "  if s_data[index] == 0:#죽었을 때\n",
        "    ec_dead_arr[rei]+=1\n",
        "  else:#살았을 때\n",
        "    ec_alive_arr[rei]+=1\n",
        "plt.bar(labels,ec_alive_arr,label=\"alive\")\n",
        "plt.bar(labels,ec_dead_arr,bottom=ec_alive_arr,label=\"dead\")\n",
        "plt.legend()\n",
        "plt.show()"
      ],
      "metadata": {
        "colab": {
          "base_uri": "https://localhost:8080/",
          "height": 265
        },
        "id": "FyBUgenLfxeN",
        "outputId": "88c43660-a4a2-4400-f232-200d62a22dce"
      },
      "execution_count": null,
      "outputs": [
        {
          "output_type": "display_data",
          "data": {
            "text/plain": [
              "<Figure size 432x288 with 1 Axes>"
            ],
            "image/png": "[encoded data removed]"
          },
          "metadata": {
            "needs_background": "light"
          }
        }
      ]
    },
    {
      "cell_type": "markdown",
      "source": [
        "18. Age 컬럼의 값을 표준 스케일로 변환하시오. (표준 스케일로 변환하면 평균은 0, 표준편차는 1로 바뀜, 결측치는 평균 값으로 처리)"
      ],
      "metadata": {
        "id": "3n2bHueqGM9F"
      }
    },
    {
      "cell_type": "code",
      "source": [
        "a_data = df['Age']\n",
        "a_data.describe()"
      ],
      "metadata": {
        "colab": {
          "base_uri": "https://localhost:8080/"
        },
        "id": "yE__w4b7YsyM",
        "outputId": "141d9683-030b-43e5-d238-525245dc8bcb"
      },
      "execution_count": null,
      "outputs": [
        {
          "output_type": "execute_result",
          "data": {
            "text/plain": [
              "count    7.140000e+02\n",
              "mean     4.975789e-18\n",
              "std      1.000000e+00\n",
              "min     -2.015566e+00\n",
              "25%     -6.590796e-01\n",
              "50%     -1.169668e-01\n",
              "75%      5.714304e-01\n",
              "max      3.462699e+00\n",
              "Name: Age, dtype: float64"
            ]
          },
          "metadata": {},
          "execution_count": 81
        }
      ]
    },
    {
      "cell_type": "code",
      "execution_count": null,
      "metadata": {
        "id": "lmnUYctVFqcV",
        "colab": {
          "base_uri": "https://localhost:8080/"
        },
        "outputId": "627c80b0-6e4b-4873-f7c4-b683712b64d8"
      },
      "outputs": [
        {
          "output_type": "stream",
          "name": "stdout",
          "text": [
            "변환 전 평균: 29.69911764705882  표준 편차: 14.526497332334042\n",
            "변환 후 평균: 0.0  표준 편차: 1.0\n"
          ]
        }
      ],
      "source": [
        "a_data = df['Age']\n",
        "age_mean = a_data.mean()\n",
        "age_std = a_data.std()\n",
        "print(\"변환 전 평균:\",age_mean, \" 표준 편차:\",age_std)\n",
        "\n",
        "a_data = (a_data - age_mean)/age_std #표준 스케일 변환\n",
        "\n",
        "age_mean = a_data.mean()\n",
        "age_std = a_data.std()\n",
        "print(\"변환 후 평균:\",np.round(age_mean,2), \" 표준 편차:\",age_std)"
      ]
    }
  ]
}