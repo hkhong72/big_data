{
  "nbformat": 4,
  "nbformat_minor": 0,
  "metadata": {
    "colab": {
      "provenance": [],
      "authorship_tag": "ABX9TyPKwxO7YoV0DohMXzqw53Lf",
      "include_colab_link": true
    },
    "kernelspec": {
      "name": "python3",
      "display_name": "Python 3"
    },
    "language_info": {
      "name": "python"
    }
  },
  "cells": [
    {
      "cell_type": "markdown",
      "metadata": {
        "id": "view-in-github",
        "colab_type": "text"
      },
      "source": [
        "<a href=\"https://colab.research.google.com/github/hkhong72/big_data/blob/main/221014_16~18%EC%8B%9C.ipynb\" target=\"_parent\"><img src=\"https://colab.research.google.com/assets/colab-badge.svg\" alt=\"Open In Colab\"/></a>"
      ]
    },
    {
      "cell_type": "markdown",
      "source": [
        "# 간이 코딩테스트"
      ],
      "metadata": {
        "id": "HoV_CyyfbxUm"
      }
    },
    {
      "cell_type": "code",
      "execution_count": 5,
      "metadata": {
        "id": "mONY6ECjbS1-"
      },
      "outputs": [],
      "source": [
        "#TF-IDF 값 목록을 반환하시오\n",
        "#책의 TF-IDF값은 단어별로 TF-IDF값을 계산한 값의 합으로 한다.\n",
        "import numpy as np\n",
        "import pandas as pd\n",
        "from sklearn.feature_extraction.text import CountVectorizer\n",
        "vectorizer = CountVectorizer()\n",
        "\n",
        "def ranking(books, query):\n",
        "\n",
        "  # 단어 출현 빈도 수 계산(DTM)\n",
        "  dtm = vectorizer.fit_transform(books)\n",
        "\n",
        "  # 단어 등장 빈도수(TF)\n",
        "  tf = pd.DataFrame(dtm.toarray(), columns = vectorizer.get_feature_names())\n",
        "\n",
        "  # 문서 빈도수(DF)\n",
        "  df = tf.astype(bool).sum(axis = 0)\n",
        "\n",
        "  # 문서 개수\n",
        "  D = len(tf)\n",
        "\n",
        "  # Inverse Document Frequency\n",
        "  idf = np.log((D+1) / (df+1)) + 1\n",
        "\n",
        "  # TF-IDF\n",
        "  tfidf = tf * idf                      \n",
        "  tfidf = tfidf / np.linalg.norm(tfidf, axis = 1, keepdims = True)\n",
        "\n",
        "  print(tfidf)"
      ]
    },
    {
      "cell_type": "code",
      "source": [
        "books = [\"I am a boy. You are a girl\",\n",
        "         \"Il est la. elle est la. cest en martophone.\",\n",
        "         \"korea python fighting\"]\n",
        "query = \"la korea\"\n",
        "ranking(books, query)"
      ],
      "metadata": {
        "colab": {
          "base_uri": "https://localhost:8080/"
        },
        "id": "D5mm7UHPbVqt",
        "outputId": "5d21faf7-95e4-4d7f-dcb6-ff990b5efdd0"
      },
      "execution_count": 6,
      "outputs": [
        {
          "output_type": "stream",
          "name": "stdout",
          "text": [
            "         am       are       boy     cest     elle       en     est  fighting  \\\n",
            "0  0.447214  0.447214  0.447214  0.00000  0.00000  0.00000  0.0000   0.00000   \n",
            "1  0.000000  0.000000  0.000000  0.27735  0.27735  0.27735  0.5547   0.00000   \n",
            "2  0.000000  0.000000  0.000000  0.00000  0.00000  0.00000  0.0000   0.57735   \n",
            "\n",
            "       girl       il    korea      la  martophone   python       you  \n",
            "0  0.447214  0.00000  0.00000  0.0000     0.00000  0.00000  0.447214  \n",
            "1  0.000000  0.27735  0.00000  0.5547     0.27735  0.00000  0.000000  \n",
            "2  0.000000  0.00000  0.57735  0.0000     0.00000  0.57735  0.000000  \n"
          ]
        },
        {
          "output_type": "stream",
          "name": "stderr",
          "text": [
            "/usr/local/lib/python3.7/dist-packages/sklearn/utils/deprecation.py:87: FutureWarning: Function get_feature_names is deprecated; get_feature_names is deprecated in 1.0 and will be removed in 1.2. Please use get_feature_names_out instead.\n",
            "  warnings.warn(msg, category=FutureWarning)\n"
          ]
        }
      ]
    }
  ]
}