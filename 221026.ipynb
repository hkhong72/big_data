{
  "nbformat": 4,
  "nbformat_minor": 0,
  "metadata": {
    "colab": {
      "provenance": [],
      "collapsed_sections": [],
      "authorship_tag": "ABX9TyNpoklFc98Y/RYOjk/RSG85",
      "include_colab_link": true
    },
    "kernelspec": {
      "name": "python3",
      "display_name": "Python 3"
    },
    "language_info": {
      "name": "python"
    }
  },
  "cells": [
    {
      "cell_type": "markdown",
      "metadata": {
        "id": "view-in-github",
        "colab_type": "text"
      },
      "source": [
        "<a href=\"https://colab.research.google.com/github/hkhong72/big_data/blob/main/221026.ipynb\" target=\"_parent\"><img src=\"https://colab.research.google.com/assets/colab-badge.svg\" alt=\"Open In Colab\"/></a>"
      ]
    },
    {
      "cell_type": "markdown",
      "source": [
        "# 텐서플로우 설치"
      ],
      "metadata": {
        "id": "IVyCVJfrAKX3"
      }
    },
    {
      "cell_type": "code",
      "source": [
        "cd e:/source/python"
      ],
      "metadata": {
        "id": "KhAbevGYA-eN"
      },
      "execution_count": null,
      "outputs": []
    },
    {
      "cell_type": "code",
      "source": [
        "conda activate py38-env"
      ],
      "metadata": {
        "id": "DszGaBm0ANse"
      },
      "execution_count": null,
      "outputs": []
    },
    {
      "cell_type": "code",
      "source": [
        "conda install tensorflow"
      ],
      "metadata": {
        "id": "C4tMMJiMAKjv"
      },
      "execution_count": null,
      "outputs": []
    },
    {
      "cell_type": "code",
      "source": [],
      "metadata": {
        "id": "oDY8aW2xkUlv"
      },
      "execution_count": null,
      "outputs": []
    },
    {
      "cell_type": "markdown",
      "source": [
        "https://en.wikipedia.org/wiki/CUDA\n",
        "\n",
        "- 내PC와 맞는 버전의 CUDA를 다운받고, 그 버전에 맞는 cuDNN도 받아야 함\n",
        "\n",
        "- 참고 사이트 : https://webnautes.tistory.com/1423"
      ],
      "metadata": {
        "id": "iuRRSOXsCYg1"
      }
    },
    {
      "cell_type": "markdown",
      "source": [],
      "metadata": {
        "id": "zV3IkevnCXqW"
      }
    },
    {
      "cell_type": "code",
      "source": [],
      "metadata": {
        "id": "-0rlugCsDkUt"
      },
      "execution_count": null,
      "outputs": []
    }
  ]
}