{
  "nbformat": 4,
  "nbformat_minor": 0,
  "metadata": {
    "colab": {
      "provenance": [],
      "collapsed_sections": [],
      "authorship_tag": "ABX9TyMFfT8zGq5AbcjiiyDwVPu4",
      "include_colab_link": true
    },
    "kernelspec": {
      "name": "python3",
      "display_name": "Python 3"
    },
    "language_info": {
      "name": "python"
    }
  },
  "cells": [
    {
      "cell_type": "markdown",
      "metadata": {
        "id": "view-in-github",
        "colab_type": "text"
      },
      "source": [
        "<a href=\"https://colab.research.google.com/github/hkhong72/big_data/blob/main/221021_1.ipynb\" target=\"_parent\"><img src=\"https://colab.research.google.com/assets/colab-badge.svg\" alt=\"Open In Colab\"/></a>"
      ]
    },
    {
      "cell_type": "markdown",
      "source": [
        "사용자가 직접 카운트jar 를 사용할수있도록 해보자"
      ],
      "metadata": {
        "id": "Yf7jTtgs40Vc"
      }
    },
    {
      "cell_type": "markdown",
      "source": [
        "com.adacho.counter 패키지생성\n",
        "\n",
        "DelayCounter (Enum생성)"
      ],
      "metadata": {
        "id": "H-2j_zyu7ytH"
      }
    },
    {
      "cell_type": "code",
      "source": [
        "package com.adacho.counter;\n",
        "\n",
        "public enum DelayCounter {\n",
        "   not_available_arrival, scheduled_arrival, early_arrival,\n",
        "   not_available_departure, scheduled_departure, early_departure\n",
        "}"
      ],
      "metadata": {
        "id": "7ibwPWL476cD"
      },
      "execution_count": null,
      "outputs": []
    },
    {
      "cell_type": "markdown",
      "source": [
        "com.adacho.mapper 패키지에\n",
        "\n",
        "DelayCountMapperCounter 클래스생성"
      ],
      "metadata": {
        "id": "flLok8ZV77ki"
      }
    },
    {
      "cell_type": "code",
      "source": [
        "package com.adacho.mapper;\n",
        "\n",
        "import java.io.IOException;\n",
        "\n",
        "import org.apache.hadoop.io.IntWritable;\n",
        "import org.apache.hadoop.io.LongWritable;\n",
        "import org.apache.hadoop.io.Text;\n",
        "import org.apache.hadoop.mapreduce.Mapper;\n",
        "\n",
        "import com.adacho.common.AirlinePerformanceParser;\n",
        "import com.adacho.counter.DelayCounter;\n",
        "\n",
        "public class DelayCountMapperCounter extends Mapper<LongWritable, Text, Text, IntWritable> {\n",
        "\tprivate final static IntWritable outputValue = new IntWritable(1);\n",
        "\tprivate Text outputKey = new Text();\n",
        "\tprivate String workType;\n",
        "\n",
        "\t@Override // mapper객체생성될때 한번 실행되는 메서드 = setup 메서드\n",
        "\tprotected void setup(Mapper<LongWritable, Text, Text, IntWritable>.Context context)\n",
        "\t\t\tthrows IOException, InterruptedException {\n",
        "\t\t// TODO Auto-generated method stub\n",
        "\t\tworkType = context.getConfiguration().get(\"workType\");\n",
        "\n",
        "\t}\n",
        "\n",
        "\t@Override\n",
        "\tprotected void map(LongWritable key, Text value, Mapper<LongWritable, Text, Text, IntWritable>.Context context)\n",
        "\t\t\tthrows IOException, InterruptedException {\n",
        "\t\t// TODO Auto-generated method stub\n",
        "\t\tAirlinePerformanceParser parser = new AirlinePerformanceParser(value);\n",
        "\n",
        "\t\tif (workType.equals(\"departure\")) { // 출발할때\n",
        "\t\t\tif (parser.isDepartureDelayAvailable()) {\n",
        "\t\t\t\tif (parser.getDepartureDelayTime() > 0) {// 도착딜레이시간이양수면 -> 지연상황\n",
        "\t\t\t\t\toutputKey.set(parser.getYear() + \",\" + parser.getMonth());\n",
        "\t\t\t\t\tcontext.write(outputKey, outputValue);\n",
        "\t\t\t\t} else if (parser.getDepartureDelayTime() == 0) {// 예정시간과 같은 정시에도착\n",
        "\t\t\t\t\tcontext.getCounter(DelayCounter.scheduled_departure).increment(1);\n",
        "\t\t\t\t} else if (parser.getDepartureDelayTime() < 0) {// 정시보다도 빨리도착\n",
        "\t\t\t\t\tcontext.getCounter(DelayCounter.early_departure).increment(1);\n",
        "\t\t\t\t}\n",
        "\t\t\t} else {// 도착 지연시간이 존재하지 않는다면 (데이터가 누락됬다면?)\n",
        "\t\t\t\tcontext.getCounter(DelayCounter.not_available_departure).increment(1);\n",
        "\t\t\t}\n",
        "\t\t}\n",
        "\t\tif (workType.equals(\"arrival\")) { // 도착일때\n",
        "\t\t\tif (parser.isArriveDelayAvailable()) {\n",
        "\t\t\t\tif (parser.getArriveDelayTime() > 0) { // 도착딜레이시간이양수면 -> 지연상황\n",
        "\t\t\t\t\toutputKey.set(parser.getYear() + \",\" + parser.getMonth());\n",
        "\t\t\t\t\tcontext.write(outputKey, outputValue);\n",
        "\t\t\t\t} else if (parser.getArriveDelayTime() == 0) { // 예정시간과 같은 정시에도착\n",
        "\t\t\t\t\tcontext.getCounter(DelayCounter.scheduled_arrival).increment(1);\n",
        "\t\t\t\t} else if (parser.getArriveDelayTime() < 0) {// 정시보다도 빨리도착\n",
        "\t\t\t\t\tcontext.getCounter(DelayCounter.early_arrival).increment(1);\n",
        "\t\t\t\t}\n",
        "\t\t\t} else {// 도착 지연시간이 존재하지 않는다면 (데이터가 누락됬다면?)\n",
        "\t\t\t\tcontext.getCounter(DelayCounter.not_available_arrival).increment(1);\n",
        "\t\t\t}\n",
        "\t\t}\n",
        "\t}\n",
        "}\n"
      ],
      "metadata": {
        "id": "k3ThV9ms80OR"
      },
      "execution_count": null,
      "outputs": []
    },
    {
      "cell_type": "markdown",
      "source": [
        "com.adacho.driver 패키지에\n",
        "\n",
        "DelayCountCounter 클래스 생성"
      ],
      "metadata": {
        "id": "fbIZ7Y2s803J"
      }
    },
    {
      "cell_type": "code",
      "source": [
        "package com.adacho.driver;\n",
        "\n",
        "import org.apache.hadoop.conf.Configuration;\n",
        "import org.apache.hadoop.conf.Configured;\n",
        "import org.apache.hadoop.fs.Path;\n",
        "import org.apache.hadoop.io.IntWritable;\n",
        "import org.apache.hadoop.io.Text;\n",
        "import org.apache.hadoop.mapreduce.Job;\n",
        "import org.apache.hadoop.mapreduce.lib.input.FileInputFormat;\n",
        "import org.apache.hadoop.mapreduce.lib.input.TextInputFormat;\n",
        "import org.apache.hadoop.mapreduce.lib.output.FileOutputFormat;\n",
        "import org.apache.hadoop.mapreduce.lib.output.TextOutputFormat;\n",
        "import org.apache.hadoop.util.GenericOptionsParser;\n",
        "import org.apache.hadoop.util.Tool;\n",
        "import org.apache.hadoop.util.ToolRunner;\n",
        "\n",
        "import com.adacho.mapper.DelayCountMapperCounter;\n",
        "import com.adacho.reducer.DelayCountReducer;\n",
        "\n",
        "public class DelayCountCounter extends Configured implements Tool{\n",
        "\tpublic static void main(String[] args) throws Exception{\n",
        "\t\tint res = ToolRunner.run(new Configuration(), new DelayCountCounter(), args);\n",
        "\t\tSystem.out.println(\"MapReduce Result : \" + res);\n",
        "\t}\n",
        "\t@Override\n",
        "\tpublic int run(String[] args) throws Exception {\n",
        "\t\t// TODO Auto-generated method stub\n",
        "\t\tString[] otherArgs = new GenericOptionsParser(getConf(), args).getRemainingArgs();\n",
        "\t\tif(otherArgs.length !=2) {\n",
        "\t\t\tSystem.err.println(\"Usage: DelayCountCounter <input> <output>\");\n",
        "\t\t\tSystem.exit(1);\n",
        "\t\t}\n",
        "\t\t\n",
        "\t\tJob job = Job.getInstance(getConf(), \"DelayCountCounter\");\n",
        "\t\t\n",
        "\t\tjob.setJarByClass(DelayCountCounter.class); //드라이브 클래스 저장\n",
        "\t\tjob.setMapperClass(DelayCountMapperCounter.class); //메퍼클래스저장\n",
        "\t\tjob.setReducerClass(DelayCountReducer.class); //리듀스클래스저장\n",
        "\t\t\n",
        "\t\tjob.setInputFormatClass(TextInputFormat.class); //두개중에 길이가 긴 것 임포트\n",
        "\t\tjob.setOutputFormatClass(TextOutputFormat.class); //두개중에 길이가 긴 것 임포트\n",
        "\t\t\n",
        "\t\tjob.setMapOutputKeyClass(Text.class);\n",
        "\t\tjob.setMapOutputValueClass(IntWritable.class);\n",
        "\t\t\n",
        "\t\tFileInputFormat.addInputPath(job, new Path(otherArgs[0])); //여러개에 인풋데이타가 있으면 다 줄 수 있음\n",
        "\t\tFileOutputFormat.setOutputPath(job, new Path(otherArgs[1]));\n",
        "\t\t\n",
        "\t\tjob.waitForCompletion(true); //job이끝날때까지 기다리고있다가 동기방식으로\n",
        "\t\t\n",
        "\t\treturn 0;\n",
        "\t}\n",
        "\n",
        "}\n"
      ],
      "metadata": {
        "id": "Zd_u9h5l86Ix"
      },
      "execution_count": null,
      "outputs": []
    },
    {
      "cell_type": "markdown",
      "source": [
        "maven clean\n",
        "\n",
        "manen install\n",
        "\n",
        "윈도우 c java_workspace airperformance target jar확인하고 경로복사\n",
        "\n",
        "터미널에서 cd 복사한경로\n",
        "\n",
        "scp .\\airPerformance-0.1.jar ubuntu:~work/java\n",
        "\n",
        "리눅스 cd /work/java\n",
        " \n",
        "yarn jar ./airPerformance-0.1.jar com.adacho.driver.DelayCountCounter -D workType=departure air-input dep-delay-count-counter\n",
        "\n",
        "com.adacho.counter.DelayCounter\n",
        "                early_departure=3484826\n",
        "                not_available_departure=75723\n",
        "                scheduled_departure=367259\n",
        "\n",
        "                확인\n",
        "\n",
        "hdfs dfs -ls 로 dep-delay-count-counter확인\n",
        "\n",
        "hdfs dfs -cat dep-delay-count-counter/part-r-00000\n",
        "\n",
        "\n",
        "\n",
        "\n",
        "\n",
        "\n"
      ],
      "metadata": {
        "id": "Uqv3UPjT40q0"
      }
    },
    {
      "cell_type": "markdown",
      "source": [
        "매퍼패키지에 DelayCountMapperMultiOut 클래스 생성"
      ],
      "metadata": {
        "id": "XOn_W2xbE6y3"
      }
    },
    {
      "cell_type": "code",
      "source": [
        "package com.adacho.mapper;\n",
        "\n",
        "import java.io.IOException;\n",
        "\n",
        "import org.apache.hadoop.io.IntWritable;\n",
        "import org.apache.hadoop.io.LongWritable;\n",
        "import org.apache.hadoop.io.Text;\n",
        "import org.apache.hadoop.mapreduce.Mapper;\n",
        "\n",
        "import com.adacho.common.AirlinePerformanceParser;\n",
        "import com.adacho.counter.DelayCounter;\n",
        "\n",
        "public class DelayCountMapperMultiOut extends Mapper<LongWritable, Text, Text, IntWritable>{\n",
        "\tprivate final static IntWritable outputValue = new IntWritable(1);\n",
        "\tprivate Text outputKey = new Text();\n",
        "\t//workType은 안쓸꺼임 둘다 구할거라서\n",
        "\t\n",
        "\t@Override\n",
        "\tprotected void map(LongWritable key, Text value, Mapper<LongWritable, Text, Text, IntWritable>.Context context)\n",
        "\t\t\tthrows IOException, InterruptedException {\n",
        "\t\t// TODO Auto-generated method stub\n",
        "\t\tAirlinePerformanceParser parser = new AirlinePerformanceParser(value);\n",
        "\n",
        "\t\t\n",
        "\t\tif (parser.isDepartureDelayAvailable()) {\n",
        "\t\t\tif (parser.getDepartureDelayTime() > 0) {// 도착딜레이시간이양수면 -> 지연상황\n",
        "\t\t\t\toutputKey.set(\"D : \" + parser.getYear() + \",\" + parser.getMonth());\n",
        "\t\t\t\tcontext.write(outputKey, outputValue);\n",
        "\t\t\t} else if (parser.getDepartureDelayTime() == 0) {// 예정시간과 같은 정시에도착\n",
        "\t\t\t\tcontext.getCounter(DelayCounter.scheduled_departure).increment(1);\n",
        "\t\t\t} else if (parser.getDepartureDelayTime() < 0) {// 정시보다도 빨리도착\n",
        "\t\t\t\tcontext.getCounter(DelayCounter.early_departure).increment(1);\n",
        "\t\t\t}\n",
        "\t\t} else {// 도착 지연시간이 존재하지 않는다면 (데이터가 누락됬다면?)\n",
        "\t\t\tcontext.getCounter(DelayCounter.not_available_departure).increment(1);\n",
        "\t\t}\n",
        "\t\t\n",
        "\t\t\n",
        "\t\tif (parser.isArriveDelayAvailable()) {\n",
        "\t\t\tif (parser.getArriveDelayTime() > 0) { // 도착딜레이시간이양수면 -> 지연상황\n",
        "\t\t\t\toutputKey.set(\"A : \" + parser.getYear() + \",\" + parser.getMonth());\n",
        "\t\t\t\tcontext.write(outputKey, outputValue);\n",
        "\t\t\t} else if (parser.getArriveDelayTime() == 0) { // 예정시간과 같은 정시에도착\n",
        "\t\t\t\tcontext.getCounter(DelayCounter.scheduled_arrival).increment(1);\n",
        "\t\t\t} else if (parser.getArriveDelayTime() < 0) {// 정시보다도 빨리도착\n",
        "\t\t\t\tcontext.getCounter(DelayCounter.early_arrival).increment(1);\n",
        "\t\t\t}\n",
        "\t\t} else {// 도착 지연시간이 존재하지 않는다면 (데이터가 누락됬다면?)\n",
        "\t\t\tcontext.getCounter(DelayCounter.not_available_arrival).increment(1);\n",
        "\t\t}\n",
        "\t\t\n",
        "\t}\n",
        "\n",
        "}\n"
      ],
      "metadata": {
        "id": "x5FJE77sF5iA"
      },
      "execution_count": null,
      "outputs": []
    },
    {
      "cell_type": "markdown",
      "source": [
        "com.adacho.reducer 패키지에\n",
        "\n",
        "DelayCountReducerMultiOut 클래스 생성"
      ],
      "metadata": {
        "id": "2wPBcuKwF6iF"
      }
    },
    {
      "cell_type": "code",
      "source": [
        "package com.adacho.reducer;\n",
        "\n",
        "import java.io.IOException;\n",
        "\n",
        "import org.apache.hadoop.io.IntWritable;\n",
        "import org.apache.hadoop.io.Text;\n",
        "import org.apache.hadoop.mapreduce.Reducer;\n",
        "import org.apache.hadoop.mapreduce.lib.output.MultipleOutputs;\n",
        "\n",
        "public class DelayCountReducerMultiOut extends Reducer<Text, IntWritable, Text, IntWritable>{\n",
        "\tprivate IntWritable result = new IntWritable();\n",
        "\tprivate MultipleOutputs<Text, IntWritable> mos;\n",
        "\tprivate Text outputKey = new Text();\n",
        "\t\n",
        "\t@Override\n",
        "\tprotected void setup(Reducer<Text, IntWritable, Text, IntWritable>.Context context)\n",
        "\t\t\tthrows IOException, InterruptedException {\n",
        "\t\t// TODO Auto-generated method stub\n",
        "\t\tmos = new MultipleOutputs<Text, IntWritable>(context);\n",
        "\t}\n",
        "\n",
        "\t@Override\n",
        "\tprotected void reduce(Text key, Iterable<IntWritable> values,\n",
        "\t\t\tReducer<Text, IntWritable, Text, IntWritable>.Context context) throws IOException, InterruptedException {\n",
        "\t\t// TODO Auto-generated method stub\n",
        "\t\tString[] columns = key.toString().split(\",\"); //키를 문자열로바꾸고콤마 기준으로짜름\n",
        "\t\t\n",
        "\t\toutputKey.set(columns[1] + \",\" + columns[2]); //연도랑월을붙임\n",
        "\t\tint sum = 0;\n",
        "\t\tfor(IntWritable value : values) {\n",
        "\t\t\tsum += value.get();\n",
        "\t\t}\n",
        "\t\tresult.set(sum);\n",
        "\t\t\n",
        "\t\tif(columns[0].equals(\"D\")) { //짜른것에 첫번째인덱스는 D or A\n",
        "\t\t\tmos.write(\"departure\", outputKey, result);\n",
        "\t\t}else { //A일때\n",
        "\t\t\tmos.write(\"arrival\", outputKey, result);\n",
        "\t\t}\n",
        "\t}\n",
        "\n",
        "\t@Override\n",
        "\tprotected void cleanup(Reducer<Text, IntWritable, Text, IntWritable>.Context context)\n",
        "\t\t\tthrows IOException, InterruptedException {\n",
        "\t\t// TODO Auto-generated method stub\n",
        "\t\tmos.close(); //메모리릭발생방지를 위해 닫아줘야 함\n",
        "\t}\n",
        "\t\n",
        "\t\n",
        "}\n"
      ],
      "metadata": {
        "id": "a2ZtryXoIVQ5"
      },
      "execution_count": null,
      "outputs": []
    },
    {
      "cell_type": "markdown",
      "source": [
        "드라이버 패키지에\n",
        "\n",
        "DelayCountMultiOut 클래스생성\n",
        "\n"
      ],
      "metadata": {
        "id": "3d2HQyQwIW8F"
      }
    },
    {
      "cell_type": "code",
      "source": [
        "package com.adacho.driver;\n",
        "\n",
        "import org.apache.hadoop.conf.Configuration;\n",
        "import org.apache.hadoop.conf.Configured;\n",
        "import org.apache.hadoop.fs.Path;\n",
        "import org.apache.hadoop.io.IntWritable;\n",
        "import org.apache.hadoop.io.Text;\n",
        "import org.apache.hadoop.mapreduce.Job;\n",
        "import org.apache.hadoop.mapreduce.lib.input.FileInputFormat;\n",
        "import org.apache.hadoop.mapreduce.lib.input.TextInputFormat;\n",
        "import org.apache.hadoop.mapreduce.lib.output.FileOutputFormat;\n",
        "import org.apache.hadoop.mapreduce.lib.output.MultipleOutputs;\n",
        "import org.apache.hadoop.mapreduce.lib.output.TextOutputFormat;\n",
        "import org.apache.hadoop.util.GenericOptionsParser;\n",
        "import org.apache.hadoop.util.Tool;\n",
        "import org.apache.hadoop.util.ToolRunner;\n",
        "\n",
        "import com.adacho.mapper.DelayCountMapperMultiOut;\n",
        "import com.adacho.reducer.DelayCountReducerMultiOut;\n",
        "\n",
        "public class DelayCountMultiOut extends Configured implements Tool{\n",
        "\tpublic static void main(String[] args) throws Exception{\n",
        "\t\tint res = ToolRunner.run(new Configuration(), new DelayCountMultiOut(), args);\n",
        "\t\tSystem.out.println(\"MapReduce Result : \" + res);\n",
        "\t}\n",
        "\t\n",
        "\t@Override\n",
        "\tpublic int run(String[] args) throws Exception {\n",
        "\t\t// TODO Auto-generated method stub\n",
        "\t\tString[] otherArgs = new GenericOptionsParser(getConf(), args).getRemainingArgs();\n",
        "\t\tif(otherArgs.length !=2) {\n",
        "\t\t\tSystem.err.println(\"Usage: DelayCountMultiOut <input> <output>\");\n",
        "\t\t\tSystem.exit(1);\n",
        "\t\t}\n",
        "\t\t\n",
        "\t\tJob job = Job.getInstance(getConf(), \"DelayCountMultiOut\");\n",
        "\t\t\n",
        "\t\tjob.setJarByClass(DelayCountMultiOut.class); //드라이브 클래스 저장\n",
        "\t\tjob.setMapperClass(DelayCountMapperMultiOut.class); //메퍼클래스저장\n",
        "\t\tjob.setReducerClass(DelayCountReducerMultiOut.class); //리듀스클래스저장\n",
        "\t\t\n",
        "\t\tjob.setInputFormatClass(TextInputFormat.class); //두개중에 길이가 긴 것 임포트\n",
        "\t\tjob.setOutputFormatClass(TextOutputFormat.class); //두개중에 길이가 긴 것 임포트\n",
        "\t\t\n",
        "\t\tjob.setMapOutputKeyClass(Text.class);\n",
        "\t\tjob.setMapOutputValueClass(IntWritable.class);\n",
        "\t\t\n",
        "\t\tFileInputFormat.addInputPath(job, new Path(otherArgs[0])); //여러개에 인풋데이타가 있으면 다 줄 수 있음\n",
        "\t\tFileOutputFormat.setOutputPath(job, new Path(otherArgs[1]));\n",
        "\t\t\n",
        "\t\tMultipleOutputs.addNamedOutput(job, \"departure\", TextOutputFormat.class, Text.class, IntWritable.class);\n",
        "\t\tMultipleOutputs.addNamedOutput(job, \"arrival\", TextOutputFormat.class, Text.class, IntWritable.class);\n",
        "\t\tjob.waitForCompletion(true); //job이끝날때까지 기다리고있다가 동기방식으로\n",
        "\t\t\n",
        "\t\treturn 0;\n",
        "\t}\n",
        "\n",
        "}\n"
      ],
      "metadata": {
        "id": "duqyJjWKJ4Bh"
      },
      "execution_count": null,
      "outputs": []
    },
    {
      "cell_type": "markdown",
      "source": [
        "메이븐 클린 메이븐 인스톨\n",
        "\n",
        "scp .\\airPerformance-0.1.jar ubuntu:~/work/java\n",
        "\n",
        "yarn jar ./airPerformance-0.1.jar com.adacho.driver.DelayCountMultiOut air-input delay-count-mos\n",
        "\n",
        "File Output Format Counters Bytes Written=0인거 확인\n",
        "\n",
        "hdfs dfs -ls delay-count-mos\n",
        "\n",
        "delay-count-mos에 departure-r-00000, arrival-r-00000 에 내용이 들어있는 것 확인\n",
        "\n",
        "driver클래스에 addNamedOutput메서드에 매개변수이름 준대로 들어감\n",
        "\n"
      ],
      "metadata": {
        "id": "pnFQSkddKFxu"
      }
    },
    {
      "cell_type": "markdown",
      "source": [
        "리눅스 꿀팁\n",
        "\n",
        "홈디렉터리에서\n",
        "\n",
        "vi .bashrc\n",
        "\n",
        "맨아래에\n",
        "\n",
        "set -o vi 삽입\n",
        "\n",
        ":wq 저장후나와서\n",
        "\n",
        ". .bashrc 로 적용한상태에서\n",
        "\n",
        "esc누르고\n",
        "\n",
        "/원하는히스토리키워드\n",
        "\n",
        "n으로 다음껄로넘길수있음\n",
        "\n",
        "수정할땐 vi모드기 때문에 i로 삽입\n",
        "\n",
        "컨트롤c로 나오면댐\n"
      ],
      "metadata": {
        "id": "xsfcIDUJKkNk"
      }
    },
    {
      "cell_type": "markdown",
      "source": [
        "hdfs dfs -cat delay-count-mos/arrival-r-00000\n",
        "\n",
        "을 sort정렬하고싶긴함, 정렬방법 ->\n",
        "\n"
      ],
      "metadata": {
        "id": "_rTiMYe3Nz1r"
      }
    },
    {
      "cell_type": "markdown",
      "source": [
        "airOT199101 03 06 07\n",
        "airOT199902 03 10 11\n",
        "새폴더에 넣고 거기경로복사해서\n",
        "cd 복사한경로\n",
        "scp ./air* ubuntu:~/work/air-data\n",
        "\n",
        "vi airOT199101.csv ~ 이번에 올린 총 8개\n",
        "\n",
        "ddd로 헤더날리고저장\n",
        "\n",
        "하둡파일시스템에 air-input에 있는거 다 지우고 다시 12개넣기\n",
        "\n",
        "hdfs dfs -rm air-input/*\n",
        "\n",
        "hdfs dfs -put ./* air-input/"
      ],
      "metadata": {
        "id": "ukW_5JzrVw7j"
      }
    },
    {
      "cell_type": "markdown",
      "source": [
        "슬랙에 올려준 txt 받기\n",
        "\n",
        "com.adacho.common 패키지에\n",
        "\n",
        "DateKey 클래스 생성"
      ],
      "metadata": {
        "id": "RfGC2aZ2Wh8f"
      }
    },
    {
      "cell_type": "code",
      "source": [
        "package com.adacho.common;\n",
        "\n",
        "import java.io.DataInput;\n",
        "import java.io.DataOutput;\n",
        "import java.io.IOException;\n",
        "\n",
        "import org.apache.hadoop.io.WritableComparable;\n",
        "import org.apache.hadoop.io.WritableUtils;\n",
        "public class DateKey implements WritableComparable<DateKey>{\n",
        "\tprivate String year;\n",
        "\tprivate Integer month;\n",
        "\t\n",
        "\tpublic DateKey() {}\n",
        "\t\n",
        "\tpublic DateKey(String year, Integer month) {\n",
        "\t\tthis.year = year;\n",
        "\t\tthis.month = month;\n",
        "\t}\n",
        "\n",
        "\tpublic String getYear() {\n",
        "\t\treturn year;\n",
        "\t}\n",
        "\n",
        "\tpublic void setYear(String year) {\n",
        "\t\tthis.year = year;\n",
        "\t}\n",
        "\n",
        "\tpublic Integer getMonth() {\n",
        "\t\treturn month;\n",
        "\t}\n",
        "\n",
        "\tpublic void setMonth(Integer month) {\n",
        "\t\tthis.month = month;\n",
        "\t}\n",
        "\n",
        "\t@Override\n",
        "\tpublic void write(DataOutput out) throws IOException {\n",
        "\t\t// TODO Auto-generated method stub\n",
        "\t\tWritableUtils.writeString(out, year);\n",
        "\t\tout.writeInt(month);\n",
        "\t}\n",
        "\n",
        "\t@Override\n",
        "\tpublic void readFields(DataInput in) throws IOException {\n",
        "\t\t// TODO Auto-generated method stub\n",
        "\t\tyear = WritableUtils.readString(in);\n",
        "\t\tmonth = in.readInt();\n",
        "\t}\n",
        "\n",
        "\t@Override\n",
        "\tpublic int compareTo(DateKey o) { //복합키로 비교할때 어떻게 비교할 것인가\n",
        "\t\t// TODO Auto-generated method stub\n",
        "\t\tint result = year.compareTo(o.year); //앞에꺼 빼기 뒤에꺼 느낌st -> 앞에꺼가크면양수\n",
        "\t\tif(result == 0) {\n",
        "\t\t\tresult = month.compareTo(o.month); //년도가같으면 월도 비교해서 result값에 넣기\n",
        "\t\t}\n",
        "\t\treturn result;\n",
        "\t}\n",
        "\n",
        "\t@Override\n",
        "\tpublic String toString() {\n",
        "\t\t// TODO Auto-generated method stub\n",
        "\t\treturn new StringBuilder().append(year).append(\",\").append(month).toString();\n",
        "\t\t// 년도 , 월 붙여서 스트링타입으로 변환\n",
        "\t}\n",
        "\t\n",
        "\t\n",
        "\t\n",
        "\n",
        "}\n"
      ],
      "metadata": {
        "id": "CY7UZyWyZc93"
      },
      "execution_count": null,
      "outputs": []
    },
    {
      "cell_type": "markdown",
      "source": [
        "com.adacho.common 패키지에\n",
        "\n",
        "DateKeyComparator 클래스생성\n"
      ],
      "metadata": {
        "id": "czu_lGSIZdv-"
      }
    },
    {
      "cell_type": "code",
      "source": [
        "package com.adacho.common;\n",
        "\n",
        "import org.apache.hadoop.io.WritableComparable;\n",
        "import org.apache.hadoop.io.WritableComparator;\n",
        "\n",
        "public class DateKeyComparator extends WritableComparator{\n",
        "\tprotected DateKeyComparator() {\n",
        "\t\tsuper(DateKey.class,true);\n",
        "\t}\n",
        "\n",
        "\t@Override\n",
        "\tpublic int compare(WritableComparable a, WritableComparable b) {\n",
        "\t\t// TODO Auto-generated method stub\n",
        "\t\tDateKey k1 = (DateKey)a;\n",
        "\t\tDateKey k2 = (DateKey)b;\n",
        "\t\t\n",
        "\t\tint cmp = k1.getYear().compareTo(k2.getYear()); //년도비교\n",
        "\t\tif(cmp != 0) {\n",
        "\t\t\treturn cmp;\n",
        "\t\t}\n",
        "\t\treturn k1.getMonth().compareTo(k2.getMonth()); //년도가같을때 월을비교함\n",
        "\t\t\n",
        "\t\t//return k1.getMonth() == k2.getMonth() ? 0: (k1.getMonth() < k2.getMonth() ? -1: 1);\n",
        "\t\t// k1과k2의 month비교하기\n",
        "\t}\n",
        "\t\n",
        "\t\n",
        "\n",
        "}\n"
      ],
      "metadata": {
        "id": "LTtieShGZidW"
      },
      "execution_count": null,
      "outputs": []
    },
    {
      "cell_type": "markdown",
      "source": [
        "common패키지에\n",
        "\n",
        "GroupKeyPartitioner 클래스생성"
      ],
      "metadata": {
        "id": "O5CAfsZobF_E"
      }
    },
    {
      "cell_type": "code",
      "source": [],
      "metadata": {
        "id": "ieYn3JogbKH2"
      },
      "execution_count": null,
      "outputs": []
    }
  ]
}