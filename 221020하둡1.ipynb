{
  "nbformat": 4,
  "nbformat_minor": 0,
  "metadata": {
    "colab": {
      "provenance": [],
      "authorship_tag": "ABX9TyP7AXzQb0Yr2UaSFRkrb0O+",
      "include_colab_link": true
    },
    "kernelspec": {
      "name": "python3",
      "display_name": "Python 3"
    },
    "language_info": {
      "name": "python"
    }
  },
  "cells": [
    {
      "cell_type": "markdown",
      "metadata": {
        "id": "view-in-github",
        "colab_type": "text"
      },
      "source": [
        "<a href=\"https://colab.research.google.com/github/hkhong72/big_data/blob/main/221020%ED%95%98%EB%91%A11.ipynb\" target=\"_parent\"><img src=\"https://colab.research.google.com/assets/colab-badge.svg\" alt=\"Open In Colab\"/></a>"
      ]
    },
    {
      "cell_type": "markdown",
      "source": [
        "ssh ubuntu\n",
        "start-dfs.sh\n",
        "start-yarn.sh\n",
        "jps"
      ],
      "metadata": {
        "id": "Azz6TKub0gFD"
      }
    },
    {
      "cell_type": "markdown",
      "source": [
        "cd hadoop-3.2.4/logs\n",
        "새창열고\n",
        "홈 디렉터리 mapred historyserver start&\n",
        "맨뒤에 '&' 붙이면 백그라운드에서 실행시키겠다는의미\n",
        "exit 나오고 \n",
        "원래창에서 jps (JobHistoryServer살아있는것확인)"
      ],
      "metadata": {
        "id": "Aehtz3wT0gOB"
      }
    },
    {
      "cell_type": "markdown",
      "source": [
        "---------------2차관문통과-----------------"
      ],
      "metadata": {
        "id": "is9v2mAZ0mcQ"
      }
    },
    {
      "cell_type": "markdown",
      "source": [
        "리눅스에서 브라우저에\n",
        "localhost:50070 -> 확인\n",
        "localhost:8088 -> 하둡관련모든것확인\n",
        "localhost:19888   -> JobHistory확인"
      ],
      "metadata": {
        "id": "QRL4whwQ0gSx"
      }
    },
    {
      "cell_type": "markdown",
      "source": [
        "다시터미널\n",
        "홈디렉토리에서 \n",
        "hdfs dfs -ls /   ( 여기서 루트는 하둡파일시스템의 루트)\n",
        "hdfs dfs -ls ('.' : No such file or directory)\n",
        "(하둡파일시스템은 루트밑에 유저밑에 계정)\n",
        "-> 루트밑에 유저를 만들어야하고, 홈을 만들어야함\n",
        "계정은 리눅스계정이랑 동일해야함"
      ],
      "metadata": {
        "id": "gjaQ0az50gVS"
      }
    },
    {
      "cell_type": "markdown",
      "source": [
        "hdfs dfs -mkdir /user\n",
        "hdfs dfs -mkdir /user/user1\n",
        "hdfs dfs -ls (실행확인)"
      ],
      "metadata": {
        "id": "t1SFbyeY0gYx"
      }
    },
    {
      "cell_type": "markdown",
      "source": [
        "하둡파일시스템에는 'cd'라는 명령어없음 \n",
        "기본위치는 항상 루트밑에 user밑에 user1이다\n"
      ],
      "metadata": {
        "id": "76iHT-420gtv"
      }
    },
    {
      "cell_type": "markdown",
      "source": [
        "hdfs dfs - mkdir smaple-info\n",
        "기본위치인 user1에 sample-input 생성된것확인\n",
        "hdfs dfs -ls\n"
      ],
      "metadata": {
        "id": "AgogXrDi0v4g"
      }
    },
    {
      "cell_type": "markdown",
      "source": [
        "slack에서 받은 txt를\n",
        "홈디렉터리에 work에 만들기\n",
        "cd work\n",
        "vi story.txt\n",
        "안에 slack에서 받은 txt내용 복사하고 :wq\n",
        "\n",
        "cat story.txt로 내용확인\n",
        "ls -l stroy.txt (7348바이트확인)\n",
        "\n"
      ],
      "metadata": {
        "id": "wAsMjB7K2DZV"
      }
    },
    {
      "cell_type": "markdown",
      "source": [
        "로컬파일시스템에서 하둡파일시스템에 만든 sample-input으로 받은 파일 옮기기\n",
        "hdfs dfs -put ~/work/story.txt sample-input\n",
        "\n",
        "hdfs dfs -ls sample-input으로 story.txt 옮겨갔는지 확인\n",
        "\n",
        "반대로 하둡파일시스템에서 로컬파일시스템으로 가져오는 것은 get <--> put\n",
        "put 보낼로컬파일위치 받을hdfs파일위치\n",
        "get 보낼hdfs파일위치 받을로컬파일위치"
      ],
      "metadata": {
        "id": "z_4CrRFm2EI5"
      }
    },
    {
      "cell_type": "markdown",
      "source": [],
      "metadata": {
        "id": "5Xl9rbjX2EFC"
      }
    },
    {
      "cell_type": "markdown",
      "source": [],
      "metadata": {
        "id": "xNVm-TwR2D_h"
      }
    },
    {
      "cell_type": "markdown",
      "source": [],
      "metadata": {
        "id": "8Qtn1hKd2D7T"
      }
    },
    {
      "cell_type": "markdown",
      "source": [],
      "metadata": {
        "id": "bS8TEcEw2Dwx"
      }
    },
    {
      "cell_type": "markdown",
      "source": [],
      "metadata": {
        "id": "L73HiYad2De1"
      }
    }
  ]
}