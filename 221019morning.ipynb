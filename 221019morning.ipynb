{
  "nbformat": 4,
  "nbformat_minor": 0,
  "metadata": {
    "colab": {
      "provenance": [],
      "authorship_tag": "ABX9TyMvjwgg/2qQnqeI1wrYXaUm",
      "include_colab_link": true
    },
    "kernelspec": {
      "name": "python3",
      "display_name": "Python 3"
    },
    "language_info": {
      "name": "python"
    }
  },
  "cells": [
    {
      "cell_type": "markdown",
      "metadata": {
        "id": "view-in-github",
        "colab_type": "text"
      },
      "source": [
        "<a href=\"https://colab.research.google.com/github/hkhong72/big_data/blob/main/221019morning.ipynb\" target=\"_parent\"><img src=\"https://colab.research.google.com/assets/colab-badge.svg\" alt=\"Open In Colab\"/></a>"
      ]
    },
    {
      "cell_type": "code",
      "execution_count": null,
      "metadata": {
        "id": "J5qckoPCPO5A"
      },
      "outputs": [],
      "source": [
        "sudo apt install build-essential\n",
        "sudo apt install net-tools\n",
        "sudo apt install vim\n",
        "sudo apt install openssh-server\n",
        "sudo systemctl status ssh\n",
        "\n",
        "telnet은 보안이 취약해서 shell\n",
        "\n",
        "sudo vi /etc/ssh/  더블 tap  ==> sshd_config\n",
        "\n",
        "sudo vi /etc/ssh/sshd_config  >> 새 터미널창\n",
        "\n",
        "\n",
        "\n",
        "port\n",
        "pubkey \n",
        "passwordauthen \n",
        "\n",
        ":wq\n",
        "\n",
        "sudo ufw allow ssh\n",
        "\n",
        "ifconfig를 치면 ip정보가 나옴\n",
        "\n",
        "내 노트북 아이피 : 192.168.32.1\n",
        "내 vmware 아이피 : 192.168.64.129\n",
        "\n",
        "C:\\ProgramData\\VMware\\vmnetnat.conf >> incomingtcp > ssh # 풀고 2200 = 192.168.64.129:22 로 변경 (포트 포워딩)\n",
        "\n",
        "검색기 : 서비스 >> VM WARE NAT Service 다시시작\n",
        "\n",
        "ssh user1@localhost -p 2200 으로 해당 포트 연결 가능 (아이디 비번 입력)\n",
        "\n",
        "microstore 에 terminal 검색후 다운(파워 쉘 커스터마이징할것임)\n",
        "터미널을 열고 >> 설정 >> Json 파일 열기 >> profiles에 defaults 키에 여러 커스터마이징 value 가능\n",
        "\n",
        "\n",
        "* 쉽게 터미널에서 포트포워딩 하는법\n",
        "C:\\Users\\31690\\.ssh\\config 파일 생성(확장자 지우고)\n",
        "Host ubuntu\n",
        "   Hostname localhost\n",
        "   User user1\n",
        "   Port 2200\n",
        "작성\n",
        "\n",
        "sequere party -> 우분투 리눅스로 파일 보냄 (파일 위치로 가서.. .scp .\\파일명 ubuntu:~/리눅스에서의 파일명/\n",
        "\n",
        "\n",
        "linux 명령어\n",
        ":$ 맨아래로\n",
        ":1맨위로\n",
        ":se nu  열숫자생성\n",
        ":se nonu 취소\n",
        "ctrl + z >> 현재 화면 백그라운드로 밀어냄\n",
        "fg >> 백그라운드에 밀린 애 포그라운드로 가져옴\n",
        "\n",
        "vi >> esc -편집모드에서 빠져나옴 (편집 후마다 esc누를것)\n",
        "vi >> :w 중간중간 저장\n",
        "vi >> o - 현재 커서 아래에 새로운 줄 생성 // O - 현재 커서 위에 새로운 줄 생성\n",
        "vi >> a - 현재 커서의 다음 // A : 현재 커서의 제일끝\n",
        "vi >> x - 현재 커서에서 한글자 지움 // 숫자 + x - 숫자 갯수만큼 지움\n",
        "vi >> dd - 현재 라인 잘라내기(ctrl + x) // 숫자 + dd - 숫자 갯수만큼 잘라냄\n",
        "vi >> p - 붙여넣기 // P : 맨 위에 붙일 때 사용\n",
        "vi >> .,$ d - 현재부터 맨 마지막까지 삭제 (del)\n",
        "vi >> u - undo (한번만)\n",
        "vi >> :q! - 저장하지 않고 나가기(undo로 해결 못할정도 일때)\n",
        "vi >> yy - 현재 커서가 있는 라인 복사\n",
        "vi >> r + 단어 - 현재 커서의 단어를 입력 단어로 변경 // R - esc 전까지 계속 바꿀수 있음\n",
        "vi >> cw - 단어 끼워넣기(change word) 단어의 단위는 공백이나 특문 // C - 현재 커서로부터 뒤까지 전부 삭제\n",
        "vi >> . - 바로 직전에 한 행동 재실행\n",
        "vi >> / + 단어 - 단어 찾기 (n = next) // ? + 단어 - 단어 찾기(역순, n = next) \n",
        "위 기능을 이용해서 cw로 단어를 변경하고 .을 써서 next에 해당하는 단어들 바꾼 단어로 기입가능\n",
        "vi >> :g/servlet\\./s///g => 현재 파일 전체의 servlet. 을 빈 값으로 바꿈\n",
        "vi >> ~ - 대소문자 변경"
      ]
    }
  ]
}