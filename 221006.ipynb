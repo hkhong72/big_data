{
  "nbformat": 4,
  "nbformat_minor": 0,
  "metadata": {
    "colab": {
      "provenance": [],
      "collapsed_sections": [],
      "authorship_tag": "ABX9TyNgANg2tpGkGeGrjsY60vUz",
      "include_colab_link": true
    },
    "kernelspec": {
      "name": "python3",
      "display_name": "Python 3"
    },
    "language_info": {
      "name": "python"
    }
  },
  "cells": [
    {
      "cell_type": "markdown",
      "metadata": {
        "id": "view-in-github",
        "colab_type": "text"
      },
      "source": [
        "<a href=\"https://colab.research.google.com/github/hkhong72/big_data/blob/main/221006.ipynb\" target=\"_parent\"><img src=\"https://colab.research.google.com/assets/colab-badge.svg\" alt=\"Open In Colab\"/></a>"
      ]
    },
    {
      "cell_type": "markdown",
      "source": [
        "장문석\n",
        "01097280948\n",
        "jejutour@daum.net\n",
        "https://ehpub.co.kr\n",
        "youtube : 언제나휴일-프로그래머\n",
        "\n",
        "10월 6~18(7일)\n",
        "Python\n",
        "빅데이터\n",
        "수집/분석/시각화  matlotlib\n",
        "텍스트마이닝 -> 원하는 키워드만 뽑아냄 ex) 기사내용중 원하는 단어만 채굴\n",
        "강의에 사용한 소스 코드\n",
        "https://github.com/ehpub/bit2210_bigdata\n",
        "\n",
        "colab"
      ],
      "metadata": {
        "id": "PVv-biVxya5f"
      }
    },
    {
      "cell_type": "code",
      "execution_count": null,
      "metadata": {
        "id": "6c9FlMKJrcrt"
      },
      "outputs": [],
      "source": [
        "ls = [[1,2,3,4],[3,4,5],[2,3],[1],1,2,'Hello']\n",
        "print(ls)"
      ]
    },
    {
      "cell_type": "code",
      "source": [
        "#numpy 모듈을 사용하기 위한 import문\n",
        "import numpy as np\n",
        "ls = [1,2,3,4,5]\n",
        "arr = np.array(ls)\n",
        "print(arr)\n",
        "print(type(arr)) #다차원 배열을 표현하는 타입이 ndarray\n"
      ],
      "metadata": {
        "id": "ROx6vwSGtWhA"
      },
      "execution_count": null,
      "outputs": []
    },
    {
      "cell_type": "code",
      "source": [
        "ls1 = [1,2,3]\n",
        "ls2 = [4,7,2]\n",
        "ls3 = ls1+ls2\n",
        "print(ls3) # 파이썬 리스트의 합은 concat"
      ],
      "metadata": {
        "id": "3769bBZyuffg"
      },
      "execution_count": null,
      "outputs": []
    },
    {
      "cell_type": "code",
      "source": [
        "arr1 = np.array(ls1)\n",
        "arr2 = np.array(ls2)\n",
        "arr3 = arr1+arr2\n",
        "print(arr3)"
      ],
      "metadata": {
        "id": "S5Rc92_TvqgZ"
      },
      "execution_count": null,
      "outputs": []
    },
    {
      "cell_type": "code",
      "source": [
        "ls = [1,2,3]\n",
        "ls2=ls*3\n",
        "print(ls2) #리스트 *숫자 는 원소를 반복해서 나열"
      ],
      "metadata": {
        "id": "zFpDZ4WnwC8D"
      },
      "execution_count": null,
      "outputs": []
    },
    {
      "cell_type": "code",
      "source": [
        "arr =np.array(ls)\n",
        "arr2 = arr*3\n",
        "print(arr2) #numpy의 ndarray *정수는 행렬*정수 연산을 수행"
      ],
      "metadata": {
        "id": "HOVcI4IDwJB8"
      },
      "execution_count": null,
      "outputs": []
    },
    {
      "cell_type": "code",
      "source": [
        "%%time\n",
        "arr = np.arange(100000)"
      ],
      "metadata": {
        "id": "qzvmlFrywi2L"
      },
      "execution_count": null,
      "outputs": []
    },
    {
      "cell_type": "code",
      "source": [
        "%%time\n",
        "ls = list(range(100000))"
      ],
      "metadata": {
        "id": "Mib4Vtvu3hTj"
      },
      "execution_count": null,
      "outputs": []
    },
    {
      "cell_type": "markdown",
      "source": [
        "$$time을 마킹하면 수행시간을 측정해준다."
      ],
      "metadata": {
        "id": "GXCCeCOY38B9"
      }
    },
    {
      "cell_type": "code",
      "source": [
        "arr = np.random.randn(2,3)\n",
        "print(arr)"
      ],
      "metadata": {
        "id": "HQ6FbSji4MH1"
      },
      "execution_count": null,
      "outputs": []
    },
    {
      "cell_type": "code",
      "source": [
        "arr * 3 #여기서 arr의 기존 값은 바뀌지않음. arr*3의 값을 반환해준것이다."
      ],
      "metadata": {
        "id": "Te06lx3Z4Q-a"
      },
      "execution_count": null,
      "outputs": []
    },
    {
      "cell_type": "code",
      "source": [
        "arr.shape #구조 확인 !!"
      ],
      "metadata": {
        "id": "UGWQcatH4nzM"
      },
      "execution_count": null,
      "outputs": []
    },
    {
      "cell_type": "code",
      "source": [
        "arr.ndim #차원 확인 !!"
      ],
      "metadata": {
        "id": "MyrpEWLy5LTR"
      },
      "execution_count": null,
      "outputs": []
    },
    {
      "cell_type": "code",
      "source": [
        "arr.dtype #원소 타입 확인"
      ],
      "metadata": {
        "id": "bmHsbfCH5SDU"
      },
      "execution_count": null,
      "outputs": []
    },
    {
      "cell_type": "code",
      "source": [
        "arr = np.array([1,2,3])\n",
        "print(arr)\n",
        "print(arr.dtype)"
      ],
      "metadata": {
        "id": "d8-J-RJd5dmB"
      },
      "execution_count": null,
      "outputs": []
    },
    {
      "cell_type": "code",
      "source": [
        "arr = np.array([1,2,3,4.2]) #실수가 하나라도 있을 시 실수형으로 자동캐스팅된것을 확인가능, numpy의 원소는 모두 같은 타입을 가지고있음\n",
        "print(arr)\n",
        "print(arr.dtype)\n",
        "print(type(arr[0]))"
      ],
      "metadata": {
        "id": "XdjFcTNE5oqC"
      },
      "execution_count": null,
      "outputs": []
    },
    {
      "cell_type": "code",
      "source": [
        "arr = np.array([1,2,3,4.2,'a'])  # 모두 문자열로 변환되는 것을 확인\n",
        "print(arr)\n",
        "print(arr.dtype)\n",
        "print(type(arr[0]))"
      ],
      "metadata": {
        "id": "_FQnZl8g51c1"
      },
      "execution_count": null,
      "outputs": []
    },
    {
      "cell_type": "code",
      "source": [
        "ls = ([1,2,3],[2,5,6])\n",
        "arr = np.array(ls) #리스트를 입력 인자로 ndarray 개체 생성\n",
        "print(arr)\n",
        "print(type(arr))"
      ],
      "metadata": {
        "id": "_BmL6mJb6z_Y"
      },
      "execution_count": null,
      "outputs": []
    },
    {
      "cell_type": "code",
      "source": [
        "print(\"구조 : \",arr.shape)\n",
        "print(\"차원 : \",arr.ndim)\n",
        "print(\"원소 형식 : \",arr.dtype)"
      ],
      "metadata": {
        "id": "thKKGi4f6_wd"
      },
      "execution_count": null,
      "outputs": []
    },
    {
      "cell_type": "code",
      "source": [
        "arr = np.zeros((3,6))\n",
        "print(arr)\n",
        "print(\"구조 : \",arr.shape)\n",
        "print(\"차원 : \",arr.ndim)\n",
        "print(\"원소 형식 : \",arr.dtype)"
      ],
      "metadata": {
        "id": "rBbu4AYU7esw"
      },
      "execution_count": null,
      "outputs": []
    },
    {
      "cell_type": "code",
      "source": [
        "arr = np.ones((3,6))\n",
        "print(arr)\n",
        "print(\"구조 : \",arr.shape)\n",
        "print(\"차원 : \",arr.ndim)\n",
        "print(\"원소 형식 : \",arr.dtype)"
      ],
      "metadata": {
        "colab": {
          "base_uri": "https://localhost:8080/"
        },
        "id": "dTNInpkz7hbY",
        "outputId": "562ad48b-dc2a-47fa-e6d1-8d6aea2a4df9"
      },
      "execution_count": null,
      "outputs": [
        {
          "output_type": "stream",
          "name": "stdout",
          "text": [
            "[[1. 1. 1. 1. 1. 1.]\n",
            " [1. 1. 1. 1. 1. 1.]\n",
            " [1. 1. 1. 1. 1. 1.]]\n",
            "구조 :  (3, 6)\n",
            "차원 :  2\n",
            "원소 형식 :  float64\n"
          ]
        }
      ]
    },
    {
      "cell_type": "code",
      "source": [
        "arr = np.arange(3,20,4)\n",
        "print(arr)\n",
        "print(\"구조 : \",arr.shape)\n",
        "print(\"차원 : \",arr.ndim)\n",
        "print(\"원소 형식 : \",arr.dtype)"
      ],
      "metadata": {
        "id": "uVV1G9SZ76US"
      },
      "execution_count": null,
      "outputs": []
    },
    {
      "cell_type": "code",
      "source": [
        "arr = np.array([1,2,4.2], dtype=np.int32) # dtype옵션을 통해서 요소타입을 전부 캐스팅가능\n",
        "print(type(arr[0]),type(arr[1]),type(arr[2]))\n",
        "print(arr.dtype)"
      ],
      "metadata": {
        "id": "ZT0ePKVhBuM-"
      },
      "execution_count": null,
      "outputs": []
    },
    {
      "cell_type": "code",
      "source": [
        "arr = np.array([[1,2,3],[4,5,6]])\n",
        "print(arr)\n",
        "print(\"============\")\n",
        "arr2 = arr*arr\n",
        "print(arr2)"
      ],
      "metadata": {
        "id": "uPCW-XxqCmZW"
      },
      "execution_count": null,
      "outputs": []
    },
    {
      "cell_type": "code",
      "source": [
        "arr2 = arr-arr\n",
        "print(arr2)"
      ],
      "metadata": {
        "id": "Yyv6MGSLCzXU"
      },
      "execution_count": null,
      "outputs": []
    },
    {
      "cell_type": "code",
      "source": [
        "arr2 = 1/arr\n",
        "print(arr2)"
      ],
      "metadata": {
        "id": "ciGUykscDNJf"
      },
      "execution_count": null,
      "outputs": []
    },
    {
      "cell_type": "code",
      "source": [
        "arr2 = arr**0.5\n",
        "print(arr2)"
      ],
      "metadata": {
        "id": "zaxRj61EDPHc"
      },
      "execution_count": null,
      "outputs": []
    },
    {
      "cell_type": "code",
      "source": [
        "arr1 = np.array([1,2,3])\n",
        "arr2 = np.array([4,0,2])\n",
        "filter = arr1>arr2\n",
        "print(filter)"
      ],
      "metadata": {
        "id": "ZjB8diSDDTY9"
      },
      "execution_count": null,
      "outputs": []
    },
    {
      "cell_type": "code",
      "source": [
        "arr = np.arange(1000)\n",
        "print(arr[5:8])"
      ],
      "metadata": {
        "id": "deosyKzSDvRX"
      },
      "execution_count": null,
      "outputs": []
    },
    {
      "cell_type": "code",
      "source": [
        "print(arr[:8])"
      ],
      "metadata": {
        "id": "LhSeximyEKS8"
      },
      "execution_count": null,
      "outputs": []
    },
    {
      "cell_type": "code",
      "source": [
        "print(arr[995:])"
      ],
      "metadata": {
        "id": "0tlJDOW3EbKf"
      },
      "execution_count": null,
      "outputs": []
    },
    {
      "cell_type": "code",
      "source": [
        "print(arr[-5:])"
      ],
      "metadata": {
        "id": "HeGNswM0Efcj"
      },
      "execution_count": null,
      "outputs": []
    },
    {
      "cell_type": "code",
      "source": [
        "arr = np.zeros(30)\n",
        "print(arr)"
      ],
      "metadata": {
        "id": "MZZpV_chEowl"
      },
      "execution_count": null,
      "outputs": []
    },
    {
      "cell_type": "code",
      "source": [
        "arr[5:8]=7 #원하는 영역을 체인지 가능\n",
        "print(arr)"
      ],
      "metadata": {
        "id": "MdWxAX12ExW4"
      },
      "execution_count": null,
      "outputs": []
    },
    {
      "cell_type": "code",
      "source": [
        "arr = np.array([[1,2,3],[4,5,6],[7,8,9]])\n",
        "print(arr[0])\n",
        "print(arr[1])\n",
        "print(arr[2])\n",
        "print(arr[0][2])\n",
        "print(arr[0,2])"
      ],
      "metadata": {
        "id": "7TpeuqRfEzxU"
      },
      "execution_count": null,
      "outputs": []
    },
    {
      "cell_type": "code",
      "source": [
        "#소스 배열을 가지고 간단한 실험을 하기 위해서 복사하여 사용하기\n",
        "cp_arr = arr.copy()  # 복사했기때문에 arr과 cp_arr은 다른 두개의 내용만같은 개체를 참조함 -> 참조할 새 개체가 생성됨\n",
        "print(cp_arr)\n",
        "cp_arr = cp_arr * 2 #원본arr은 .copy했기 때문에 바뀌지않음\n",
        "print(cp_arr)\n",
        "print(arr)"
      ],
      "metadata": {
        "id": "3QYStlS1FgmI"
      },
      "execution_count": null,
      "outputs": []
    },
    {
      "cell_type": "code",
      "source": [
        "cp_arr = arr # 원본 arr의 요소도 변함 -> arr과 cp_arr은 하나의 같은 개체를 참조함\n",
        "print(cp_arr)\n",
        "cp_arr[0][1] = 8\n",
        "print(cp_arr)\n",
        "print(arr)"
      ],
      "metadata": {
        "id": "c_LiurYMF30Q"
      },
      "execution_count": null,
      "outputs": []
    },
    {
      "cell_type": "code",
      "source": [
        "arr = np.array([1,2,3])\n",
        "filter = arr>=2\n",
        "print(filter)"
      ],
      "metadata": {
        "id": "vifBeEL8GEIx"
      },
      "execution_count": null,
      "outputs": []
    },
    {
      "cell_type": "code",
      "source": [
        "res = arr[filter]\n",
        "print(res)"
      ],
      "metadata": {
        "id": "37iNoaYqFz_7"
      },
      "execution_count": null,
      "outputs": []
    },
    {
      "cell_type": "code",
      "source": [
        "arr = np.arange(96)\n",
        "print(\"구조 : \",arr.shape)\n",
        "print(\"차원 : \",arr.ndim)"
      ],
      "metadata": {
        "id": "ESNFV6HJFTDC"
      },
      "execution_count": null,
      "outputs": []
    },
    {
      "cell_type": "code",
      "source": [
        "arr2 = arr.reshape((6,16)) #arr2=arr.reshpae((7,13)) #구조 변경할 때 요소의 개수가 같을때만 구조 변경가능\n",
        "print(\"구조 : \",arr2.shape)\n",
        "print(\"차원 : \",arr2.ndim)"
      ],
      "metadata": {
        "id": "4B7ACvIGIpm4"
      },
      "execution_count": null,
      "outputs": []
    },
    {
      "cell_type": "code",
      "source": [
        "arr2 = arr.reshape((6,-1)) #구조 변경 요청할 때 하나의 차원은 -1로 표현 가능(알아서 계산해줌)\n",
        "print(\"구조 : \",arr2.shape)\n",
        "print(\"차원 : \",arr2.ndim)"
      ],
      "metadata": {
        "id": "7k3NOFBCI12R"
      },
      "execution_count": null,
      "outputs": []
    },
    {
      "cell_type": "code",
      "source": [
        "arr = np.array([[1,2,3],[4,5,6]]) \n",
        "arr2 = arr.T # 전치행렬 -> 행렬을 90도 회전한것이라고 이해하기 / 로우와 컬럼이 바뀜 # arr.T 와 arr.transpose()는 같은 결과(전치행렬)를 반환\n",
        "print(arr)\n",
        "print(\"===\")\n",
        "print(arr2)"
      ],
      "metadata": {
        "id": "Y2SmBvH8JNsB"
      },
      "execution_count": null,
      "outputs": []
    },
    {
      "cell_type": "code",
      "source": [
        "arr = np.arange(10)\n",
        "print(arr)"
      ],
      "metadata": {
        "id": "_QucfKhgJmzm"
      },
      "execution_count": null,
      "outputs": []
    },
    {
      "cell_type": "code",
      "source": [
        "arr2 = np.sqrt(arr) # 루트씌움\n",
        "print(arr2)\n",
        "print(arr)"
      ],
      "metadata": {
        "id": "3SxTMrhYKMXJ"
      },
      "execution_count": null,
      "outputs": []
    },
    {
      "cell_type": "code",
      "source": [
        "arr1 = np.random.randn(2,3)\n",
        "print(arr1)\n",
        "print(\"===\")\n",
        "arr2 = np.random.randn(2,3)\n",
        "print(arr2)\n",
        "arr3 = np.maximum(arr1, arr2)\n",
        "print(arr3)"
      ],
      "metadata": {
        "id": "2zspoqn7IyJZ"
      },
      "execution_count": null,
      "outputs": []
    },
    {
      "cell_type": "code",
      "source": [
        "#잠시 파이썬 기본 문법 - 리스트 컴프리헨션\n",
        "xs = [x*x+2*x+3 for x in range(1, 10)] #리스트 컴프리헨션\n",
        "print(xs)"
      ],
      "metadata": {
        "id": "oaGtZA1qMJiH"
      },
      "execution_count": null,
      "outputs": []
    },
    {
      "cell_type": "code",
      "source": [
        "xs=[]\n",
        "for x in range(1,10):\n",
        "  xs.append(x*x+2*x+3)\n",
        "print(xs)"
      ],
      "metadata": {
        "id": "7N8zuKCxg4q_"
      },
      "execution_count": null,
      "outputs": []
    },
    {
      "cell_type": "code",
      "source": [
        "xarr = np.array([1.1,1.2,1.3,1.4,1.5])\n",
        "yarr = np.array([2.1,2.2,2.3,2.4,2.5])\n",
        "cond = np.array([True,False,True,True,False])\n",
        "\n",
        "ls1=[1,2,3] # zip 이용 예\n",
        "ls2=['가','나','다']\n",
        "for e1, e2 in zip(ls1, ls2):\n",
        "  print(e1,e2)\n"
      ],
      "metadata": {
        "id": "DpPZf5PchFrk"
      },
      "execution_count": null,
      "outputs": []
    },
    {
      "cell_type": "code",
      "source": [
        "result = [(x if c else y) for x, y, c in zip(xarr, yarr, cond)]\n",
        "print(result)"
      ],
      "metadata": {
        "id": "6F9393CTiWs2"
      },
      "execution_count": null,
      "outputs": []
    },
    {
      "cell_type": "code",
      "source": [
        "result=[]\n",
        "for x,y,c in zip(xarr, yarr, cond):\n",
        "  if c:\n",
        "    result.append(x)\n",
        "  else:\n",
        "    result.append(y)\n",
        "print(result)"
      ],
      "metadata": {
        "id": "-fx4IwjGh9Ur"
      },
      "execution_count": null,
      "outputs": []
    },
    {
      "cell_type": "code",
      "source": [
        "result = np.where(cond, xarr, yarr)\n",
        "print(result)"
      ],
      "metadata": {
        "id": "bKQAGff7jhb7"
      },
      "execution_count": null,
      "outputs": []
    },
    {
      "cell_type": "code",
      "source": [
        "heights = np.random.normal(172.4, 5, 100) #평균 172.4 표준편차 5인 표본을 1000개 생성\n",
        "print(heights)"
      ],
      "metadata": {
        "id": "nyWj-pb7jnB6"
      },
      "execution_count": null,
      "outputs": []
    },
    {
      "cell_type": "code",
      "source": [
        "print(\"평균 : \", heights.mean()) #print(\"평균 : \",np.mean(heights))\n",
        "print(\"합계 : \", heights.sum()) #print(\"평균 : \",np.sum(heights))"
      ],
      "metadata": {
        "id": "DGBtTS_lklBX"
      },
      "execution_count": null,
      "outputs": []
    },
    {
      "cell_type": "code",
      "source": [
        "h2 = heights.reshape(20,-1)\n",
        "print(\"구조 : \",h2.shape)"
      ],
      "metadata": {
        "id": "LEHimRi7lY0f"
      },
      "execution_count": null,
      "outputs": []
    },
    {
      "cell_type": "code",
      "source": [
        "print(\"평균(축1) : \", h2.mean(axis=1)) #로우 별 평균\n",
        "print(\"평균(축0) : \", h2.mean(axis=0)) #컬럼 별 평균"
      ],
      "metadata": {
        "id": "dbnBSZP9llQo"
      },
      "execution_count": null,
      "outputs": []
    },
    {
      "cell_type": "code",
      "source": [
        "print(\"합계(축1) : \", h2.sum(axis=1)) #로우 별 합계\n",
        "print(\"합계(축0) : \", h2.sum(axis=0)) #컬럼 별 합계"
      ],
      "metadata": {
        "id": "GLBFsC1ymd82"
      },
      "execution_count": null,
      "outputs": []
    },
    {
      "cell_type": "code",
      "source": [
        "print(\"분산 : \", h2.var()) \n",
        "print(\"표준편차 : \", h2.std())"
      ],
      "metadata": {
        "id": "Iho6eGEMmkQ0"
      },
      "execution_count": null,
      "outputs": []
    },
    {
      "cell_type": "code",
      "source": [
        "print(\"최솟값 : \", h2.min()) \n",
        "print(\"최댓값 : \", h2.max())"
      ],
      "metadata": {
        "id": "yVQTMMvdl1DS"
      },
      "execution_count": null,
      "outputs": []
    },
    {
      "cell_type": "code",
      "source": [
        "print(\"최솟값이 있는 위치 : \", heights.argmin()) \n",
        "print(\"최댓값이 있는 위치 : \", heights.argmax())\n",
        "print(heights[heights.argmin()],heights[heights.argmax()])"
      ],
      "metadata": {
        "id": "O_X4V-MonbXs"
      },
      "execution_count": null,
      "outputs": []
    },
    {
      "cell_type": "code",
      "source": [
        "arr = np.array([1,2,4,2,7])\n",
        "print(\"누적 합계 : \",arr.cumsum())\n",
        "print(\"누적 곱 : \",arr.cumprod())"
      ],
      "metadata": {
        "id": "75OZPg4-n7L7"
      },
      "execution_count": null,
      "outputs": []
    },
    {
      "cell_type": "code",
      "source": [
        "arr.sort()\n",
        "print(arr)"
      ],
      "metadata": {
        "id": "hloi1nPBn5VN"
      },
      "execution_count": null,
      "outputs": []
    },
    {
      "cell_type": "code",
      "source": [
        "ua = np.unique(arr) # unique 는중복된 원소를 제거하고 남은 원소를 정렬된 형태로 반환하는 함수\n",
        "print(ua)"
      ],
      "metadata": {
        "id": "rUnW4lXYnsua"
      },
      "execution_count": null,
      "outputs": []
    },
    {
      "cell_type": "code",
      "source": [
        "x = np.array([[1,2,3],[4,5,6]])\n",
        "y = np.array([[2,3],[1,2],[4,5]])\n",
        "re = x.dot(y)\n",
        "print(x)\n",
        "print(\"===\")\n",
        "print(y)\n",
        "print(\"===\")\n",
        "print(re)"
      ],
      "metadata": {
        "id": "Nd3ln4ggnq8a"
      },
      "execution_count": null,
      "outputs": []
    },
    {
      "cell_type": "markdown",
      "source": [
        "**난수**"
      ],
      "metadata": {
        "id": "HCf1vCL-xA6m"
      }
    },
    {
      "cell_type": "code",
      "source": [
        "for _ in range(10): # _ 는 변수를 설정하지 않겠다 라는 뜻이다.\n",
        "  print(np.random.uniform(-2,3)) #uniform(a,b) a~b사이의 랜덤한 실수 반환"
      ],
      "metadata": {
        "id": "XV1nPKr7xDg0"
      },
      "execution_count": null,
      "outputs": []
    },
    {
      "cell_type": "code",
      "source": [
        "for _ in range(20): \n",
        "  print(np.random.randint(1,5),end=' ')\n",
        "print()"
      ],
      "metadata": {
        "id": "ENuv9pS1xMzW"
      },
      "execution_count": null,
      "outputs": []
    },
    {
      "cell_type": "code",
      "source": [
        "volan = [1,7,2,8,9]\n",
        "for _ in range(20):\n",
        "  print(np.random.choice(volan),end=' ')\n",
        "print()"
      ],
      "metadata": {
        "id": "vg0cixZDyKj0"
      },
      "execution_count": null,
      "outputs": []
    },
    {
      "cell_type": "code",
      "source": [
        "num = np.random.seed(100) # ??\n",
        "print(num)"
      ],
      "metadata": {
        "id": "a0F7Aeu2yJKJ"
      },
      "execution_count": null,
      "outputs": []
    },
    {
      "cell_type": "markdown",
      "source": [
        "평균, 중간값, 사분위값, 최빈값, 분산, 표준편차, 공분산, 상관계수"
      ],
      "metadata": {
        "id": "xIPnErj86tXx"
      }
    },
    {
      "cell_type": "code",
      "source": [
        "import numpy as np"
      ],
      "metadata": {
        "id": "RaJrK2BB6yia"
      },
      "execution_count": null,
      "outputs": []
    },
    {
      "cell_type": "code",
      "source": [
        "heights = np.random.normal(161.4, 4, 200) #평균 161.4 표준편차 4, 표본 200개 생성\n",
        "print(heights)"
      ],
      "metadata": {
        "id": "eebdm6GM7KAu"
      },
      "execution_count": null,
      "outputs": []
    },
    {
      "cell_type": "code",
      "source": [],
      "metadata": {
        "id": "_6u7gJEX7Rt-"
      },
      "execution_count": null,
      "outputs": []
    },
    {
      "cell_type": "markdown",
      "source": [
        "소개 what is numpy?\n",
        "https://numpy.org/doc/stable/user/whatisnumpy.html"
      ],
      "metadata": {
        "id": "R4doyEwks2Vw"
      }
    }
  ]
}