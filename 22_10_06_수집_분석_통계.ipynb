{
  "nbformat": 4,
  "nbformat_minor": 0,
  "metadata": {
    "colab": {
      "provenance": [],
      "authorship_tag": "ABX9TyO5wvezqRoR0P4lBpKBqrAo",
      "include_colab_link": true
    },
    "kernelspec": {
      "name": "python3",
      "display_name": "Python 3"
    },
    "language_info": {
      "name": "python"
    }
  },
  "cells": [
    {
      "cell_type": "markdown",
      "metadata": {
        "id": "view-in-github",
        "colab_type": "text"
      },
      "source": [
        "<a href=\"https://colab.research.google.com/github/hkhong72/big_data/blob/main/22_10_06_%EC%88%98%EC%A7%91_%EB%B6%84%EC%84%9D_%ED%86%B5%EA%B3%84.ipynb\" target=\"_parent\"><img src=\"https://colab.research.google.com/assets/colab-badge.svg\" alt=\"Open In Colab\"/></a>"
      ]
    },
    {
      "cell_type": "markdown",
      "source": [
        "평균, 중간값, 사분위값, 최빈값, 분산, 표준편차, 공분산, 상관계수"
      ],
      "metadata": {
        "id": "nCkJt14j7hED"
      }
    },
    {
      "cell_type": "code",
      "source": [
        "import numpy as np"
      ],
      "metadata": {
        "id": "Fby8AWIa7iMv"
      },
      "execution_count": null,
      "outputs": []
    },
    {
      "cell_type": "code",
      "source": [
        "heights = np.random.normal(161.4, 4, 200) #평균 161.4 표준편차 4, 표본 200개 생성\n",
        "print(heights)\n",
        "bmis = np.random.normal(21, 2, 200) #평균 21, 표준편차2, 표본 200개 생성\n",
        "weights = bmis * (heights**2)/10000 # 키와 bmi지수를 이용하여 몸무게 200개 생성"
      ],
      "metadata": {
        "id": "7hotyN_K7iuu"
      },
      "execution_count": null,
      "outputs": []
    },
    {
      "cell_type": "code",
      "source": [
        "print(\"===키===\")\n",
        "print(\"평균 : \",heights.mean())\n",
        "print(\"중간값 : \",np.median(heights))\n",
        "print(\"1/4분위값 : \",np.quantile(heights,0.25))\n",
        "print(\"2/4분위값 : \",np.quantile(heights,0.5))\n",
        "print(\"3/4분위값 : \",np.quantile(heights,0.75))\n",
        "hist,bins = np.histogram(heights, bins=[x/2 for x in range(145*2,180*2,5)])\n",
        "print(hist)\n",
        "print(bins)\n",
        "astart = hist.argmax()\n",
        "aend = astart + 1\n",
        "print(f\"최빈 구간 : {bins[astart]}~{bins[aend]} , 개수 : {hist.max()}\")\n",
        "print(\"분산 : \",np.var(heights))\n",
        "print(\"표준편차 : \",np.std(heights))"
      ],
      "metadata": {
        "colab": {
          "base_uri": "https://localhost:8080/"
        },
        "id": "9h3REZ4p8M6M",
        "outputId": "67b3d474-7378-45b2-e8b4-8d8c19d7f2d3"
      },
      "execution_count": null,
      "outputs": [
        {
          "output_type": "stream",
          "name": "stdout",
          "text": [
            "===키===\n",
            "평균 :  161.28533531188188\n",
            "중간값 :  161.24347094534704\n",
            "1/4분위값 :  158.80479336552878\n",
            "2/4분위값 :  161.24347094534704\n",
            "3/4분위값 :  163.66850417572792\n",
            "[ 0  1  1 12 21 38 58 32 23 10  4  0  0]\n",
            "[145.  147.5 150.  152.5 155.  157.5 160.  162.5 165.  167.5 170.  172.5\n",
            " 175.  177.5]\n",
            "최빈 구간 : 160.0~162.5 , 개수 : 58\n",
            "분산 :  16.336416513075743\n",
            "표준편차 :  4.041833310896894\n"
          ]
        }
      ]
    },
    {
      "cell_type": "code",
      "source": [
        "print(\"{0:05x} {1} {2}\".format(12,34,55))\n",
        "a=12\n",
        "b=34\n",
        "c=55\n",
        "print(f\"{a:05x} {b} {c}\")"
      ],
      "metadata": {
        "id": "lECkJf_686tr"
      },
      "execution_count": null,
      "outputs": []
    },
    {
      "cell_type": "code",
      "source": [
        "cv = np.cov(heights,weights)\n",
        "print(\"공분산(키    ,키    ) : \",cv[0,0])\n",
        "print(\"공분산(키,몸무게    ) : \",cv[0,1])\n",
        "print(\"공분산(몸무게,키    ) : \",cv[1,0])\n",
        "print(\"공분산(몸무게,몸무게) : \",cv[1,1])"
      ],
      "metadata": {
        "colab": {
          "base_uri": "https://localhost:8080/"
        },
        "id": "tPLnfWzg8zxE",
        "outputId": "77ad3d9a-e552-43b5-c877-4b9619b35037"
      },
      "execution_count": null,
      "outputs": [
        {
          "output_type": "stream",
          "name": "stdout",
          "text": [
            "공분산(키    ,키    ) :  16.418509058367572\n",
            "공분산(키,몸무게    ) :  10.355404782417793\n",
            "공분산(몸무게,키    ) :  10.355404782417793\n",
            "공분산(몸무게,몸무게) :  34.81182693166707\n"
          ]
        }
      ]
    },
    {
      "cell_type": "code",
      "source": [
        "std_h = heights.std()\n",
        "std_w = weights.std()\n",
        "print(\"상관계수(키,몸무게) : \",np.cov(heights,weights)[0,1]/(std_h*std_w))"
      ],
      "metadata": {
        "colab": {
          "base_uri": "https://localhost:8080/"
        },
        "id": "5R3eGYvt8cTM",
        "outputId": "afd98419-a888-486f-ac57-13c8e8044135"
      },
      "execution_count": null,
      "outputs": [
        {
          "output_type": "stream",
          "name": "stdout",
          "text": [
            "상관계수(키,몸무게) :  0.4353251242295135\n"
          ]
        }
      ]
    },
    {
      "cell_type": "code",
      "source": [
        "def correl(x,y):\n",
        "  std_x = x.std()\n",
        "  std_y = y.std()\n",
        "  if std_x>0 and std_y>0:\n",
        "    return np.cov(x,y)[0,1]/(std_x*std_y)\n",
        "    "
      ],
      "metadata": {
        "id": "90DZ5ry57oTu"
      },
      "execution_count": null,
      "outputs": []
    },
    {
      "cell_type": "code",
      "source": [
        "print(\"상관계수(키,몸무게) : \",correl(heights,weights))"
      ],
      "metadata": {
        "colab": {
          "base_uri": "https://localhost:8080/"
        },
        "id": "MiTFzORyDkgk",
        "outputId": "d5305987-285e-4ac9-c129-0316dce25aae"
      },
      "execution_count": null,
      "outputs": [
        {
          "output_type": "stream",
          "name": "stdout",
          "text": [
            "상관계수(키,몸무게) :  0.4353251242295135\n"
          ]
        }
      ]
    },
    {
      "cell_type": "markdown",
      "source": [
        "**확률과 통계**\n",
        "독립사건, 정규분포, 중심극한정리"
      ],
      "metadata": {
        "id": "HqdskCXPIzZF"
      }
    },
    {
      "cell_type": "code",
      "source": [
        "#P(A) : 사건 A가 발생할 확률\n",
        "#P(B) : 사건 B가 발생할 확률\n",
        "#P(A|B) : 사건 B가 발생한 상태에서 사건 A가 발생할 확률\n",
        "#P(A and B) : 사건 A와 사건 B가 모두 발생할 확률\n",
        "#만약 사건 A와 사건 B가 서로 영향을 주지 않으면 독립 사건이라 한다.\n",
        "#P(A|B) = P(A) 일때, 사건 A와 사건 B는 독립 사건이다.\n",
        "#A와 B가 독립 사건일 때 P(A and B) = P(A) * P(B) 공식이 성립한다."
      ],
      "metadata": {
        "id": "TwbQiCRxI40Y"
      },
      "execution_count": null,
      "outputs": []
    },
    {
      "cell_type": "code",
      "source": [
        "import math"
      ],
      "metadata": {
        "id": "CiPs7pRQKNf_"
      },
      "execution_count": null,
      "outputs": []
    },
    {
      "cell_type": "code",
      "source": [
        "pa = 1/2 #동전을 던져서 앞면이 나올 확률\n",
        "pb = 1/6 #주사위를 던져서 1이 나올 확률\n",
        "pab = pa*pb\n",
        "print(pab)\n",
        "logit_pab = math.log(pa) + math.log(pb)\n",
        "inv_logit_pab = math.exp(logit_pab)\n",
        "print(inv_logit_pab)"
      ],
      "metadata": {
        "colab": {
          "base_uri": "https://localhost:8080/"
        },
        "id": "43EwQIdpKPPM",
        "outputId": "cd0c962d-7752-4d53-8ffc-ebc155594cd8"
      },
      "execution_count": null,
      "outputs": [
        {
          "output_type": "stream",
          "name": "stdout",
          "text": [
            "0.08333333333333333\n",
            "0.08333333333333333\n"
          ]
        }
      ]
    },
    {
      "cell_type": "code",
      "source": [
        "#균등분포 : 사건이 발생할 확률이 모두 같게 분포\n",
        "def uniform_pdf(x,min_v=0, max_v=1):\n",
        "  if(min_v<=x<=max_v):\n",
        "    return 1/(max_v-min_v+1)\n",
        "  return 0"
      ],
      "metadata": {
        "id": "u6iT947RMiCC"
      },
      "execution_count": null,
      "outputs": []
    },
    {
      "cell_type": "code",
      "source": [
        "print(uniform_pdf(1,1,6)) # 1에서 6사이의 수로 구성한 균등분포에서 1이 나올 확률\n",
        "print(uniform_pdf(2,1,6)) # 1에서 6사이의 수로 구성한 균등분포에서 2이 나올 확률\n",
        "print(uniform_pdf(3,1,6)) # 1에서 6사이의 수로 구성한 균등분포에서 3이 나올 확률\n",
        "print(uniform_pdf(4,1,6)) # 1에서 6사이의 수로 구성한 균등분포에서 4이 나올 확률\n",
        "print(uniform_pdf(5,1,6)) # 1에서 6사이의 수로 구성한 균등분포에서 5이 나올 확률\n",
        "print(uniform_pdf(6,1,6)) # 1에서 6사이의 수로 구성한 균등분포에서 6이 나올 확률"
      ],
      "metadata": {
        "colab": {
          "base_uri": "https://localhost:8080/"
        },
        "id": "Ezk-s9CXM0bH",
        "outputId": "0b37aa26-1a61-4500-802e-7d0a1cc22d67"
      },
      "execution_count": null,
      "outputs": [
        {
          "output_type": "stream",
          "name": "stdout",
          "text": [
            "0.16666666666666666\n",
            "0.16666666666666666\n",
            "0.16666666666666666\n",
            "0.16666666666666666\n",
            "0.16666666666666666\n",
            "0.16666666666666666\n"
          ]
        }
      ]
    },
    {
      "cell_type": "code",
      "source": [
        "# 누적균등분포 : 균등분포에서 누적값\n",
        "def uniform_cdf(x, min_v = 0, max_v = 1):\n",
        "  if x<min_v:\n",
        "    return 0 \n",
        "  if min_v<=x<=max_v:\n",
        "    return (x-min_v+1)/(max_v-min_v+1)\n",
        "  return 1"
      ],
      "metadata": {
        "id": "qH0apTPDNEXG"
      },
      "execution_count": null,
      "outputs": []
    },
    {
      "cell_type": "code",
      "source": [
        "print(uniform_cdf(1,1,6)) # 1에서 6사이의 수로 구성한 균등분포에서 1이 이하가 나올 확률\n",
        "print(uniform_cdf(2,1,6)) # 1에서 6사이의 수로 구성한 균등분포에서 2이 이하가 나올 확률\n",
        "print(uniform_cdf(3,1,6)) # 1에서 6사이의 수로 구성한 균등분포에서 3이 이하가 나올 확률\n",
        "print(uniform_cdf(4,1,6)) # 1에서 6사이의 수로 구성한 균등분포에서 4이 이하가 나올 확률\n",
        "print(uniform_cdf(5,1,6)) # 1에서 6사이의 수로 구성한 균등분포에서 5이 이하가 나올 확률\n",
        "print(uniform_cdf(6,1,6)) # 1에서 6사이의 수로 구성한 균등분포에서 6이 이하가 나올 확률"
      ],
      "metadata": {
        "colab": {
          "base_uri": "https://localhost:8080/"
        },
        "id": "fs0C35y7MgyE",
        "outputId": "aee4880d-d013-4e7a-fd9e-d7efb5f3c92d"
      },
      "execution_count": null,
      "outputs": [
        {
          "output_type": "stream",
          "name": "stdout",
          "text": [
            "0.16666666666666666\n",
            "0.3333333333333333\n",
            "0.5\n",
            "0.6666666666666666\n",
            "0.8333333333333334\n",
            "1.0\n"
          ]
        }
      ]
    },
    {
      "cell_type": "code",
      "source": [
        "import matplotlib.pyplot as plt"
      ],
      "metadata": {
        "id": "2_tZ7qe-Kc_L"
      },
      "execution_count": null,
      "outputs": []
    },
    {
      "cell_type": "code",
      "source": [
        "xs = [x for x in range(-10,10)]\n",
        "pys = [uniform_pdf(x, 1, 6) for x in xs]\n",
        "cys = [uniform_cdf(x, 1, 6) for x in xs]\n",
        "print(xs)\n",
        "print(pys)\n",
        "print(cys)"
      ],
      "metadata": {
        "colab": {
          "base_uri": "https://localhost:8080/"
        },
        "id": "D2TPNXwBOJp3",
        "outputId": "7f9da136-4339-4f16-8057-ccf956b66297"
      },
      "execution_count": null,
      "outputs": [
        {
          "output_type": "stream",
          "name": "stdout",
          "text": [
            "[-10, -9, -8, -7, -6, -5, -4, -3, -2, -1, 0, 1, 2, 3, 4, 5, 6, 7, 8, 9]\n",
            "[0, 0, 0, 0, 0, 0, 0, 0, 0, 0, 0, 0.16666666666666666, 0.16666666666666666, 0.16666666666666666, 0.16666666666666666, 0.16666666666666666, 0.16666666666666666, 0, 0, 0]\n",
            "[0, 0, 0, 0, 0, 0, 0, 0, 0, 0, 0, 0.16666666666666666, 0.3333333333333333, 0.5, 0.6666666666666666, 0.8333333333333334, 1.0, 1, 1, 1]\n"
          ]
        }
      ]
    },
    {
      "cell_type": "code",
      "source": [
        "fig,ax = plt.subplots(1,2) #1 X 2 도면을 만들어 주세요.\n",
        "ax[0].plot(xs,pys,\"b.\",label=\"pdf\")\n",
        "ax[1].plot(xs,cys,\"r\",label=\"cdf\")\n",
        "plt.show()"
      ],
      "metadata": {
        "colab": {
          "base_uri": "https://localhost:8080/",
          "height": 269
        },
        "id": "EeZRxwk5PJfB",
        "outputId": "d65b99e8-38f1-4093-b2b4-4e77010bbf8b"
      },
      "execution_count": null,
      "outputs": [
        {
          "output_type": "display_data",
          "data": {
            "text/plain": [
              "<Figure size 432x288 with 2 Axes>"
            ],
            "image/png": "[encoded data removed]"
          },
          "metadata": {
            "needs_background": "light"
          }
        }
      ]
    },
    {
      "cell_type": "code",
      "source": [
        "#정규분포함수\n",
        "def normal_pdf(x,mu=0,sigma=1):\n",
        "  pre = 1/(sigma*math.sqrt(2*math.pi))\n",
        "  post = math.exp(-((x-mu)**2)/(2*(sigma**2)))\n",
        "  return pre*post"
      ],
      "metadata": {
        "id": "gVrVnwbJPDeB"
      },
      "execution_count": null,
      "outputs": []
    },
    {
      "cell_type": "code",
      "source": [
        "xs = [x/10.0 for x in range(-50,51)]\n",
        "ys1 = [normal_pdf(x) for x in xs]\n",
        "ys2 = [normal_pdf(x,sigma=0.2) for x in xs]\n",
        "ys3 = [normal_pdf(x,sigma=5.0) for x in xs]\n",
        "ys4 = [normal_pdf(x,mu=-2,sigma=0.5) for x in xs]\n",
        "ys5 = [normal_pdf(x,mu=-2,sigma=1.0) for x in xs]\n",
        "plt.figure(figsize=(6,5))\n",
        "plt.plot(xs,ys1,'-',label='mu=0, sigma=1')\n",
        "plt.plot(xs,ys2,'--',label='mu=0, sigma=0.2')\n",
        "plt.plot(xs,ys3,':',label='mu=0, sigma=5.0')\n",
        "plt.plot(xs,ys4,'-.',label='mu=-2, sigma=0.5')\n",
        "plt.plot(xs,ys5,'-.',label='mu=-2, sigma=1.0')\n",
        "plt.legend()\n",
        "plt.show()"
      ],
      "metadata": {
        "colab": {
          "base_uri": "https://localhost:8080/",
          "height": 320
        },
        "id": "w7qg9uRuSqYV",
        "outputId": "f44217c7-820c-4646-d501-7be8166c2b7b"
      },
      "execution_count": null,
      "outputs": [
        {
          "output_type": "display_data",
          "data": {
            "text/plain": [
              "<Figure size 432x360 with 1 Axes>"
            ],
            "image/png": "[encoded data removed]"
          },
          "metadata": {
            "needs_background": "light"
          }
        }
      ]
    },
    {
      "cell_type": "code",
      "source": [
        "import scipy.stats as st\n",
        "xs = [x/10.0 for x in range(-50,51)]\n",
        "ys1 = [st.norm.pdf(x) for x in xs]\n",
        "ys2 = [st.norm.pdf(x,scale=0.2) for x in xs]\n",
        "ys3 = [st.norm.pdf(x,scale=2.0) for x in xs]\n",
        "ys4 = [st.norm.pdf(x,loc=-2,scale=0.5) for x in xs]\n",
        "ys5 = [st.norm.pdf(x,loc=-2,scale=1.0) for x in xs]\n",
        "plt.figure(figsize=(6,5))\n",
        "plt.plot(xs,ys1,'-',label='mu=0, sigma=1')\n",
        "plt.plot(xs,ys2,'--',label='mu=0, sigma=0.2')\n",
        "plt.plot(xs,ys3,':',label='mu=0, sigma=5.0')\n",
        "plt.plot(xs,ys4,'-.',label='mu=-2, sigma=0.5')\n",
        "plt.plot(xs,ys5,'-.',label='mu=-2, sigma=1.0')\n",
        "plt.legend()\n",
        "plt.show()"
      ],
      "metadata": {
        "colab": {
          "base_uri": "https://localhost:8080/",
          "height": 320
        },
        "id": "Qrokq9oYVnv6",
        "outputId": "4159acf6-c057-46d3-f451-b0b6a043640c"
      },
      "execution_count": null,
      "outputs": [
        {
          "output_type": "display_data",
          "data": {
            "text/plain": [
              "<Figure size 432x360 with 1 Axes>"
            ],
            "image/png": "[encoded data removed]"
          },
          "metadata": {
            "needs_background": "light"
          }
        }
      ]
    },
    {
      "cell_type": "code",
      "source": [
        "def normal_cdf(x,mu=0,sigma=1): #정규누적분포\n",
        "  return ( 1+(math.erf( (x-mu) / (math.sqrt(2)*sigma) )) )/2"
      ],
      "metadata": {
        "id": "W7p6ZFc1VfBx"
      },
      "execution_count": null,
      "outputs": []
    },
    {
      "cell_type": "code",
      "source": [
        "import scipy.stats as st\n",
        "xs = [x/10.0 for x in range(-50,51)]\n",
        "ys1 = [st.norm.cdf(x) for x in xs]\n",
        "ys2 = [st.norm.cdf(x,scale=0.2) for x in xs]\n",
        "ys3 = [st.norm.cdf(x,scale=2.0) for x in xs]\n",
        "ys4 = [st.norm.cdf(x,loc=-2,scale=0.5) for x in xs]\n",
        "\n",
        "plt.figure(figsize=(6,5))\n",
        "plt.plot(xs,ys1,'-',label='mu=0, sigma=1')\n",
        "plt.plot(xs,ys2,'--',label='mu=0, sigma=0.2')\n",
        "plt.plot(xs,ys3,':',label='mu=0, sigma=5.0')\n",
        "plt.plot(xs,ys4,'-.',label='mu=-2, sigma=0.5')\n",
        "\n",
        "plt.legend()\n",
        "plt.show()"
      ],
      "metadata": {
        "colab": {
          "base_uri": "https://localhost:8080/",
          "height": 320
        },
        "id": "vWkwmY1RaZyx",
        "outputId": "caec4516-8271-450f-c9fd-d46becc2b0cd"
      },
      "execution_count": null,
      "outputs": [
        {
          "output_type": "display_data",
          "data": {
            "text/plain": [
              "<Figure size 432x360 with 1 Axes>"
            ],
            "image/png": "[encoded data removed]"
          },
          "metadata": {
            "needs_background": "light"
          }
        }
      ]
    },
    {
      "cell_type": "code",
      "source": [
        "def ber_trial(p):\n",
        "  return 1 if np.random.random()<p else 0"
      ],
      "metadata": {
        "id": "YEPCJ-q1a5sv"
      },
      "execution_count": null,
      "outputs": []
    },
    {
      "cell_type": "code",
      "source": [
        "cnt = 0\n",
        "for _ in range(120):\n",
        "  re = ber_trial(1/6)\n",
        "  print(re,end=\" \")\n",
        "  if re == 1:\n",
        "    cnt+=1\n",
        "print()\n",
        "print(cnt)"
      ],
      "metadata": {
        "colab": {
          "base_uri": "https://localhost:8080/"
        },
        "id": "SJ6_kP9obgGT",
        "outputId": "dddaf240-7176-4453-a401-4fc08f8662f9"
      },
      "execution_count": null,
      "outputs": [
        {
          "output_type": "stream",
          "name": "stdout",
          "text": [
            "0 0 0 0 0 0 0 0 0 0 0 1 0 0 1 1 1 1 0 0 0 0 1 0 0 0 1 0 0 1 0 0 0 0 0 0 0 1 0 0 0 0 0 0 0 0 0 0 0 0 0 1 0 0 1 0 0 0 1 0 0 0 0 0 0 0 0 1 0 0 0 0 0 0 0 0 0 0 0 0 0 0 0 0 0 0 0 0 1 0 0 0 0 0 0 0 0 1 0 0 1 0 0 0 0 0 0 0 0 0 1 0 0 0 0 0 0 0 1 0 \n",
            "18\n"
          ]
        }
      ]
    },
    {
      "cell_type": "code",
      "source": [
        "def ber(n,p):\n",
        "  return sum(ber_trial(p) for _ in range(n))"
      ],
      "metadata": {
        "id": "kdO_ji2obxFh"
      },
      "execution_count": null,
      "outputs": []
    },
    {
      "cell_type": "code",
      "source": [
        "for _ in range(20):\n",
        "  print(ber(120, 1/6),end=\".\")\n",
        "print()"
      ],
      "metadata": {
        "colab": {
          "base_uri": "https://localhost:8080/"
        },
        "id": "xZttDR7ucf3l",
        "outputId": "2b84a788-7aa4-4227-c2f8-22afc7eaca7a"
      },
      "execution_count": null,
      "outputs": [
        {
          "output_type": "stream",
          "name": "stdout",
          "text": [
            "26.19.20.15.24.19.15.17.23.21.19.16.24.21.24.25.23.26.23.14.\n"
          ]
        }
      ]
    },
    {
      "cell_type": "code",
      "source": [
        "from collections import Counter\n",
        "def ber_hist(p,n,nps): #p확률의 사건을 n번 시행하는 실험을 nps번 수행해라\n",
        "  data=[ ber(n,p) for _ in range(nps) ]\n",
        "  hist = Counter(data)\n",
        "\n",
        "  mu = n*p #기대값\n",
        "  sigma = math.sqrt(n*p*(1-p)) #표준편차\n",
        "\n",
        "  xs = range(min(data),max(data),1)\n",
        "  ys = [normal_pdf(i,mu,sigma) for i in xs]\n",
        "  plt.bar(hist.keys(),[v/nps for v in hist.values()],color='r')\n",
        "  plt.plot(xs,ys)\n",
        "  plt.title(\"ber histogram\")\n",
        "  plt.show()\n",
        "  return data"
      ],
      "metadata": {
        "id": "sWEyP1Tlcl8Y"
      },
      "execution_count": null,
      "outputs": []
    },
    {
      "cell_type": "code",
      "source": [
        "data = ber_hist(1/6,1200,12000)"
      ],
      "metadata": {
        "colab": {
          "base_uri": "https://localhost:8080/",
          "height": 281
        },
        "id": "XtxnNx1Iefao",
        "outputId": "3802b724-76bc-4efd-d032-e75956ce9128"
      },
      "execution_count": null,
      "outputs": [
        {
          "output_type": "display_data",
          "data": {
            "text/plain": [
              "<Figure size 432x288 with 1 Axes>"
            ],
            "image/png": "[encoded data removed]"
          },
          "metadata": {
            "needs_background": "light"
          }
        }
      ]
    },
    {
      "cell_type": "code",
      "source": [],
      "metadata": {
        "id": "Qzf2Ch9Iezro"
      },
      "execution_count": null,
      "outputs": []
    }
  ]
}