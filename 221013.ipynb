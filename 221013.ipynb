{
  "nbformat": 4,
  "nbformat_minor": 0,
  "metadata": {
    "colab": {
      "provenance": [],
      "collapsed_sections": [],
      "mount_file_id": "1aGrFulRBrvUkHpD6LSirmVLW_knTfifI",
      "authorship_tag": "ABX9TyNACS/GltTVDyv8ADanVtVk",
      "include_colab_link": true
    },
    "kernelspec": {
      "name": "python3",
      "display_name": "Python 3"
    },
    "language_info": {
      "name": "python"
    }
  },
  "cells": [
    {
      "cell_type": "markdown",
      "metadata": {
        "id": "view-in-github",
        "colab_type": "text"
      },
      "source": [
        "<a href=\"https://colab.research.google.com/github/hkhong72/big_data/blob/main/221013.ipynb\" target=\"_parent\"><img src=\"https://colab.research.google.com/assets/colab-badge.svg\" alt=\"Open In Colab\"/></a>"
      ]
    },
    {
      "cell_type": "code",
      "execution_count": 109,
      "metadata": {
        "colab": {
          "base_uri": "https://localhost:8080/",
          "height": 424
        },
        "id": "W17pfhoUsezf",
        "outputId": "23e64a1e-334f-4ca0-8427-ca370f16ade2"
      },
      "outputs": [
        {
          "output_type": "execute_result",
          "data": {
            "text/plain": [
              "     PassengerId  Survived  Pclass  \\\n",
              "0              1         0       3   \n",
              "1              2         1       1   \n",
              "2              3         1       3   \n",
              "3              4         1       1   \n",
              "4              5         0       3   \n",
              "..           ...       ...     ...   \n",
              "886          887         0       2   \n",
              "887          888         1       1   \n",
              "888          889         0       3   \n",
              "889          890         1       1   \n",
              "890          891         0       3   \n",
              "\n",
              "                                                  Name     Sex   Age  SibSp  \\\n",
              "0                              Braund, Mr. Owen Harris    male  22.0      1   \n",
              "1    Cumings, Mrs. John Bradley (Florence Briggs Th...  female  38.0      1   \n",
              "2                               Heikkinen, Miss. Laina  female  26.0      0   \n",
              "3         Futrelle, Mrs. Jacques Heath (Lily May Peel)  female  35.0      1   \n",
              "4                             Allen, Mr. William Henry    male  35.0      0   \n",
              "..                                                 ...     ...   ...    ...   \n",
              "886                              Montvila, Rev. Juozas    male  27.0      0   \n",
              "887                       Graham, Miss. Margaret Edith  female  19.0      0   \n",
              "888           Johnston, Miss. Catherine Helen \"Carrie\"  female   NaN      1   \n",
              "889                              Behr, Mr. Karl Howell    male  26.0      0   \n",
              "890                                Dooley, Mr. Patrick    male  32.0      0   \n",
              "\n",
              "     Parch            Ticket     Fare Cabin Embarked  \n",
              "0        0         A/5 21171   7.2500   NaN        S  \n",
              "1        0          PC 17599  71.2833   C85        C  \n",
              "2        0  STON/O2. 3101282   7.9250   NaN        S  \n",
              "3        0            113803  53.1000  C123        S  \n",
              "4        0            373450   8.0500   NaN        S  \n",
              "..     ...               ...      ...   ...      ...  \n",
              "886      0            211536  13.0000   NaN        S  \n",
              "887      0            112053  30.0000   B42        S  \n",
              "888      2        W./C. 6607  23.4500   NaN        S  \n",
              "889      0            111369  30.0000  C148        C  \n",
              "890      0            370376   7.7500   NaN        Q  \n",
              "\n",
              "[891 rows x 12 columns]"
            ],
            "text/html": [
              "\n",
              "  <div id=\"df-be8338f9-4b36-48ec-9072-6ec8be510e24\">\n",
              "    <div class=\"colab-df-container\">\n",
              "      <div>\n",
              "<style scoped>\n",
              "    .dataframe tbody tr th:only-of-type {\n",
              "        vertical-align: middle;\n",
              "    }\n",
              "\n",
              "    .dataframe tbody tr th {\n",
              "        vertical-align: top;\n",
              "    }\n",
              "\n",
              "    .dataframe thead th {\n",
              "        text-align: right;\n",
              "    }\n",
              "</style>\n",
              "<table border=\"1\" class=\"dataframe\">\n",
              "  <thead>\n",
              "    <tr style=\"text-align: right;\">\n",
              "      <th></th>\n",
              "      <th>PassengerId</th>\n",
              "      <th>Survived</th>\n",
              "      <th>Pclass</th>\n",
              "      <th>Name</th>\n",
              "      <th>Sex</th>\n",
              "      <th>Age</th>\n",
              "      <th>SibSp</th>\n",
              "      <th>Parch</th>\n",
              "      <th>Ticket</th>\n",
              "      <th>Fare</th>\n",
              "      <th>Cabin</th>\n",
              "      <th>Embarked</th>\n",
              "    </tr>\n",
              "  </thead>\n",
              "  <tbody>\n",
              "    <tr>\n",
              "      <th>0</th>\n",
              "      <td>1</td>\n",
              "      <td>0</td>\n",
              "      <td>3</td>\n",
              "      <td>Braund, Mr. Owen Harris</td>\n",
              "      <td>male</td>\n",
              "      <td>22.0</td>\n",
              "      <td>1</td>\n",
              "      <td>0</td>\n",
              "      <td>A/5 21171</td>\n",
              "      <td>7.2500</td>\n",
              "      <td>NaN</td>\n",
              "      <td>S</td>\n",
              "    </tr>\n",
              "    <tr>\n",
              "      <th>1</th>\n",
              "      <td>2</td>\n",
              "      <td>1</td>\n",
              "      <td>1</td>\n",
              "      <td>Cumings, Mrs. John Bradley (Florence Briggs Th...</td>\n",
              "      <td>female</td>\n",
              "      <td>38.0</td>\n",
              "      <td>1</td>\n",
              "      <td>0</td>\n",
              "      <td>PC 17599</td>\n",
              "      <td>71.2833</td>\n",
              "      <td>C85</td>\n",
              "      <td>C</td>\n",
              "    </tr>\n",
              "    <tr>\n",
              "      <th>2</th>\n",
              "      <td>3</td>\n",
              "      <td>1</td>\n",
              "      <td>3</td>\n",
              "      <td>Heikkinen, Miss. Laina</td>\n",
              "      <td>female</td>\n",
              "      <td>26.0</td>\n",
              "      <td>0</td>\n",
              "      <td>0</td>\n",
              "      <td>STON/O2. 3101282</td>\n",
              "      <td>7.9250</td>\n",
              "      <td>NaN</td>\n",
              "      <td>S</td>\n",
              "    </tr>\n",
              "    <tr>\n",
              "      <th>3</th>\n",
              "      <td>4</td>\n",
              "      <td>1</td>\n",
              "      <td>1</td>\n",
              "      <td>Futrelle, Mrs. Jacques Heath (Lily May Peel)</td>\n",
              "      <td>female</td>\n",
              "      <td>35.0</td>\n",
              "      <td>1</td>\n",
              "      <td>0</td>\n",
              "      <td>113803</td>\n",
              "      <td>53.1000</td>\n",
              "      <td>C123</td>\n",
              "      <td>S</td>\n",
              "    </tr>\n",
              "    <tr>\n",
              "      <th>4</th>\n",
              "      <td>5</td>\n",
              "      <td>0</td>\n",
              "      <td>3</td>\n",
              "      <td>Allen, Mr. William Henry</td>\n",
              "      <td>male</td>\n",
              "      <td>35.0</td>\n",
              "      <td>0</td>\n",
              "      <td>0</td>\n",
              "      <td>373450</td>\n",
              "      <td>8.0500</td>\n",
              "      <td>NaN</td>\n",
              "      <td>S</td>\n",
              "    </tr>\n",
              "    <tr>\n",
              "      <th>...</th>\n",
              "      <td>...</td>\n",
              "      <td>...</td>\n",
              "      <td>...</td>\n",
              "      <td>...</td>\n",
              "      <td>...</td>\n",
              "      <td>...</td>\n",
              "      <td>...</td>\n",
              "      <td>...</td>\n",
              "      <td>...</td>\n",
              "      <td>...</td>\n",
              "      <td>...</td>\n",
              "      <td>...</td>\n",
              "    </tr>\n",
              "    <tr>\n",
              "      <th>886</th>\n",
              "      <td>887</td>\n",
              "      <td>0</td>\n",
              "      <td>2</td>\n",
              "      <td>Montvila, Rev. Juozas</td>\n",
              "      <td>male</td>\n",
              "      <td>27.0</td>\n",
              "      <td>0</td>\n",
              "      <td>0</td>\n",
              "      <td>211536</td>\n",
              "      <td>13.0000</td>\n",
              "      <td>NaN</td>\n",
              "      <td>S</td>\n",
              "    </tr>\n",
              "    <tr>\n",
              "      <th>887</th>\n",
              "      <td>888</td>\n",
              "      <td>1</td>\n",
              "      <td>1</td>\n",
              "      <td>Graham, Miss. Margaret Edith</td>\n",
              "      <td>female</td>\n",
              "      <td>19.0</td>\n",
              "      <td>0</td>\n",
              "      <td>0</td>\n",
              "      <td>112053</td>\n",
              "      <td>30.0000</td>\n",
              "      <td>B42</td>\n",
              "      <td>S</td>\n",
              "    </tr>\n",
              "    <tr>\n",
              "      <th>888</th>\n",
              "      <td>889</td>\n",
              "      <td>0</td>\n",
              "      <td>3</td>\n",
              "      <td>Johnston, Miss. Catherine Helen \"Carrie\"</td>\n",
              "      <td>female</td>\n",
              "      <td>NaN</td>\n",
              "      <td>1</td>\n",
              "      <td>2</td>\n",
              "      <td>W./C. 6607</td>\n",
              "      <td>23.4500</td>\n",
              "      <td>NaN</td>\n",
              "      <td>S</td>\n",
              "    </tr>\n",
              "    <tr>\n",
              "      <th>889</th>\n",
              "      <td>890</td>\n",
              "      <td>1</td>\n",
              "      <td>1</td>\n",
              "      <td>Behr, Mr. Karl Howell</td>\n",
              "      <td>male</td>\n",
              "      <td>26.0</td>\n",
              "      <td>0</td>\n",
              "      <td>0</td>\n",
              "      <td>111369</td>\n",
              "      <td>30.0000</td>\n",
              "      <td>C148</td>\n",
              "      <td>C</td>\n",
              "    </tr>\n",
              "    <tr>\n",
              "      <th>890</th>\n",
              "      <td>891</td>\n",
              "      <td>0</td>\n",
              "      <td>3</td>\n",
              "      <td>Dooley, Mr. Patrick</td>\n",
              "      <td>male</td>\n",
              "      <td>32.0</td>\n",
              "      <td>0</td>\n",
              "      <td>0</td>\n",
              "      <td>370376</td>\n",
              "      <td>7.7500</td>\n",
              "      <td>NaN</td>\n",
              "      <td>Q</td>\n",
              "    </tr>\n",
              "  </tbody>\n",
              "</table>\n",
              "<p>891 rows × 12 columns</p>\n",
              "</div>\n",
              "      <button class=\"colab-df-convert\" onclick=\"convertToInteractive('df-be8338f9-4b36-48ec-9072-6ec8be510e24')\"\n",
              "              title=\"Convert this dataframe to an interactive table.\"\n",
              "              style=\"display:none;\">\n",
              "        \n",
              "  <svg xmlns=\"http://www.w3.org/2000/svg\" height=\"24px\"viewBox=\"0 0 24 24\"\n",
              "       width=\"24px\">\n",
              "    <path d=\"M0 0h24v24H0V0z\" fill=\"none\"/>\n",
              "    <path d=\"M18.56 5.44l.94 2.06.94-2.06 2.06-.94-2.06-.94-.94-2.06-.94 2.06-2.06.94zm-11 1L8.5 8.5l.94-2.06 2.06-.94-2.06-.94L8.5 2.5l-.94 2.06-2.06.94zm10 10l.94 2.06.94-2.06 2.06-.94-2.06-.94-.94-2.06-.94 2.06-2.06.94z\"/><path d=\"M17.41 7.96l-1.37-1.37c-.4-.4-.92-.59-1.43-.59-.52 0-1.04.2-1.43.59L10.3 9.45l-7.72 7.72c-.78.78-.78 2.05 0 2.83L4 21.41c.39.39.9.59 1.41.59.51 0 1.02-.2 1.41-.59l7.78-7.78 2.81-2.81c.8-.78.8-2.07 0-2.86zM5.41 20L4 18.59l7.72-7.72 1.47 1.35L5.41 20z\"/>\n",
              "  </svg>\n",
              "      </button>\n",
              "      \n",
              "  <style>\n",
              "    .colab-df-container {\n",
              "      display:flex;\n",
              "      flex-wrap:wrap;\n",
              "      gap: 12px;\n",
              "    }\n",
              "\n",
              "    .colab-df-convert {\n",
              "      background-color: #E8F0FE;\n",
              "      border: none;\n",
              "      border-radius: 50%;\n",
              "      cursor: pointer;\n",
              "      display: none;\n",
              "      fill: #1967D2;\n",
              "      height: 32px;\n",
              "      padding: 0 0 0 0;\n",
              "      width: 32px;\n",
              "    }\n",
              "\n",
              "    .colab-df-convert:hover {\n",
              "      background-color: #E2EBFA;\n",
              "      box-shadow: 0px 1px 2px rgba(60, 64, 67, 0.3), 0px 1px 3px 1px rgba(60, 64, 67, 0.15);\n",
              "      fill: #174EA6;\n",
              "    }\n",
              "\n",
              "    [theme=dark] .colab-df-convert {\n",
              "      background-color: #3B4455;\n",
              "      fill: #D2E3FC;\n",
              "    }\n",
              "\n",
              "    [theme=dark] .colab-df-convert:hover {\n",
              "      background-color: #434B5C;\n",
              "      box-shadow: 0px 1px 3px 1px rgba(0, 0, 0, 0.15);\n",
              "      filter: drop-shadow(0px 1px 2px rgba(0, 0, 0, 0.3));\n",
              "      fill: #FFFFFF;\n",
              "    }\n",
              "  </style>\n",
              "\n",
              "      <script>\n",
              "        const buttonEl =\n",
              "          document.querySelector('#df-be8338f9-4b36-48ec-9072-6ec8be510e24 button.colab-df-convert');\n",
              "        buttonEl.style.display =\n",
              "          google.colab.kernel.accessAllowed ? 'block' : 'none';\n",
              "\n",
              "        async function convertToInteractive(key) {\n",
              "          const element = document.querySelector('#df-be8338f9-4b36-48ec-9072-6ec8be510e24');\n",
              "          const dataTable =\n",
              "            await google.colab.kernel.invokeFunction('convertToInteractive',\n",
              "                                                     [key], {});\n",
              "          if (!dataTable) return;\n",
              "\n",
              "          const docLinkHtml = 'Like what you see? Visit the ' +\n",
              "            '<a target=\"_blank\" href=https://colab.research.google.com/notebooks/data_table.ipynb>data table notebook</a>'\n",
              "            + ' to learn more about interactive tables.';\n",
              "          element.innerHTML = '';\n",
              "          dataTable['output_type'] = 'display_data';\n",
              "          await google.colab.output.renderOutput(dataTable, element);\n",
              "          const docLink = document.createElement('div');\n",
              "          docLink.innerHTML = docLinkHtml;\n",
              "          element.appendChild(docLink);\n",
              "        }\n",
              "      </script>\n",
              "    </div>\n",
              "  </div>\n",
              "  "
            ]
          },
          "metadata": {},
          "execution_count": 109
        }
      ],
      "source": [
        "# 1. csv / json 읽기\n",
        "import json\n",
        "import pandas as pd\n",
        "path = \"/content/drive/MyDrive/train.csv\"\n",
        "data = pd.read_csv(path)\n",
        "datatest = data\n",
        "data"
      ]
    },
    {
      "cell_type": "code",
      "source": [
        "# 1.전체 인원 수, 생존자 수, 사망자 수는 몇 명인가?\n",
        "s_data = data[\"Survived\"]\n",
        "vc = s_data.value_counts()\n",
        "print(f\"사망자 수:{vc[0]} 생존자 수 : {vc[1]}\")"
      ],
      "metadata": {
        "colab": {
          "base_uri": "https://localhost:8080/"
        },
        "id": "NrPBzTnHun1p",
        "outputId": "2633fd6f-b8fb-4892-e4fc-48640f7dc738"
      },
      "execution_count": 2,
      "outputs": [
        {
          "output_type": "stream",
          "name": "stdout",
          "text": [
            "사망자 수:549 생존자 수 : 342\n"
          ]
        }
      ]
    },
    {
      "cell_type": "code",
      "source": [
        "# !sudo apt-get install -y fonts-nanum # 한글폰트설치(나눔설치)\n",
        "# !sudo fc-cache -fv\n",
        "# !rm ~/.cache/matplotlib -rf"
      ],
      "metadata": {
        "id": "T2nG-F8Kvuyu"
      },
      "execution_count": 3,
      "outputs": []
    },
    {
      "cell_type": "code",
      "source": [
        "# 2.생존자와 사망자를 Pie그래프로 나타내고 생존자와 사망자의 퍼센트를 소수점 2자리까지 나타내시오. (파이 이미지를 제출하시오.)\n",
        "import matplotlib.pyplot as plt\n",
        "plt.rc('font', family='NanumBarunGothic') #한글 안깨지게.\n",
        "plt.pie(vc,labels=[f\"생존자 수:{vc[0]}\",f\" 사망자 수 : {vc[1]}\"],autopct=\"%.2f%%\")\n",
        "plt.title('생존자 수와 사망자 수 분포')\n",
        "plt.savefig(\"no2.png\")\n",
        "plt.show()\n"
      ],
      "metadata": {
        "colab": {
          "base_uri": "https://localhost:8080/",
          "height": 263
        },
        "id": "8uNokbPkvAAX",
        "outputId": "97c5761f-2654-4362-ec03-c6338a29732b"
      },
      "execution_count": 6,
      "outputs": [
        {
          "output_type": "display_data",
          "data": {
            "text/plain": [
              "<Figure size 432x288 with 1 Axes>"
            ],
            "image/png": "[encoded data removed]"
          },
          "metadata": {}
        }
      ]
    },
    {
      "cell_type": "code",
      "source": [
        "# 3.결측 데이터가 있는 컬럼을 조사하시오.(컬럼 별로 결측 데이터 개수)\n",
        "for col in data.columns:\n",
        "  print(\"===\",col)\n",
        "  cins = data[col].isnull()\n",
        "  print(cins.value_counts())"
      ],
      "metadata": {
        "id": "J5X1KnAjvc5k"
      },
      "execution_count": null,
      "outputs": []
    },
    {
      "cell_type": "code",
      "source": [
        "# 4.Pclass의 종류 별로 승객 분포를 파이 그래프로 나타내시오.\n",
        "s_data = data[\"Pclass\"]\n",
        "vc1 = s_data.value_counts()\n",
        "print(f\"1등급 : {vc1[1]} 2등급 : {vc1[2]} 3등급 : {vc1[3]}\")"
      ],
      "metadata": {
        "colab": {
          "base_uri": "https://localhost:8080/"
        },
        "id": "2tmQw7QfulDE",
        "outputId": "62392ced-4ca1-4bbe-f6b2-9a0791a1502b"
      },
      "execution_count": 9,
      "outputs": [
        {
          "output_type": "stream",
          "name": "stdout",
          "text": [
            "1등급 : 216 2등급 : 184 3등급 : 491\n"
          ]
        }
      ]
    },
    {
      "cell_type": "code",
      "source": [
        "plt.pie(vc1,labels=[f\"3등급 : {vc1[3]}\",f\" 1등급 : {vc1[1]}\", f\" 2등급 : {vc1[2]}\"],autopct=\"%.2f%%\")\n",
        "plt.title('Pclass - 1,2,3등급')\n",
        "plt.show()"
      ],
      "metadata": {
        "colab": {
          "base_uri": "https://localhost:8080/",
          "height": 263
        },
        "id": "AH92jJY1xRlv",
        "outputId": "cc60ed55-d7a3-4f81-9839-c1526a740eef"
      },
      "execution_count": 10,
      "outputs": [
        {
          "output_type": "display_data",
          "data": {
            "text/plain": [
              "<Figure size 432x288 with 1 Axes>"
            ],
            "image/png": "[encoded data removed]"
          },
          "metadata": {}
        }
      ]
    },
    {
      "cell_type": "code",
      "source": [
        "# 5.Pclass의 종류 별로 생존자 수와 사망자 수를 막대그래프로 나타내시오.(종류 별로 하나의 막대에 생존자 수와 사망자 수를 표시하시오.)\n",
        "import numpy as np\n",
        "p_data = data['Pclass']\n",
        "s_data = data[\"Survived\"]\n",
        "pvc = p_data.value_counts().sort_index()\n",
        "p_alive_arr = np.zeros(len(pvc))\n",
        "p_dead_arr = np.zeros(len(pvc))\n",
        "for i in range(len(data)):\n",
        "  ci = p_data[i] - 1\n",
        "  # 죽었으면\n",
        "  if s_data[i] == 0:\n",
        "    p_dead_arr[ci] += 1\n",
        "  else:\n",
        "    p_alive_arr[ci] += 1\n",
        "print(p_alive_arr, p_dead_arr)"
      ],
      "metadata": {
        "colab": {
          "base_uri": "https://localhost:8080/"
        },
        "id": "LzRo0uG-xV7C",
        "outputId": "01af9d26-b504-49a9-b324-14f766db5448"
      },
      "execution_count": 13,
      "outputs": [
        {
          "output_type": "stream",
          "name": "stdout",
          "text": [
            "[136.  87. 119.] [ 80.  97. 372.]\n"
          ]
        }
      ]
    },
    {
      "cell_type": "code",
      "source": [
        "plt.bar(pvc.index,p_alive_arr,label=\"생존자\")\n",
        "plt.bar(pvc.index,p_dead_arr,bottom=p_alive_arr,label=\"사망자\")\n",
        "for i in range(len(pvc.index)):\n",
        "  plt.annotate(str(p_alive_arr[i]),(i+0.9,p_alive_arr[i]-40))\n",
        "  plt.annotate(str(p_dead_arr[i]),(i+0.9,p_alive_arr[i]+p_dead_arr[i]-40))\n",
        "plt.title(\"등급 별 생존자 수 및 사망자 수\")\n",
        "plt.legend()\n",
        "plt.show()"
      ],
      "metadata": {
        "colab": {
          "base_uri": "https://localhost:8080/",
          "height": 280
        },
        "id": "GC4RxT09x5OZ",
        "outputId": "fb1b5817-0e3d-4c00-b94e-014081e019a3"
      },
      "execution_count": 54,
      "outputs": [
        {
          "output_type": "display_data",
          "data": {
            "text/plain": [
              "<Figure size 432x288 with 1 Axes>"
            ],
            "image/png": "[encoded data removed]"
          },
          "metadata": {
            "needs_background": "light"
          }
        }
      ]
    },
    {
      "cell_type": "code",
      "source": [
        "n_data = data[\"Name\"]\n",
        "n_data"
      ],
      "metadata": {
        "colab": {
          "base_uri": "https://localhost:8080/"
        },
        "id": "fje-uxfsBTOT",
        "outputId": "fc1b35cb-ea0d-4f04-d1a4-8cfd6ef5b077"
      },
      "execution_count": 62,
      "outputs": [
        {
          "output_type": "execute_result",
          "data": {
            "text/plain": [
              "0                                Braund, Mr. Owen Harris\n",
              "1      Cumings, Mrs. John Bradley (Florence Briggs Th...\n",
              "2                                 Heikkinen, Miss. Laina\n",
              "3           Futrelle, Mrs. Jacques Heath (Lily May Peel)\n",
              "4                               Allen, Mr. William Henry\n",
              "                             ...                        \n",
              "886                                Montvila, Rev. Juozas\n",
              "887                         Graham, Miss. Margaret Edith\n",
              "888             Johnston, Miss. Catherine Helen \"Carrie\"\n",
              "889                                Behr, Mr. Karl Howell\n",
              "890                                  Dooley, Mr. Patrick\n",
              "Name: Name, Length: 891, dtype: object"
            ]
          },
          "metadata": {},
          "execution_count": 62
        }
      ]
    },
    {
      "cell_type": "code",
      "source": [
        "# 6.Name 컬럼에 호칭을 Mr, Mrs, Miss, Master, Dr, ETC(나머지)로 나누어 분포를 파이 그래프로 나타내시오.\n",
        "n_data = data[\"Name\"]\n",
        "dataset = data\n",
        "dataset['Title'] = dataset['Name'].str.extract('([A-Za-z]+)\\.', expand=False)\n",
        "title_mapping = {\"Mr\" : 0, \"Mrs\" : 1, \"Miss\" : 2, \"Master\" : 3, \"Dr\" : 4,\n",
        "                 \"Rev\":5,\"Col\":5,\"Major\":5,\"Mlle\":5,\"Countess\":5,\"Ms\":5,\"Lady\":5,\n",
        "                 \"Jonkheer\":5,\"Don\":5,\"Dona\":5,\"Mme\":5,\"Capt\":5,\"Sir\":5}\n",
        "\n",
        "dataset['Title'] = dataset['Title'].map(title_mapping)\n",
        "# dataset['Title']\n",
        "nc = dataset['Title'].value_counts()\n",
        "# print(nc)\n",
        "# print(f\"Mr : {nc[0]}\",f\"Miss : {nc[2]}\",f\"Mrs : {nc[1]}\",f\"Master : {nc[3]}\",f\"ETC : {nc[5]}\",f\"Dr : {nc[4]}\")\n",
        "plt.pie(nc,labels=[f\"Mr :  {nc[0]}\",f\"Miss :  {nc[2]}\",f\"Mrs :  {nc[1]}\",f\"Master :  {nc[3]}\",\n",
        "                   f\"Dr :  {nc[4]}\",f\"ETC :  {nc[5]}\"])\n",
        "plt.title(\"6번문제 : Name컬럼을 호칭에 따른 분포\")\n",
        "plt.show()"
      ],
      "metadata": {
        "colab": {
          "base_uri": "https://localhost:8080/",
          "height": 263
        },
        "id": "JKeZfsXex7CO",
        "outputId": "0e3e1949-461e-4d2c-c4f5-64158ed2f497"
      },
      "execution_count": 116,
      "outputs": [
        {
          "output_type": "display_data",
          "data": {
            "text/plain": [
              "<Figure size 432x288 with 1 Axes>"
            ],
            "image/png": "[encoded data removed]"
          },
          "metadata": {}
        }
      ]
    },
    {
      "cell_type": "code",
      "source": [
        "# 7. 호칭에 따른 생존자 수와 사망자 수를 막대그래프로 나타내시오.(아래:생존자, 위:사망자)\n",
        "s_data = data[\"Survived\"]\n",
        "nvc = nc.value_counts()\n",
        "# print(nc)\n",
        "nc1 = nc.sort_index()\n",
        "print(nc1)\n",
        "n_alive_arr = np.zeros(len(nvc))\n",
        "n_dead_arr = np.zeros(len(nvc))\n",
        "for i in range(len(data)):\n",
        "  ni = dataset['Title'][i] - 1\n",
        "  #뒤지면\n",
        "  if s_data[i] == 0:\n",
        "    n_dead_arr[ni] += 1\n",
        "  else:\n",
        "    n_alive_arr[ni] += 1\n",
        "print(n_alive_arr, n_dead_arr)"
      ],
      "metadata": {
        "colab": {
          "base_uri": "https://localhost:8080/"
        },
        "id": "taYkiLOczov3",
        "outputId": "4ed099cd-9a4e-43ac-8e84-b19f13222c67"
      },
      "execution_count": 97,
      "outputs": [
        {
          "output_type": "stream",
          "name": "stdout",
          "text": [
            "0    517\n",
            "1    125\n",
            "2    182\n",
            "3     40\n",
            "4      7\n",
            "5     20\n",
            "Name: Title, dtype: int64\n",
            "[ 99. 127.  23.   3.   9.  81.] [ 26.  55.  17.   4.  11. 436.]\n"
          ]
        }
      ]
    },
    {
      "cell_type": "code",
      "source": [
        "plt.bar(nc1.index,n_alive_arr,label=\"생존자\")\n",
        "plt.bar(nc1.index,n_dead_arr,label=\"사망자\",bottom=n_alive_arr)\n",
        "plt.title(\"7번문제 : 호칭에 따른 생존자와 사망자의 수\")\n",
        "plt.legend()\n",
        "plt.show()"
      ],
      "metadata": {
        "colab": {
          "base_uri": "https://localhost:8080/",
          "height": 280
        },
        "id": "bNPDPS2FI5OR",
        "outputId": "b001deaf-bd5c-40a5-b62e-dd5b76965eab"
      },
      "execution_count": 102,
      "outputs": [
        {
          "output_type": "display_data",
          "data": {
            "text/plain": [
              "<Figure size 432x288 with 1 Axes>"
            ],
            "image/png": "[encoded data removed]"
          },
          "metadata": {
            "needs_background": "light"
          }
        }
      ]
    },
    {
      "cell_type": "code",
      "source": [
        "\n",
        "plt.bar(pvc.index,p_alive_arr,label=\"생존자\")\n",
        "plt.bar(pvc.index,p_dead_arr,bottom=p_alive_arr,label=\"사망자\")\n",
        "for i in range(len(pvc.index)):\n",
        "  plt.annotate(str(p_alive_arr[i]),(i+0.9,p_alive_arr[i]-40))\n",
        "  plt.annotate(str(p_dead_arr[i]),(i+0.9,p_alive_arr[i]+p_dead_arr[i]-40))\n",
        "plt.title(\"등급 별 생존자 수 및 사망자 수\")\n",
        "plt.legend()\n",
        "plt.show()"
      ],
      "metadata": {
        "id": "wXloJ5WOHgRJ"
      },
      "execution_count": null,
      "outputs": []
    },
    {
      "cell_type": "code",
      "source": [
        "# 8.성별에 따른 승객 분포를 파이 그래프로 나타내시오.\n",
        "sex_data = data[\"Sex\"]\n",
        "sex_count = sex_data.value_counts()\n",
        "#print(f\"male :{sex_count[0]}명 / female : {sex_count[1]}명\")\n",
        "plt.pie(sex_count,labels=[f\"male : {sex_count[0]}\",f\" female : {sex_count[1]}\"],autopct=\"%.2f%%\")\n",
        "plt.title(\"성별에 따른 승객 분포\")\n",
        "plt.show()"
      ],
      "metadata": {
        "id": "Km8abQA7zrPG"
      },
      "execution_count": null,
      "outputs": []
    },
    {
      "cell_type": "code",
      "source": [
        "# 9. 성별에 따른 생존자 수와 사망자 수를 막대그래프로 나타내시오.(아래:생존자, 위:사망자)\n",
        "s_data = data[\"Survived\"]\n",
        "sex_data = data[\"Sex\"]\n",
        "svc = sex_data.value_counts().sort_index()\n",
        "#print(svc) #female 314 // male 577\n",
        "s_alive_arr_f = np.zeros(len(svc))\n",
        "s_alive_arr_m = np.zeros(len(svc))\n",
        "s_dead_arr_f = np.zeros(len(svc))\n",
        "s_dead_arr_m = np.zeros(len(svc))\n",
        "# print(s_dead_arr)\n",
        "for i in range(len(data)):\n",
        "  si = sex_data[i] \n",
        "  # print(si) # male, female, female, male .... 891개\n",
        "  #뒤지면\n",
        "  if s_data[i] == 0:\n",
        "    if si == \"female\":\n",
        "      s_dead_arr_f[0] += 1\n",
        "    else:\n",
        "      s_dead_arr_m[1] += 1\n",
        "  #살면\n",
        "  else:\n",
        "    if si == \"male\":\n",
        "      s_alive_arr_f[0] += 1\n",
        "    else:\n",
        "      s_alive_arr_m[1] +=1\n",
        "    \n",
        "print(s_alive_arr_f,s_alive_arr_m,s_dead_arr_f,s_dead_arr_m)"
      ],
      "metadata": {
        "colab": {
          "base_uri": "https://localhost:8080/"
        },
        "id": "nSFLbQD0zvvz",
        "outputId": "b8be9fd0-73ab-4ebd-d1c3-c4940edb0f59"
      },
      "execution_count": 55,
      "outputs": [
        {
          "output_type": "stream",
          "name": "stdout",
          "text": [
            "[109.   0.] [  0. 233.] [81.  0.] [  0. 468.]\n"
          ]
        }
      ]
    },
    {
      "cell_type": "code",
      "source": [
        "# print(svc.index)"
      ],
      "metadata": {
        "colab": {
          "base_uri": "https://localhost:8080/"
        },
        "id": "VXvpIOXK8khr",
        "outputId": "a0f444f4-0290-43c6-b30a-3afe824ec82d"
      },
      "execution_count": 44,
      "outputs": [
        {
          "output_type": "stream",
          "name": "stdout",
          "text": [
            "Index(['female', 'male'], dtype='object')\n"
          ]
        }
      ]
    },
    {
      "cell_type": "code",
      "source": [
        "plt.bar(svc.index,s_alive_arr_f, label=\"여성 생존자\")\n",
        "plt.bar(svc.index,s_dead_arr_f, label=\"여성 사망자\",bottom=s_alive_arr_f)\n",
        "plt.bar(svc.index,s_alive_arr_m, label=\"남성 생존자\")\n",
        "plt.bar(svc.index,s_dead_arr_m, label=\"남성 사망자\",bottom=s_alive_arr_m)\n",
        "# plt.bar(svc.index,s_dead_arr_m, label=\"남자 사망자\")\n",
        "# plt.bar(svc.index,s_dead_arr_f, label=\"여자 사망자\")\n",
        "\n",
        "plt.title(\"성별에 따른 생존자 및 사망자\")\n",
        "plt.legend()\n",
        "plt.show()"
      ],
      "metadata": {
        "colab": {
          "base_uri": "https://localhost:8080/",
          "height": 280
        },
        "id": "Pu00IWAl7Smd",
        "outputId": "fff3a9f7-9791-40b3-849a-76df87e4025c"
      },
      "execution_count": 56,
      "outputs": [
        {
          "output_type": "display_data",
          "data": {
            "text/plain": [
              "<Figure size 432x288 with 1 Axes>"
            ],
            "image/png": "[encoded data removed]"
          },
          "metadata": {
            "needs_background": "light"
          }
        }
      ]
    },
    {
      "cell_type": "code",
      "source": [
        "# 10.나이를 5살 범위로(0~5, 5~10,...) 나누어 승객 분포를 파이 그래프로 나타내시오.(결측값은 평균 나이로 처리하시오.)\n",
        "# 평균값 구하기(결측치에 채우기 위해서)\n",
        "datatest['Age'].mean()\n",
        "datatest['Age'] = datatest[\"Age\"].fillna(datatest['Age'].mean()) # 결측치 평균값으로 채우기\n",
        "age_arr = np.zeros(16)\n",
        "plt.figure(figsize=(10, 5))\n",
        "for i in datatest['Age'].values:\n",
        "  if 0 < i < 5:\n",
        "    age_arr[0] += 1\n",
        "  if 5 <= i < 10:\n",
        "    age_arr[1] += 1\n",
        "  if 10 <= i < 15:\n",
        "    age_arr[2] += 1\n",
        "  if 15 <= i < 20:\n",
        "    age_arr[3] += 1\n",
        "  if 20 <= i < 25:\n",
        "    age_arr[4] += 1\n",
        "  if 25 <= i < 30:\n",
        "    age_arr[5] += 1\n",
        "  if 30 <= i < 35:\n",
        "    age_arr[6] += 1\n",
        "  if 35 <= i < 40:\n",
        "    age_arr[7] += 1\n",
        "  if 40 <= i < 45:\n",
        "    age_arr[8] += 1\n",
        "  if 45 <= i < 50:\n",
        "    age_arr[9] += 1\n",
        "  if 50 < i < 55:\n",
        "    age_arr[10] += 1\n",
        "  if 55 <= i < 60:\n",
        "    age_arr[11] += 1\n",
        "  if 60 <= i < 65:\n",
        "    age_arr[12] += 1\n",
        "  if 65 <= i < 70:\n",
        "    age_arr[13] += 1\n",
        "  if 70 <= i < 75:\n",
        "    age_arr[14] += 1\n",
        "  if 75 <= i <= 80:\n",
        "    age_arr[15] += 1\n",
        "plt.pie(age_arr,labels=[f\"0세이상5세미만\",f\"5세이상10세미만\",f\"10세이상15세미만\",\n",
        "                   f\"15세이상20세미만\",f\"20세이상25세미만\",f\"25세이상30세미만\",\n",
        "                   f\"30세이상35세미만\",f\"35세이상40세미만\",f\"40세이상45세미만\",\n",
        "                   f\"45세이상50세미만\",f\"50세이상55세미만\",f\"55세이상60세미만\",\n",
        "                   f\"60세이상65세미만\",f\"65세이상70세미만\",f\"70세이상75세미만\",\n",
        "                   f\"75세이상80세이하\"],autopct=\"%.2f%%\")\n",
        "plt.title(\"나이에 따른 승객 분포도\")\n",
        "plt.show()\n"
      ],
      "metadata": {
        "colab": {
          "base_uri": "https://localhost:8080/",
          "height": 318
        },
        "id": "qi-zRpm70p0N",
        "outputId": "edb9278b-223e-48db-9e05-29139ea6d54d"
      },
      "execution_count": 146,
      "outputs": [
        {
          "output_type": "display_data",
          "data": {
            "text/plain": [
              "<Figure size 720x360 with 1 Axes>"
            ],
            "image/png": "[encoded data removed]"
          },
          "metadata": {}
        }
      ]
    },
    {
      "cell_type": "code",
      "source": [
        "#11번 나이(10번 문제에서 구분한 범위)에 따른 생존자 수와 사망자 수를 막대그래프로 나타내시오.(아래:생존자, 위:사망자)\n",
        "x = [5,10,15,20,25,30,35,40,45,50,55,60,65,70,75,80]\n",
        "age_alive_arr = np.zeros(len(x))\n",
        "age_dead_arr = np.zeros(len(x))\n",
        "# age_alive_arr \n",
        "for i in range(len(data)):\n",
        "  ai = data['Age'][i]\n",
        "  if s_data[i] == 0:\n",
        "    if 0<=ai<5:\n",
        "      age_dead_arr[0] +=1\n",
        "    if 5<=ai<10:\n",
        "      age_dead_arr[1] +=1\n",
        "    if 10<=ai<15:\n",
        "      age_dead_arr[2] +=1\n",
        "    if 15<=ai<20:\n",
        "      age_dead_arr[3] +=1\n",
        "    if 20<=ai<25:\n",
        "      age_dead_arr[4] +=1\n",
        "    if 25<=ai<30:\n",
        "      age_dead_arr[5] +=1\n",
        "    if 30<=ai<35:\n",
        "      age_dead_arr[6] +=1\n",
        "    if 35<=ai<40:\n",
        "      age_dead_arr[7] +=1\n",
        "    if 40<=ai<45:\n",
        "      age_dead_arr[8] +=1\n",
        "    if 45<=ai<50:\n",
        "      age_dead_arr[9] +=1\n",
        "    if 50<=ai<55:\n",
        "      age_dead_arr[10] +=1\n",
        "    if 55<=ai<60:\n",
        "      age_dead_arr[11] +=1\n",
        "    if 60<=ai<65:\n",
        "      age_dead_arr[12] +=1\n",
        "    if 65<=ai<70:\n",
        "      age_dead_arr[13] +=1\n",
        "    if 70<=ai<75:\n",
        "      age_dead_arr[14] +=1\n",
        "    if 75<=ai<=80:\n",
        "      age_dead_arr[15] +=1\n",
        "    \n",
        "  else:\n",
        "    if 0<=ai<5:\n",
        "      age_alive_arr[0] +=1\n",
        "    if 5<=ai<10:\n",
        "      age_alive_arr[1] +=1\n",
        "    if 10<=ai<15:\n",
        "      age_alive_arr[2] +=1\n",
        "    if 15<=ai<20:\n",
        "      age_alive_arr[3] +=1\n",
        "    if 20<=ai<25:\n",
        "      age_alive_arr[4] +=1\n",
        "    if 25<=ai<30:\n",
        "      age_alive_arr[5] +=1\n",
        "    if 30<=ai<35:\n",
        "      age_alive_arr[6] +=1\n",
        "    if 35<=ai<40:\n",
        "      age_alive_arr[7] +=1\n",
        "    if 40<=ai<45:\n",
        "      age_alive_arr[8] +=1\n",
        "    if 45<=ai<50:\n",
        "      age_alive_arr[9] +=1\n",
        "    if 50<=ai<55:\n",
        "      age_alive_arr[10] +=1\n",
        "    if 55<=ai<60:\n",
        "      age_alive_arr[11] +=1\n",
        "    if 60<=ai<65:\n",
        "      age_alive_arr[12] +=1\n",
        "    if 65<=ai<70:\n",
        "      age_alive_arr[13] +=1\n",
        "    if 70<=ai<75:\n",
        "      age_alive_arr[14] +=1\n",
        "    if 75<=ai<=80:\n",
        "      age_alive_arr[15] +=1\n",
        "\n",
        "# print(age_alive_arr)\n",
        "# print(age_dead_arr)\n",
        "plt.bar(x,age_alive_arr, label=\"생존자\")\n",
        "plt.bar(x,age_dead_arr, label=\"사망자\",bottom=age_alive_arr)\n",
        "plt.title(\"연령별 생존자와 사망자\")\n",
        "plt.legend()\n",
        "plt.show()"
      ],
      "metadata": {
        "colab": {
          "base_uri": "https://localhost:8080/",
          "height": 280
        },
        "id": "VcYMAVjnPuS2",
        "outputId": "35de155e-23e9-459f-f10a-1c3e909a9fa7"
      },
      "execution_count": 155,
      "outputs": [
        {
          "output_type": "display_data",
          "data": {
            "text/plain": [
              "<Figure size 432x288 with 1 Axes>"
            ],
            "image/png": "[encoded data removed]"
          },
          "metadata": {
            "needs_background": "light"
          }
        }
      ]
    },
    {
      "cell_type": "code",
      "source": [
        "# 12번 SibSp 값에 따라 승객 분포를 파이 그래프로 나타내시오.\n",
        "sib_data = data[\"SibSp\"]\n",
        "sb = sib_data.value_counts()\n",
        "# sb\n",
        "# print(f\"0명 : {sb[0]} 1명 : {sb[1]} 2명 : {sb[2]} 3명 : {sb[3]} 4명 : {sb[4]} 5명 : {sb[5]} 8명 : {sb[8]}\")\n",
        "\n",
        "plt.pie(sb,labels=[f\"0명 : {sb[0]}\",f\"1명 : {sb[1]}\",f\"2명 : {sb[2]}\",f\"3명 : {sb[3]}\",\n",
        "                   f\"4명 : {sb[4]}\",f\"5명 : {sb[5]}\",f\"8명 : {sb[8]}\",],autopct=\"%.2f%%\")\n",
        "plt.title('함께 탑승한 형제 또는 배우자 수')\n",
        "plt.show()"
      ],
      "metadata": {
        "colab": {
          "base_uri": "https://localhost:8080/",
          "height": 263
        },
        "id": "DwIXwnLinFid",
        "outputId": "1a7541d5-38e5-425b-d0aa-89e769cbc7a7"
      },
      "execution_count": 165,
      "outputs": [
        {
          "output_type": "display_data",
          "data": {
            "text/plain": [
              "<Figure size 432x288 with 1 Axes>"
            ],
            "image/png": "[encoded data removed]"
          },
          "metadata": {}
        }
      ]
    },
    {
      "cell_type": "code",
      "source": [
        "# 13번 SibSp 값에 따른 생존자 수와 사망자 수를 막대그래프로 나타내시오.(아래:생존자, 위:사망자)\n",
        "sib_data = data[\"SibSp\"]\n",
        "s_data = data[\"Survived\"]\n",
        "sivc = sib_data.value_counts().sort_index()\n",
        "si_alive_arr = np.zeros(len(sivc))\n",
        "si_dead_arr = np.zeros(len(sivc))\n",
        "for i in range(len(data)):\n",
        "  sib = sib_data[i]\n",
        "  # 죽었으면\n",
        "  if s_data[i] == 0:\n",
        "    if sib == 0:\n",
        "      si_dead_arr[0] +=1\n",
        "    if sib == 1:\n",
        "      si_dead_arr[1] +=1\n",
        "    if sib == 2:\n",
        "      si_dead_arr[2] +=1\n",
        "    if sib == 3:\n",
        "      si_dead_arr[3] +=1\n",
        "    if sib == 4:\n",
        "      si_dead_arr[4] +=1\n",
        "    if sib == 5:\n",
        "      si_dead_arr[5] +=1\n",
        "    if sib == 8:\n",
        "      si_dead_arr[6] +=1\n",
        "  else:\n",
        "    if sib == 0:\n",
        "      si_alive_arr[0] +=1\n",
        "    if sib == 1:\n",
        "      si_alive_arr[1] +=1\n",
        "    if sib == 2:\n",
        "      si_alive_arr[2] +=1\n",
        "    if sib == 3:\n",
        "      si_alive_arr[3] +=1\n",
        "    if sib == 4:\n",
        "      si_alive_arr[4] +=1\n",
        "    if sib == 5:\n",
        "      si_alive_arr[5] +=1\n",
        "    if sib == 8:\n",
        "      si_alive_arr[6] +=1\n",
        "print(si_alive_arr, si_dead_arr)"
      ],
      "metadata": {
        "colab": {
          "base_uri": "https://localhost:8080/"
        },
        "id": "AcfhV0QSr_IV",
        "outputId": "b60c1a5c-8634-4d1c-d103-2174612418ae"
      },
      "execution_count": 178,
      "outputs": [
        {
          "output_type": "stream",
          "name": "stdout",
          "text": [
            "[210. 112.  13.   4.   3.   0.   0.] [398.  97.  15.  12.  15.   5.   7.]\n"
          ]
        }
      ]
    },
    {
      "cell_type": "code",
      "source": [
        "plt.bar(sivc.index,si_alive_arr,label=\"생존자\")\n",
        "plt.bar(sivc.index,si_dead_arr,bottom=si_alive_arr,label=\"사망자\")\n",
        "plt.title(\"함께 탑승한 형제 또는 배우자 수에 따른 생존자 수와 사망자 수\")\n",
        "plt.legend()\n",
        "plt.show()"
      ],
      "metadata": {
        "colab": {
          "base_uri": "https://localhost:8080/",
          "height": 280
        },
        "id": "f77uNuTPwACQ",
        "outputId": "7441b4a1-37c9-438c-b609-30a00ed2bb36"
      },
      "execution_count": 180,
      "outputs": [
        {
          "output_type": "display_data",
          "data": {
            "text/plain": [
              "<Figure size 432x288 with 1 Axes>"
            ],
            "image/png": "[encoded data removed]"
          },
          "metadata": {
            "needs_background": "light"
          }
        }
      ]
    },
    {
      "cell_type": "code",
      "source": [
        "# 14번 Parch 값에 따라 승객 분포를 파이 그래프로 나타내시오.\n",
        "ph_data = data[\"Parch\"]\n",
        "ph = ph_data.value_counts()\n",
        "# ph\n",
        "# print(f\"0명 : {ph[0]} 1명 : {ph[1]} 2명 : {ph[2]} 3명 : {ph[3]} 4명 : {ph[4]} 5명 : {ph[5]} 6명 : {ph[6]}\")\n",
        "\n",
        "plt.pie(ph,labels=[f\"0명 : {ph[0]}\",f\"1명 : {ph[1]}\",f\"2명 : {ph[2]}\",f\"3명 : {ph[3]}\",\n",
        "                   f\"4명 : {ph[4]}\",f\"5명 : {ph[5]}\",f\"6명 : {ph[6]}\",],autopct=\"%.2f%%\")\n",
        "plt.title('함께 탑승한 부모 또는 자녀 수')\n",
        "plt.show()"
      ],
      "metadata": {
        "colab": {
          "base_uri": "https://localhost:8080/",
          "height": 263
        },
        "id": "ufUcUbjZyHPk",
        "outputId": "b986356d-baa6-4553-e9de-0d6f75d26c92"
      },
      "execution_count": 186,
      "outputs": [
        {
          "output_type": "display_data",
          "data": {
            "text/plain": [
              "<Figure size 432x288 with 1 Axes>"
            ],
            "image/png": "[encoded data removed]"
          },
          "metadata": {}
        }
      ]
    },
    {
      "cell_type": "code",
      "source": [
        "# 15번 Parch 값에 따른 생존자 수와 사망자 수를 막대그래프로 나타내시오.(아래:생존자, 위:사망자)\n",
        "ph_data = data[\"Parch\"]\n",
        "s_data = data[\"Survived\"]\n",
        "phvc = ph_data.value_counts().sort_index()\n",
        "ph_alive_arr = np.zeros(len(phvc))\n",
        "ph_dead_arr = np.zeros(len(phvc))\n",
        "for i in range(len(data)):\n",
        "  phb = ph_data[i]\n",
        "  # 죽었으면\n",
        "  if s_data[i] == 0:\n",
        "    if phb == 0:\n",
        "      ph_dead_arr[0] +=1\n",
        "    if phb == 1:\n",
        "      ph_dead_arr[1] +=1\n",
        "    if phb == 2:\n",
        "      ph_dead_arr[2] +=1\n",
        "    if phb == 3:\n",
        "      ph_dead_arr[3] +=1\n",
        "    if phb == 4:\n",
        "      ph_dead_arr[4] +=1\n",
        "    if phb == 5:\n",
        "      ph_dead_arr[5] +=1\n",
        "    if phb == 6:\n",
        "      ph_dead_arr[6] +=1\n",
        "  else:\n",
        "    if phb == 0:\n",
        "      ph_alive_arr[0] +=1\n",
        "    if phb == 1:\n",
        "      ph_alive_arr[1] +=1\n",
        "    if phb == 2:\n",
        "      ph_alive_arr[2] +=1\n",
        "    if phb == 3:\n",
        "      ph_alive_arr[3] +=1\n",
        "    if phb == 4:\n",
        "      ph_alive_arr[4] +=1\n",
        "    if phb == 5:\n",
        "      ph_alive_arr[5] +=1\n",
        "    if phb == 6:\n",
        "      ph_alive_arr[6] +=1\n",
        "print(ph_alive_arr, ph_dead_arr)"
      ],
      "metadata": {
        "colab": {
          "base_uri": "https://localhost:8080/"
        },
        "id": "QWKlnzERyK6w",
        "outputId": "78abf02b-111e-44bc-ec80-557f2d949c3e"
      },
      "execution_count": 187,
      "outputs": [
        {
          "output_type": "stream",
          "name": "stdout",
          "text": [
            "[233.  65.  40.   3.   0.   1.   0.] [445.  53.  40.   2.   4.   4.   1.]\n"
          ]
        }
      ]
    },
    {
      "cell_type": "code",
      "source": [
        "plt.bar(phvc.index,ph_alive_arr,label=\"생존자\")\n",
        "plt.bar(phvc.index,ph_dead_arr,bottom=ph_alive_arr,label=\"사망자\")\n",
        "plt.title(\"함께 탑승한 형제 또는 배우자 수에 따른 생존자 수와 사망자 수\")\n",
        "plt.legend()\n",
        "plt.show()"
      ],
      "metadata": {
        "colab": {
          "base_uri": "https://localhost:8080/",
          "height": 280
        },
        "id": "R1R26N7yzbhb",
        "outputId": "e1089718-6669-4813-845b-7eff61400c54"
      },
      "execution_count": 189,
      "outputs": [
        {
          "output_type": "display_data",
          "data": {
            "text/plain": [
              "<Figure size 432x288 with 1 Axes>"
            ],
            "image/png": "[encoded data removed]"
          },
          "metadata": {
            "needs_background": "light"
          }
        }
      ]
    },
    {
      "cell_type": "code",
      "source": [
        "# 16번 승선한 항구(Embarked)에 따른 승객 분포를 파이 그래프로 나타내시오.(결측 값은 'N'으로 처리)\n",
        "datatest['Embarked'] = datatest[\"Embarked\"].fillna('N') # 결측치 'N''으로 채우기\n",
        "# print(datatest['Embarked']) #결측치 N으로 변경한것 확인\n",
        "em_data = datatest[\"Embarked\"]\n",
        "em = em_data.value_counts()\n",
        "# em # s: 644, c:168, q:77, n:2\n",
        "# print(f\"S : {em[0]} C : {em[1]} Q : {em[2]} N : {em[3]}\")\n",
        "\n",
        "plt.pie(em,labels=[f\"S : {em[0]}\",f\"C : {em[1]}\",f\"Q : {em[2]}\",f\"N : {em[3]}\"],autopct=\"%.2f%%\")\n",
        "plt.title('탑승장소 S=Southhampton, C=Cherbourg, Q=Queenstown')\n",
        "plt.show()"
      ],
      "metadata": {
        "colab": {
          "base_uri": "https://localhost:8080/",
          "height": 263
        },
        "id": "Drj0aNN80Set",
        "outputId": "f9f0e539-ad5b-494f-dd89-d8dd8e74c3e9"
      },
      "execution_count": 204,
      "outputs": [
        {
          "output_type": "display_data",
          "data": {
            "text/plain": [
              "<Figure size 432x288 with 1 Axes>"
            ],
            "image/png": "[encoded data removed]"
          },
          "metadata": {}
        }
      ]
    },
    {
      "cell_type": "code",
      "source": [
        "# 17번 승선한 항구(Embarked)에 따른 생존자 수와 사망자 수를 막대그래프로 나타내시오.(아래:생존자, 위:사망자)\n",
        "em_data = datatest[\"Embarked\"]\n",
        "s_data = data[\"Survived\"]\n",
        "emvc = em_data.value_counts()\n",
        "em_alive_arr = np.zeros(len(emvc))\n",
        "em_dead_arr = np.zeros(len(emvc))\n",
        "for i in range(len(data)):\n",
        "  emb = em_data[i]\n",
        "  # 죽었으면\n",
        "  if s_data[i] == 0:\n",
        "    if emb == 'S':\n",
        "      em_dead_arr[0] +=1\n",
        "    if emb == 'C':\n",
        "      em_dead_arr[1] +=1\n",
        "    if emb == 'Q':\n",
        "      em_dead_arr[2] +=1\n",
        "    if emb == 'N':\n",
        "      em_dead_arr[3] +=1\n",
        "  else:\n",
        "    if emb == 'S':\n",
        "      em_alive_arr[0] +=1\n",
        "    if emb == 'C':\n",
        "      em_alive_arr[1] +=1\n",
        "    if emb == 'Q':\n",
        "      em_alive_arr[2] +=1\n",
        "    if emb == 'N':\n",
        "      em_alive_arr[3] +=1\n",
        "print(em_alive_arr, em_dead_arr)"
      ],
      "metadata": {
        "colab": {
          "base_uri": "https://localhost:8080/"
        },
        "id": "eLFainSH0ShK",
        "outputId": "cdba1e34-5e8a-476d-f9cb-39ce43095af3"
      },
      "execution_count": 212,
      "outputs": [
        {
          "output_type": "stream",
          "name": "stdout",
          "text": [
            "[217.  93.  30.   2.] [427.  75.  47.   0.]\n"
          ]
        }
      ]
    },
    {
      "cell_type": "code",
      "source": [
        "plt.bar(emvc.index,em_alive_arr,label=\"생존자\")\n",
        "plt.bar(emvc.index,em_dead_arr,bottom=em_alive_arr,label=\"사망자\")\n",
        "plt.title(\"승선한 항구(Embarked)에 따른 생존자 수와 사망자 수\")\n",
        "plt.legend()\n",
        "plt.show()"
      ],
      "metadata": {
        "colab": {
          "base_uri": "https://localhost:8080/",
          "height": 280
        },
        "id": "9SRiqtNp174i",
        "outputId": "6bc636e7-a696-4055-c45c-28fccf8122fd"
      },
      "execution_count": 214,
      "outputs": [
        {
          "output_type": "display_data",
          "data": {
            "text/plain": [
              "<Figure size 432x288 with 1 Axes>"
            ],
            "image/png": "[encoded data removed]"
          },
          "metadata": {
            "needs_background": "light"
          }
        }
      ]
    },
    {
      "cell_type": "code",
      "source": [
        "# 18번 Age 컬럼의 값을 표준 스케일로 변환하시오. \n",
        "#(표준 스케일로 변환하면 평균은 0, 표준편차는 1로 바뀜, 결측치는 평균 값으로 처리)\n",
        "from sklearn.preprocessing import StandardScaler\n",
        "\n",
        "# 결측치 제거\n",
        "age = data[\"Age\"].fillna(data[\"Age\"].mean())\n",
        "\n",
        "# 2차원 배열로 변환\n",
        "array = age.values.reshape(-1,1)\n",
        "\n",
        "# 객체 생성\n",
        "scaler = StandardScaler()   \n",
        "\n",
        "# 훈련데이터의 분포 저장\n",
        "scaler.fit(array)\n",
        "\n",
        "# 훈련 데이터 스케일링\n",
        "scaler_scaled = scaler.transform(array)\n",
        "scaler_scaled"
      ],
      "metadata": {
        "id": "-G0LMvNB24-4"
      },
      "execution_count": null,
      "outputs": []
    }
  ]
}