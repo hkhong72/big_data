{
  "cells": [
    {
      "cell_type": "markdown",
      "metadata": {
        "id": "view-in-github",
        "colab_type": "text"
      },
      "source": [
        "<a href=\"https://colab.research.google.com/github/hkhong72/big_data/blob/main/221026_4.ipynb\" target=\"_parent\"><img src=\"https://colab.research.google.com/assets/colab-badge.svg\" alt=\"Open In Colab\"/></a>"
      ]
    },
    {
      "cell_type": "code",
      "execution_count": null,
      "id": "499dd8c2",
      "metadata": {
        "id": "499dd8c2"
      },
      "outputs": [],
      "source": [
        "#학습셋과 테스트셋을 구분, 터미널창에서 사이킷설치 conda install scikit-learn\n",
        "from tensorflow.keras import models, layers\n",
        "from sklearn.model_selection import train_test_split\n",
        "import pandas as pd"
      ]
    },
    {
      "cell_type": "code",
      "execution_count": null,
      "id": "3f625c79",
      "metadata": {
        "id": "3f625c79"
      },
      "outputs": [],
      "source": [
        "df = pd.read_csv('data/sonar3.csv', header=None)"
      ]
    },
    {
      "cell_type": "code",
      "execution_count": null,
      "id": "e22eaf83",
      "metadata": {
        "id": "e22eaf83"
      },
      "outputs": [],
      "source": [
        "X = df.iloc[:, :60]\n",
        "y = df.iloc[:, 60]"
      ]
    },
    {
      "cell_type": "code",
      "execution_count": null,
      "id": "aa9b27ae",
      "metadata": {
        "id": "aa9b27ae"
      },
      "outputs": [],
      "source": [
        "# 학습셋과 테스트셋 구분\n",
        "X_train, X_test, y_train, y_test = train_test_split(X, y, test_size=0.3, shuffle=True)"
      ]
    },
    {
      "cell_type": "code",
      "execution_count": null,
      "id": "7763ae6d",
      "metadata": {
        "id": "7763ae6d"
      },
      "outputs": [],
      "source": [
        "model = models.Sequential()\n",
        "model.add(layers.Dense(24, input_dim=60, activation='relu'))\n",
        "model.add(layers.Dense(10, activation='relu'))\n",
        "model.add(layers.Dense(1, activation='sigmoid'))"
      ]
    },
    {
      "cell_type": "code",
      "execution_count": null,
      "id": "ae217735",
      "metadata": {
        "id": "ae217735"
      },
      "outputs": [],
      "source": [
        "# 모델 컴파일\n",
        "model.compile(loss='binary_crossentropy', optimizer='adam', metrics=['accuracy'])"
      ]
    },
    {
      "cell_type": "code",
      "execution_count": null,
      "id": "cbcf7c1f",
      "metadata": {
        "id": "cbcf7c1f",
        "outputId": "ea382279-81eb-4610-fc6c-235b8bbd6d26"
      },
      "outputs": [
        {
          "name": "stdout",
          "output_type": "stream",
          "text": [
            "2/2 [==============================] - 0s 3ms/step - loss: 0.6962 - accuracy: 0.4444\n",
            "Test accuracy :  0.4444444477558136\n"
          ]
        }
      ],
      "source": [
        "score = model.evaluate(X_test, y_test)\n",
        "print('Test accuracy : ', score[1])"
      ]
    },
    {
      "cell_type": "code",
      "execution_count": null,
      "id": "443c7860",
      "metadata": {
        "id": "443c7860",
        "outputId": "e1835e1d-5d38-46b6-ce5c-cf61f60225a2"
      },
      "outputs": [
        {
          "name": "stdout",
          "output_type": "stream",
          "text": [
            "Epoch 1/200\n",
            "15/15 [==============================] - 1s 997us/step - loss: 0.6991 - accuracy: 0.4897\n",
            "Epoch 2/200\n",
            "15/15 [==============================] - 0s 1ms/step - loss: 0.6743 - accuracy: 0.6690\n",
            "Epoch 3/200\n",
            "15/15 [==============================] - 0s 1ms/step - loss: 0.6665 - accuracy: 0.5724\n",
            "Epoch 4/200\n",
            "15/15 [==============================] - 0s 1ms/step - loss: 0.6487 - accuracy: 0.6069\n",
            "Epoch 5/200\n",
            "15/15 [==============================] - 0s 1ms/step - loss: 0.6349 - accuracy: 0.7034\n",
            "Epoch 6/200\n",
            "15/15 [==============================] - 0s 1ms/step - loss: 0.6204 - accuracy: 0.6828\n",
            "Epoch 7/200\n",
            "15/15 [==============================] - 0s 1ms/step - loss: 0.6033 - accuracy: 0.7172\n",
            "Epoch 8/200\n",
            "15/15 [==============================] - 0s 1ms/step - loss: 0.5894 - accuracy: 0.7103\n",
            "Epoch 9/200\n",
            "15/15 [==============================] - 0s 1ms/step - loss: 0.5748 - accuracy: 0.7379\n",
            "Epoch 10/200\n",
            "15/15 [==============================] - 0s 1ms/step - loss: 0.5587 - accuracy: 0.7310\n",
            "Epoch 11/200\n",
            "15/15 [==============================] - 0s 1ms/step - loss: 0.5465 - accuracy: 0.7517\n",
            "Epoch 12/200\n",
            "15/15 [==============================] - 0s 1ms/step - loss: 0.5305 - accuracy: 0.8069\n",
            "Epoch 13/200\n",
            "15/15 [==============================] - 0s 1ms/step - loss: 0.5137 - accuracy: 0.7931\n",
            "Epoch 14/200\n",
            "15/15 [==============================] - 0s 1ms/step - loss: 0.4947 - accuracy: 0.7862\n",
            "Epoch 15/200\n",
            "15/15 [==============================] - 0s 1ms/step - loss: 0.4888 - accuracy: 0.7931\n",
            "Epoch 16/200\n",
            "15/15 [==============================] - 0s 1ms/step - loss: 0.4710 - accuracy: 0.8069\n",
            "Epoch 17/200\n",
            "15/15 [==============================] - 0s 1ms/step - loss: 0.4552 - accuracy: 0.8069\n",
            "Epoch 18/200\n",
            "15/15 [==============================] - 0s 1ms/step - loss: 0.4641 - accuracy: 0.8069\n",
            "Epoch 19/200\n",
            "15/15 [==============================] - 0s 1ms/step - loss: 0.4420 - accuracy: 0.8345\n",
            "Epoch 20/200\n",
            "15/15 [==============================] - 0s 1ms/step - loss: 0.4238 - accuracy: 0.8552\n",
            "Epoch 21/200\n",
            "15/15 [==============================] - 0s 1ms/step - loss: 0.4182 - accuracy: 0.8345\n",
            "Epoch 22/200\n",
            "15/15 [==============================] - 0s 1ms/step - loss: 0.4045 - accuracy: 0.8621\n",
            "Epoch 23/200\n",
            "15/15 [==============================] - 0s 1ms/step - loss: 0.3956 - accuracy: 0.8552\n",
            "Epoch 24/200\n",
            "15/15 [==============================] - 0s 1ms/step - loss: 0.3847 - accuracy: 0.8414\n",
            "Epoch 25/200\n",
            "15/15 [==============================] - 0s 1ms/step - loss: 0.3787 - accuracy: 0.8621\n",
            "Epoch 26/200\n",
            "15/15 [==============================] - 0s 1ms/step - loss: 0.3879 - accuracy: 0.8207\n",
            "Epoch 27/200\n",
            "15/15 [==============================] - 0s 997us/step - loss: 0.3706 - accuracy: 0.8414\n",
            "Epoch 28/200\n",
            "15/15 [==============================] - 0s 1ms/step - loss: 0.3627 - accuracy: 0.8690\n",
            "Epoch 29/200\n",
            "15/15 [==============================] - 0s 1ms/step - loss: 0.3488 - accuracy: 0.8897\n",
            "Epoch 30/200\n",
            "15/15 [==============================] - 0s 1ms/step - loss: 0.3397 - accuracy: 0.8828\n",
            "Epoch 31/200\n",
            "15/15 [==============================] - 0s 1ms/step - loss: 0.3322 - accuracy: 0.8897\n",
            "Epoch 32/200\n",
            "15/15 [==============================] - 0s 1ms/step - loss: 0.3266 - accuracy: 0.9103\n",
            "Epoch 33/200\n",
            "15/15 [==============================] - 0s 1ms/step - loss: 0.3204 - accuracy: 0.8897\n",
            "Epoch 34/200\n",
            "15/15 [==============================] - 0s 997us/step - loss: 0.3137 - accuracy: 0.9034\n",
            "Epoch 35/200\n",
            "15/15 [==============================] - 0s 1ms/step - loss: 0.3095 - accuracy: 0.8966\n",
            "Epoch 36/200\n",
            "15/15 [==============================] - 0s 1ms/step - loss: 0.3047 - accuracy: 0.8759\n",
            "Epoch 37/200\n",
            "15/15 [==============================] - 0s 1ms/step - loss: 0.3043 - accuracy: 0.9034\n",
            "Epoch 38/200\n",
            "15/15 [==============================] - 0s 1ms/step - loss: 0.3179 - accuracy: 0.8345\n",
            "Epoch 39/200\n",
            "15/15 [==============================] - 0s 1ms/step - loss: 0.3050 - accuracy: 0.8690\n",
            "Epoch 40/200\n",
            "15/15 [==============================] - 0s 1ms/step - loss: 0.3074 - accuracy: 0.8621\n",
            "Epoch 41/200\n",
            "15/15 [==============================] - 0s 997us/step - loss: 0.3006 - accuracy: 0.8966\n",
            "Epoch 42/200\n",
            "15/15 [==============================] - 0s 997us/step - loss: 0.2912 - accuracy: 0.8966\n",
            "Epoch 43/200\n",
            "15/15 [==============================] - 0s 997us/step - loss: 0.2760 - accuracy: 0.8897\n",
            "Epoch 44/200\n",
            "15/15 [==============================] - 0s 997us/step - loss: 0.2593 - accuracy: 0.9310\n",
            "Epoch 45/200\n",
            "15/15 [==============================] - 0s 1ms/step - loss: 0.2596 - accuracy: 0.9034\n",
            "Epoch 46/200\n",
            "15/15 [==============================] - 0s 997us/step - loss: 0.2494 - accuracy: 0.9310\n",
            "Epoch 47/200\n",
            "15/15 [==============================] - 0s 997us/step - loss: 0.2571 - accuracy: 0.9103\n",
            "Epoch 48/200\n",
            "15/15 [==============================] - 0s 997us/step - loss: 0.2416 - accuracy: 0.9241\n",
            "Epoch 49/200\n",
            "15/15 [==============================] - 0s 926us/step - loss: 0.2401 - accuracy: 0.9310\n",
            "Epoch 50/200\n",
            "15/15 [==============================] - 0s 1ms/step - loss: 0.2361 - accuracy: 0.9241\n",
            "Epoch 51/200\n",
            "15/15 [==============================] - 0s 1ms/step - loss: 0.2322 - accuracy: 0.9310\n",
            "Epoch 52/200\n",
            "15/15 [==============================] - 0s 2ms/step - loss: 0.2345 - accuracy: 0.9103\n",
            "Epoch 53/200\n",
            "15/15 [==============================] - 0s 2ms/step - loss: 0.2265 - accuracy: 0.9379\n",
            "Epoch 54/200\n",
            "15/15 [==============================] - 0s 1ms/step - loss: 0.2205 - accuracy: 0.9448\n",
            "Epoch 55/200\n",
            "15/15 [==============================] - 0s 1ms/step - loss: 0.2127 - accuracy: 0.9448\n",
            "Epoch 56/200\n",
            "15/15 [==============================] - 0s 1ms/step - loss: 0.2133 - accuracy: 0.9448\n",
            "Epoch 57/200\n",
            "15/15 [==============================] - 0s 1ms/step - loss: 0.2139 - accuracy: 0.9517\n",
            "Epoch 58/200\n",
            "15/15 [==============================] - 0s 1ms/step - loss: 0.2091 - accuracy: 0.9448\n",
            "Epoch 59/200\n",
            "15/15 [==============================] - 0s 1ms/step - loss: 0.2011 - accuracy: 0.9655\n",
            "Epoch 60/200\n",
            "15/15 [==============================] - 0s 1ms/step - loss: 0.1962 - accuracy: 0.9379\n",
            "Epoch 61/200\n",
            "15/15 [==============================] - 0s 1ms/step - loss: 0.1903 - accuracy: 0.9655\n",
            "Epoch 62/200\n",
            "15/15 [==============================] - 0s 1ms/step - loss: 0.1869 - accuracy: 0.9655\n",
            "Epoch 63/200\n",
            "15/15 [==============================] - 0s 1ms/step - loss: 0.1894 - accuracy: 0.9448\n",
            "Epoch 64/200\n",
            "15/15 [==============================] - 0s 1ms/step - loss: 0.1842 - accuracy: 0.9655\n",
            "Epoch 65/200\n",
            "15/15 [==============================] - 0s 1ms/step - loss: 0.1771 - accuracy: 0.9655\n",
            "Epoch 66/200\n",
            "15/15 [==============================] - 0s 1ms/step - loss: 0.1771 - accuracy: 0.9586\n",
            "Epoch 67/200\n",
            "15/15 [==============================] - 0s 1ms/step - loss: 0.1747 - accuracy: 0.9655\n",
            "Epoch 68/200\n",
            "15/15 [==============================] - 0s 1ms/step - loss: 0.1716 - accuracy: 0.9655\n",
            "Epoch 69/200\n",
            "15/15 [==============================] - 0s 1ms/step - loss: 0.1635 - accuracy: 0.9655\n",
            "Epoch 70/200\n",
            "15/15 [==============================] - 0s 1ms/step - loss: 0.1648 - accuracy: 0.9655\n",
            "Epoch 71/200\n",
            "15/15 [==============================] - 0s 1ms/step - loss: 0.1586 - accuracy: 0.9586\n",
            "Epoch 72/200\n",
            "15/15 [==============================] - 0s 1ms/step - loss: 0.1653 - accuracy: 0.9655\n",
            "Epoch 73/200\n",
            "15/15 [==============================] - 0s 1ms/step - loss: 0.1564 - accuracy: 0.9655\n",
            "Epoch 74/200\n",
            "15/15 [==============================] - 0s 1ms/step - loss: 0.1534 - accuracy: 0.9655\n",
            "Epoch 75/200\n",
            "15/15 [==============================] - 0s 1ms/step - loss: 0.1523 - accuracy: 0.9655\n",
            "Epoch 76/200\n",
            "15/15 [==============================] - 0s 1ms/step - loss: 0.1519 - accuracy: 0.9655\n",
            "Epoch 77/200\n",
            "15/15 [==============================] - 0s 1ms/step - loss: 0.1441 - accuracy: 0.9724\n",
            "Epoch 78/200\n",
            "15/15 [==============================] - 0s 1ms/step - loss: 0.1423 - accuracy: 0.9724\n",
            "Epoch 79/200\n",
            "15/15 [==============================] - 0s 1ms/step - loss: 0.1394 - accuracy: 0.9655\n",
            "Epoch 80/200\n",
            "15/15 [==============================] - 0s 1ms/step - loss: 0.1370 - accuracy: 0.9724\n",
            "Epoch 81/200\n",
            "15/15 [==============================] - 0s 1ms/step - loss: 0.1445 - accuracy: 0.9586\n",
            "Epoch 82/200\n",
            "15/15 [==============================] - 0s 1ms/step - loss: 0.1372 - accuracy: 0.9655\n",
            "Epoch 83/200\n",
            "15/15 [==============================] - 0s 1ms/step - loss: 0.1282 - accuracy: 0.9724\n",
            "Epoch 84/200\n",
            "15/15 [==============================] - 0s 1ms/step - loss: 0.1278 - accuracy: 0.9655\n",
            "Epoch 85/200\n",
            "15/15 [==============================] - 0s 1ms/step - loss: 0.1251 - accuracy: 0.9724\n",
            "Epoch 86/200\n",
            "15/15 [==============================] - 0s 997us/step - loss: 0.1252 - accuracy: 0.9724\n",
            "Epoch 87/200\n",
            "15/15 [==============================] - 0s 1ms/step - loss: 0.1240 - accuracy: 0.9724\n",
            "Epoch 88/200\n",
            "15/15 [==============================] - 0s 1ms/step - loss: 0.1271 - accuracy: 0.9724\n",
            "Epoch 89/200\n",
            "15/15 [==============================] - 0s 1ms/step - loss: 0.1170 - accuracy: 0.9724\n",
            "Epoch 90/200\n",
            "15/15 [==============================] - 0s 1ms/step - loss: 0.1110 - accuracy: 0.9724\n",
            "Epoch 91/200\n",
            "15/15 [==============================] - 0s 1ms/step - loss: 0.1092 - accuracy: 0.9724\n",
            "Epoch 92/200\n",
            "15/15 [==============================] - 0s 1ms/step - loss: 0.1095 - accuracy: 0.9793\n",
            "Epoch 93/200\n",
            "15/15 [==============================] - 0s 1ms/step - loss: 0.1233 - accuracy: 0.9448\n",
            "Epoch 94/200\n",
            "15/15 [==============================] - 0s 1ms/step - loss: 0.1115 - accuracy: 0.9862\n",
            "Epoch 95/200\n",
            "15/15 [==============================] - 0s 1ms/step - loss: 0.1113 - accuracy: 0.9655\n",
            "Epoch 96/200\n",
            "15/15 [==============================] - 0s 1ms/step - loss: 0.1152 - accuracy: 0.9655\n",
            "Epoch 97/200\n",
            "15/15 [==============================] - 0s 1ms/step - loss: 0.1019 - accuracy: 0.9724\n",
            "Epoch 98/200\n",
            "15/15 [==============================] - 0s 1ms/step - loss: 0.0989 - accuracy: 0.9793\n",
            "Epoch 99/200\n",
            "15/15 [==============================] - 0s 1ms/step - loss: 0.0936 - accuracy: 0.9793\n",
            "Epoch 100/200\n",
            "15/15 [==============================] - 0s 1ms/step - loss: 0.0934 - accuracy: 0.9793\n",
            "Epoch 101/200\n",
            "15/15 [==============================] - 0s 1ms/step - loss: 0.0911 - accuracy: 0.9724\n",
            "Epoch 102/200\n",
            "15/15 [==============================] - 0s 1ms/step - loss: 0.0900 - accuracy: 0.9724\n",
            "Epoch 103/200\n",
            "15/15 [==============================] - 0s 1ms/step - loss: 0.0886 - accuracy: 0.9724\n",
            "Epoch 104/200\n",
            "15/15 [==============================] - 0s 1ms/step - loss: 0.0852 - accuracy: 0.9724\n",
            "Epoch 105/200\n",
            "15/15 [==============================] - 0s 1ms/step - loss: 0.0894 - accuracy: 0.9931\n",
            "Epoch 106/200\n",
            "15/15 [==============================] - 0s 1ms/step - loss: 0.0841 - accuracy: 0.9793\n",
            "Epoch 107/200\n",
            "15/15 [==============================] - 0s 1ms/step - loss: 0.0809 - accuracy: 0.9724\n",
            "Epoch 108/200\n",
            "15/15 [==============================] - 0s 1ms/step - loss: 0.0791 - accuracy: 0.9862\n",
            "Epoch 109/200\n",
            "15/15 [==============================] - 0s 1ms/step - loss: 0.0859 - accuracy: 0.9862\n",
            "Epoch 110/200\n",
            "15/15 [==============================] - 0s 1ms/step - loss: 0.0814 - accuracy: 0.9862\n",
            "Epoch 111/200\n",
            "15/15 [==============================] - 0s 1ms/step - loss: 0.0777 - accuracy: 0.9931\n",
            "Epoch 112/200\n",
            "15/15 [==============================] - 0s 1ms/step - loss: 0.0732 - accuracy: 0.9793\n",
            "Epoch 113/200\n",
            "15/15 [==============================] - 0s 1ms/step - loss: 0.0765 - accuracy: 0.9793\n",
            "Epoch 114/200\n",
            "15/15 [==============================] - 0s 1ms/step - loss: 0.0834 - accuracy: 0.9862\n",
            "Epoch 115/200\n",
            "15/15 [==============================] - 0s 1ms/step - loss: 0.0693 - accuracy: 0.9931\n",
            "Epoch 116/200\n",
            "15/15 [==============================] - 0s 1ms/step - loss: 0.0659 - accuracy: 0.9931\n",
            "Epoch 117/200\n",
            "15/15 [==============================] - 0s 1ms/step - loss: 0.0644 - accuracy: 0.9862\n",
            "Epoch 118/200\n",
            "15/15 [==============================] - 0s 1ms/step - loss: 0.0652 - accuracy: 0.9931\n",
            "Epoch 119/200\n",
            "15/15 [==============================] - 0s 1ms/step - loss: 0.0668 - accuracy: 0.9862\n",
            "Epoch 120/200\n",
            "15/15 [==============================] - 0s 1ms/step - loss: 0.0655 - accuracy: 0.9793\n",
            "Epoch 121/200\n",
            "15/15 [==============================] - 0s 1ms/step - loss: 0.0604 - accuracy: 0.9931\n",
            "Epoch 122/200\n",
            "15/15 [==============================] - 0s 997us/step - loss: 0.0587 - accuracy: 0.9862\n",
            "Epoch 123/200\n",
            "15/15 [==============================] - 0s 1ms/step - loss: 0.0602 - accuracy: 0.9931\n",
            "Epoch 124/200\n",
            "15/15 [==============================] - 0s 1ms/step - loss: 0.0604 - accuracy: 1.0000\n",
            "Epoch 125/200\n",
            "15/15 [==============================] - 0s 1ms/step - loss: 0.0547 - accuracy: 0.9862\n",
            "Epoch 126/200\n",
            "15/15 [==============================] - 0s 1ms/step - loss: 0.0556 - accuracy: 0.9931\n",
            "Epoch 127/200\n",
            "15/15 [==============================] - 0s 1ms/step - loss: 0.0538 - accuracy: 0.9931\n",
            "Epoch 128/200\n",
            "15/15 [==============================] - 0s 1ms/step - loss: 0.0510 - accuracy: 0.9931\n",
            "Epoch 129/200\n",
            "15/15 [==============================] - 0s 1ms/step - loss: 0.0519 - accuracy: 1.0000\n",
            "Epoch 130/200\n",
            "15/15 [==============================] - 0s 1ms/step - loss: 0.0526 - accuracy: 0.9931\n",
            "Epoch 131/200\n",
            "15/15 [==============================] - 0s 1ms/step - loss: 0.0500 - accuracy: 1.0000\n",
            "Epoch 132/200\n",
            "15/15 [==============================] - 0s 1ms/step - loss: 0.0455 - accuracy: 1.0000\n",
            "Epoch 133/200\n",
            "15/15 [==============================] - 0s 1ms/step - loss: 0.0440 - accuracy: 1.0000\n",
            "Epoch 134/200\n",
            "15/15 [==============================] - 0s 1ms/step - loss: 0.0489 - accuracy: 0.9931\n",
            "Epoch 135/200\n",
            "15/15 [==============================] - 0s 1ms/step - loss: 0.0727 - accuracy: 0.9862\n",
            "Epoch 136/200\n",
            "15/15 [==============================] - 0s 1ms/step - loss: 0.0562 - accuracy: 0.9931\n",
            "Epoch 137/200\n",
            "15/15 [==============================] - 0s 2ms/step - loss: 0.0480 - accuracy: 0.9931\n",
            "Epoch 138/200\n",
            "15/15 [==============================] - 0s 1ms/step - loss: 0.0400 - accuracy: 1.0000\n",
            "Epoch 139/200\n",
            "15/15 [==============================] - 0s 1ms/step - loss: 0.0400 - accuracy: 0.9931\n",
            "Epoch 140/200\n",
            "15/15 [==============================] - 0s 1ms/step - loss: 0.0397 - accuracy: 1.0000\n",
            "Epoch 141/200\n",
            "15/15 [==============================] - 0s 1ms/step - loss: 0.0388 - accuracy: 0.9931\n",
            "Epoch 142/200\n",
            "15/15 [==============================] - 0s 1ms/step - loss: 0.0415 - accuracy: 1.0000\n",
            "Epoch 143/200\n",
            "15/15 [==============================] - 0s 1ms/step - loss: 0.0409 - accuracy: 1.0000\n",
            "Epoch 144/200\n",
            "15/15 [==============================] - 0s 1ms/step - loss: 0.0369 - accuracy: 1.0000\n",
            "Epoch 145/200\n",
            "15/15 [==============================] - 0s 1ms/step - loss: 0.0359 - accuracy: 1.0000\n",
            "Epoch 146/200\n",
            "15/15 [==============================] - 0s 1ms/step - loss: 0.0337 - accuracy: 1.0000\n",
            "Epoch 147/200\n",
            "15/15 [==============================] - 0s 1ms/step - loss: 0.0332 - accuracy: 1.0000\n",
            "Epoch 148/200\n",
            "15/15 [==============================] - 0s 1ms/step - loss: 0.0325 - accuracy: 1.0000\n",
            "Epoch 149/200\n",
            "15/15 [==============================] - 0s 1ms/step - loss: 0.0317 - accuracy: 1.0000\n",
            "Epoch 150/200\n",
            "15/15 [==============================] - 0s 1ms/step - loss: 0.0315 - accuracy: 1.0000\n",
            "Epoch 151/200\n",
            "15/15 [==============================] - 0s 1ms/step - loss: 0.0304 - accuracy: 1.0000\n",
            "Epoch 152/200\n",
            "15/15 [==============================] - 0s 2ms/step - loss: 0.0303 - accuracy: 1.0000\n",
            "Epoch 153/200\n",
            "15/15 [==============================] - 0s 1ms/step - loss: 0.0300 - accuracy: 1.0000\n",
            "Epoch 154/200\n",
            "15/15 [==============================] - 0s 1ms/step - loss: 0.0297 - accuracy: 1.0000\n",
            "Epoch 155/200\n",
            "15/15 [==============================] - 0s 2ms/step - loss: 0.0291 - accuracy: 1.0000\n",
            "Epoch 156/200\n",
            "15/15 [==============================] - 0s 2ms/step - loss: 0.0304 - accuracy: 1.0000\n",
            "Epoch 157/200\n",
            "15/15 [==============================] - 0s 1ms/step - loss: 0.0272 - accuracy: 1.0000\n",
            "Epoch 158/200\n",
            "15/15 [==============================] - 0s 1ms/step - loss: 0.0261 - accuracy: 1.0000\n",
            "Epoch 159/200\n",
            "15/15 [==============================] - 0s 1ms/step - loss: 0.0271 - accuracy: 1.0000\n",
            "Epoch 160/200\n",
            "15/15 [==============================] - 0s 1ms/step - loss: 0.0268 - accuracy: 1.0000\n",
            "Epoch 161/200\n",
            "15/15 [==============================] - 0s 2ms/step - loss: 0.0266 - accuracy: 1.0000\n",
            "Epoch 162/200\n",
            "15/15 [==============================] - 0s 2ms/step - loss: 0.0282 - accuracy: 1.0000\n",
            "Epoch 163/200\n",
            "15/15 [==============================] - 0s 1ms/step - loss: 0.0249 - accuracy: 1.0000\n",
            "Epoch 164/200\n",
            "15/15 [==============================] - 0s 2ms/step - loss: 0.0236 - accuracy: 1.0000\n",
            "Epoch 165/200\n",
            "15/15 [==============================] - 0s 1ms/step - loss: 0.0231 - accuracy: 1.0000\n",
            "Epoch 166/200\n",
            "15/15 [==============================] - 0s 1ms/step - loss: 0.0258 - accuracy: 1.0000\n",
            "Epoch 167/200\n",
            "15/15 [==============================] - 0s 2ms/step - loss: 0.0286 - accuracy: 1.0000\n",
            "Epoch 168/200\n",
            "15/15 [==============================] - 0s 1ms/step - loss: 0.0251 - accuracy: 1.0000\n",
            "Epoch 169/200\n",
            "15/15 [==============================] - 0s 1ms/step - loss: 0.0227 - accuracy: 1.0000\n",
            "Epoch 170/200\n",
            "15/15 [==============================] - 0s 1ms/step - loss: 0.0204 - accuracy: 1.0000\n",
            "Epoch 171/200\n",
            "15/15 [==============================] - 0s 1ms/step - loss: 0.0211 - accuracy: 1.0000\n",
            "Epoch 172/200\n",
            "15/15 [==============================] - 0s 1ms/step - loss: 0.0209 - accuracy: 1.0000\n",
            "Epoch 173/200\n",
            "15/15 [==============================] - 0s 1ms/step - loss: 0.0199 - accuracy: 1.0000\n",
            "Epoch 174/200\n",
            "15/15 [==============================] - 0s 1ms/step - loss: 0.0195 - accuracy: 1.0000\n",
            "Epoch 175/200\n",
            "15/15 [==============================] - 0s 1ms/step - loss: 0.0213 - accuracy: 1.0000\n",
            "Epoch 176/200\n",
            "15/15 [==============================] - 0s 1ms/step - loss: 0.0194 - accuracy: 1.0000\n",
            "Epoch 177/200\n",
            "15/15 [==============================] - 0s 1ms/step - loss: 0.0187 - accuracy: 1.0000\n",
            "Epoch 178/200\n",
            "15/15 [==============================] - 0s 1ms/step - loss: 0.0194 - accuracy: 1.0000\n",
            "Epoch 179/200\n",
            "15/15 [==============================] - 0s 1ms/step - loss: 0.0178 - accuracy: 1.0000\n",
            "Epoch 180/200\n",
            "15/15 [==============================] - 0s 1ms/step - loss: 0.0172 - accuracy: 1.0000\n",
            "Epoch 181/200\n",
            "15/15 [==============================] - 0s 1ms/step - loss: 0.0176 - accuracy: 1.0000\n",
            "Epoch 182/200\n",
            "15/15 [==============================] - 0s 1ms/step - loss: 0.0168 - accuracy: 1.0000\n",
            "Epoch 183/200\n",
            "15/15 [==============================] - 0s 1ms/step - loss: 0.0170 - accuracy: 1.0000\n",
            "Epoch 184/200\n",
            "15/15 [==============================] - 0s 1ms/step - loss: 0.0185 - accuracy: 1.0000\n",
            "Epoch 185/200\n",
            "15/15 [==============================] - 0s 1ms/step - loss: 0.0203 - accuracy: 1.0000\n",
            "Epoch 186/200\n",
            "15/15 [==============================] - 0s 1ms/step - loss: 0.0183 - accuracy: 1.0000\n",
            "Epoch 187/200\n",
            "15/15 [==============================] - 0s 1ms/step - loss: 0.0163 - accuracy: 1.0000\n",
            "Epoch 188/200\n",
            "15/15 [==============================] - 0s 1ms/step - loss: 0.0152 - accuracy: 1.0000\n",
            "Epoch 189/200\n",
            "15/15 [==============================] - 0s 1ms/step - loss: 0.0146 - accuracy: 1.0000\n",
            "Epoch 190/200\n",
            "15/15 [==============================] - 0s 1ms/step - loss: 0.0144 - accuracy: 1.0000\n",
            "Epoch 191/200\n",
            "15/15 [==============================] - 0s 1ms/step - loss: 0.0141 - accuracy: 1.0000\n",
            "Epoch 192/200\n",
            "15/15 [==============================] - 0s 1ms/step - loss: 0.0140 - accuracy: 1.0000\n",
            "Epoch 193/200\n",
            "15/15 [==============================] - 0s 1ms/step - loss: 0.0140 - accuracy: 1.0000\n",
            "Epoch 194/200\n",
            "15/15 [==============================] - 0s 1ms/step - loss: 0.0138 - accuracy: 1.0000\n",
            "Epoch 195/200\n",
            "15/15 [==============================] - 0s 1ms/step - loss: 0.0132 - accuracy: 1.0000\n",
            "Epoch 196/200\n",
            "15/15 [==============================] - 0s 1ms/step - loss: 0.0131 - accuracy: 1.0000\n",
            "Epoch 197/200\n",
            "15/15 [==============================] - 0s 2ms/step - loss: 0.0136 - accuracy: 1.0000\n",
            "Epoch 198/200\n",
            "15/15 [==============================] - 0s 1ms/step - loss: 0.0146 - accuracy: 1.0000\n",
            "Epoch 199/200\n",
            "15/15 [==============================] - 0s 2ms/step - loss: 0.0118 - accuracy: 1.0000\n",
            "Epoch 200/200\n",
            "15/15 [==============================] - 0s 1ms/step - loss: 0.0126 - accuracy: 1.0000\n"
          ]
        }
      ],
      "source": [
        "# 모델 실행\n",
        "history = model.fit(X_train, y_train, epochs=200, batch_size=10)"
      ]
    },
    {
      "cell_type": "code",
      "execution_count": null,
      "id": "a811bf4a",
      "metadata": {
        "id": "a811bf4a",
        "outputId": "0be81d90-4670-48a5-d2a6-dffef6881c16"
      },
      "outputs": [
        {
          "name": "stdout",
          "output_type": "stream",
          "text": [
            "2/2 [==============================] - 0s 3ms/step - loss: 1.0350 - accuracy: 0.8095\n",
            "Test Accuracy :  0.8095238208770752\n"
          ]
        }
      ],
      "source": [
        "score = model.evaluate(X_test, y_test)\n",
        "print('Test Accuracy : ', score[1])"
      ]
    },
    {
      "cell_type": "code",
      "execution_count": null,
      "id": "e5ea5c2e",
      "metadata": {
        "id": "e5ea5c2e"
      },
      "outputs": [],
      "source": [
        "model.save('data/model/sonar.hdf5')"
      ]
    },
    {
      "cell_type": "code",
      "execution_count": null,
      "id": "09a20924",
      "metadata": {
        "id": "09a20924",
        "outputId": "ddd930cf-deca-48b7-9cb0-a048d7b3465a"
      },
      "outputs": [
        {
          "ename": "NameError",
          "evalue": "name 'model' is not defined",
          "output_type": "error",
          "traceback": [
            "\u001b[1;31m--------------------------------------------------------------------------\u001b[0m",
            "\u001b[1;31mNameError\u001b[0m                                Traceback (most recent call last)",
            "Input \u001b[1;32mIn [22]\u001b[0m, in \u001b[0;36m<cell line: 1>\u001b[1;34m()\u001b[0m\n\u001b[1;32m----> 1\u001b[0m \u001b[38;5;28;01mdel\u001b[39;00m model\n",
            "\u001b[1;31mNameError\u001b[0m: name 'model' is not defined"
          ]
        }
      ],
      "source": [
        "del model #변수명날리기"
      ]
    },
    {
      "cell_type": "code",
      "execution_count": null,
      "id": "45df254a",
      "metadata": {
        "id": "45df254a"
      },
      "outputs": [],
      "source": [
        "model = models.load_model('data/model/sonar.hdf5') #다시 모델에 넣기"
      ]
    },
    {
      "cell_type": "code",
      "execution_count": null,
      "id": "e4841e82",
      "metadata": {
        "id": "e4841e82",
        "outputId": "99b66e83-1831-4d5e-9c5e-559a5d3ef734"
      },
      "outputs": [
        {
          "name": "stdout",
          "output_type": "stream",
          "text": [
            "2/2 [==============================] - 0s 2ms/step - loss: 1.0350 - accuracy: 0.8095\n",
            "Test Accuracy :  0.8095238208770752\n"
          ]
        }
      ],
      "source": [
        "score = model.evaluate(X_test, y_test)\n",
        "print('Test Accuracy : ', score[1])"
      ]
    },
    {
      "cell_type": "code",
      "execution_count": null,
      "id": "1d6d1dec",
      "metadata": {
        "id": "1d6d1dec"
      },
      "outputs": [],
      "source": [
        "#전체데이터가 적을때 -> K겹교차검증\n"
      ]
    }
  ],
  "metadata": {
    "kernelspec": {
      "display_name": "Python 3 (ipykernel)",
      "language": "python",
      "name": "python3"
    },
    "language_info": {
      "codemirror_mode": {
        "name": "ipython",
        "version": 3
      },
      "file_extension": ".py",
      "mimetype": "text/x-python",
      "name": "python",
      "nbconvert_exporter": "python",
      "pygments_lexer": "ipython3",
      "version": "3.8.13"
    },
    "colab": {
      "provenance": [],
      "include_colab_link": true
    }
  },
  "nbformat": 4,
  "nbformat_minor": 5
}