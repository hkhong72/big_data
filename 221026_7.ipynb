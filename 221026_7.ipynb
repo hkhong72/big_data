{
  "cells": [
    {
      "cell_type": "markdown",
      "metadata": {
        "id": "view-in-github",
        "colab_type": "text"
      },
      "source": [
        "<a href=\"https://colab.research.google.com/github/hkhong72/big_data/blob/main/221026_7.ipynb\" target=\"_parent\"><img src=\"https://colab.research.google.com/assets/colab-badge.svg\" alt=\"Open In Colab\"/></a>"
      ]
    },
    {
      "cell_type": "code",
      "execution_count": null,
      "id": "587a0b00",
      "metadata": {
        "id": "587a0b00"
      },
      "outputs": [],
      "source": [
        "# 1 : 레드와인, 0 : 화이트와인\n",
        "from tensorflow.keras import models, layers\n",
        "from sklearn.model_selection import train_test_split\n",
        "import pandas as pd"
      ]
    },
    {
      "cell_type": "code",
      "execution_count": null,
      "id": "1f5b649c",
      "metadata": {
        "id": "1f5b649c",
        "outputId": "8a2e5df8-43e6-4df5-f40f-c37d02ce84e6"
      },
      "outputs": [
        {
          "data": {
            "text/html": [
              "<div>\n",
              "<style scoped>\n",
              "    .dataframe tbody tr th:only-of-type {\n",
              "        vertical-align: middle;\n",
              "    }\n",
              "\n",
              "    .dataframe tbody tr th {\n",
              "        vertical-align: top;\n",
              "    }\n",
              "\n",
              "    .dataframe thead th {\n",
              "        text-align: right;\n",
              "    }\n",
              "</style>\n",
              "<table border=\"1\" class=\"dataframe\">\n",
              "  <thead>\n",
              "    <tr style=\"text-align: right;\">\n",
              "      <th></th>\n",
              "      <th>0</th>\n",
              "      <th>1</th>\n",
              "      <th>2</th>\n",
              "      <th>3</th>\n",
              "      <th>4</th>\n",
              "      <th>5</th>\n",
              "      <th>6</th>\n",
              "      <th>7</th>\n",
              "      <th>8</th>\n",
              "      <th>9</th>\n",
              "      <th>10</th>\n",
              "      <th>11</th>\n",
              "      <th>12</th>\n",
              "    </tr>\n",
              "  </thead>\n",
              "  <tbody>\n",
              "    <tr>\n",
              "      <th>0</th>\n",
              "      <td>7.4</td>\n",
              "      <td>0.70</td>\n",
              "      <td>0.00</td>\n",
              "      <td>1.9</td>\n",
              "      <td>0.076</td>\n",
              "      <td>11.0</td>\n",
              "      <td>34.0</td>\n",
              "      <td>0.9978</td>\n",
              "      <td>3.51</td>\n",
              "      <td>0.56</td>\n",
              "      <td>9.4</td>\n",
              "      <td>5</td>\n",
              "      <td>1</td>\n",
              "    </tr>\n",
              "    <tr>\n",
              "      <th>1</th>\n",
              "      <td>7.8</td>\n",
              "      <td>0.88</td>\n",
              "      <td>0.00</td>\n",
              "      <td>2.6</td>\n",
              "      <td>0.098</td>\n",
              "      <td>25.0</td>\n",
              "      <td>67.0</td>\n",
              "      <td>0.9968</td>\n",
              "      <td>3.20</td>\n",
              "      <td>0.68</td>\n",
              "      <td>9.8</td>\n",
              "      <td>5</td>\n",
              "      <td>1</td>\n",
              "    </tr>\n",
              "    <tr>\n",
              "      <th>2</th>\n",
              "      <td>7.8</td>\n",
              "      <td>0.76</td>\n",
              "      <td>0.04</td>\n",
              "      <td>2.3</td>\n",
              "      <td>0.092</td>\n",
              "      <td>15.0</td>\n",
              "      <td>54.0</td>\n",
              "      <td>0.9970</td>\n",
              "      <td>3.26</td>\n",
              "      <td>0.65</td>\n",
              "      <td>9.8</td>\n",
              "      <td>5</td>\n",
              "      <td>1</td>\n",
              "    </tr>\n",
              "    <tr>\n",
              "      <th>3</th>\n",
              "      <td>11.2</td>\n",
              "      <td>0.28</td>\n",
              "      <td>0.56</td>\n",
              "      <td>1.9</td>\n",
              "      <td>0.075</td>\n",
              "      <td>17.0</td>\n",
              "      <td>60.0</td>\n",
              "      <td>0.9980</td>\n",
              "      <td>3.16</td>\n",
              "      <td>0.58</td>\n",
              "      <td>9.8</td>\n",
              "      <td>6</td>\n",
              "      <td>1</td>\n",
              "    </tr>\n",
              "    <tr>\n",
              "      <th>4</th>\n",
              "      <td>7.4</td>\n",
              "      <td>0.70</td>\n",
              "      <td>0.00</td>\n",
              "      <td>1.9</td>\n",
              "      <td>0.076</td>\n",
              "      <td>11.0</td>\n",
              "      <td>34.0</td>\n",
              "      <td>0.9978</td>\n",
              "      <td>3.51</td>\n",
              "      <td>0.56</td>\n",
              "      <td>9.4</td>\n",
              "      <td>5</td>\n",
              "      <td>1</td>\n",
              "    </tr>\n",
              "  </tbody>\n",
              "</table>\n",
              "</div>"
            ],
            "text/plain": [
              "     0     1     2    3      4     5     6       7     8     9    10  11  12\n",
              "0   7.4  0.70  0.00  1.9  0.076  11.0  34.0  0.9978  3.51  0.56  9.4   5   1\n",
              "1   7.8  0.88  0.00  2.6  0.098  25.0  67.0  0.9968  3.20  0.68  9.8   5   1\n",
              "2   7.8  0.76  0.04  2.3  0.092  15.0  54.0  0.9970  3.26  0.65  9.8   5   1\n",
              "3  11.2  0.28  0.56  1.9  0.075  17.0  60.0  0.9980  3.16  0.58  9.8   6   1\n",
              "4   7.4  0.70  0.00  1.9  0.076  11.0  34.0  0.9978  3.51  0.56  9.4   5   1"
            ]
          },
          "execution_count": 5,
          "metadata": {},
          "output_type": "execute_result"
        }
      ],
      "source": [
        "df = pd.read_csv('data/wine.csv', header=None)\n",
        "df.head()"
      ]
    },
    {
      "cell_type": "code",
      "execution_count": null,
      "id": "f05aab4b",
      "metadata": {
        "id": "f05aab4b"
      },
      "outputs": [],
      "source": [
        "X = df.iloc[:, :12]\n",
        "y = df.iloc[:, 12]"
      ]
    },
    {
      "cell_type": "code",
      "execution_count": null,
      "id": "dc1b128e",
      "metadata": {
        "id": "dc1b128e"
      },
      "outputs": [],
      "source": [
        "X_train, X_test, y_train, y_test = train_test_split(X, y, test_size=0.2,\n",
        "                                                   shuffle=True)"
      ]
    },
    {
      "cell_type": "code",
      "execution_count": null,
      "id": "7dc2b6cd",
      "metadata": {
        "id": "7dc2b6cd",
        "outputId": "40f308fd-0e28-4a4b-ae6f-68a8df2d222f"
      },
      "outputs": [
        {
          "name": "stdout",
          "output_type": "stream",
          "text": [
            "Model: \"sequential\"\n",
            "_________________________________________________________________\n",
            " Layer (type)                Output Shape              Param #   \n",
            "=================================================================\n",
            " dense (Dense)               (None, 30)                390       \n",
            "                                                                 \n",
            " dense_1 (Dense)             (None, 12)                372       \n",
            "                                                                 \n",
            " dense_2 (Dense)             (None, 8)                 104       \n",
            "                                                                 \n",
            " dense_3 (Dense)             (None, 1)                 9         \n",
            "                                                                 \n",
            "=================================================================\n",
            "Total params: 875\n",
            "Trainable params: 875\n",
            "Non-trainable params: 0\n",
            "_________________________________________________________________\n"
          ]
        }
      ],
      "source": [
        "model = models.Sequential()\n",
        "model.add(layers.Dense(30, input_dim=12, activation='relu'))\n",
        "model.add(layers.Dense(12, activation='relu'))\n",
        "model.add(layers.Dense(8, activation='relu'))\n",
        "model.add(layers.Dense(1, activation='sigmoid'))\n",
        "model.summary()"
      ]
    },
    {
      "cell_type": "code",
      "execution_count": null,
      "id": "f1bf93e0",
      "metadata": {
        "id": "f1bf93e0"
      },
      "outputs": [],
      "source": [
        "model.compile(loss='binary_crossentropy', optimizer='adam', metrics=['accuracy'])"
      ]
    },
    {
      "cell_type": "code",
      "execution_count": null,
      "id": "80d3e87b",
      "metadata": {
        "id": "80d3e87b",
        "outputId": "b4bf4ac6-046c-46fc-fa7b-4a9a94d376d5"
      },
      "outputs": [
        {
          "name": "stdout",
          "output_type": "stream",
          "text": [
            "Epoch 1/50\n",
            "8/8 [==============================] - 0s 11ms/step - loss: 0.0900 - accuracy: 0.9690 - val_loss: 0.1191 - val_accuracy: 0.9554\n",
            "Epoch 2/50\n",
            "8/8 [==============================] - 0s 5ms/step - loss: 0.0904 - accuracy: 0.9705 - val_loss: 0.1120 - val_accuracy: 0.9638\n",
            "Epoch 3/50\n",
            "8/8 [==============================] - 0s 5ms/step - loss: 0.0879 - accuracy: 0.9705 - val_loss: 0.1116 - val_accuracy: 0.9631\n",
            "Epoch 4/50\n",
            "8/8 [==============================] - 0s 5ms/step - loss: 0.0876 - accuracy: 0.9705 - val_loss: 0.1097 - val_accuracy: 0.9692\n",
            "Epoch 5/50\n",
            "8/8 [==============================] - 0s 5ms/step - loss: 0.0876 - accuracy: 0.9713 - val_loss: 0.1115 - val_accuracy: 0.9623\n",
            "Epoch 6/50\n",
            "8/8 [==============================] - 0s 5ms/step - loss: 0.0886 - accuracy: 0.9723 - val_loss: 0.1125 - val_accuracy: 0.9600\n",
            "Epoch 7/50\n",
            "8/8 [==============================] - 0s 6ms/step - loss: 0.0871 - accuracy: 0.9720 - val_loss: 0.1081 - val_accuracy: 0.9692\n",
            "Epoch 8/50\n",
            "8/8 [==============================] - 0s 5ms/step - loss: 0.0860 - accuracy: 0.9736 - val_loss: 0.1069 - val_accuracy: 0.9700\n",
            "Epoch 9/50\n",
            "8/8 [==============================] - 0s 5ms/step - loss: 0.0852 - accuracy: 0.9731 - val_loss: 0.1121 - val_accuracy: 0.9592\n",
            "Epoch 10/50\n",
            "8/8 [==============================] - 0s 5ms/step - loss: 0.0859 - accuracy: 0.9720 - val_loss: 0.1064 - val_accuracy: 0.9692\n",
            "Epoch 11/50\n",
            "8/8 [==============================] - 0s 5ms/step - loss: 0.0854 - accuracy: 0.9728 - val_loss: 0.1058 - val_accuracy: 0.9715\n",
            "Epoch 12/50\n",
            "8/8 [==============================] - 0s 5ms/step - loss: 0.0834 - accuracy: 0.9746 - val_loss: 0.1060 - val_accuracy: 0.9677\n",
            "Epoch 13/50\n",
            "8/8 [==============================] - 0s 5ms/step - loss: 0.0829 - accuracy: 0.9746 - val_loss: 0.1136 - val_accuracy: 0.9569\n",
            "Epoch 14/50\n",
            "8/8 [==============================] - 0s 5ms/step - loss: 0.0832 - accuracy: 0.9743 - val_loss: 0.1062 - val_accuracy: 0.9654\n",
            "Epoch 15/50\n",
            "8/8 [==============================] - 0s 5ms/step - loss: 0.0817 - accuracy: 0.9769 - val_loss: 0.1040 - val_accuracy: 0.9692\n",
            "Epoch 16/50\n",
            "8/8 [==============================] - 0s 5ms/step - loss: 0.0822 - accuracy: 0.9736 - val_loss: 0.1105 - val_accuracy: 0.9600\n",
            "Epoch 17/50\n",
            "8/8 [==============================] - 0s 5ms/step - loss: 0.0828 - accuracy: 0.9723 - val_loss: 0.1047 - val_accuracy: 0.9654\n",
            "Epoch 18/50\n",
            "8/8 [==============================] - 0s 5ms/step - loss: 0.0804 - accuracy: 0.9751 - val_loss: 0.1046 - val_accuracy: 0.9662\n",
            "Epoch 19/50\n",
            "8/8 [==============================] - 0s 6ms/step - loss: 0.0797 - accuracy: 0.9751 - val_loss: 0.1018 - val_accuracy: 0.9738\n",
            "Epoch 20/50\n",
            "8/8 [==============================] - 0s 5ms/step - loss: 0.0812 - accuracy: 0.9738 - val_loss: 0.1049 - val_accuracy: 0.9638\n",
            "Epoch 21/50\n",
            "8/8 [==============================] - 0s 5ms/step - loss: 0.0833 - accuracy: 0.9741 - val_loss: 0.1155 - val_accuracy: 0.9577\n",
            "Epoch 22/50\n",
            "8/8 [==============================] - 0s 5ms/step - loss: 0.0870 - accuracy: 0.9723 - val_loss: 0.1193 - val_accuracy: 0.9554\n",
            "Epoch 23/50\n",
            "8/8 [==============================] - 0s 6ms/step - loss: 0.0854 - accuracy: 0.9710 - val_loss: 0.1340 - val_accuracy: 0.9508\n",
            "Epoch 24/50\n",
            "8/8 [==============================] - 0s 5ms/step - loss: 0.0878 - accuracy: 0.9728 - val_loss: 0.1380 - val_accuracy: 0.9500\n",
            "Epoch 25/50\n",
            "8/8 [==============================] - 0s 5ms/step - loss: 0.0873 - accuracy: 0.9733 - val_loss: 0.1413 - val_accuracy: 0.9500\n",
            "Epoch 26/50\n",
            "8/8 [==============================] - 0s 6ms/step - loss: 0.0876 - accuracy: 0.9702 - val_loss: 0.1289 - val_accuracy: 0.9515\n",
            "Epoch 27/50\n",
            "8/8 [==============================] - 0s 6ms/step - loss: 0.0891 - accuracy: 0.9710 - val_loss: 0.1173 - val_accuracy: 0.9562\n",
            "Epoch 28/50\n",
            "8/8 [==============================] - 0s 6ms/step - loss: 0.0861 - accuracy: 0.9705 - val_loss: 0.1043 - val_accuracy: 0.9654\n",
            "Epoch 29/50\n",
            "8/8 [==============================] - 0s 5ms/step - loss: 0.0777 - accuracy: 0.9761 - val_loss: 0.0981 - val_accuracy: 0.9746\n",
            "Epoch 30/50\n",
            "8/8 [==============================] - 0s 5ms/step - loss: 0.0779 - accuracy: 0.9761 - val_loss: 0.0984 - val_accuracy: 0.9723\n",
            "Epoch 31/50\n",
            "8/8 [==============================] - 0s 5ms/step - loss: 0.0761 - accuracy: 0.9777 - val_loss: 0.0982 - val_accuracy: 0.9738\n",
            "Epoch 32/50\n",
            "8/8 [==============================] - 0s 5ms/step - loss: 0.0773 - accuracy: 0.9769 - val_loss: 0.1042 - val_accuracy: 0.9662\n",
            "Epoch 33/50\n",
            "8/8 [==============================] - 0s 5ms/step - loss: 0.0756 - accuracy: 0.9779 - val_loss: 0.0983 - val_accuracy: 0.9738\n",
            "Epoch 34/50\n",
            "8/8 [==============================] - 0s 5ms/step - loss: 0.0781 - accuracy: 0.9741 - val_loss: 0.1016 - val_accuracy: 0.9685\n",
            "Epoch 35/50\n",
            "8/8 [==============================] - 0s 6ms/step - loss: 0.0769 - accuracy: 0.9764 - val_loss: 0.0984 - val_accuracy: 0.9715\n",
            "Epoch 36/50\n",
            "8/8 [==============================] - 0s 6ms/step - loss: 0.0777 - accuracy: 0.9769 - val_loss: 0.1043 - val_accuracy: 0.9662\n",
            "Epoch 37/50\n",
            "8/8 [==============================] - 0s 9ms/step - loss: 0.0808 - accuracy: 0.9751 - val_loss: 0.1081 - val_accuracy: 0.9608\n",
            "Epoch 38/50\n",
            "8/8 [==============================] - 0s 6ms/step - loss: 0.0771 - accuracy: 0.9772 - val_loss: 0.1066 - val_accuracy: 0.9631\n",
            "Epoch 39/50\n",
            "8/8 [==============================] - 0s 5ms/step - loss: 0.0752 - accuracy: 0.9751 - val_loss: 0.1216 - val_accuracy: 0.9554\n",
            "Epoch 40/50\n",
            "8/8 [==============================] - 0s 6ms/step - loss: 0.0801 - accuracy: 0.9733 - val_loss: 0.1072 - val_accuracy: 0.9623\n",
            "Epoch 41/50\n",
            "8/8 [==============================] - 0s 5ms/step - loss: 0.0764 - accuracy: 0.9759 - val_loss: 0.0948 - val_accuracy: 0.9762\n",
            "Epoch 42/50\n",
            "8/8 [==============================] - 0s 5ms/step - loss: 0.0744 - accuracy: 0.9779 - val_loss: 0.0985 - val_accuracy: 0.9754\n",
            "Epoch 43/50\n",
            "8/8 [==============================] - 0s 5ms/step - loss: 0.0774 - accuracy: 0.9761 - val_loss: 0.0958 - val_accuracy: 0.9754\n",
            "Epoch 44/50\n",
            "8/8 [==============================] - 0s 5ms/step - loss: 0.0814 - accuracy: 0.9756 - val_loss: 0.0944 - val_accuracy: 0.9746\n",
            "Epoch 45/50\n",
            "8/8 [==============================] - 0s 6ms/step - loss: 0.0781 - accuracy: 0.9782 - val_loss: 0.1095 - val_accuracy: 0.9592\n",
            "Epoch 46/50\n",
            "8/8 [==============================] - 0s 5ms/step - loss: 0.0762 - accuracy: 0.9774 - val_loss: 0.1184 - val_accuracy: 0.9562\n",
            "Epoch 47/50\n",
            "8/8 [==============================] - 0s 6ms/step - loss: 0.0762 - accuracy: 0.9766 - val_loss: 0.0991 - val_accuracy: 0.9700\n",
            "Epoch 48/50\n",
            "8/8 [==============================] - 0s 5ms/step - loss: 0.0751 - accuracy: 0.9772 - val_loss: 0.0934 - val_accuracy: 0.9754\n",
            "Epoch 49/50\n",
            "8/8 [==============================] - 0s 5ms/step - loss: 0.0742 - accuracy: 0.9759 - val_loss: 0.0997 - val_accuracy: 0.9754\n",
            "Epoch 50/50\n",
            "8/8 [==============================] - 0s 5ms/step - loss: 0.0778 - accuracy: 0.9761 - val_loss: 0.0968 - val_accuracy: 0.9754\n"
          ]
        }
      ],
      "source": [
        "history = model.fit(X_train, y_train, epochs=50, batch_size=500, validation_split=0.25) \n",
        "#validation_split=0.25 학습용데이터에 25퍼센트별개로 떼어내고, 한에포크 끝날때마다 해당25퍼센트로 검증"
      ]
    },
    {
      "cell_type": "code",
      "execution_count": null,
      "id": "cfed1a50",
      "metadata": {
        "id": "cfed1a50",
        "outputId": "d0a820b8-6b92-4466-fe60-5904b284c12c"
      },
      "outputs": [
        {
          "name": "stdout",
          "output_type": "stream",
          "text": [
            "41/41 [==============================] - 0s 898us/step - loss: 0.0752 - accuracy: 0.9792\n",
            "Test Accuracy : 0.9792307615280151\n"
          ]
        }
      ],
      "source": [
        "# 테스트 결과 출력\n",
        "score = model.evaluate(X_test, y_test)\n",
        "print('Test Accuracy :', score[1])"
      ]
    },
    {
      "cell_type": "code",
      "execution_count": null,
      "id": "58293b6b",
      "metadata": {
        "id": "58293b6b"
      },
      "outputs": [],
      "source": []
    }
  ],
  "metadata": {
    "kernelspec": {
      "display_name": "Python 3 (ipykernel)",
      "language": "python",
      "name": "python3"
    },
    "language_info": {
      "codemirror_mode": {
        "name": "ipython",
        "version": 3
      },
      "file_extension": ".py",
      "mimetype": "text/x-python",
      "name": "python",
      "nbconvert_exporter": "python",
      "pygments_lexer": "ipython3",
      "version": "3.8.13"
    },
    "colab": {
      "provenance": [],
      "include_colab_link": true
    }
  },
  "nbformat": 4,
  "nbformat_minor": 5
}