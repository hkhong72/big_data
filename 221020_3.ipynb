{
  "nbformat": 4,
  "nbformat_minor": 0,
  "metadata": {
    "colab": {
      "provenance": [],
      "authorship_tag": "ABX9TyOdqf6gG69nbtm+8VLNQ4ls",
      "include_colab_link": true
    },
    "kernelspec": {
      "name": "python3",
      "display_name": "Python 3"
    },
    "language_info": {
      "name": "python"
    }
  },
  "cells": [
    {
      "cell_type": "markdown",
      "metadata": {
        "id": "view-in-github",
        "colab_type": "text"
      },
      "source": [
        "<a href=\"https://colab.research.google.com/github/hkhong72/big_data/blob/main/221020_3.ipynb\" target=\"_parent\"><img src=\"https://colab.research.google.com/assets/colab-badge.svg\" alt=\"Open In Colab\"/></a>"
      ]
    },
    {
      "cell_type": "markdown",
      "source": [
        "이클립스에 Maven Project만들기\n",
        "create simple Project 체크\n",
        "\n",
        "com.adacho\n",
        "\n",
        "hadoopMR\n",
        "\n",
        "0.1~~ 기본셋팅\n",
        "\n",
        "jar 기본셋팅\n",
        "\n",
        "프로젝트생성"
      ],
      "metadata": {
        "id": "sPYqD90RF9Aa"
      }
    },
    {
      "cell_type": "markdown",
      "source": [
        "리눅스에서 자바1.8로 설정했기때문에\n",
        "\n",
        "pom.xml 에서 설정바꿔야함\n",
        "\n"
      ],
      "metadata": {
        "id": "nowia3DxF-RI"
      }
    },
    {
      "cell_type": "code",
      "source": [
        "<properties>\n",
        "\t<project.build.sourceEncoding>UTF-8</project.build.sourceEncoding>\n",
        "\t<maven.compiler.source>1.8</maven.compiler.source>\n",
        "\t<maven.compiler.target>1.8</maven.compiler.target>\n",
        "</properties> \n",
        "\n",
        "<dependencies>\n",
        "      <!-- https://mvnrepository.com/artifact/org.apache.hadoop/hadoop-common -->\n",
        "   <dependency>\n",
        "       <groupId>org.apache.hadoop</groupId>\n",
        "       <artifactId>hadoop-common</artifactId>\n",
        "       <version>3.2.4</version>\n",
        "   </dependency>\n",
        "   <!-- https://mvnrepository.com/artifact/org.apache.hadoop/hadoop-mapreduce-client-core -->\n",
        "   <dependency>\n",
        "       <groupId>org.apache.hadoop</groupId>\n",
        "       <artifactId>hadoop-mapreduce-client-core</artifactId>\n",
        "       <version>3.2.4</version>\n",
        "   </dependency>\n",
        "\n",
        "   </dependencies> #추가하기"
      ],
      "metadata": {
        "id": "7wGiceiZLsrw"
      },
      "execution_count": null,
      "outputs": []
    },
    {
      "cell_type": "markdown",
      "source": [
        "자바패키지에 com.adacho.mapper 패키지 생성"
      ],
      "metadata": {
        "id": "edhHXqpBL2sI"
      }
    },
    {
      "cell_type": "markdown",
      "source": [
        "WordcountMapper 클래스 생성"
      ],
      "metadata": {
        "id": "Gs2DyNidF-M4"
      }
    },
    {
      "cell_type": "code",
      "source": [
        "package com.adacho.mapper;\n",
        "\n",
        "import java.io.IOException;\n",
        "import java.util.StringTokenizer;\n",
        "\n",
        "import org.apache.hadoop.io.IntWritable;\n",
        "import org.apache.hadoop.io.LongWritable;\n",
        "import org.apache.hadoop.io.Text;\n",
        "import org.apache.hadoop.mapreduce.Mapper;\n",
        "\n",
        "public class WordcountMapper extends Mapper<LongWritable, Text, Text, IntWritable>{\n",
        "\tprivate final static IntWritable one = new IntWritable(1);\n",
        "\tprivate Text word = new Text();\n",
        "\t\n",
        "\t@Override\n",
        "\tprotected void map(LongWritable key, Text value, Mapper<LongWritable, Text, Text, IntWritable>.Context context)\n",
        "\t\t\tthrows IOException, InterruptedException {\n",
        "\t\tStringTokenizer strToken = new StringTokenizer(value.toString()); //default 스페이스로짜름\n",
        "\t\twhile(strToken.hasMoreTokens()) {\n",
        "\t\t\tword.set(strToken.nextToken());\n",
        "\t\t\tcontext.write(word, one); //단어마다 1을 붙임\n",
        "\t\t}\n",
        "\t\t\n",
        "\t}\n",
        "\t\n",
        "\t\n",
        "}\n"
      ],
      "metadata": {
        "id": "-YyjhxSYMk8Q"
      },
      "execution_count": null,
      "outputs": []
    },
    {
      "cell_type": "markdown",
      "source": [
        "LongWritable, Text, Text, IntWritable\n",
        "\n",
        "맵으로들어오는놈 , 맵으로나가는놈"
      ],
      "metadata": {
        "id": "FgcvHVMmF-Jo"
      }
    },
    {
      "cell_type": "markdown",
      "source": [
        "com.apacho.reducer 패키지생성 \n",
        "\n",
        "WordcountReducer 클래스생성"
      ],
      "metadata": {
        "id": "5ky907h1L0da"
      }
    },
    {
      "cell_type": "code",
      "source": [
        "package com.apacho.reducer;\n",
        "\n",
        "import java.io.IOException;\n",
        "\n",
        "import org.apache.hadoop.io.IntWritable;\n",
        "import org.apache.hadoop.io.LongWritable;\n",
        "import org.apache.hadoop.io.Text;\n",
        "import org.apache.hadoop.mapreduce.Reducer;\n",
        "\n",
        "public class WordcountReducer extends Reducer<Text, IntWritable, Text, IntWritable>{\n",
        "\t private IntWritable result = new IntWritable();\n",
        "\n",
        "\t @Override\n",
        "\t   protected void reduce(Text key, Iterable<IntWritable> values,\n",
        "\t         Reducer<Text, IntWritable, Text, IntWritable>.Context context) throws IOException, InterruptedException {\n",
        "\t      // TODO Auto-generated method stub\n",
        "\t      int sum = 0;\n",
        "\t      for(IntWritable value: values) {\n",
        "\t         sum += value.get();\n",
        "\t      }\n",
        "\t      result.set(sum);\n",
        "\t      context.write(key, result);\n",
        "\t   }\n",
        "}\n"
      ],
      "metadata": {
        "id": "X2encGHkS8gI"
      },
      "execution_count": null,
      "outputs": []
    },
    {
      "cell_type": "markdown",
      "source": [
        "com.apacho.driver 패키지생성\n",
        "WordCount 클래스생성"
      ],
      "metadata": {
        "id": "OAQ3_LE-F-F4"
      }
    },
    {
      "cell_type": "code",
      "source": [
        "package com.apacho.driver;\n",
        "\n",
        "import org.apache.hadoop.conf.Configuration;\n",
        "import org.apache.hadoop.fs.Path;\n",
        "import org.apache.hadoop.io.IntWritable;\n",
        "import org.apache.hadoop.io.Text;\n",
        "import org.apache.hadoop.mapreduce.Job;\n",
        "import org.apache.hadoop.mapreduce.lib.input.FileInputFormat;\n",
        "import org.apache.hadoop.mapreduce.lib.input.TextInputFormat;\n",
        "import org.apache.hadoop.mapreduce.lib.output.FileOutputFormat;\n",
        "import org.apache.hadoop.mapreduce.lib.output.TextOutputFormat;\n",
        "\n",
        "import com.adacho.mapper.WordcountMapper;\n",
        "import com.apacho.reducer.WordcountReducer;\n",
        "\n",
        "public class WordCount {\n",
        "\tpublic static void main(String[] args) throws Exception{\n",
        "\t\tConfiguration conf = new Configuration();\n",
        "\t\tif(args.length !=2) {\n",
        "\t\t\tSystem.err.println(\"Usage: WordCount <input> <output>\");\n",
        "\t\t\tSystem.exit(1);\n",
        "\t\t}\n",
        "\t\t\n",
        "\t\tJob job = Job.getInstance(conf, \"WordCount\");\n",
        "\t\t\n",
        "\t\tjob.setJarByClass(WordCount.class); //드라이브 클래스 저장\n",
        "\t\tjob.setMapperClass(WordcountMapper.class); //메퍼클래스저장\n",
        "\t\tjob.setReducerClass(WordcountReducer.class); //리듀스클래스저장\n",
        "\t\t\n",
        "\t\tjob.setInputFormatClass(TextInputFormat.class); //두개중에 길이가 긴 것 임포트\n",
        "\t\tjob.setOutputFormatClass(TextOutputFormat.class); //두개중에 길이가 긴 것 임포트\n",
        "\t\t\n",
        "\t\tjob.setMapOutputKeyClass(Text.class);\n",
        "\t\tjob.setMapOutputValueClass(IntWritable.class);\n",
        "\t\t\n",
        "\t\tFileInputFormat.addInputPath(job, new Path(args[0])); //여러개에 인풋데이타가 있으면 다 줄 수 있음\n",
        "\t\tFileOutputFormat.setOutputPath(job, new Path(args[1]));\n",
        "\t\t\n",
        "\t\tjob.waitForCompletion(true);\n",
        "\t\t\n",
        "\t}\n",
        "}"
      ],
      "metadata": {
        "id": "-kd2qR83S6tA"
      },
      "execution_count": null,
      "outputs": []
    },
    {
      "cell_type": "markdown",
      "source": [],
      "metadata": {
        "id": "LQUAuQt9F-DI"
      }
    }
  ]
}