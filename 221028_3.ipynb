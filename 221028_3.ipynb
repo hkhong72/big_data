{
  "cells": [
    {
      "cell_type": "markdown",
      "metadata": {
        "id": "view-in-github",
        "colab_type": "text"
      },
      "source": [
        "<a href=\"https://colab.research.google.com/github/hkhong72/big_data/blob/main/221028_3.ipynb\" target=\"_parent\"><img src=\"https://colab.research.google.com/assets/colab-badge.svg\" alt=\"Open In Colab\"/></a>"
      ]
    },
    {
      "cell_type": "code",
      "execution_count": null,
      "id": "8d13323c",
      "metadata": {
        "id": "8d13323c"
      },
      "outputs": [],
      "source": [
        "from tensorflow.keras.datasets import mnist # MNIST 데이터 호출\n",
        "from tensorflow.keras.utils import to_categorical\n",
        "from tensorflow.keras import models, layers\n",
        "from tensorflow.keras.callbacks import ModelCheckpoint, EarlyStopping\n",
        "import matplotlib.pyplot as plt\n",
        "import numpy as np\n",
        "import sys\n",
        "# KMP에러 나는걸방지\n",
        "import os\n",
        "os.environ[\"KMP_DUPLICATE_LIB_OK\"]=\"TRUE\""
      ]
    },
    {
      "cell_type": "code",
      "execution_count": null,
      "id": "d358cc76",
      "metadata": {
        "id": "d358cc76"
      },
      "outputs": [],
      "source": [
        "(X_train, y_train), (X_test, y_test) = mnist.load_data()\n",
        "X_train = X_train.reshape(X_train.shape[0], 28, 28, 1).astype(float) / 255 # 4번째차원 : '커널의 채널' 우리는 흑백이니까 1을 썼지만, 컬러면 rgb는 3\n",
        "X_test = X_test.reshape(X_test.shape[0], 28, 28, 1).astype(float) / 255\n",
        "\n",
        "y_train = to_categorical(y_train) # 넘파이배열을 원핫인코딩 : to_categorical\n",
        "y_test = to_categorical(y_test)"
      ]
    },
    {
      "cell_type": "code",
      "execution_count": null,
      "id": "604993bc",
      "metadata": {
        "id": "604993bc",
        "outputId": "570ffcfb-7965-45db-fe16-74ebe6b7cfac"
      },
      "outputs": [
        {
          "name": "stdout",
          "output_type": "stream",
          "text": [
            "Model: \"sequential\"\n",
            "_________________________________________________________________\n",
            " Layer (type)                Output Shape              Param #   \n",
            "=================================================================\n",
            " conv2d (Conv2D)             (None, 26, 26, 32)        320       \n",
            "                                                                 \n",
            " conv2d_1 (Conv2D)           (None, 24, 24, 64)        18496     \n",
            "                                                                 \n",
            " max_pooling2d (MaxPooling2D  (None, 12, 12, 64)       0         \n",
            " )                                                               \n",
            "                                                                 \n",
            " dropout (Dropout)           (None, 12, 12, 64)        0         \n",
            "                                                                 \n",
            " flatten (Flatten)           (None, 9216)              0         \n",
            "                                                                 \n",
            " dense (Dense)               (None, 128)               1179776   \n",
            "                                                                 \n",
            " dropout_1 (Dropout)         (None, 128)               0         \n",
            "                                                                 \n",
            " dense_1 (Dense)             (None, 10)                1290      \n",
            "                                                                 \n",
            "=================================================================\n",
            "Total params: 1,199,882\n",
            "Trainable params: 1,199,882\n",
            "Non-trainable params: 0\n",
            "_________________________________________________________________\n"
          ]
        }
      ],
      "source": [
        "model = models.Sequential()\n",
        "model.add(layers.Conv2D(32, kernel_size=(3,3), input_shape=(28, 28, 1),\n",
        "                       activation='relu')) \n",
        "# 이미지한장이 들어오면 3by3 커널을 만드는데, 출력이미지는 32장으로 만들거다(커널을 32개를 두고),\n",
        "# (3by3커널의 각각의 값이 w웨이파라미터임. 이미지쉐입은28,28,1이다. \n",
        "# 커널별로 b바이아스가 생성됨, -> 32개생성 \n",
        "# 32장으로 뽑는이유 : 각각의 커널이 개별적인활동을한다,\n",
        "# : 각각의 전체이미지 외곽을 중심으로, 어떤커널은 눈주위를 위주로, 어떤커널은 입주위, ...  이렇게 커널이 분업화 됨\n",
        "model.add(layers.Conv2D(64, kernel_size=(3,3), activation='relu')) # 1장들어올때 커널 64개, 바이아스 64개 \n",
        "# 처음에 1장이 들어올 때 32개가 생성되었고, 다음엔 32장이 들어와서 64개가 생기기때문에 32 * 64개가 생김\n",
        "model.add(layers.MaxPooling2D(pool_size=(2,2)))\n",
        "model.add(layers.Dropout(0.25))\n",
        "model.add(layers.Flatten()) #몇차원이들어오든 1차원으로 만들어줌  -> Dense층으로 집어넣기 위함\n",
        "model.add(layers.Dense(128, activation='relu'))\n",
        "model.add(layers.Dropout(0.5))\n",
        "model.add(layers.Dense(10, activation='softmax'))\n",
        "model.summary()"
      ]
    },
    {
      "cell_type": "code",
      "execution_count": null,
      "id": "74b41d7a",
      "metadata": {
        "id": "74b41d7a"
      },
      "outputs": [],
      "source": [
        "# 1. (1) * (3 x 3) * (32) + 32=> w = 288 / bias = 32 / total = 320 => 이미지크기 28* 28 => (28-2) * (28-2)\n",
        "# 2. (32) *  (3 x 3)* (64) + 64 =>  w =18432 / bias = 32 / total = 18496 => 이미지크기 (28-2) * (28-2) => (28-4) * (28-4)\n",
        "# 3. 이미지 크기 24 * 24였는데 (2,2) maxpooling 하면서 1/4토막 > 가로세로 절반됨\n",
        "# 4. Flatten ==> 1차원으로 눌러서 12 * 12 크기의 64개 ==> 입력 9216\n",
        "# 5. (9216) * (128) + 128 =>  w = 1179648 / bias = 128 / total = 1179776\n",
        "# 6. (128) * (10) + 10 = w = 1280 / bias = 10 / total = 1290\n",
        "# 7. Dropout 은 파라미터 영향 x"
      ]
    },
    {
      "cell_type": "code",
      "execution_count": null,
      "id": "c1830ef5",
      "metadata": {
        "id": "c1830ef5"
      },
      "outputs": [],
      "source": [
        "model.compile(loss='categorical_crossentropy', optimizer='adam', metrics=['accuracy'])\n",
        "modelpath='data/mnist_cnn.hdf5'\n",
        "checkpointer = ModelCheckpoint(filepath=modelpath, monitor='val_loss', verbose=1, save_best_only=True)\n",
        "early_stopping = EarlyStopping(monitor='val_loss', patience=10)"
      ]
    },
    {
      "cell_type": "code",
      "execution_count": null,
      "id": "9eff5b40",
      "metadata": {
        "id": "9eff5b40",
        "outputId": "fb05a62e-c2ed-48e8-f511-8bc0bf240b13"
      },
      "outputs": [
        {
          "name": "stdout",
          "output_type": "stream",
          "text": [
            "\n",
            "Epoch 1: val_loss improved from inf to 0.07936, saving model to data\\mnist_cnn.hdf5\n",
            "\n",
            "Epoch 2: val_loss improved from 0.07936 to 0.05471, saving model to data\\mnist_cnn.hdf5\n",
            "\n",
            "Epoch 3: val_loss improved from 0.05471 to 0.04647, saving model to data\\mnist_cnn.hdf5\n",
            "\n",
            "Epoch 4: val_loss improved from 0.04647 to 0.04458, saving model to data\\mnist_cnn.hdf5\n",
            "\n",
            "Epoch 5: val_loss improved from 0.04458 to 0.04256, saving model to data\\mnist_cnn.hdf5\n",
            "\n",
            "Epoch 6: val_loss improved from 0.04256 to 0.04102, saving model to data\\mnist_cnn.hdf5\n",
            "\n",
            "Epoch 7: val_loss did not improve from 0.04102\n",
            "\n",
            "Epoch 8: val_loss did not improve from 0.04102\n",
            "\n",
            "Epoch 9: val_loss did not improve from 0.04102\n",
            "\n",
            "Epoch 10: val_loss did not improve from 0.04102\n",
            "\n",
            "Epoch 11: val_loss did not improve from 0.04102\n",
            "\n",
            "Epoch 12: val_loss improved from 0.04102 to 0.04025, saving model to data\\mnist_cnn.hdf5\n",
            "\n",
            "Epoch 13: val_loss improved from 0.04025 to 0.03975, saving model to data\\mnist_cnn.hdf5\n",
            "\n",
            "Epoch 14: val_loss did not improve from 0.03975\n",
            "\n",
            "Epoch 15: val_loss did not improve from 0.03975\n",
            "\n",
            "Epoch 16: val_loss did not improve from 0.03975\n",
            "\n",
            "Epoch 17: val_loss did not improve from 0.03975\n",
            "\n",
            "Epoch 18: val_loss did not improve from 0.03975\n",
            "\n",
            "Epoch 19: val_loss did not improve from 0.03975\n",
            "\n",
            "Epoch 20: val_loss did not improve from 0.03975\n",
            "\n",
            "Epoch 21: val_loss did not improve from 0.03975\n",
            "\n",
            "Epoch 22: val_loss did not improve from 0.03975\n",
            "\n",
            "Epoch 23: val_loss did not improve from 0.03975\n"
          ]
        }
      ],
      "source": [
        "history = model.fit(X_train, y_train, validation_split=0.25, epochs=30, batch_size=200, verbose=0, callbacks=[checkpointer, early_stopping])"
      ]
    },
    {
      "cell_type": "code",
      "execution_count": null,
      "id": "ac744cbf",
      "metadata": {
        "id": "ac744cbf",
        "outputId": "9974ec95-0ea0-458d-daf2-d2d8354ea7c7"
      },
      "outputs": [
        {
          "name": "stdout",
          "output_type": "stream",
          "text": [
            "313/313 [==============================] - 2s 5ms/step - loss: 0.0337 - accuracy: 0.9916\n",
            "\n",
            " Test Accuracy: 0.9916\n"
          ]
        }
      ],
      "source": [
        "# 테스트 정확도 출력\n",
        "print(\"\\n Test Accuracy: %.4f\" % (model.evaluate(X_test, y_test)[1]))"
      ]
    },
    {
      "cell_type": "code",
      "execution_count": null,
      "id": "2eaa2d4a",
      "metadata": {
        "id": "2eaa2d4a",
        "outputId": "369dba7a-4a2b-4725-e17e-cc5df578b58b"
      },
      "outputs": [
        {
          "data": {
            "image/png": "[encoded data removed]",
            "text/plain": [
              "<Figure size 640x480 with 1 Axes>"
            ]
          },
          "metadata": {},
          "output_type": "display_data"
        }
      ],
      "source": [
        "# 학습셋의 오차를 그래프로 표현해보자\n",
        "y_vloss = history.history['val_loss']\n",
        "\n",
        "# 학습셋의 오차\n",
        "y_loss = history.history['loss']\n",
        "\n",
        "# 그래프 만들기\n",
        "x_len = np.arange(len(y_loss))\n",
        "plt.plot(x_len, y_vloss, marker='.', c=\"red\", label='Testset_loss')\n",
        "plt.plot(x_len, y_loss, marker='.', c=\"blue\", label='Trainset_loss')\n",
        "\n",
        "# 그래프에 그리드 주기 + 레이블 표시\n",
        "plt.legend(loc='upper right')\n",
        "plt.grid()\n",
        "plt.xlabel('epoch')\n",
        "plt.xlabel('loss')\n",
        "plt.show()"
      ]
    }
  ],
  "metadata": {
    "kernelspec": {
      "display_name": "Python 3 (ipykernel)",
      "language": "python",
      "name": "python3"
    },
    "language_info": {
      "codemirror_mode": {
        "name": "ipython",
        "version": 3
      },
      "file_extension": ".py",
      "mimetype": "text/x-python",
      "name": "python",
      "nbconvert_exporter": "python",
      "pygments_lexer": "ipython3",
      "version": "3.8.13"
    },
    "colab": {
      "provenance": [],
      "include_colab_link": true
    }
  },
  "nbformat": 4,
  "nbformat_minor": 5
}