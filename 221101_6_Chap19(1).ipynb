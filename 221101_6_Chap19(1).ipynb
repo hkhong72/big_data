{
  "cells": [
    {
      "cell_type": "markdown",
      "metadata": {
        "id": "view-in-github",
        "colab_type": "text"
      },
      "source": [
        "<a href=\"https://colab.research.google.com/github/hkhong72/big_data/blob/main/221101_6_Chap19(1).ipynb\" target=\"_parent\"><img src=\"https://colab.research.google.com/assets/colab-badge.svg\" alt=\"Open In Colab\"/></a>"
      ]
    },
    {
      "cell_type": "code",
      "execution_count": null,
      "id": "1f2113dc",
      "metadata": {
        "id": "1f2113dc"
      },
      "outputs": [],
      "source": [
        "from tensorflow.keras import models, layers\n",
        "from tensorflow.keras.datasets import mnist\n",
        "import numpy as np\n",
        "import matplotlib.pyplot as plt\n",
        "import os\n",
        "os.environ[\"KMP_DUPLICATE_LIB_OK\"] = \"TRUE\""
      ]
    },
    {
      "cell_type": "code",
      "execution_count": null,
      "id": "5538df0d",
      "metadata": {
        "id": "5538df0d",
        "outputId": "0115ad56-a949-4481-f3ab-d6d2d8dda07c"
      },
      "outputs": [
        {
          "name": "stdout",
          "output_type": "stream",
          "text": [
            "Model: \"sequential_2\"\n",
            "_________________________________________________________________\n",
            " Layer (type)                Output Shape              Param #   \n",
            "=================================================================\n",
            " dense_2 (Dense)             (None, 6272)              633472    \n",
            "                                                                 \n",
            " batch_normalization_3 (Batc  (None, 6272)             25088     \n",
            " hNormalization)                                                 \n",
            "                                                                 \n",
            " reshape_1 (Reshape)         (None, 7, 7, 128)         0         \n",
            "                                                                 \n",
            " up_sampling2d_2 (UpSampling  (None, 14, 14, 128)      0         \n",
            " 2D)                                                             \n",
            "                                                                 \n",
            " conv2d_2 (Conv2D)           (None, 14, 14, 64)        204864    \n",
            "                                                                 \n",
            " batch_normalization_4 (Batc  (None, 14, 14, 64)       256       \n",
            " hNormalization)                                                 \n",
            "                                                                 \n",
            " activation_1 (Activation)   (None, 14, 14, 64)        0         \n",
            "                                                                 \n",
            " up_sampling2d_3 (UpSampling  (None, 28, 28, 64)       0         \n",
            " 2D)                                                             \n",
            "                                                                 \n",
            " conv2d_3 (Conv2D)           (None, 28, 28, 1)         1601      \n",
            "                                                                 \n",
            "=================================================================\n",
            "Total params: 865,281\n",
            "Trainable params: 852,609\n",
            "Non-trainable params: 12,672\n",
            "_________________________________________________________________\n"
          ]
        }
      ],
      "source": [
        "# 생성자 모델 만들기\n",
        "generator = models.Sequential()\n",
        "generator.add(layers.Dense(128*7*7, input_dim=100, activation=layers.LeakyReLU(0.2)))\n",
        "generator.add(layers.BatchNormalization()) # 스케일자체를 축소(0~1사이로)\n",
        "generator.add(layers.Reshape((7, 7, 128))) # 7by7이미지가 128개채널 -> 3차원으로변경\n",
        "generator.add(layers.UpSampling2D()) \n",
        "# MaxPooling에 반대. width, heights 두배씩, 총면적 -> 4배\n",
        "generator.add(layers.Conv2D(64, kernel_size=5, padding='same')) \n",
        "#입력이미지와 출력이미지에 사이즈변화X, 2by2씩 붙여야함\n",
        "generator.add(layers.BatchNormalization()) \n",
        "generator.add(layers.Activation(layers.LeakyReLU(0.2))) \n",
        "generator.add(layers.UpSampling2D())\n",
        "generator.add(layers.Conv2D(1, kernel_size=5, padding='same', activation='tanh'))\n",
        "generator.summary()"
      ]
    },
    {
      "cell_type": "code",
      "execution_count": null,
      "id": "183b321e",
      "metadata": {
        "id": "183b321e"
      },
      "outputs": [],
      "source": [
        "# 1. 입력값100 * 128*7*7 + 128*7*7 = 633472\n",
        "# 2. 입력값128*7*7(6272) * 4(?) = 25088\n",
        "# 3. 128 * w1600 + 64 = 204864\n",
        "# 4. 64 * w192 + 64 = 256\n",
        "# 5. (64 + (28-3)) * 1 + 1 = 1601"
      ]
    },
    {
      "cell_type": "code",
      "execution_count": null,
      "id": "8c553d37",
      "metadata": {
        "id": "8c553d37"
      },
      "outputs": [],
      "source": [
        "# 판별자 모델 만들기\n",
        "discriminator = models.Sequential()\n",
        "discriminator.add(layers.Conv2D(64, kernel_size=5, strides=2, input_shape=(28,28,1), padding=\"same\"))\n",
        "discriminator.add(layers.Activation(layers.LeakyReLU(0.2)))\n",
        "discriminator.add(layers.Dropout(0.3))\n",
        "discriminator.add(layers.Conv2D(128, kernel_size=5, strides=2, padding=\"same\"))\n",
        "discriminator.add(layers.Activation(layers.LeakyReLU(0.2)))\n",
        "discriminator.add(layers.Dropout(0.3))\n",
        "discriminator.add(layers.Flatten())\n",
        "discriminator.add(layers.Dense(1, activation='sigmoid'))\n",
        "discriminator.compile(loss='binary_crossentropy', optimizer='adam')\n",
        "discriminator.trainable=False # 별도학습을 시키기위해"
      ]
    },
    {
      "cell_type": "code",
      "execution_count": null,
      "id": "059d3fb3",
      "metadata": {
        "id": "059d3fb3",
        "outputId": "f041cb6b-c111-4869-bb9a-93ec002e116e"
      },
      "outputs": [
        {
          "name": "stdout",
          "output_type": "stream",
          "text": [
            "Model: \"model_1\"\n",
            "_________________________________________________________________\n",
            " Layer (type)                Output Shape              Param #   \n",
            "=================================================================\n",
            " input_2 (InputLayer)        [(None, 100)]             0         \n",
            "                                                                 \n",
            " sequential_2 (Sequential)   (None, 28, 28, 1)         865281    \n",
            "                                                                 \n",
            " sequential_6 (Sequential)   (None, 1)                 212865    \n",
            "                                                                 \n",
            "=================================================================\n",
            "Total params: 1,078,146\n",
            "Trainable params: 852,609\n",
            "Non-trainable params: 225,537\n",
            "_________________________________________________________________\n"
          ]
        }
      ],
      "source": [
        "ginput = layers.Input(shape=(100,)) # 생성자는 처음에100개노이즈들어옴\n",
        "dis_output = discriminator(generator(ginput))\n",
        "gan = models.Model(ginput, dis_output)\n",
        "gan.compile(loss='binary_crossentropy', optimizer='adam')\n",
        "gan.summary()"
      ]
    },
    {
      "cell_type": "code",
      "execution_count": null,
      "id": "f2f4dc4b",
      "metadata": {
        "id": "f2f4dc4b"
      },
      "outputs": [],
      "source": [
        "# 신경망을 실행시키는 함수 만들기\n",
        "def gan_train(epoch, batch_size, saving_interval):\n",
        "    #MNIST epdlxj qnffjdhrl\n",
        "    #이미지만 사용하기 때문에 X_train만 호출\n",
        "    (X_train, _), (_, _) = mnist.load_data()\n",
        "    X_train = X_train.reshape(X_train.shape[0], 28, 28, 1).astype(float)\n",
        "    # 127.5를 뺀 후 127.5로 나누어서 -1 ~ 1 사이의 값으로 바꾼다.\n",
        "    X_train = (X_train - 127.5) / 127.5 # 생성자처음 activation이 tanh이니까\n",
        "    \n",
        "    true = np.ones((batch_size, 1))\n",
        "    fake = np.zeros((batch_size, 1))\n",
        "    \n",
        "    "
      ]
    }
  ],
  "metadata": {
    "kernelspec": {
      "display_name": "Python 3 (ipykernel)",
      "language": "python",
      "name": "python3"
    },
    "language_info": {
      "codemirror_mode": {
        "name": "ipython",
        "version": 3
      },
      "file_extension": ".py",
      "mimetype": "text/x-python",
      "name": "python",
      "nbconvert_exporter": "python",
      "pygments_lexer": "ipython3",
      "version": "3.8.13"
    },
    "colab": {
      "provenance": [],
      "include_colab_link": true
    }
  },
  "nbformat": 4,
  "nbformat_minor": 5
}