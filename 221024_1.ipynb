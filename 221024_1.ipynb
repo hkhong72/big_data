{
  "nbformat": 4,
  "nbformat_minor": 0,
  "metadata": {
    "colab": {
      "provenance": [],
      "authorship_tag": "ABX9TyM6raO3ZV9KTSrm806/tiEq",
      "include_colab_link": true
    },
    "kernelspec": {
      "name": "python3",
      "display_name": "Python 3"
    },
    "language_info": {
      "name": "python"
    }
  },
  "cells": [
    {
      "cell_type": "markdown",
      "metadata": {
        "id": "view-in-github",
        "colab_type": "text"
      },
      "source": [
        "<a href=\"https://colab.research.google.com/github/hkhong72/big_data/blob/main/221024_1.ipynb\" target=\"_parent\"><img src=\"https://colab.research.google.com/assets/colab-badge.svg\" alt=\"Open In Colab\"/></a>"
      ]
    },
    {
      "cell_type": "markdown",
      "source": [
        "Hadoop Eco System OverView 하기\n",
        "image.png\n",
        "\n",
        "log 를 HDFS 에 쌓아주는 Eco System - FLUME\n",
        "전체 모듈을 codinate 해주는 Zookeeper\n",
        "\n",
        "본 강의는 HIVE 를 다룰 것임 (SQL Over Hadoop)\n",
        "\n",
        "image.png\n",
        "\n",
        "Hadoop Cluster에 실제 데이터(HDFS)가 있는데, 이것을 가상의 테이블 형태로 변환하여 SQL문을 사용가능하게 함\n",
        "\n",
        "사용자에게 테이블처럼 보이게하려면, 사용자가 테이블을 생성해야 하고, 그 테이블에 어느 데이터가 있는지 까지는 알려줘야 HIVE 가 처리가능\n",
        "\n",
        "HIVE 는 Hadoop Cluster안에 1. 사용자가 지정한 데이터, 2. 사용자가 지정한 테이블 필요 (== Hive Meta store data base)\n",
        "\n",
        "여기서 잠깐! Meta data란?\n",
        "\n",
        "실제 데이터에 대한 '정보 데이터' 를 의미,\n",
        "\n",
        "Hadoop Meta data는 실제 데이터가 Hadoop Cluster안에 있다는 것을 지님\n",
        "\n",
        "이러한 Hadoop Meta Data를 모아둔 Meta data store 존재 (RDBMS)\n",
        "\n",
        "Linux 환경에 MySQL을 설치하여 실습해볼 것임\n",
        "\n",
        "sudo apt install mysql-server\n",
        "sudo systemctl status mysql\n",
        "sudo vi /etc/mysql/mysql.conf.d/mysqld.cnf\n",
        "  File \"<ipython-input-1-b853501dccfa>\", line 1\n",
        "    sudo apt install mysql-server\n",
        "           ^\n",
        "SyntaxError: invalid syntax\n",
        "만약에 외부에서 접속을 허용하고싶을 경우\n",
        "bind-address = 127.0.0.1 을 dimmed 시키고\n",
        "\n",
        "다시 시스템에서 실행\n",
        "\n",
        "sudo systemctl restart mysql\n",
        "sudo ufw allow mysql\n",
        "리눅스의 root 계정과 mysql의 root 계정은 연동되어있어 별도의 아이디, 비번을 입력하지 않아도 됨\n",
        "\n",
        "sudo mysql\n",
        "mysql > 로 변경됨을 확인\n",
        "HIVE 에서 Meta data 저장용 DB를 만들것임\n",
        "create database hive_db default character set utf8;\n",
        "show databases;\n",
        "HIVE 가 사용할 계정을 만들것임 (외부접속용, 내부접속용)\n",
        "create user 'hive'@'%' identified by '1234';\n",
        "create user 'hive'@'localhost' identified by '1234';\n",
        "만든 계정에 DB 권한 부여 (모든 접속 권한 db.*)\n",
        "grant all privileges on hive_db.* to 'hive'@'%';\n",
        "grant all privileges on hive_db.* to 'hive'@'localhost';\n",
        "flush privileges;\n",
        "정상적으로 DB 사용가능한지 확인\n",
        "포트 포워딩 한번 더 할것임\n",
        "\n",
        "C:\\ProgramData\\VMware\\vmnetnat.conf 수정\n",
        "\n",
        "SSH\n",
        "33060 = 192.168.64.129:3306 추가 후 저장 (ubuntu ifconfig ip) 후\n",
        "\n",
        "서비스 Vmware NAT Service 재시작\n",
        "\n",
        "Windows MySQL Workbench에서 확인하기\n",
        "\n",
        "생성\n",
        "image.png\n",
        "\n",
        "만든 Connection에 접속하기\n",
        "image.png\n",
        "\n",
        "정상 접속 완료\n",
        "image.png\n",
        "\n"
      ],
      "metadata": {
        "id": "ZhOF2_ve50aR"
      }
    }
  ]
}