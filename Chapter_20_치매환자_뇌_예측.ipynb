{
  "cells": [
    {
      "cell_type": "markdown",
      "metadata": {
        "id": "view-in-github",
        "colab_type": "text"
      },
      "source": [
        "<a href=\"https://colab.research.google.com/github/hkhong72/big_data/blob/main/Chapter_20_%EC%B9%98%EB%A7%A4%ED%99%98%EC%9E%90_%EB%87%8C_%EC%98%88%EC%B8%A1.ipynb\" target=\"_parent\"><img src=\"https://colab.research.google.com/assets/colab-badge.svg\" alt=\"Open In Colab\"/></a>"
      ]
    },
    {
      "cell_type": "code",
      "execution_count": null,
      "id": "5fc7f48a",
      "metadata": {
        "id": "5fc7f48a"
      },
      "outputs": [],
      "source": [
        "from tensorflow.keras.models import Sequential\n",
        "from tensorflow.keras.layers import Dense, Activation, Dropout, Flatten,Conv2D, MaxPooling2D\n",
        "from tensorflow.keras.preprocessing.image import ImageDataGenerator\n",
        "from tensorflow.keras.callbacks import EarlyStopping\n",
        "from tensorflow.keras import optimizers\n",
        "import numpy as np\n",
        "import matplotlib.pyplot as plt\n",
        "import os\n",
        "os.environ[\"KMP_DUPLICATE_LIB_OK\"]=\"TRUE\" # KMP에러 방지"
      ]
    },
    {
      "cell_type": "code",
      "execution_count": null,
      "id": "842a9757",
      "metadata": {
        "id": "842a9757"
      },
      "outputs": [],
      "source": [
        "# 데이터 가져오기\n",
        "!git clone https://github.com/taehojo/data-ch20.git"
      ]
    },
    {
      "cell_type": "code",
      "execution_count": null,
      "id": "b2d4d8e0",
      "metadata": {
        "id": "b2d4d8e0"
      },
      "outputs": [],
      "source": [
        "# 학습셋 변형\n",
        "train_datagen = ImageDataGenerator(rescale=1./255, # 주어진 이미지 크기를 설정\n",
        "                                                  horizontal_flip=True, # 수평 대칭 이미지를 50% 확률로 만들어 추가\n",
        "                                                  width_shift_range=0.1, # 마찬가지로 위아래로 이동\n",
        "                                                  height_shift_range=0.1, # 정해진 각도만큼 회전\n",
        "                                                  #rotation_range=5, # 좌표 하나를 고정시키고 나머지를 이동\n",
        "                                                  #shear_range=0.7, # 확대 또는 축소\n",
        "                                                  #zoom_range=[0.9, 2.2], # 수직 대칭 이미지 만들기\n",
        "                                                  #vertical_flip=True, # 빈 공간 채우는 방법\n",
        "                                                  #fill_mode='nearest') # nearest 옵션 = 가장 비슷한 색으로 채우기"
      ]
    },
    {
      "cell_type": "code",
      "execution_count": null,
      "id": "ea752ee4",
      "metadata": {
        "id": "ea752ee4"
      },
      "outputs": [],
      "source": [
        "train_generator = train_datagen.flow_from_directory('data/train/', # 학습셋 폴더 위치\n",
        "                                                                    target_size=(150,150),\n",
        "                                                                    batch_size=5,\n",
        "                                                                    class_mode='binary')"
      ]
    },
    {
      "cell_type": "code",
      "execution_count": null,
      "id": "84547b7e",
      "metadata": {
        "id": "84547b7e"
      },
      "outputs": [],
      "source": [
        "# 테스트셋은 이미지 부풀리기 과정을 진행하지 않는다.\n",
        "test_datagen = ImageDataGenerator(rescale=1./255)"
      ]
    },
    {
      "cell_type": "code",
      "execution_count": null,
      "id": "9c2a0e5b",
      "metadata": {
        "id": "9c2a0e5b"
      },
      "outputs": [],
      "source": [
        "test_generator = test_datagen.flow_from_directory('data/test/', # 학습셋 폴더 위치\n",
        "                                                                    target_size=(150,150),\n",
        "                                                                    batch_size=5,\n",
        "                                                                    class_mode='binary')"
      ]
    },
    {
      "cell_type": "code",
      "execution_count": null,
      "id": "bb8f5f36",
      "metadata": {
        "id": "bb8f5f36"
      },
      "outputs": [],
      "source": [
        "# CNN 모델을 만들어 적용해야한다.\n",
        "model = Sequential()\n",
        "model.add(Conv2D(32, (3, 3), input_shape=(150,150,3)))\n",
        "model.add(Activation('relu'))\n",
        "model.add(MaxPooling2D(pool_size=(2,2)))\n",
        "\n",
        "model.add(Conv2D(32, (3, 3)))\n",
        "model.add(Activation('relu'))\n",
        "model.add(MaxPooling2D(pool_size=(2,2)))\n",
        "\n",
        "model.add(Conv2D(64, (3, 3)))\n",
        "model.add(Activation('relu'))\n",
        "model.add(MaxPooling2D(pool_size=(2,2)))\n",
        "\n",
        "model.add(Flatten())\n",
        "model.add(Dense(64))\n",
        "model.add(Activaiton('relu'))\n",
        "model.add(Dropout(0.5))\n",
        "model.add(Dense(1))\n",
        "model.add(Activation('sigmoid'))"
      ]
    },
    {
      "cell_type": "code",
      "execution_count": null,
      "id": "49e70b58",
      "metadata": {
        "id": "49e70b58"
      },
      "outputs": [],
      "source": [
        "# 모델 실행 옵션 설정\n",
        "model.compile(loss='binary_crossentropy', optimizer=optimizers.Adam(learning_rate=0.0002), metrics=['accuracy'])\n",
        "\n",
        "# 학습 조기 중단 설정\n",
        "early_stopping_callback = EarlyStopping(monitor='val_loss', patience=5)"
      ]
    },
    {
      "cell_type": "code",
      "execution_count": null,
      "id": "92aaab17",
      "metadata": {
        "id": "92aaab17"
      },
      "outputs": [],
      "source": [
        "# 모델 실행\n",
        "history = model.fit(\n",
        "        train_generator,\n",
        "        epochs=100,\n",
        "        validation_data=test_generator,\n",
        "        validation_steps=10,\n",
        "        callbacks=[early_stopping_callback])"
      ]
    },
    {
      "cell_type": "code",
      "execution_count": null,
      "id": "c5753c44",
      "metadata": {
        "id": "c5753c44"
      },
      "outputs": [],
      "source": [
        "# 검증셋과 학습셋의 오차 저장\n",
        "y_vloss = history.history['val_loss']\n",
        "y_loss = history.history['loss']"
      ]
    },
    {
      "cell_type": "code",
      "execution_count": null,
      "id": "dfaf1c98",
      "metadata": {
        "id": "dfaf1c98"
      },
      "outputs": [],
      "source": [
        "# 그래프 표현\n",
        "x_len = np.arange(len(y_loss))\n",
        "plt.plot(x_len, y_vloss, marker=' . ', c=\"red\", label='Testset_loss')\n",
        "plt.plot(x_len, y_loss, marker=' . ', c=\"blue\", label='Trainset_loss')\n",
        "\n",
        "# 그래프에 그리드 주고 레이블 표시\n",
        "plt.legend(loc='upper right')\n",
        "plt.grid()\n",
        "plt.xlabel('epoch')\n",
        "plt.ylabel('loss')\n",
        "plt.show()"
      ]
    }
  ],
  "metadata": {
    "kernelspec": {
      "display_name": "Python 3 (ipykernel)",
      "language": "python",
      "name": "python3"
    },
    "language_info": {
      "codemirror_mode": {
        "name": "ipython",
        "version": 3
      },
      "file_extension": ".py",
      "mimetype": "text/x-python",
      "name": "python",
      "nbconvert_exporter": "python",
      "pygments_lexer": "ipython3",
      "version": "3.8.13"
    },
    "colab": {
      "provenance": [],
      "include_colab_link": true
    }
  },
  "nbformat": 4,
  "nbformat_minor": 5
}