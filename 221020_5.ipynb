{
  "nbformat": 4,
  "nbformat_minor": 0,
  "metadata": {
    "colab": {
      "provenance": [],
      "authorship_tag": "ABX9TyNuk+TmtbWhuXDYP0Re05B3",
      "include_colab_link": true
    },
    "kernelspec": {
      "name": "python3",
      "display_name": "Python 3"
    },
    "language_info": {
      "name": "python"
    }
  },
  "cells": [
    {
      "cell_type": "markdown",
      "metadata": {
        "id": "view-in-github",
        "colab_type": "text"
      },
      "source": [
        "<a href=\"https://colab.research.google.com/github/hkhong72/big_data/blob/main/221020_5.ipynb\" target=\"_parent\"><img src=\"https://colab.research.google.com/assets/colab-badge.svg\" alt=\"Open In Colab\"/></a>"
      ]
    },
    {
      "cell_type": "markdown",
      "source": [
        "com.adacho.mapper 패키지에\n",
        "\n",
        "ArrivalDelayCountMapper 클래스 생성"
      ],
      "metadata": {
        "id": "b3gBojojJPCR"
      }
    },
    {
      "cell_type": "code",
      "source": [
        "package com.adacho.mapper;\n",
        "\n",
        "import java.io.IOException;\n",
        "\n",
        "import org.apache.hadoop.io.IntWritable;\n",
        "import org.apache.hadoop.io.LongWritable;\n",
        "import org.apache.hadoop.io.Text;\n",
        "import org.apache.hadoop.mapreduce.Mapper;\n",
        "\n",
        "import com.adacho.common.AirlinePerformanceParser;\n",
        "\n",
        "public class ArrivalDelayCountMapper extends Mapper<LongWritable, Text, Text, IntWritable>{\n",
        "\t   private final static IntWritable outputValue = new IntWritable(1);\n",
        "\t   private Text outputKey = new Text();\n",
        "\t   \n",
        "\t   @Override\n",
        "\t   protected void map(LongWritable key, Text value, Mapper<LongWritable, Text, Text, IntWritable>.Context context)\n",
        "\t         throws IOException, InterruptedException {\n",
        "\t      // TODO Auto-generated method stub\n",
        "\t      AirlinePerformanceParser parser = new AirlinePerformanceParser(value);\n",
        "\t      \n",
        "\t      outputKey.set(parser.getYear() + \",\" + parser.getMonth());\n",
        "\t      \n",
        "\t      if(parser.getArriveDelayTime() >0 ) {\n",
        "\t         context.write(outputKey, outputValue);\n",
        "\t      }\n",
        "\t   }\n",
        "\t}\n"
      ],
      "metadata": {
        "id": "xXBm5qmtJa4M"
      },
      "execution_count": null,
      "outputs": []
    },
    {
      "cell_type": "markdown",
      "source": [
        "com.adacho.driver 패키지에\n",
        "\n",
        "ArrivalDelayCount 클래스 생성\n"
      ],
      "metadata": {
        "id": "tk5w2TWdJeev"
      }
    },
    {
      "cell_type": "code",
      "source": [
        "package com.adacho.driver;\n",
        "\n",
        "import org.apache.hadoop.conf.Configuration;\n",
        "import org.apache.hadoop.fs.Path;\n",
        "import org.apache.hadoop.io.IntWritable;\n",
        "import org.apache.hadoop.io.Text;\n",
        "import org.apache.hadoop.mapreduce.Job;\n",
        "import org.apache.hadoop.mapreduce.lib.input.FileInputFormat;\n",
        "import org.apache.hadoop.mapreduce.lib.input.TextInputFormat;\n",
        "import org.apache.hadoop.mapreduce.lib.output.FileOutputFormat;\n",
        "import org.apache.hadoop.mapreduce.lib.output.TextOutputFormat;\n",
        "\n",
        "import com.adacho.mapper.ArrivalDelayCountMapper;\n",
        "import com.adacho.reducer.DelayCountReducer;\n",
        "\n",
        "public class ArrivalDelayCount {\n",
        "\tpublic static void main(String[] args) throws Exception{\n",
        "\n",
        "\t\tConfiguration conf = new Configuration();\n",
        "\t\tif(args.length !=2) {\n",
        "\t\t\tSystem.err.println(\"Usage: ArrivalDelayCount <input> <output>\");\n",
        "\t\t\tSystem.exit(1);\n",
        "\t\t}\n",
        "\n",
        "\t\tJob job = Job.getInstance(conf, \"ArrivalDelayCount\");\n",
        "\n",
        "\t\tjob.setJarByClass(ArrivalDelayCount.class); //드라이브 클래스 저장\n",
        "\t\tjob.setMapperClass(ArrivalDelayCountMapper.class); //메퍼클래스저장\n",
        "\t\tjob.setReducerClass(DelayCountReducer.class); //리듀스클래스저장\n",
        "\n",
        "\t\tjob.setInputFormatClass(TextInputFormat.class); //두개중에 길이가 긴 것 임포트\n",
        "\t\tjob.setOutputFormatClass(TextOutputFormat.class); //두개중에 길이가 긴 것 임포트\n",
        "\n",
        "\t\tjob.setMapOutputKeyClass(Text.class);\n",
        "\t\tjob.setMapOutputValueClass(IntWritable.class);\n",
        "\n",
        "\t\tFileInputFormat.addInputPath(job, new Path(args[0])); //여러개에 인풋데이타가 있으면 다 줄 수 있음\n",
        "\t\tFileOutputFormat.setOutputPath(job, new Path(args[1]));\n",
        "\n",
        "\t\tjob.waitForCompletion(true); //job이끝날때까지 기다리고있다가 동기방식으로 \n",
        "\n",
        "\t}\n",
        "}\n"
      ],
      "metadata": {
        "id": "vIv66KCxJjy3"
      },
      "execution_count": null,
      "outputs": []
    },
    {
      "cell_type": "markdown",
      "source": [
        "메이븐 클린\n",
        "\n",
        "메이븐 인스톨 (jar 오버라이트됨)"
      ],
      "metadata": {
        "id": "XkP5aIibJzPG"
      }
    },
    {
      "cell_type": "markdown",
      "source": [
        "자르 경로복사해서\n",
        "\n",
        "cd 자르경로\n",
        "\n",
        "scp .\\airPerformance-0.1.jar ubuntu:~/work/java  윈도우에서 리눅스로 \n",
        "\n",
        "/work/java에서\n",
        "\n",
        "yarn jar ./airPerformance-0.1.jar com.adacho.driver.ArrivalDelayCount air-input arr-delay-count\n",
        "\n",
        "hdfs dfs -ls arr-delay-count\n",
        "\n",
        "hdfs dfs -cat arr-delay-count/part-r-00000"
      ],
      "metadata": {
        "id": "EOttd4mSJ4Z2"
      }
    }
  ]
}