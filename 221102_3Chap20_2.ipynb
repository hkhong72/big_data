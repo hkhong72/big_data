{
  "cells": [
    {
      "cell_type": "markdown",
      "metadata": {
        "id": "view-in-github",
        "colab_type": "text"
      },
      "source": [
        "<a href=\"https://colab.research.google.com/github/hkhong72/big_data/blob/main/221102_3Chap20_2.ipynb\" target=\"_parent\"><img src=\"https://colab.research.google.com/assets/colab-badge.svg\" alt=\"Open In Colab\"/></a>"
      ]
    },
    {
      "cell_type": "code",
      "execution_count": null,
      "id": "67357afb",
      "metadata": {
        "id": "67357afb"
      },
      "outputs": [],
      "source": [
        "from tensorflow.keras import models, layers, optimizers\n",
        "from tensorflow.keras.preprocessing.image import ImageDataGenerator\n",
        "from tensorflow.keras.callbacks import EarlyStopping\n",
        "from tensorflow.keras.applications import VGG16\n",
        "import matplotlib.pyplot as plt\n",
        "import numpy as np\n",
        "import os\n",
        "os.environ[\"KMP_DUPLICATE_LIB_OK\"]=\"TRUE\""
      ]
    },
    {
      "cell_type": "code",
      "execution_count": null,
      "id": "38acf605",
      "metadata": {
        "id": "38acf605",
        "outputId": "29ec0ffb-70fb-4a0f-b9da-fa27bdf3ec27"
      },
      "outputs": [
        {
          "name": "stdout",
          "output_type": "stream",
          "text": [
            "Found 160 images belonging to 2 classes.\n",
            "Found 120 images belonging to 2 classes.\n"
          ]
        }
      ],
      "source": [
        "train_datagen = ImageDataGenerator(rescale=1./255, horizontal_flip=True, # 수평 대칭 이미지를 50%확률로 만들어 추가\n",
        "                                  width_shift_range=0.1, # 전체 크기의 15% 범위에서 좌우로 이동\n",
        "                                  height_shift_range=0.1)\n",
        "test_datagen = ImageDataGenerator(rescale=1./255) # 테스트 할 데이터는 변형시키면 안됨\n",
        "train_generator = train_datagen.flow_from_directory('data/data/train',\n",
        "                                                   target_size=(150, 150),\n",
        "                                                   batch_size=5,\n",
        "                                                   class_mode='binary')\n",
        "test_generator = test_datagen.flow_from_directory('data/data/test',\n",
        "                                                   target_size=(150, 150),\n",
        "                                                   batch_size=5,\n",
        "                                                   class_mode='binary')"
      ]
    },
    {
      "cell_type": "code",
      "execution_count": null,
      "id": "476aeec1",
      "metadata": {
        "id": "476aeec1",
        "outputId": "a4af1e63-afc2-4870-e445-d480e390b27a"
      },
      "outputs": [
        {
          "name": "stdout",
          "output_type": "stream",
          "text": [
            "Downloading data from https://storage.googleapis.com/tensorflow/keras-applications/vgg16/vgg16_weights_tf_dim_ordering_tf_kernels_notop.h5\n",
            "58892288/58889256 [==============================] - 1s 0us/step\n",
            "58900480/58889256 [==============================] - 1s 0us/step\n",
            "Model: \"vgg16\"\n",
            "_________________________________________________________________\n",
            " Layer (type)                Output Shape              Param #   \n",
            "=================================================================\n",
            " input_1 (InputLayer)        [(None, 150, 150, 3)]     0         \n",
            "                                                                 \n",
            " block1_conv1 (Conv2D)       (None, 150, 150, 64)      1792      \n",
            "                                                                 \n",
            " block1_conv2 (Conv2D)       (None, 150, 150, 64)      36928     \n",
            "                                                                 \n",
            " block1_pool (MaxPooling2D)  (None, 75, 75, 64)        0         \n",
            "                                                                 \n",
            " block2_conv1 (Conv2D)       (None, 75, 75, 128)       73856     \n",
            "                                                                 \n",
            " block2_conv2 (Conv2D)       (None, 75, 75, 128)       147584    \n",
            "                                                                 \n",
            " block2_pool (MaxPooling2D)  (None, 37, 37, 128)       0         \n",
            "                                                                 \n",
            " block3_conv1 (Conv2D)       (None, 37, 37, 256)       295168    \n",
            "                                                                 \n",
            " block3_conv2 (Conv2D)       (None, 37, 37, 256)       590080    \n",
            "                                                                 \n",
            " block3_conv3 (Conv2D)       (None, 37, 37, 256)       590080    \n",
            "                                                                 \n",
            " block3_pool (MaxPooling2D)  (None, 18, 18, 256)       0         \n",
            "                                                                 \n",
            " block4_conv1 (Conv2D)       (None, 18, 18, 512)       1180160   \n",
            "                                                                 \n",
            " block4_conv2 (Conv2D)       (None, 18, 18, 512)       2359808   \n",
            "                                                                 \n",
            " block4_conv3 (Conv2D)       (None, 18, 18, 512)       2359808   \n",
            "                                                                 \n",
            " block4_pool (MaxPooling2D)  (None, 9, 9, 512)         0         \n",
            "                                                                 \n",
            " block5_conv1 (Conv2D)       (None, 9, 9, 512)         2359808   \n",
            "                                                                 \n",
            " block5_conv2 (Conv2D)       (None, 9, 9, 512)         2359808   \n",
            "                                                                 \n",
            " block5_conv3 (Conv2D)       (None, 9, 9, 512)         2359808   \n",
            "                                                                 \n",
            " block5_pool (MaxPooling2D)  (None, 4, 4, 512)         0         \n",
            "                                                                 \n",
            "=================================================================\n",
            "Total params: 14,714,688\n",
            "Trainable params: 0\n",
            "Non-trainable params: 14,714,688\n",
            "_________________________________________________________________\n"
          ]
        }
      ],
      "source": [
        "# 모델새로만들기\n",
        "transfer_model = VGG16(weights='imagenet', include_top=False, \n",
        "                       #맨마지막을날리고 우리껄 쌓음(파인튜닝)\n",
        "                       input_shape=(150, 150, 3))\n",
        "transfer_model.trainable = False\n",
        "transfer_model.summary()"
      ]
    },
    {
      "cell_type": "code",
      "execution_count": null,
      "id": "af1667aa",
      "metadata": {
        "id": "af1667aa",
        "outputId": "03a27d31-0cbd-4736-b7fa-7699da18ebe2"
      },
      "outputs": [
        {
          "name": "stdout",
          "output_type": "stream",
          "text": [
            "Model: \"sequential_1\"\n",
            "_________________________________________________________________\n",
            " Layer (type)                Output Shape              Param #   \n",
            "=================================================================\n",
            " vgg16 (Functional)          (None, 4, 4, 512)         14714688  \n",
            "                                                                 \n",
            " flatten_1 (Flatten)         (None, 8192)              0         \n",
            "                                                                 \n",
            " dense_2 (Dense)             (None, 64)                524352    \n",
            "                                                                 \n",
            " dropout_1 (Dropout)         (None, 64)                0         \n",
            "                                                                 \n",
            " dense_3 (Dense)             (None, 1)                 65        \n",
            "                                                                 \n",
            "=================================================================\n",
            "Total params: 15,239,105\n",
            "Trainable params: 524,417\n",
            "Non-trainable params: 14,714,688\n",
            "_________________________________________________________________\n"
          ]
        }
      ],
      "source": [
        "finetune_model = models.Sequential()\n",
        "finetune_model.add(transfer_model)\n",
        "finetune_model.add(layers.Flatten())\n",
        "finetune_model.add(layers.Dense(64, activation='relu'))\n",
        "finetune_model.add(layers.Dropout(0.5))\n",
        "finetune_model.add(layers.Dense(1, activation='sigmoid'))\n",
        "finetune_model.summary()"
      ]
    },
    {
      "cell_type": "code",
      "execution_count": null,
      "id": "63e25c21",
      "metadata": {
        "id": "63e25c21"
      },
      "outputs": [],
      "source": [
        "# 모델 실행 옵션 설정\n",
        "finetune_model.compile(loss='binary_crossentropy', optimizer=optimizers.Adam(learning_rate=0.0002), metrics=['accuracy'])\n",
        "\n",
        "# 학습 조기 중단 설정\n",
        "early_stopping = EarlyStopping(monitor='val_loss', patience=5)"
      ]
    },
    {
      "cell_type": "code",
      "execution_count": null,
      "id": "cc957bb6",
      "metadata": {
        "id": "cc957bb6",
        "outputId": "735cecf9-1113-41ef-8de3-e2eb21488ed2"
      },
      "outputs": [
        {
          "name": "stdout",
          "output_type": "stream",
          "text": [
            "Epoch 1/100\n",
            "32/32 [==============================] - 15s 460ms/step - loss: 0.6760 - accuracy: 0.5562 - val_loss: 0.5515 - val_accuracy: 0.7250\n",
            "Epoch 2/100\n",
            "32/32 [==============================] - 15s 474ms/step - loss: 0.4961 - accuracy: 0.7500 - val_loss: 0.4269 - val_accuracy: 0.8417\n",
            "Epoch 3/100\n",
            "32/32 [==============================] - 15s 489ms/step - loss: 0.4197 - accuracy: 0.8500 - val_loss: 0.3714 - val_accuracy: 0.8667\n",
            "Epoch 4/100\n",
            "32/32 [==============================] - 15s 467ms/step - loss: 0.3717 - accuracy: 0.8438 - val_loss: 0.3152 - val_accuracy: 0.9083\n",
            "Epoch 5/100\n",
            "32/32 [==============================] - 15s 467ms/step - loss: 0.3478 - accuracy: 0.8562 - val_loss: 0.2921 - val_accuracy: 0.9167\n",
            "Epoch 6/100\n",
            "32/32 [==============================] - 15s 470ms/step - loss: 0.3087 - accuracy: 0.8687 - val_loss: 0.2519 - val_accuracy: 0.9500\n",
            "Epoch 7/100\n",
            "32/32 [==============================] - 15s 470ms/step - loss: 0.2845 - accuracy: 0.8875 - val_loss: 0.2330 - val_accuracy: 0.9417\n",
            "Epoch 8/100\n",
            "32/32 [==============================] - 15s 474ms/step - loss: 0.2435 - accuracy: 0.9125 - val_loss: 0.2223 - val_accuracy: 0.9167\n",
            "Epoch 9/100\n",
            "32/32 [==============================] - 15s 471ms/step - loss: 0.2712 - accuracy: 0.9125 - val_loss: 0.2037 - val_accuracy: 0.9417\n",
            "Epoch 10/100\n",
            "32/32 [==============================] - 15s 473ms/step - loss: 0.2252 - accuracy: 0.9062 - val_loss: 0.2201 - val_accuracy: 0.9167\n",
            "Epoch 11/100\n",
            "32/32 [==============================] - 15s 475ms/step - loss: 0.1879 - accuracy: 0.9375 - val_loss: 0.1714 - val_accuracy: 0.9500\n",
            "Epoch 12/100\n",
            "32/32 [==============================] - 15s 476ms/step - loss: 0.1863 - accuracy: 0.9438 - val_loss: 0.1739 - val_accuracy: 0.9333\n",
            "Epoch 13/100\n",
            "32/32 [==============================] - 15s 473ms/step - loss: 0.1784 - accuracy: 0.9563 - val_loss: 0.1836 - val_accuracy: 0.9417\n",
            "Epoch 14/100\n",
            "32/32 [==============================] - 15s 472ms/step - loss: 0.1657 - accuracy: 0.9312 - val_loss: 0.1599 - val_accuracy: 0.9500\n",
            "Epoch 15/100\n",
            "32/32 [==============================] - 15s 472ms/step - loss: 0.1464 - accuracy: 0.9500 - val_loss: 0.1483 - val_accuracy: 0.9500\n",
            "Epoch 16/100\n",
            "32/32 [==============================] - 15s 470ms/step - loss: 0.1751 - accuracy: 0.9500 - val_loss: 0.1563 - val_accuracy: 0.9333\n",
            "Epoch 17/100\n",
            "32/32 [==============================] - 15s 472ms/step - loss: 0.1724 - accuracy: 0.9500 - val_loss: 0.1576 - val_accuracy: 0.9417\n",
            "Epoch 18/100\n",
            "32/32 [==============================] - 15s 476ms/step - loss: 0.1501 - accuracy: 0.9500 - val_loss: 0.1335 - val_accuracy: 0.9583\n",
            "Epoch 19/100\n",
            "32/32 [==============================] - 15s 473ms/step - loss: 0.1406 - accuracy: 0.9563 - val_loss: 0.1317 - val_accuracy: 0.9583\n",
            "Epoch 20/100\n",
            "32/32 [==============================] - 15s 472ms/step - loss: 0.1571 - accuracy: 0.9312 - val_loss: 0.1428 - val_accuracy: 0.9500\n",
            "Epoch 21/100\n",
            "32/32 [==============================] - 15s 480ms/step - loss: 0.1629 - accuracy: 0.9125 - val_loss: 0.1412 - val_accuracy: 0.9500\n",
            "Epoch 22/100\n",
            "32/32 [==============================] - 16s 490ms/step - loss: 0.1262 - accuracy: 0.9688 - val_loss: 0.1236 - val_accuracy: 0.9667\n",
            "Epoch 23/100\n",
            "32/32 [==============================] - 16s 497ms/step - loss: 0.1348 - accuracy: 0.9563 - val_loss: 0.1190 - val_accuracy: 0.9583\n",
            "Epoch 24/100\n",
            "32/32 [==============================] - 19s 598ms/step - loss: 0.1374 - accuracy: 0.9563 - val_loss: 0.1261 - val_accuracy: 0.9500\n",
            "Epoch 25/100\n",
            "32/32 [==============================] - 19s 580ms/step - loss: 0.1129 - accuracy: 0.9625 - val_loss: 0.1042 - val_accuracy: 0.9667\n",
            "Epoch 26/100\n",
            "32/32 [==============================] - 18s 548ms/step - loss: 0.1076 - accuracy: 0.9812 - val_loss: 0.1082 - val_accuracy: 0.9583\n",
            "Epoch 27/100\n",
            "32/32 [==============================] - 17s 542ms/step - loss: 0.1396 - accuracy: 0.9625 - val_loss: 0.1100 - val_accuracy: 0.9583\n",
            "Epoch 28/100\n",
            "32/32 [==============================] - 16s 512ms/step - loss: 0.1034 - accuracy: 0.9563 - val_loss: 0.1120 - val_accuracy: 0.9500\n",
            "Epoch 29/100\n",
            "32/32 [==============================] - 16s 501ms/step - loss: 0.0957 - accuracy: 0.9812 - val_loss: 0.1150 - val_accuracy: 0.9583\n",
            "Epoch 30/100\n",
            "32/32 [==============================] - 15s 485ms/step - loss: 0.1180 - accuracy: 0.9500 - val_loss: 0.1090 - val_accuracy: 0.9667\n"
          ]
        }
      ],
      "source": [
        "# 모델 실행\n",
        "history = finetune_model.fit(train_generator,epochs=100,\n",
        "                   validation_data=test_generator,\n",
        "                   callbacks=[early_stopping])"
      ]
    },
    {
      "cell_type": "code",
      "execution_count": null,
      "id": "183aa405",
      "metadata": {
        "id": "183aa405",
        "outputId": "afff57f1-174d-4332-dc00-dd40cc8dbcd5"
      },
      "outputs": [
        {
          "data": {
            "image/png": "[encoded data removed]",
            "text/plain": [
              "<Figure size 640x480 with 1 Axes>"
            ]
          },
          "metadata": {},
          "output_type": "display_data"
        }
      ],
      "source": [
        "# 검증셋과 학습셋의 오차를 저장합니다.\n",
        "y_vloss = history.history['val_loss']\n",
        "y_loss = history.history['loss']\n",
        "\n",
        "# 그래프로 표현해 봅니다.\n",
        "x_len = np.arange(len(y_loss))\n",
        "plt.plot(x_len, y_vloss, marker='.', c=\"red\", label='Testset_loss')\n",
        "plt.plot(x_len, y_loss, marker='.', c=\"blue\", label='Trainset_loss')\n",
        "\n",
        "# 그래프에 그리드를 주고 레이블을 표시하겠습니다.\n",
        "plt.legend(loc='upper right')\n",
        "plt.grid()\n",
        "plt.xlabel('epoch')\n",
        "plt.ylabel('loss')\n",
        "plt.show()"
      ]
    }
  ],
  "metadata": {
    "kernelspec": {
      "display_name": "Python 3 (ipykernel)",
      "language": "python",
      "name": "python3"
    },
    "language_info": {
      "codemirror_mode": {
        "name": "ipython",
        "version": 3
      },
      "file_extension": ".py",
      "mimetype": "text/x-python",
      "name": "python",
      "nbconvert_exporter": "python",
      "pygments_lexer": "ipython3",
      "version": "3.8.13"
    },
    "colab": {
      "provenance": [],
      "include_colab_link": true
    }
  },
  "nbformat": 4,
  "nbformat_minor": 5
}