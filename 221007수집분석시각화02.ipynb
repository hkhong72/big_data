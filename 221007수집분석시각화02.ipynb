{
  "nbformat": 4,
  "nbformat_minor": 0,
  "metadata": {
    "colab": {
      "provenance": [],
      "collapsed_sections": [],
      "mount_file_id": "1v0_NQ5kPHf07Ftp2N6FnoQzb2QQ0Aft2",
      "authorship_tag": "ABX9TyNf1ym/+TQrjEJaDuMD4HNL",
      "include_colab_link": true
    },
    "kernelspec": {
      "name": "python3",
      "display_name": "Python 3"
    },
    "language_info": {
      "name": "python"
    }
  },
  "cells": [
    {
      "cell_type": "markdown",
      "metadata": {
        "id": "view-in-github",
        "colab_type": "text"
      },
      "source": [
        "<a href=\"https://colab.research.google.com/github/hkhong72/big_data/blob/main/221007%EC%88%98%EC%A7%91%EB%B6%84%EC%84%9D%EC%8B%9C%EA%B0%81%ED%99%9402.ipynb\" target=\"_parent\"><img src=\"https://colab.research.google.com/assets/colab-badge.svg\" alt=\"Open In Colab\"/></a>"
      ]
    },
    {
      "cell_type": "code",
      "execution_count": null,
      "metadata": {
        "id": "pExrMzVKzAF_"
      },
      "outputs": [],
      "source": [
        "import numpy as np\n",
        "ls = [1,2,3,4,5,6]\n",
        "arr = np.array(ls)\n",
        "print(arr)\n",
        "print(\"차원 : \",arr.ndim)\n",
        "print(\"구조 : \",arr.shape)"
      ]
    },
    {
      "cell_type": "code",
      "source": [
        "ls1 = np.array([[1,2],[3,4]])\n",
        "ls2 = np.array([[3,9],[1,3]])\n",
        "ls3 =ls1+ls2\n",
        "arr1 = np.array(ls1)\n",
        "arr2 = np.array(ls2)\n",
        "arr3 = arr1+arr2\n",
        "print(arr3)"
      ],
      "metadata": {
        "id": "FsjQTARgzKHp"
      },
      "execution_count": null,
      "outputs": []
    },
    {
      "cell_type": "code",
      "source": [
        "arr = np.random.normal(174.5,7,200) #평균174.5 표준편차7 표본200개 생성\n",
        "print(\"평균 : \",np.mean(arr)) #arr.mean(), np.mean(arr)\n",
        "print(\"분산 : \",np.var(arr))\n",
        "print(\"표준편차 : \",np.std(arr))\n",
        "print(\"중간값 : \",np.median(arr))\n",
        "print(\"최솟값 : \",np.min(arr))\n",
        "print(\"최댓값 : \",np.max(arr))\n",
        "print(\"최솟값 위치 : \",np.argmin(arr))\n",
        "print(\"최댓값 위치 : \",np.argmax(arr))\n",
        "print(\"1/4 분위값 : \",np.quantile(arr,0.25))"
      ],
      "metadata": {
        "id": "UNLPzpOfzpef"
      },
      "execution_count": null,
      "outputs": []
    },
    {
      "cell_type": "markdown",
      "source": [
        "**오늘 강의**\n",
        "pandas \n",
        "메뉴얼 사이트 : https://pandas.pydata.org/docs/"
      ],
      "metadata": {
        "id": "rZOt1djj0ZPf"
      }
    },
    {
      "cell_type": "code",
      "source": [
        "import pandas as pd"
      ],
      "metadata": {
        "id": "K5VG7aSM0XOM"
      },
      "execution_count": null,
      "outputs": []
    },
    {
      "cell_type": "code",
      "source": [
        "kscores = [ 90,87,88,79]\n",
        "ks = pd.Series(kscores)\n",
        "print(ks)"
      ],
      "metadata": {
        "id": "6zWDeJet3U45"
      },
      "execution_count": null,
      "outputs": []
    },
    {
      "cell_type": "code",
      "source": [
        "print(\"인덱스 : \",ks.index)\n",
        "print(\"값 : \",ks.values)"
      ],
      "metadata": {
        "id": "xfIGpwYs-REF"
      },
      "execution_count": null,
      "outputs": []
    },
    {
      "cell_type": "code",
      "source": [
        "names = ['홍길동', '강감찬', '을지문덕', '이순신']\n",
        "ks = pd.Series(kscores, index=names)\n",
        "print(ks)"
      ],
      "metadata": {
        "id": "5YYSCPMDPIsI"
      },
      "execution_count": null,
      "outputs": []
    },
    {
      "cell_type": "code",
      "source": [
        "filter =ks>80\n",
        "print(ks[filter])"
      ],
      "metadata": {
        "id": "1Lte5hNS-iEa"
      },
      "execution_count": null,
      "outputs": []
    },
    {
      "cell_type": "code",
      "source": [
        "if '홍길동' in ks:\n",
        "  print(\"있다\")\n",
        "else:\n",
        "  print(\"없어 용\")"
      ],
      "metadata": {
        "id": "KuEFqfZI_MNb"
      },
      "execution_count": null,
      "outputs": []
    },
    {
      "cell_type": "code",
      "source": [
        "score_chart = {'홍길동':90,\n",
        "               '강감찬':80,\n",
        "               '을지문덕':95,\n",
        "               '이순신':99,\n",
        "               '고구마':45}\n",
        "ks2 = pd.Series(score_chart)\n",
        "print(ks2)"
      ],
      "metadata": {
        "id": "uurJq9EgADI-"
      },
      "execution_count": null,
      "outputs": []
    },
    {
      "cell_type": "code",
      "source": [
        "data = {'홍길동':{2019:168, 2020:174, 2021:180},\n",
        "        '강감찬':{2019:165, 2020:172, 2021:183}\n",
        "}\n",
        "df = pd.DataFrame(data)\n",
        "df"
      ],
      "metadata": {
        "id": "Byse8CfEPPog"
      },
      "execution_count": null,
      "outputs": []
    },
    {
      "cell_type": "code",
      "source": [
        "names = ['홍길동', '강감찬', '이순신', '을지문덕', '장언휴']\n",
        "ks3 = pd.Series(score_chart, index = names)\n",
        "print(ks3)"
      ],
      "metadata": {
        "id": "N7D1FcZYPRzM"
      },
      "execution_count": null,
      "outputs": []
    },
    {
      "cell_type": "code",
      "source": [
        "pd.isnull(ks3)"
      ],
      "metadata": {
        "id": "1OSxBtIpPSxP"
      },
      "execution_count": null,
      "outputs": []
    },
    {
      "cell_type": "code",
      "source": [
        "ks.index.name = '학생이름'\n",
        "print(ks3)"
      ],
      "metadata": {
        "id": "HdNYTBk-PUFG"
      },
      "execution_count": null,
      "outputs": []
    },
    {
      "cell_type": "code",
      "source": [
        "ks3 -= 5\n",
        "print(ks3)"
      ],
      "metadata": {
        "id": "TglEP39JPU0c"
      },
      "execution_count": null,
      "outputs": []
    },
    {
      "cell_type": "code",
      "source": [
        "ks4 = np.exp(ks3)\n",
        "print(ks4)"
      ],
      "metadata": {
        "id": "H6dwWIbTPWFN"
      },
      "execution_count": null,
      "outputs": []
    },
    {
      "cell_type": "code",
      "source": [
        "kscore = ks3.to_numpy()\n",
        "print(kscore)"
      ],
      "metadata": {
        "id": "XD5oLmCTPY8X"
      },
      "execution_count": null,
      "outputs": []
    },
    {
      "cell_type": "code",
      "source": [
        "# 컬럼을 개발자가 명시적으로 지정할 수 있다\n",
        "data = {'이름':['홍길동','홍길동','홍길동','강감찬','강감찬','강감찬'],\n",
        "        '년도':[2019, 2020, 2021, 2019, 2020, 2021],\n",
        "        '키':[165, 173, 177, 150, 172, 180]\n",
        "}\n",
        "\n",
        "df = pd.DataFrame(data)\n",
        "print(df)"
      ],
      "metadata": {
        "id": "vR93tBPGPZ4S"
      },
      "execution_count": null,
      "outputs": []
    },
    {
      "cell_type": "code",
      "source": [
        "df.head()"
      ],
      "metadata": {
        "id": "Rbe5a-IZPa-s"
      },
      "execution_count": null,
      "outputs": []
    },
    {
      "cell_type": "code",
      "source": [
        "cc = ['이름', '키', '년도', '몸무게']\n",
        "ci = ['1학년', '2학년', '3학년', '1학년', '2학년', '3학년']\n",
        "df = pd.DataFrame(data, columns=cc, index=ci)\n",
        "df"
      ],
      "metadata": {
        "id": "i9d0-Z1uPcAv"
      },
      "execution_count": null,
      "outputs": []
    },
    {
      "cell_type": "code",
      "source": [
        "hs = df['키']\n",
        "print(type(hs))\n",
        "hs"
      ],
      "metadata": {
        "id": "nbFcAahqPc5r"
      },
      "execution_count": null,
      "outputs": []
    },
    {
      "cell_type": "code",
      "source": [
        "# 인덱스 연산에는 컬럼명을 사용한다\n",
        "df['년도']\n",
        "print(df)"
      ],
      "metadata": {
        "id": "BGgUr27ZPdyz"
      },
      "execution_count": null,
      "outputs": []
    },
    {
      "cell_type": "code",
      "source": [
        "# loc멤버의 인덱스 연산에는 인덱스 값을 사용한다.\n",
        "df.loc['1학년']"
      ],
      "metadata": {
        "id": "atPCsJiYPewY"
      },
      "execution_count": null,
      "outputs": []
    },
    {
      "cell_type": "code",
      "source": [
        "df['몸무게'] = 0\n",
        "df"
      ],
      "metadata": {
        "id": "RqFnZYHDPgV3"
      },
      "execution_count": null,
      "outputs": []
    },
    {
      "cell_type": "code",
      "source": [
        "# 존재하지 않는 데이터 컬럼 이름을 쓰게 되면 자동으로 데이터 프레임에 추가된다.\n",
        "df['평균이상'] = False\n",
        "df"
      ],
      "metadata": {
        "id": "kf4mJkrfPhLu"
      },
      "execution_count": null,
      "outputs": []
    },
    {
      "cell_type": "code",
      "source": [
        "hm = df['키'].mean()\n",
        "print(\"키 평균 : \", hm)"
      ],
      "metadata": {
        "id": "fWaK3LVTPtic"
      },
      "execution_count": null,
      "outputs": []
    },
    {
      "cell_type": "code",
      "source": [
        "filter = df['키'] >= hm\n",
        "df['평균이상'] = filter # df['평균이상'] = df['키'] >= df['키'].mean()\n",
        "df"
      ],
      "metadata": {
        "id": "OqMMzV6zPuwv"
      },
      "execution_count": null,
      "outputs": []
    },
    {
      "cell_type": "code",
      "source": [
        "# 평균이상 컬럼 삭제\n",
        "del df['평균이상']\n",
        "df"
      ],
      "metadata": {
        "id": "k3ak4XrCPvoG"
      },
      "execution_count": null,
      "outputs": []
    },
    {
      "cell_type": "code",
      "source": [
        "#df = pd.DataFrame(data,index=[2020,2021,2022])\n",
        "#df"
      ],
      "metadata": {
        "id": "P95ak0pM0D2O"
      },
      "execution_count": null,
      "outputs": []
    },
    {
      "cell_type": "code",
      "source": [
        "df.info()"
      ],
      "metadata": {
        "id": "gBvj0jfcQExW"
      },
      "execution_count": null,
      "outputs": []
    },
    {
      "cell_type": "code",
      "source": [
        "df.describe()"
      ],
      "metadata": {
        "id": "IWupdGjUQF8q"
      },
      "execution_count": null,
      "outputs": []
    },
    {
      "cell_type": "code",
      "source": [
        "df.index.name='년도'\n",
        "df"
      ],
      "metadata": {
        "id": "pcAcN2HRQICe"
      },
      "execution_count": null,
      "outputs": []
    },
    {
      "cell_type": "code",
      "source": [
        "df.values"
      ],
      "metadata": {
        "id": "UnBJ2F8DQwYW"
      },
      "execution_count": null,
      "outputs": []
    },
    {
      "cell_type": "code",
      "source": [
        "s = pd.Series(range(3), index=['a','b','c'])\n",
        "s"
      ],
      "metadata": {
        "id": "Ii2Eycp9Qyxg"
      },
      "execution_count": null,
      "outputs": []
    },
    {
      "cell_type": "code",
      "source": [
        "print(s.index)\n",
        "print(s.index[0]) #하나의 원소를 의미함\n",
        "print(s.index[:1]) #결과값은 하나의원소이나, 부분집합을 의미함"
      ],
      "metadata": {
        "id": "1qd1u8wVRZ7Y"
      },
      "execution_count": null,
      "outputs": []
    },
    {
      "cell_type": "code",
      "source": [
        "s.values"
      ],
      "metadata": {
        "id": "XrtqxBiKRdo_"
      },
      "execution_count": null,
      "outputs": []
    },
    {
      "cell_type": "code",
      "source": [
        "print(df.columns)\n",
        "print('키' in df.columns)"
      ],
      "metadata": {
        "id": "RrKnMID7Ri30"
      },
      "execution_count": null,
      "outputs": []
    },
    {
      "cell_type": "code",
      "source": [
        "#s.index[0]='s' # 인덱스통째로는 변경가능하나, 인덱스 부분부분은 변경불가! 오류발생함"
      ],
      "metadata": {
        "id": "KL4mfTijQtli"
      },
      "execution_count": null,
      "outputs": []
    },
    {
      "cell_type": "code",
      "source": [
        "s.index=['s','b','z'] #인덱스를 통째로 변경은 가능\n",
        "print(s)"
      ],
      "metadata": {
        "id": "LjPNaifESq5z"
      },
      "execution_count": null,
      "outputs": []
    },
    {
      "cell_type": "code",
      "source": [
        "names = ['홍','강','감']\n",
        "s = pd.Series([1.0,2.0,1.2],index=names)\n",
        "print(s)"
      ],
      "metadata": {
        "id": "04-1kwh2ThQ7"
      },
      "execution_count": null,
      "outputs": []
    },
    {
      "cell_type": "code",
      "source": [
        "if '홍' in s.index:\n",
        "  print(\"홍홍\")\n",
        "else:\n",
        "  print(\"향향\")"
      ],
      "metadata": {
        "id": "0yYjkq4yT5wn"
      },
      "execution_count": null,
      "outputs": []
    },
    {
      "cell_type": "code",
      "source": [
        "ls = ['홍길동','강감찬','김유신']\n",
        "name = input(\"검색 : \")\n",
        "if name in ls:\n",
        "  print(\"존재합니다.\")\n",
        "else:\n",
        "  print(\"존재X\")"
      ],
      "metadata": {
        "id": "PzQt-nCHUrUy"
      },
      "execution_count": null,
      "outputs": []
    },
    {
      "cell_type": "code",
      "source": [
        "s = pd.Series([1,2,1,2,3,4,2,3,1,2,3,4,2,1,1])\n",
        "s.unique()"
      ],
      "metadata": {
        "id": "sXmC1LS5U2iP"
      },
      "execution_count": null,
      "outputs": []
    },
    {
      "cell_type": "code",
      "source": [
        "s = pd.Series([1,5,3,4],['a','b','d','e'])\n",
        "s\n",
        "s2 = s.reindex(['a','b','d','e'])\n",
        "s2"
      ],
      "metadata": {
        "id": "l9k6FONYVyKP"
      },
      "execution_count": null,
      "outputs": []
    },
    {
      "cell_type": "code",
      "source": [
        "rd = np.arange(9)\n",
        "rd2 = rd.reshape(3,3)\n",
        "df = pd.DataFrame(rd2,index=['a','c','b'],columns=['서울','강원','제주'])\n",
        "df"
      ],
      "metadata": {
        "id": "Bx7yqF-wqJjC"
      },
      "execution_count": null,
      "outputs": []
    },
    {
      "cell_type": "code",
      "source": [
        "df2 = df.reindex(['a','b','c','d'])\n",
        "df2"
      ],
      "metadata": {
        "id": "XjCfMa4psp42"
      },
      "execution_count": null,
      "outputs": []
    },
    {
      "cell_type": "code",
      "source": [
        "areas=['서울','광주','대구','제주']\n",
        "df3 = df.reindex(columns=areas)\n",
        "df3"
      ],
      "metadata": {
        "id": "Tgno2s1ntRcd"
      },
      "execution_count": null,
      "outputs": []
    },
    {
      "cell_type": "code",
      "source": [
        "df.loc[['a','b','c']]"
      ],
      "metadata": {
        "id": "rXFw1jhRt1tA"
      },
      "execution_count": null,
      "outputs": []
    },
    {
      "cell_type": "code",
      "source": [
        "df.loc[['a','c']]"
      ],
      "metadata": {
        "id": "yDTyQ5n4uGcQ"
      },
      "execution_count": null,
      "outputs": []
    },
    {
      "cell_type": "code",
      "source": [
        "s2 = s.drop('b') #'b'를 삭제하여라. (삭제한 개체 반환, 원본 개체는 변화 없음)\n",
        "print(s)\n",
        "print(s2)"
      ],
      "metadata": {
        "id": "IsRCNhmNqBuL"
      },
      "execution_count": null,
      "outputs": []
    },
    {
      "cell_type": "code",
      "source": [
        "df = pd.DataFrame(np.arange(16).reshape(4,4),index=['서울','일산','천안','제주'],columns=['a','b','c','d'])\n",
        "df\n"
      ],
      "metadata": {
        "id": "RAUDxRqVvomm"
      },
      "execution_count": null,
      "outputs": []
    },
    {
      "cell_type": "code",
      "source": [
        "df.drop('a',axis='columns',inplace=True)\n",
        "df"
      ],
      "metadata": {
        "id": "wGfZWjqKwRpd"
      },
      "execution_count": null,
      "outputs": []
    },
    {
      "cell_type": "code",
      "source": [
        "s = pd.Series(np.arange(4),index=['a','b','c','d'])\n",
        "s"
      ],
      "metadata": {
        "id": "x7i8i1iVw1Ov"
      },
      "execution_count": null,
      "outputs": []
    },
    {
      "cell_type": "code",
      "source": [
        "print(s['a']) #인덱스 값으로 색인\n",
        "print(s[1]) # 숫자인덱스로 색인\n",
        "print(s[1:3]) #슬라이스도 가능(부분 집합   모집합과 같은 형식 개체)\n",
        "print(s[['a','c']]) #인덱스 값으로 부분 집합을 추출할 때는 인덱스 연산 내부에 다시 인덱스 연산 사용\n",
        "print(s[s<2]) #필터식 사용"
      ],
      "metadata": {
        "id": "YANVL4SA22au"
      },
      "execution_count": null,
      "outputs": []
    },
    {
      "cell_type": "code",
      "source": [
        "s[s<2] = -1\n",
        "print(s)"
      ],
      "metadata": {
        "id": "64Zpzz2w3rC2"
      },
      "execution_count": null,
      "outputs": []
    },
    {
      "cell_type": "code",
      "source": [
        "df = pd.DataFrame(np.arange(16).reshape(4,4),index=['서울','천안','인천','제주'],columns=['가','나','다','라'])\n",
        "df"
      ],
      "metadata": {
        "id": "w74NA4323n-a"
      },
      "execution_count": null,
      "outputs": []
    },
    {
      "cell_type": "code",
      "source": [
        "print(df['가'])\n",
        "#print(df['서울'])# 오류발생 -> DataFrame에 기본 색인은 컬럼명으로 한다\n",
        "print(df[['가','나']])"
      ],
      "metadata": {
        "id": "yhWPSXJ83H-j"
      },
      "execution_count": null,
      "outputs": []
    },
    {
      "cell_type": "code",
      "source": [
        "#주의!!!\n",
        "#DataFrame의 기본 인덱스 연산은 컬럼을 사용하지만\n",
        "#수로 슬라이스를 표현할 때는 index(행)으로 추출한다\n",
        "print(df[:])\n",
        "print(df[0:2]) #수로 슬라이스를 표현할 때는 컬럼이 아닌 index로 추출한다"
      ],
      "metadata": {
        "id": "Mo9rKCw_25ea"
      },
      "execution_count": null,
      "outputs": []
    },
    {
      "cell_type": "code",
      "source": [
        "filter = df['가']<5\n",
        "df2 = df[filter]\n",
        "df2"
      ],
      "metadata": {
        "id": "SIynYEeW58h-"
      },
      "execution_count": null,
      "outputs": []
    },
    {
      "cell_type": "code",
      "source": [
        "df3 = df[[True,True,False,True]]\n",
        "df3"
      ],
      "metadata": {
        "id": "PRbxXUV56qZe"
      },
      "execution_count": null,
      "outputs": []
    },
    {
      "cell_type": "code",
      "source": [
        "df2 = df[df['가']<5]\n",
        "df2"
      ],
      "metadata": {
        "id": "d2y0U08N7ABb"
      },
      "execution_count": null,
      "outputs": []
    },
    {
      "cell_type": "code",
      "source": [
        "df%2==0"
      ],
      "metadata": {
        "id": "EiS9PnqI7KaR"
      },
      "execution_count": null,
      "outputs": []
    },
    {
      "cell_type": "code",
      "source": [
        "df = pd.DataFrame(np.arange(16).reshape(4,4),index=['서울','천안','인천','제주'],columns=['가','나','다','라'])\n",
        "df"
      ],
      "metadata": {
        "id": "KGj7uHsr7WRi"
      },
      "execution_count": null,
      "outputs": []
    },
    {
      "cell_type": "code",
      "source": [
        "print(df.loc['서울'])\n",
        "print(\"A : \",df.loc['서울'],['가'])\n",
        "print(\"B : \",df.loc['서울'],'가')\n",
        "print(\"C : \",df.loc['서울']['가' : '다']) #축 이름으로 슬라이스 표현하면 마지막도 포함!!"
      ],
      "metadata": {
        "id": "w_P25tdVvmP9"
      },
      "execution_count": null,
      "outputs": []
    },
    {
      "cell_type": "code",
      "source": [
        "print(df.iloc[0:2])\n",
        "print(\"B:\\n\",df.iloc[0:2][1:]) #2차원배열의 부분집합(행 슬라이스)=>2차원배열 \n",
        "print(\"C:\\n\",df.iloc[0:2,1:]) # 2차원 배열의 부분집합(1차원,2차원)\n",
        "print(\"D:\\n\",df.iloc[0][3]) \n",
        "print(\"F:\\n\",df.iloc[0,3]) "
      ],
      "metadata": {
        "id": "nVCKWQ8i8fh5"
      },
      "execution_count": null,
      "outputs": []
    },
    {
      "cell_type": "markdown",
      "source": [
        "**산술연산**"
      ],
      "metadata": {
        "id": "CDXfIUCSEBCN"
      }
    },
    {
      "cell_type": "code",
      "source": [
        "s1 = pd.Series([7,-2,3,2],index=list(\"acde\"))\n",
        "s2 = pd.Series([1,4,5,7,9],index=list(\"abcdf\"))\n",
        "s3 = s1+s2\n",
        "print(\"s1:\\n\",s1)\n",
        "print(\"s2:\\n\",s2)\n",
        "print(\"s3:\\n\",s3)\n"
      ],
      "metadata": {
        "id": "hpzD5FPr_T49"
      },
      "execution_count": null,
      "outputs": []
    },
    {
      "cell_type": "code",
      "source": [
        "df1 = pd.DataFrame(np.arange(9).reshape((3,3)),columns=list(\"abc\"),index=list(\"가나다\"))\n",
        "df2 = pd.DataFrame(np.arange(12).reshape((4,3)),columns=list(\"bcd\"),index=list(\"가다라마\"))\n",
        "print(\"df1 : \\n\", df1)\n",
        "print(\"df2 : \\n\", df2)"
      ],
      "metadata": {
        "id": "Da9kVsXwEhEF"
      },
      "execution_count": null,
      "outputs": []
    },
    {
      "cell_type": "code",
      "source": [
        "df3 = df1+df2 # 좌항 우항 둘중에 하나라도 Nan이면 결과는 Nan\n",
        "print(\"df3 : \\n\",df3)"
      ],
      "metadata": {
        "id": "pcUuE5zBEd7s"
      },
      "execution_count": null,
      "outputs": []
    },
    {
      "cell_type": "code",
      "source": [
        "df3 = df1+df2"
      ],
      "metadata": {
        "id": "3FZXZyCV-kOo"
      },
      "execution_count": null,
      "outputs": []
    },
    {
      "cell_type": "code",
      "source": [
        "df4 = df1.add(df2,fill_value=0) #둘다없는것만 Nan // 산술 연산의 피연산자 중에 하나가 없을 때 0으로 사용\n",
        "# 주의 !!! 두개의 피 연산자가 모두 없을때는 연산결과는 Nan\n",
        "print(\"df1 : \\n\",df1)\n",
        "print(\"df2 : \\n\",df2)\n",
        "print(\"df3 : \\n\",df3)\n",
        "print(\"df4 : \\n\",df4)"
      ],
      "metadata": {
        "id": "ZQlPwyCuGexA"
      },
      "execution_count": null,
      "outputs": []
    },
    {
      "cell_type": "code",
      "source": [
        "df5 = 0/df1\n",
        "print(\"df5 : \\n\",df5)"
      ],
      "metadata": {
        "id": "ySX6P2eY94Db"
      },
      "execution_count": null,
      "outputs": []
    },
    {
      "cell_type": "code",
      "source": [
        "print(\"df1 : \\n\",df1)\n",
        "df6 = df1.reindex(columns=list(\"abcd\"),fill_value=0)\n",
        "print(\"df6 : \\n\",df6)"
      ],
      "metadata": {
        "id": "zWA2bhDm8NbD"
      },
      "execution_count": null,
      "outputs": []
    },
    {
      "cell_type": "code",
      "source": [
        "# 파이썬 기본 문법 - 알고리즘을 입력 인자로 받아 콜백 사용하는 함수\n",
        "def DoAnything(datas,doit):\n",
        "  for data in datas:\n",
        "    doit(data)"
      ],
      "metadata": {
        "id": "PfCdJYPNJEv8"
      },
      "execution_count": null,
      "outputs": []
    },
    {
      "cell_type": "code",
      "source": [
        "def print_data(data):\n",
        "  print(data,\" \")"
      ],
      "metadata": {
        "id": "ckyz_xN8Kpa8"
      },
      "execution_count": null,
      "outputs": []
    },
    {
      "cell_type": "code",
      "source": [
        "ls = [1,2,3,4,6]\n",
        "#DoAnything(ls,print_data)\n",
        "DoAnything(ls, lambda x: print(x))"
      ],
      "metadata": {
        "id": "2C7XPiZAK2OL"
      },
      "execution_count": null,
      "outputs": []
    },
    {
      "cell_type": "code",
      "source": [
        "arr = np.random.randn(4,3)\n",
        "print(arr)"
      ],
      "metadata": {
        "id": "i_WQienwK_4F"
      },
      "execution_count": null,
      "outputs": []
    },
    {
      "cell_type": "code",
      "source": [
        "df = pd.DataFrame(arr,columns=list('bde'),index=['서울','인천','천안','상해'])\n",
        "df"
      ],
      "metadata": {
        "id": "9saQnazRK-lQ"
      },
      "execution_count": null,
      "outputs": []
    },
    {
      "cell_type": "code",
      "source": [
        "df2 = np.abs(df)\n",
        "print(df2)"
      ],
      "metadata": {
        "id": "hF5hSBUyLuwA"
      },
      "execution_count": null,
      "outputs": []
    },
    {
      "cell_type": "code",
      "source": [
        "def gap_min_max(x):\n",
        "  return x.max()-x.min()"
      ],
      "metadata": {
        "id": "wsPL6afzL1fQ"
      },
      "execution_count": null,
      "outputs": []
    },
    {
      "cell_type": "code",
      "source": [
        "df3 = df.apply(gap_min_max)\n",
        "df3"
      ],
      "metadata": {
        "id": "vTyfFBX8JDBd"
      },
      "execution_count": null,
      "outputs": []
    },
    {
      "cell_type": "code",
      "source": [
        "df4 = df.apply(lambda x:x.max()-x.min())\n",
        "df4"
      ],
      "metadata": {
        "id": "rv7k1I1zMiVc"
      },
      "execution_count": null,
      "outputs": []
    },
    {
      "cell_type": "code",
      "source": [
        "s1 = pd.Series(range(4),index=list(\"dabc\"))\n",
        "s2 = s1.sort_index()\n",
        "print(s2)"
      ],
      "metadata": {
        "id": "waWnjARrNA7i"
      },
      "execution_count": null,
      "outputs": []
    },
    {
      "cell_type": "code",
      "source": [
        "df = pd.DataFrame(np.arange(8).reshape((2,4)),index=list(\"ba\"),columns=list(\"BCDA\"))\n",
        "df"
      ],
      "metadata": {
        "id": "BPdzlTnCM-Zl"
      },
      "execution_count": null,
      "outputs": []
    },
    {
      "cell_type": "code",
      "source": [
        "df2 = df.sort_index()\n",
        "df2"
      ],
      "metadata": {
        "id": "zNiZKTUqvf10"
      },
      "execution_count": null,
      "outputs": []
    },
    {
      "cell_type": "code",
      "source": [
        "df3 = df.sort_index(axis=1)\n",
        "df3"
      ],
      "metadata": {
        "id": "SyNcSpusRTD8"
      },
      "execution_count": null,
      "outputs": []
    },
    {
      "cell_type": "code",
      "source": [
        "df4 = df.sort_index().sort_index(axis=1)\n",
        "df4"
      ],
      "metadata": {
        "id": "mGWyobXxRaR9"
      },
      "execution_count": null,
      "outputs": []
    },
    {
      "cell_type": "code",
      "source": [
        "df5 = df.sort_index().sort_index(axis=1,ascending=False)\n",
        "df5"
      ],
      "metadata": {
        "id": "HTZDshstRiRc"
      },
      "execution_count": null,
      "outputs": []
    },
    {
      "cell_type": "code",
      "source": [
        "s1 = pd.Series([1,6,np.nan,3,np.nan,2],index=list(\"abcdef\"))\n",
        "s2 = s1.sort_values()#asending=False)\n",
        "s2"
      ],
      "metadata": {
        "id": "1YsjAq-cRsFC"
      },
      "execution_count": null,
      "outputs": []
    },
    {
      "cell_type": "code",
      "source": [
        "df = pd.DataFrame([[1,2,5,6,],[4,8,9,2],[1,6,3,7]],index=['a','b','c'],columns=list(\"가나다라\"))\n",
        "df"
      ],
      "metadata": {
        "id": "DRAEMNjTSM7f"
      },
      "execution_count": null,
      "outputs": []
    },
    {
      "cell_type": "code",
      "source": [
        "df.sort_values(by='나')"
      ],
      "metadata": {
        "id": "V2cDZcekSrrT"
      },
      "execution_count": null,
      "outputs": []
    },
    {
      "cell_type": "code",
      "source": [
        "df.sort_values(by=['가','나'])"
      ],
      "metadata": {
        "id": "uZAx3uDqSl8d"
      },
      "execution_count": null,
      "outputs": []
    },
    {
      "cell_type": "markdown",
      "source": [
        "## 도수\n",
        "p.224~"
      ],
      "metadata": {
        "id": "Vg19LbkDTbd-"
      }
    },
    {
      "cell_type": "code",
      "source": [
        "s = pd.Series([1,2,4,2,1,2,3,4,5,3,2,1,1,2])\n",
        "es = s.unique()\n",
        "es"
      ],
      "metadata": {
        "id": "iqYOegy7TOm5"
      },
      "execution_count": null,
      "outputs": []
    },
    {
      "cell_type": "code",
      "source": [
        "print(\"합계 : \",df.sum())\n",
        "print(\"합계 : \",df.sum(axis='columns'))"
      ],
      "metadata": {
        "id": "iyDQvte9TocI"
      },
      "execution_count": null,
      "outputs": []
    },
    {
      "cell_type": "code",
      "source": [
        "print(\"합계(컬럼별) : \",df.sum())\n",
        "print(\"합계(행별) : \",df.sum(axis='columns'))\n",
        "print(\"평균(컬럼별) : \",df.mean())\n",
        "print(\"평균(행별) : \",df.mean(axis='columns'))"
      ],
      "metadata": {
        "id": "U1xbC4E6ULaP"
      },
      "execution_count": null,
      "outputs": []
    },
    {
      "cell_type": "code",
      "source": [
        "df"
      ],
      "metadata": {
        "id": "7qcs_4g3U8Lj"
      },
      "execution_count": null,
      "outputs": []
    },
    {
      "cell_type": "code",
      "source": [
        "df.head(3)"
      ],
      "metadata": {
        "id": "8IW5U-6bVGS6"
      },
      "execution_count": null,
      "outputs": []
    },
    {
      "cell_type": "code",
      "source": [
        "df.describe()"
      ],
      "metadata": {
        "id": "fkIw45xTVICX"
      },
      "execution_count": null,
      "outputs": []
    },
    {
      "cell_type": "code",
      "source": [
        "df.info()"
      ],
      "metadata": {
        "id": "NJOek9ieV1zo"
      },
      "execution_count": null,
      "outputs": []
    },
    {
      "cell_type": "code",
      "source": [
        "df['가'].value_counts()"
      ],
      "metadata": {
        "id": "xXaqm9nWVK3U"
      },
      "execution_count": null,
      "outputs": []
    },
    {
      "cell_type": "code",
      "source": [
        "df.corr()"
      ],
      "metadata": {
        "id": "OsfRQlm2VotR"
      },
      "execution_count": null,
      "outputs": []
    },
    {
      "cell_type": "code",
      "source": [
        "df1 = pd.DataFrame(np.arange(9).reshape((3,3)),columns=list(\"abc\"),index=list(\"가나다\"))\n",
        "df2 = pd.DataFrame(np.arange(12).reshape((4,3)),columns=list(\"bcd\"),index=list(\"가다라마\"))\n",
        "df3 = df1 + df2\n",
        "df3"
      ],
      "metadata": {
        "id": "k9Q4XAWWVu_E"
      },
      "execution_count": null,
      "outputs": []
    },
    {
      "cell_type": "code",
      "source": [
        "df4 = df3.fillna(0)\n",
        "df4"
      ],
      "metadata": {
        "id": "4zZu7uAHWbg2"
      },
      "execution_count": null,
      "outputs": []
    },
    {
      "cell_type": "code",
      "source": [
        "from google.colab import drive\n",
        "path = '/content/content/titanic/train.csv'\n",
        "df = pd.read_csv(path)\n",
        "df.head(3)"
      ],
      "metadata": {
        "id": "uHXINsWxWeaZ"
      },
      "execution_count": null,
      "outputs": []
    },
    {
      "cell_type": "code",
      "source": [
        "df.info()"
      ],
      "metadata": {
        "id": "g2bHOCsseC4x"
      },
      "execution_count": null,
      "outputs": []
    },
    {
      "cell_type": "code",
      "source": [
        "df.describe()"
      ],
      "metadata": {
        "id": "4liH5ZydeD8x"
      },
      "execution_count": null,
      "outputs": []
    },
    {
      "cell_type": "code",
      "source": [
        "df['SibSp'].value_counts()"
      ],
      "metadata": {
        "id": "ICPBlVDua09u"
      },
      "execution_count": null,
      "outputs": []
    },
    {
      "cell_type": "code",
      "source": [
        "# 전체 데이터\n",
        "tx = df[['Pclass', 'Name', 'Sex', 'Age', 'SibSp', 'Parch', 'Ticket', 'Fare', 'Cabin', 'Embarked']]\n",
        "tx"
      ],
      "metadata": {
        "id": "m7JZJ5bvd-B1"
      },
      "execution_count": null,
      "outputs": []
    },
    {
      "cell_type": "code",
      "source": [
        "# 어떻게 해야 살아있는 사람만 구할 수 있지?\n",
        "# 라이브러리 서칭을 하면서 자주 사용해봐야 데이터를 다룰 수 있다\n",
        "ty = df['Survived']\n",
        "# 살아있는 사람들 조회 ==> unique() 보다 value_count()를 많이 쓴다\n",
        "ty.value_counts()"
      ],
      "metadata": {
        "id": "JWRWggHqd-49"
      },
      "execution_count": null,
      "outputs": []
    },
    {
      "cell_type": "code",
      "source": [
        "adata = df[\"Age\"].fillna(df[\"Age\"].mean()) #나이 컬럼의 결츶치를 평균으로 대체하시오\n",
        "adata.isnull().value_counts()"
      ],
      "metadata": {
        "id": "VDT1ay15d_6U"
      },
      "execution_count": null,
      "outputs": []
    },
    {
      "cell_type": "code",
      "source": [
        "import matplotlib.pyplot as plt\n",
        "n,bins,patches = plt.hist(adata,bins=range(0,100,5))\n",
        "for b in range(len(bins)-1):\n",
        "  print(f\"{bins[b]}~{bins[b+1]}:{n[b]}\")"
      ],
      "metadata": {
        "id": "h6qm4zAee0oY"
      },
      "execution_count": null,
      "outputs": []
    },
    {
      "cell_type": "code",
      "source": [
        "gdata = df['Sex']=='male'\n",
        "gdata.value_counts()"
      ],
      "metadata": {
        "id": "gX77DufWgKdC"
      },
      "execution_count": null,
      "outputs": []
    },
    {
      "cell_type": "code",
      "source": [
        "gdata = df['Sex']=='female'\n",
        "print(gdata.value_counts())\n",
        "gd2 = [1 if g else 0 for g in gdata.to_list()]\n",
        "gdata2 = pd.Series(gd2)\n",
        "print(gdata2.value_counts())"
      ],
      "metadata": {
        "id": "b65Z7hTnfhcf"
      },
      "execution_count": null,
      "outputs": []
    },
    {
      "cell_type": "code",
      "source": [
        "df['Name']"
      ],
      "metadata": {
        "id": "NFqSkDQoR7M8"
      },
      "execution_count": null,
      "outputs": []
    },
    {
      "cell_type": "code",
      "source": [
        "arr = df['Name'][0].split(',')\n",
        "arr[1]\n",
        "arr2 = arr[1].split('.')\n",
        "arr2[0]\n",
        "arr3 = arr2[0].replace(' ','')\n",
        "arr3"
      ],
      "metadata": {
        "id": "MGAU28rAa_zJ"
      },
      "execution_count": null,
      "outputs": []
    },
    {
      "cell_type": "code",
      "source": [
        "def get_call_name(name):\n",
        "  arr = name.split(',')\n",
        "  arr2 = arr[1].split('.')\n",
        "  return arr2[0].replace(' ','')"
      ],
      "metadata": {
        "id": "ijDdrS8fi6y8"
      },
      "execution_count": null,
      "outputs": []
    },
    {
      "cell_type": "code",
      "source": [
        "get_call_name(df['Name'][0])"
      ],
      "metadata": {
        "id": "oSFHZZbnjIMr"
      },
      "execution_count": null,
      "outputs": []
    },
    {
      "cell_type": "code",
      "source": [
        "df['Name'][30]"
      ],
      "metadata": {
        "id": "W86EwOx0jlQd"
      },
      "execution_count": null,
      "outputs": []
    },
    {
      "cell_type": "code",
      "source": [
        "n_dic={}\n",
        "ndata = df['Name']\n",
        "for i in range(len(ndata)):\n",
        "  #print(f\"{i}:{get_call_name(ndata[i])}\")\n",
        "  cn = get_call_name(ndata[i])\n",
        "  if cn in n_dic: #이미 나온 호칭일 때\n",
        "    n_dic[cn] += 1 #카운터 1 증가\n",
        "  else: #처음 나온 호칭일때\n",
        "    n_dic[cn]=1 #카운터 1으로 설정\n",
        "n_dic"
      ],
      "metadata": {
        "id": "t3lTBUa4jLil"
      },
      "execution_count": null,
      "outputs": []
    }
  ]
}