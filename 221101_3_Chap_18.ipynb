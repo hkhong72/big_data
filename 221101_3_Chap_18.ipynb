{
  "cells": [
    {
      "cell_type": "markdown",
      "metadata": {
        "id": "view-in-github",
        "colab_type": "text"
      },
      "source": [
        "<a href=\"https://colab.research.google.com/github/hkhong72/big_data/blob/main/221101_3_Chap_18.ipynb\" target=\"_parent\"><img src=\"https://colab.research.google.com/assets/colab-badge.svg\" alt=\"Open In Colab\"/></a>"
      ]
    },
    {
      "cell_type": "code",
      "execution_count": null,
      "id": "99165b35",
      "metadata": {
        "id": "99165b35"
      },
      "outputs": [],
      "source": [
        "# p262 LSTM을 이용한 로이터 뉴스 카테고리 분류하기\n",
        "from tensorflow.keras import models, layers\n",
        "from tensorflow.keras.utils import to_categorical\n",
        "from tensorflow.keras.preprocessing import sequence\n",
        "from tensorflow.keras.datasets import reuters\n",
        "from tensorflow.keras.callbacks import EarlyStopping\n",
        "import numpy as np\n",
        "import matplotlib.pyplot as plt\n",
        "import os\n",
        "os.environ[\"KMP_DUPLICATE_LIB_OK\"]=\"TRUE\""
      ]
    },
    {
      "cell_type": "code",
      "execution_count": null,
      "id": "fe25eed9",
      "metadata": {
        "id": "fe25eed9"
      },
      "outputs": [],
      "source": [
        "(X_train, y_train), (X_test, y_test) = reuters.load_data(num_words=1000, test_split=0.2)"
      ]
    },
    {
      "cell_type": "code",
      "execution_count": null,
      "id": "896ba2d2",
      "metadata": {
        "id": "896ba2d2",
        "outputId": "eabd5a73-31d4-4e80-dac6-3b43059ae89a"
      },
      "outputs": [
        {
          "name": "stdout",
          "output_type": "stream",
          "text": [
            "종류 :  46\n",
            "Train data :  8982\n",
            "Test data :  2246\n"
          ]
        }
      ],
      "source": [
        "category = np.max(y_train) + 1\n",
        "print(\"종류 : \", category)\n",
        "print(\"Train data : \", len(X_train))\n",
        "print(\"Test data : \", len(X_test))"
      ]
    },
    {
      "cell_type": "code",
      "execution_count": null,
      "id": "a1ff3877",
      "metadata": {
        "id": "a1ff3877",
        "outputId": "507f6179-6dac-4eb2-afe0-5aabac9c3718"
      },
      "outputs": [
        {
          "name": "stdout",
          "output_type": "stream",
          "text": [
            "[1, 2, 2, 8, 43, 10, 447, 5, 25, 207, 270, 5, 2, 111, 16, 369, 186, 90, 67, 7, 89, 5, 19, 102, 6, 19, 124, 15, 90, 67, 84, 22, 482, 26, 7, 48, 4, 49, 8, 864, 39, 209, 154, 6, 151, 6, 83, 11, 15, 22, 155, 11, 15, 7, 48, 9, 2, 2, 504, 6, 258, 6, 272, 11, 15, 22, 134, 44, 11, 15, 16, 8, 197, 2, 90, 67, 52, 29, 209, 30, 32, 132, 6, 109, 15, 17, 12]\n"
          ]
        }
      ],
      "source": [
        "print(X_train[0])"
      ]
    },
    {
      "cell_type": "code",
      "execution_count": null,
      "id": "f979d9e4",
      "metadata": {
        "id": "f979d9e4",
        "outputId": "76f81313-eb57-48fb-f93f-ce964fc3c01d"
      },
      "outputs": [
        {
          "name": "stdout",
          "output_type": "stream",
          "text": [
            "87\n"
          ]
        }
      ],
      "source": [
        "print(len(X_train[0]))"
      ]
    },
    {
      "cell_type": "code",
      "execution_count": null,
      "id": "a84de462",
      "metadata": {
        "id": "a84de462"
      },
      "outputs": [],
      "source": [
        "X_train = sequence.pad_sequences(X_train, maxlen=100)\n",
        "X_test = sequence.pad_sequences(X_test, maxlen=100)"
      ]
    },
    {
      "cell_type": "code",
      "execution_count": null,
      "id": "42a81f84",
      "metadata": {
        "id": "42a81f84"
      },
      "outputs": [],
      "source": [
        "y_train = to_categorical(y_train) #원-핫 인코딩\n",
        "y_test = to_categorical(y_test)"
      ]
    },
    {
      "cell_type": "code",
      "execution_count": null,
      "id": "d5d10957",
      "metadata": {
        "id": "d5d10957",
        "outputId": "03475767-bc4d-4749-e3ca-45a53a1eb15d"
      },
      "outputs": [
        {
          "name": "stdout",
          "output_type": "stream",
          "text": [
            "Model: \"sequential\"\n",
            "_________________________________________________________________\n",
            " Layer (type)                Output Shape              Param #   \n",
            "=================================================================\n",
            " embedding (Embedding)       (None, None, 100)         100000    \n",
            "                                                                 \n",
            " lstm (LSTM)                 (None, 100)               80400     \n",
            "                                                                 \n",
            " dense (Dense)               (None, 46)                4646      \n",
            "                                                                 \n",
            "=================================================================\n",
            "Total params: 185,046\n",
            "Trainable params: 185,046\n",
            "Non-trainable params: 0\n",
            "_________________________________________________________________\n"
          ]
        }
      ],
      "source": [
        "model = models.Sequential()\n",
        "model.add(layers.Embedding(1000, 100)) #1000차원을 100차원으로\n",
        "model.add(layers.LSTM(100, activation='tanh'))\n",
        "model.add(layers.Dense(46, activation='softmax'))\n",
        "model.summary()"
      ]
    },
    {
      "cell_type": "code",
      "execution_count": null,
      "id": "95b36555",
      "metadata": {
        "id": "95b36555"
      },
      "outputs": [],
      "source": [
        "# 1. (1000) * (100) / total = 100000\n",
        "# LSTM 이전층 출력(((입력값) + 출력값 ) * 출력값) + 출력값 ) * 전체가 4개 \n",
        "# 2. (((100 + 100) * 100) + 100 ) + 게이트숫자4 = 80400\n",
        "# 3. (100) * 46 + b46 = 4646"
      ]
    },
    {
      "cell_type": "code",
      "execution_count": null,
      "id": "40ef646e",
      "metadata": {
        "id": "40ef646e"
      },
      "outputs": [],
      "source": [
        "model.compile(loss='categorical_crossentropy', optimizer='adam', metrics=['accuracy'])\n",
        "early_stopping = EarlyStopping(monitor='val_loss', patience=5)"
      ]
    },
    {
      "cell_type": "code",
      "execution_count": null,
      "id": "a3f473db",
      "metadata": {
        "id": "a3f473db",
        "outputId": "94d43fb7-98ca-4d27-d5cb-844174a00b45"
      },
      "outputs": [
        {
          "name": "stdout",
          "output_type": "stream",
          "text": [
            "Epoch 1/200\n",
            "450/450 [==============================] - 18s 35ms/step - loss: 2.1280 - accuracy: 0.4503 - val_loss: 1.8227 - val_accuracy: 0.5209\n",
            "Epoch 2/200\n",
            "450/450 [==============================] - 15s 34ms/step - loss: 1.7049 - accuracy: 0.5586 - val_loss: 1.6576 - val_accuracy: 0.5815\n",
            "Epoch 3/200\n",
            "450/450 [==============================] - 15s 32ms/step - loss: 1.5764 - accuracy: 0.5962 - val_loss: 1.5503 - val_accuracy: 0.6086\n",
            "Epoch 4/200\n",
            "450/450 [==============================] - 15s 33ms/step - loss: 1.4195 - accuracy: 0.6362 - val_loss: 1.4890 - val_accuracy: 0.6158\n",
            "Epoch 5/200\n",
            "450/450 [==============================] - 15s 34ms/step - loss: 1.2740 - accuracy: 0.6739 - val_loss: 1.3144 - val_accuracy: 0.6638\n",
            "Epoch 6/200\n",
            "450/450 [==============================] - 15s 34ms/step - loss: 1.1439 - accuracy: 0.7093 - val_loss: 1.2542 - val_accuracy: 0.6794\n",
            "Epoch 7/200\n",
            "450/450 [==============================] - 15s 34ms/step - loss: 1.0443 - accuracy: 0.7352 - val_loss: 1.2223 - val_accuracy: 0.6906\n",
            "Epoch 8/200\n",
            "450/450 [==============================] - 15s 32ms/step - loss: 0.9654 - accuracy: 0.7525 - val_loss: 1.1838 - val_accuracy: 0.7026\n",
            "Epoch 9/200\n",
            "450/450 [==============================] - 15s 33ms/step - loss: 0.8818 - accuracy: 0.7760 - val_loss: 1.1562 - val_accuracy: 0.7168\n",
            "Epoch 10/200\n",
            "450/450 [==============================] - 15s 34ms/step - loss: 0.8063 - accuracy: 0.7964 - val_loss: 1.1493 - val_accuracy: 0.7182\n",
            "Epoch 11/200\n",
            "450/450 [==============================] - 15s 33ms/step - loss: 0.7451 - accuracy: 0.8106 - val_loss: 1.1658 - val_accuracy: 0.7146\n",
            "Epoch 12/200\n",
            "450/450 [==============================] - 15s 33ms/step - loss: 0.6794 - accuracy: 0.8283 - val_loss: 1.1852 - val_accuracy: 0.7137\n",
            "Epoch 13/200\n",
            "450/450 [==============================] - 15s 33ms/step - loss: 0.6207 - accuracy: 0.8435 - val_loss: 1.2139 - val_accuracy: 0.7177\n",
            "Epoch 14/200\n",
            "450/450 [==============================] - 15s 33ms/step - loss: 0.5763 - accuracy: 0.8558 - val_loss: 1.2521 - val_accuracy: 0.7110\n",
            "Epoch 15/200\n",
            "450/450 [==============================] - 15s 33ms/step - loss: 0.5254 - accuracy: 0.8661 - val_loss: 1.2760 - val_accuracy: 0.7222\n"
          ]
        }
      ],
      "source": [
        "history = model.fit(X_train, y_train, batch_size=20, epochs=200,\n",
        "                   validation_data=(X_test, y_test),\n",
        "                   callbacks=[early_stopping])"
      ]
    },
    {
      "cell_type": "code",
      "execution_count": null,
      "id": "5c439134",
      "metadata": {
        "id": "5c439134",
        "outputId": "6b9c9403-ff79-401e-e959-def94737aed4"
      },
      "outputs": [
        {
          "name": "stdout",
          "output_type": "stream",
          "text": [
            "71/71 [==============================] - 1s 10ms/step - loss: 1.2760 - accuracy: 0.7222\n",
            "Test Accuracy : 0.7222\n"
          ]
        }
      ],
      "source": [
        "print('Test Accuracy : %.4f' % (model.evaluate(X_test, y_test)[1]))"
      ]
    },
    {
      "cell_type": "code",
      "execution_count": null,
      "id": "5f550ff2",
      "metadata": {
        "id": "5f550ff2",
        "outputId": "c8017e15-1d29-444d-ce41-0ec9b3ad3530"
      },
      "outputs": [
        {
          "data": {
            "image/png": "[encoded data removed]",
            "text/plain": [
              "<Figure size 640x480 with 1 Axes>"
            ]
          },
          "metadata": {},
          "output_type": "display_data"
        }
      ],
      "source": [
        "# 학습셋과 테스트셋의 오차를 저장합니다. \n",
        "y_vloss = history.history['val_loss']\n",
        "y_loss = history.history['loss']\n",
        "\n",
        "# 그래프로 표현해 보겠습니다.\n",
        "x_len = np.arange(len(y_loss))\n",
        "plt.plot(x_len, y_vloss, marker='.', c=\"red\", label='Testset_loss')\n",
        "plt.plot(x_len, y_loss, marker='.', c=\"blue\", label='Trainset_loss')\n",
        "\n",
        "# 그래프에 그리드를 주고 레이블을 표시하겠습니다. \n",
        "plt.legend(loc='upper right')\n",
        "plt.grid()\n",
        "plt.xlabel('epoch')\n",
        "plt.ylabel('loss')\n",
        "plt.show()"
      ]
    }
  ],
  "metadata": {
    "kernelspec": {
      "display_name": "Python 3 (ipykernel)",
      "language": "python",
      "name": "python3"
    },
    "language_info": {
      "codemirror_mode": {
        "name": "ipython",
        "version": 3
      },
      "file_extension": ".py",
      "mimetype": "text/x-python",
      "name": "python",
      "nbconvert_exporter": "python",
      "pygments_lexer": "ipython3",
      "version": "3.8.13"
    },
    "colab": {
      "provenance": [],
      "include_colab_link": true
    }
  },
  "nbformat": 4,
  "nbformat_minor": 5
}