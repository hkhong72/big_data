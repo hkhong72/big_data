{
  "nbformat": 4,
  "nbformat_minor": 0,
  "metadata": {
    "colab": {
      "provenance": [],
      "collapsed_sections": [],
      "authorship_tag": "ABX9TyM3voWHZkHkiCjk4DueP7i8",
      "include_colab_link": true
    },
    "kernelspec": {
      "name": "python3",
      "display_name": "Python 3"
    },
    "language_info": {
      "name": "python"
    }
  },
  "cells": [
    {
      "cell_type": "markdown",
      "metadata": {
        "id": "view-in-github",
        "colab_type": "text"
      },
      "source": [
        "<a href=\"https://colab.research.google.com/github/hkhong72/big_data/blob/main/221025_3.ipynb\" target=\"_parent\"><img src=\"https://colab.research.google.com/assets/colab-badge.svg\" alt=\"Open In Colab\"/></a>"
      ]
    },
    {
      "cell_type": "markdown",
      "source": [
        "- f(x,t,z) = 3x^2 + 2t^3 + 4z^2 + 7 = y\n",
        "\n",
        "- ∂y / ∂x = 6x (x로 편미분결과)\n",
        "\n",
        "- ∂y / ∂t = 6x^2 (y로 편미분결과)\n",
        "\n",
        "- ∂y /∂z = 8z (z로 편미분결과) \n",
        "\n",
        "- 편미분 : partial derivative\n",
        "\n",
        "- ∂ : 라운드 d"
      ],
      "metadata": {
        "id": "3Vu1kpjsUXyU"
      }
    },
    {
      "cell_type": "markdown",
      "source": [
        "- f1(x) = 2x = u\n",
        "\n",
        "- f2(x) = 3x = y\n",
        "\n",
        "- u라는 함수에 특정 x를 공급 ->  y라는 함수에 다시 공급 -> Y = 6\n",
        "\n",
        "- f2(u) = fx(f1(x)) = f2(x) ∘ f1(x),  ∘ : 합성함수표시법\n",
        "\n",
        "- Y = y ∘ u\n",
        "\n",
        "- dY / dx = 6 = 3(2(x)) = dy/du * du/dx = 3 * 2 = 6  \n",
        "\n",
        "- z = y * u * t * r * s = dy/du * du/dx = dy/du * du/dt * dt/dx =   dy/du * du/dt * dt/dr * dr/dx = dy/du * du/dt * dt/dr * dr/dd * ds/dx  \n",
        "\n",
        "- 딥러닝 기초 수학 끝\n",
        "\n"
      ],
      "metadata": {
        "id": "Y_pjXQomVnQ7"
      }
    },
    {
      "cell_type": "markdown",
      "source": [
        "# 주피터 노트북 열고 제목 활성화함수\n",
        "\n",
        "- 슬랙강의자료 시그모이드 함수 파이썬에서 구현\n",
        "\n",
        "- conda activate py38-env\n",
        "\n",
        "- conda install numpy\n",
        "\n",
        "- conda install matplotlib\n",
        "\n",
        "- import numpy as np\n",
        "import matplotlib.pyplot as plt\n",
        "\n",
        "- def sigmoid_function(x):\n",
        "return 1/(1+np.exp(­-x))\n",
        "x = np.linspace(­-5, 5)\n",
        "y = sigmoid_function(x)\n",
        "plt.plot(x, y)\n",
        "plt.show()\n",
        "\n",
        "- tanh 함수 s모양\n",
        "\n",
        "- ReLU 렐루함수는 음수부터0까지 0 양수일때올라가고\n",
        "\n",
        "- Leaky ReLU 제로이하의 약간의 미세한 기울기가 있다\n",
        "\n",
        "- "
      ],
      "metadata": {
        "id": "UL3upiClYWMK"
      }
    }
  ]
}