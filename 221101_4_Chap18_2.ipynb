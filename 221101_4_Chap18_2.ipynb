{
  "cells": [
    {
      "cell_type": "markdown",
      "metadata": {
        "id": "view-in-github",
        "colab_type": "text"
      },
      "source": [
        "<a href=\"https://colab.research.google.com/github/hkhong72/big_data/blob/main/221101_4_Chap18_2.ipynb\" target=\"_parent\"><img src=\"https://colab.research.google.com/assets/colab-badge.svg\" alt=\"Open In Colab\"/></a>"
      ]
    },
    {
      "cell_type": "code",
      "execution_count": null,
      "id": "cdb1f27e",
      "metadata": {
        "id": "cdb1f27e"
      },
      "outputs": [],
      "source": [
        "from tensorflow.keras import models, layers\n",
        "from tensorflow.keras.datasets import imdb # 영화 평점 가져오기\n",
        "from tensorflow.keras.preprocessing import sequence\n",
        "from tensorflow.keras.callbacks import EarlyStopping\n",
        "import numpy as np\n",
        "import matplotlib.pyplot as plt\n",
        "import os, shutil\n",
        "os.environ[\"KMP_DUPLICATE_LIB_OK\"]=\"TRUE\" # KMP에러 방지"
      ]
    },
    {
      "cell_type": "code",
      "execution_count": null,
      "id": "c2c0c2f0",
      "metadata": {
        "id": "c2c0c2f0",
        "outputId": "4a323a28-421a-4114-9fb5-05fdefec126e"
      },
      "outputs": [
        {
          "name": "stdout",
          "output_type": "stream",
          "text": [
            "Downloading data from https://storage.googleapis.com/tensorflow/tf-keras-datasets/imdb.npz\n",
            "17465344/17464789 [==============================] - 0s 0us/step\n",
            "17473536/17464789 [==============================] - 0s 0us/step\n"
          ]
        }
      ],
      "source": [
        "# 데이터 불러오기 + 학습셋과 테스트셋으로 나뉙\n",
        "(X_train, y_train), (X_test, y_test) = imdb.load_data(num_words=5000)"
      ]
    },
    {
      "cell_type": "code",
      "execution_count": null,
      "id": "41f5a096",
      "metadata": {
        "id": "41f5a096"
      },
      "outputs": [],
      "source": [
        "# 단어 수 맞추기\n",
        "X_train = sequence.pad_sequences(X_train, maxlen=500)\n",
        "X_test = sequence.pad_sequences(X_test, maxlen=500)"
      ]
    },
    {
      "cell_type": "code",
      "execution_count": null,
      "id": "6b2d52ae",
      "metadata": {
        "id": "6b2d52ae",
        "outputId": "f695a8fe-35ae-4c1d-de2a-6aad2416cee8"
      },
      "outputs": [
        {
          "name": "stdout",
          "output_type": "stream",
          "text": [
            "Model: \"sequential_2\"\n",
            "_________________________________________________________________\n",
            " Layer (type)                Output Shape              Param #   \n",
            "=================================================================\n",
            " embedding_2 (Embedding)     (None, None, 100)         500000    \n",
            "                                                                 \n",
            " dropout_2 (Dropout)         (None, None, 100)         0         \n",
            "                                                                 \n",
            " conv1d_2 (Conv1D)           (None, None, 64)          32064     \n",
            "                                                                 \n",
            " max_pooling1d_2 (MaxPooling  (None, None, 64)         0         \n",
            " 1D)                                                             \n",
            "                                                                 \n",
            " lstm_2 (LSTM)               (None, 55)                26400     \n",
            "                                                                 \n",
            " dense_2 (Dense)             (None, 1)                 56        \n",
            "                                                                 \n",
            " activation_2 (Activation)   (None, 1)                 0         \n",
            "                                                                 \n",
            "=================================================================\n",
            "Total params: 558,520\n",
            "Trainable params: 558,520\n",
            "Non-trainable params: 0\n",
            "_________________________________________________________________\n"
          ]
        }
      ],
      "source": [
        "# 모델 구조 설정\n",
        "model = models.Sequential()\n",
        "model.add(layers.Embedding(5000, 100))\n",
        "model.add(layers.Dropout(0.5))\n",
        "model.add(layers.Conv1D(64, 5, padding='valid', activation='relu', strides=1))\n",
        "model.add(layers.MaxPooling1D(pool_size=4))\n",
        "model.add(layers.LSTM(55))\n",
        "model.add(layers.Dense(1))\n",
        "model.add(layers.Activation('sigmoid'))\n",
        "model.summary()"
      ]
    },
    {
      "cell_type": "code",
      "execution_count": null,
      "id": "bb22ac0c",
      "metadata": {
        "id": "bb22ac0c"
      },
      "outputs": [],
      "source": [
        "# 5000 x 100 = 500000\n",
        "# 100 x 64 x 5 + 64 = 32064\n",
        "# maxpooling 1차원이라 영향x\n",
        "# ((64 + 55) x 55 + 55) x 4 = 26400\n",
        "# (55) x 1 + 1 = 56\n",
        "# dropout => 파라미터 영향 x"
      ]
    },
    {
      "cell_type": "code",
      "execution_count": null,
      "id": "c33133ce",
      "metadata": {
        "id": "c33133ce"
      },
      "outputs": [],
      "source": [
        "# 모델 실행 옵션 설정\n",
        "model.compile(loss='binary_crossentropy', optimizer='adam', metrics=['accuracy'])\n",
        "\n",
        "# 학습 조기 중단 설정\n",
        "early_stopping_callback = EarlyStopping(monitor='val_loss', patience=3)"
      ]
    },
    {
      "cell_type": "code",
      "execution_count": null,
      "id": "ead7d931",
      "metadata": {
        "id": "ead7d931",
        "outputId": "c9e5c9cc-33d2-492b-bfeb-87dd35d51c48"
      },
      "outputs": [
        {
          "name": "stdout",
          "output_type": "stream",
          "text": [
            "Epoch 1/100\n",
            "469/469 [==============================] - 47s 93ms/step - loss: 0.4102 - accuracy: 0.7963 - val_loss: 0.2797 - val_accuracy: 0.8835\n",
            "Epoch 2/100\n",
            "469/469 [==============================] - 42s 89ms/step - loss: 0.2365 - accuracy: 0.9086 - val_loss: 0.2659 - val_accuracy: 0.8888\n",
            "Epoch 3/100\n",
            "469/469 [==============================] - 43s 92ms/step - loss: 0.1828 - accuracy: 0.9317 - val_loss: 0.2867 - val_accuracy: 0.8814\n",
            "Epoch 4/100\n",
            "469/469 [==============================] - 42s 90ms/step - loss: 0.1476 - accuracy: 0.9472 - val_loss: 0.2847 - val_accuracy: 0.8909\n",
            "Epoch 5/100\n",
            "469/469 [==============================] - 42s 89ms/step - loss: 0.1175 - accuracy: 0.9595 - val_loss: 0.3073 - val_accuracy: 0.8867\n"
          ]
        }
      ],
      "source": [
        "# 모델 실행\n",
        "history = model.fit(X_train, y_train, batch_size=40, epochs=100, validation_split=0.25, callbacks=[early_stopping_callback])"
      ]
    },
    {
      "cell_type": "code",
      "execution_count": null,
      "id": "5bcfe592",
      "metadata": {
        "id": "5bcfe592",
        "outputId": "aa3b63fa-a461-4c16-d1a8-0c7325af8a53"
      },
      "outputs": [
        {
          "name": "stdout",
          "output_type": "stream",
          "text": [
            "782/782 [==============================] - 11s 14ms/step - loss: 0.3217 - accuracy: 0.8789\n",
            "\n",
            " Test Accuracy: 0.8789\n"
          ]
        }
      ],
      "source": [
        "# 테스트 정확도 출력\n",
        "print(\"\\n Test Accuracy: %.4f\" % (model.evaluate(X_test, y_test)[1]))"
      ]
    },
    {
      "cell_type": "code",
      "execution_count": null,
      "id": "b1d03dea",
      "metadata": {
        "id": "b1d03dea"
      },
      "outputs": [],
      "source": [
        "# 학습셋과 테스트셋의 오차\n",
        "y_vloss = history.history['val_loss']\n",
        "y_loss = history.history['loss']"
      ]
    },
    {
      "cell_type": "code",
      "execution_count": null,
      "id": "a19b901c",
      "metadata": {
        "id": "a19b901c",
        "outputId": "14a44495-3476-43a6-ae52-4a1eff512292"
      },
      "outputs": [
        {
          "data": {
            "image/png": "[encoded data removed]",
            "text/plain": [
              "<Figure size 640x480 with 1 Axes>"
            ]
          },
          "metadata": {},
          "output_type": "display_data"
        }
      ],
      "source": [
        "# 그래프로 표현\n",
        "x_len = np.arange(len(y_loss))\n",
        "plt.plot(x_len, y_vloss, marker='.', c=\"red\", label='Testset_loss')\n",
        "plt.plot(x_len, y_loss, marker='.', c=\"blue\", label='Trainset_loss')\n",
        "\n",
        "# 그래프에 그리드를 주고 레이블 표시\n",
        "plt.legend(loc='upper right')\n",
        "plt.grid()\n",
        "plt.xlabel('epoch')\n",
        "plt.ylabel('loss')\n",
        "plt.show()"
      ]
    }
  ],
  "metadata": {
    "kernelspec": {
      "display_name": "Python 3 (ipykernel)",
      "language": "python",
      "name": "python3"
    },
    "language_info": {
      "codemirror_mode": {
        "name": "ipython",
        "version": 3
      },
      "file_extension": ".py",
      "mimetype": "text/x-python",
      "name": "python",
      "nbconvert_exporter": "python",
      "pygments_lexer": "ipython3",
      "version": "3.8.13"
    },
    "colab": {
      "provenance": [],
      "include_colab_link": true
    }
  },
  "nbformat": 4,
  "nbformat_minor": 5
}