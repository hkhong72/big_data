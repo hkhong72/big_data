{
  "nbformat": 4,
  "nbformat_minor": 0,
  "metadata": {
    "colab": {
      "provenance": [],
      "authorship_tag": "ABX9TyMtYG+9v4J7+Pz1ekdUxML8",
      "include_colab_link": true
    },
    "kernelspec": {
      "name": "python3",
      "display_name": "Python 3"
    },
    "language_info": {
      "name": "python"
    }
  },
  "cells": [
    {
      "cell_type": "markdown",
      "metadata": {
        "id": "view-in-github",
        "colab_type": "text"
      },
      "source": [
        "<a href=\"https://colab.research.google.com/github/hkhong72/big_data/blob/main/221024_5.ipynb\" target=\"_parent\"><img src=\"https://colab.research.google.com/assets/colab-badge.svg\" alt=\"Open In Colab\"/></a>"
      ]
    },
    {
      "cell_type": "markdown",
      "source": [
        "Q. 년, 월 별로 평균 도착 시간 구하기\n",
        "select year, month, sum(arr_delay) / count(*) as avg_delay_time\n",
        "from airline_delay\n",
        "where arr_delay > 0\n",
        "group by year, month\n",
        "order by year, month;\n",
        "image.png\n",
        "\n",
        "Q. 특정 연도만 찍어서 출발 지연이 가장 큰 값 뽑기\n",
        "select max(dep_delay) \n",
        "from airline_delay \n",
        "where year = 1991;\n",
        "Q. max delay 값과 같은값을 지닌 fl_date, unique_carrier, origin, dep_time, dep_delay 구하기 (mysql 문도 먹는것으로 확인됨)\n",
        "\n",
        "내가 쓴 답안\n",
        "select fl_date, unique_carrier, origin, dep_time, dep_delay \n",
        "from airline_delay \n",
        "where year = 1991 and dep_delay = (select max(dep_delay) from airline_delay where year = '1991');\n",
        "강사님 답안\n",
        "select a.fl_date, a.unique_carrier, a.origin, a.dep_time, a.dep_delay\n",
        "from airline_delay a cross join \n",
        "(select max(dep_delay) as max_delay \n",
        "from airline_delay where year = 1991) b\n",
        "where a.dep_delay = b.max_delay \n",
        "and a.year = 1991;\n",
        "다른 csv로 실습 진행\n",
        "carriers.csv 를 다운받아 linux 로 보내고, table create 하기\n",
        "\n",
        "scp .\\carriers.csv ubuntu:~/work/\n",
        "create table carrier_code(code string, description string)\n",
        "row format delimited\n",
        "fields terminated by ','\n",
        "lines terminated by '\\n'\n",
        "stored as textfile;\n",
        "work 안에 carriers.csv 를 table에 넣기\n",
        "load data local inpath '/home/user1/work/carriers.csv' into table carrier_code;\n",
        "테이블이 생성되었는지 확인\n",
        "select * from carrier_code limit 10;\n",
        "unique_carrier 열 대신에, carrier_code의 code와 airline_delay의 unique_carrier가 같은 열을 join 해서 carrier_code의 description을 사용하기\n",
        "select a.fl_date, c.description, a.origin, a.dep_time, a.dep_delay\n",
        "from airline_delay a cross join \n",
        "(select max(dep_delay) as max_delay \n",
        "from airline_delay where year = 2012) b\n",
        "join carrier_code c on a.unique_carrier = c.code\n",
        "where a.dep_delay = b.max_delay \n",
        "and a.year = 2012;"
      ],
      "metadata": {
        "id": "ZhOF2_ve50aR"
      }
    }
  ]
}