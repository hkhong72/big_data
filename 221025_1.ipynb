{
  "nbformat": 4,
  "nbformat_minor": 0,
  "metadata": {
    "colab": {
      "provenance": [],
      "authorship_tag": "ABX9TyMd9fkrJv3ML0pYrZL3HYjf",
      "include_colab_link": true
    },
    "kernelspec": {
      "name": "python3",
      "display_name": "Python 3"
    },
    "language_info": {
      "name": "python"
    }
  },
  "cells": [
    {
      "cell_type": "markdown",
      "metadata": {
        "id": "view-in-github",
        "colab_type": "text"
      },
      "source": [
        "<a href=\"https://colab.research.google.com/github/hkhong72/big_data/blob/main/221025_1.ipynb\" target=\"_parent\"><img src=\"https://colab.research.google.com/assets/colab-badge.svg\" alt=\"Open In Colab\"/></a>"
      ]
    },
    {
      "cell_type": "markdown",
      "source": [
        "파이썬 버츄얼env모드\n",
        "\t아나콘다모드\n",
        "\n",
        "후자선택 - 아나콘다"
      ],
      "metadata": {
        "id": "6S1wtNpqg0jV"
      }
    },
    {
      "cell_type": "markdown",
      "source": [
        "https://www.anaconda.com/ 아나콘다 ( 크기가 너무큼)\n",
        "프리라이센스를 가지고 있는놈"
      ],
      "metadata": {
        "id": "6bwh3PLqg1iP"
      }
    },
    {
      "cell_type": "markdown",
      "source": [
        "https://docs.conda.io/en/latest/miniconda.html (미니콘다, 사이즈가작음)\n",
        "설치 전에 앱 및 기능에서 파이썬삭제"
      ],
      "metadata": {
        "id": "3ks1kVh3g3AP"
      }
    },
    {
      "cell_type": "markdown",
      "source": [
        "python 3.8 Miniconda3 Windows 64-bit 다운\n",
        "기본설정그대로 nextnextnext install 마지막 체크풀고.\n",
        "C users bit miniconda3 확인"
      ],
      "metadata": {
        "id": "ScLssoU3g49X"
      }
    },
    {
      "cell_type": "markdown",
      "source": [
        "Anaconda Powershell Prompt 오픈\n",
        "\n",
        "conda init powershell 파워셀닫기\n"
      ],
      "metadata": {
        "id": "0I0hTEV6g7LH"
      }
    },
    {
      "cell_type": "markdown",
      "source": [
        "윈도우터미널 관리자권한으로 실행\n",
        "\n",
        "Set-Executionpolicy -Executionpolicy RemoteSigned\n",
        "\n",
        "터미널 닫고 다시 터미널그냥오픈 (아나콘다베이스환경확인)\n",
        "\n",
        "conda config --set auto_activate_base false (아나콘다 자동실행 끔)\n",
        "\n",
        "또 창 닫고 다시 오픈 ( 아나콘다 자동실행되지않은 것 확인 )\n",
        "\n",
        "conda activate (아나콘다 실행하는 코드 )\n",
        "\n",
        "앞에 (base) 는 현재환경을 의미함 디폴트가 base\n",
        "\n",
        "conda list ( 현재 base환경에 설치되어있는 모든 list가 나옴 )\n",
        "\n",
        "conda activate py38-env\n",
        "\n",
        "conda list\n",
        "\n",
        "python (파이썬으로들어가기)\n",
        "\n",
        "quit()     ( 나오기 )\n",
        "\n"
      ],
      "metadata": {
        "id": "kaz_1RMbhBe3"
      }
    },
    {
      "cell_type": "markdown",
      "source": [
        "쥬피터 노트북 써보기\n",
        "\n",
        "conda install jupyter   ( 아나콘다 환경에서는 pip를 쓰지않고, conda install을 사용함, 각각의 의존관계를 버전확인해줌 )\n",
        "\n",
        "이제 주피터노트북올려야함 (현재위치에 올리면안돼!!)\n",
        "\n",
        "나는 E:\\python\\source 에 올림 \n",
        "\n",
        "cd E:\\source\\python\n",
        "\n",
        "jupyter notebook ( 브라우저에 올라온거 확인 ) \n",
        "\n",
        "new누르고 python3 누르고 열기\n",
        "\n",
        "제목 untitled -> test01 \n",
        "\n",
        "메모리까지 죽이는 법 - > File -> Close and Halt\n",
        "\n",
        "주피터노트북나갈때 Quit 버튼 누르기\n",
        "\n",
        "\n",
        "\n",
        "\n",
        "\n"
      ],
      "metadata": {
        "id": "xLwpps0nkS1-"
      }
    },
    {
      "cell_type": "markdown",
      "source": [
        "conda env list ( 현재는 base만 나오고 base의 위치가 나옴 )\n",
        "\n",
        "콘다에서 가상환경 만드는 법 \n",
        "\n",
        "-> conda create -n '가상환경이름' python=3.8\n",
        "\n",
        "conda create -n py38-env python=3.8\n",
        "\n",
        "conda env list ( py38-env 생성된 것 확인 / 경로가 miniconda3/envs 아래에 생긴 것 확인 )\n",
        "\n"
      ],
      "metadata": {
        "id": "AVy8Ab54ipWH"
      }
    }
  ]
}