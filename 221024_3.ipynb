{
  "nbformat": 4,
  "nbformat_minor": 0,
  "metadata": {
    "colab": {
      "provenance": [],
      "authorship_tag": "ABX9TyPsDTvnPNHSeQ4xqgE+RIe2",
      "include_colab_link": true
    },
    "kernelspec": {
      "name": "python3",
      "display_name": "Python 3"
    },
    "language_info": {
      "name": "python"
    }
  },
  "cells": [
    {
      "cell_type": "markdown",
      "metadata": {
        "id": "view-in-github",
        "colab_type": "text"
      },
      "source": [
        "<a href=\"https://colab.research.google.com/github/hkhong72/big_data/blob/main/221024_3.ipynb\" target=\"_parent\"><img src=\"https://colab.research.google.com/assets/colab-badge.svg\" alt=\"Open In Colab\"/></a>"
      ]
    },
    {
      "cell_type": "markdown",
      "source": [
        "./schematool -initSchema -dbType mysql 정상 실행 되었다면, hive_db 내에 여러 tables 가 생성된다.\n",
        "정상 진행되지 않을 경우 mysql 에서 해당 db 드랍 후 재설정을 하면 됨\n",
        "\n",
        "sudo mysql\n",
        "drop database hive_db;\n",
        "create database hive_db default character set utf8;\n",
        "exit\n",
        "cd apache-hive-3.1.3-bin/bin\n",
        "./schematool -initSchema -dbType mysql\n",
        "하이브를 실행해 볼 것임\n",
        "cd apache-hive-3.1.3-bin/bin\n",
        "vi ./hive\n",
        "하이브가 실행되었다면 hive > 로 실행됨\n",
        "DB 를 확인해보자\n",
        "\n",
        "show databases;\n",
        "하이브와 SQL의 차이\n",
        "image.png"
      ],
      "metadata": {
        "id": "ZhOF2_ve50aR"
      }
    }
  ]
}