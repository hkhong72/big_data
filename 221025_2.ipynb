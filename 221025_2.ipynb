{
  "nbformat": 4,
  "nbformat_minor": 0,
  "metadata": {
    "colab": {
      "provenance": [],
      "collapsed_sections": [],
      "authorship_tag": "ABX9TyNlVgNDqryF73Ju4QTcDG+1",
      "include_colab_link": true
    },
    "kernelspec": {
      "name": "python3",
      "display_name": "Python 3"
    },
    "language_info": {
      "name": "python"
    }
  },
  "cells": [
    {
      "cell_type": "markdown",
      "metadata": {
        "id": "view-in-github",
        "colab_type": "text"
      },
      "source": [
        "<a href=\"https://colab.research.google.com/github/hkhong72/big_data/blob/main/221025_2.ipynb\" target=\"_parent\"><img src=\"https://colab.research.google.com/assets/colab-badge.svg\" alt=\"Open In Colab\"/></a>"
      ]
    },
    {
      "cell_type": "markdown",
      "source": [
        "jupyter notebook --generate-config \n",
        "\n",
        "주피터 노트북 다시올리고, 폰트 수정\n",
        "\n",
        "c users bit .jupyter custom이라고 새폴더 생성, custom.css 생성\n",
        "\n",
        "notepad 관리자 권한으로 열고\n",
        "\n",
        ".container { width: 100% !important;}\n",
        "div.CodeMirror, dic.output_area pre, div.ouput_wrapper pre{\n",
        "  font-family: Source Code Pro;\n",
        "  font-size: 19pt;\n",
        "  line-height: 110%\n",
        "}\n",
        "div#notebook, div.prompt{\n",
        "    font-family: Source Code Pro;\n",
        "    font-size: 19pt;\n",
        "    line-height: 110%;\n",
        "}\n",
        "\n",
        "내용추가\n",
        "\n",
        "주피터노트북올리고 test01 에 \n",
        "\n",
        "a = 10\n",
        "b = 20\n",
        "print('a + b =', a + b)\n",
        "\n",
        "코랩처럼 alt + enter 로 실행\n",
        "\n",
        "편집모드에서 명령모드로 esc\n",
        "\n",
        "복사는 그 상태에서 c\n",
        "\n",
        "붙여넣기는 그 상태에서 v\n",
        "\n",
        "위에 붙이려면 shift + v\n",
        "\n",
        "명령모드에서 dd 하면 셀 삭제\n",
        "\n",
        "현재셀에서 아래에 새 셀 b\n",
        "\n",
        "현재셀에서 위에 새 셀 a\n",
        "\n",
        "kenel restart & Run All 다시 모두 시작\n",
        "\n",
        "Cell - Run All below, above 참고\n",
        "\n",
        "markdown - > 코랩에서의 텍스트 \n",
        "\n",
        "\n",
        "\n",
        "\n"
      ],
      "metadata": {
        "id": "EHHAceXBqmQl"
      }
    },
    {
      "cell_type": "markdown",
      "source": [
        "# AI ( Artificial Intelligent ) - 인공지능 AI\n",
        "\n",
        "- Expert System ( 전문가 시스템 ) -> 최초의 대중에게 배포\n",
        "\n",
        "- 러닝되지않은 새로운 것을 판단하지 못함 -> AI 침체기 ( AI winter )\n",
        "\n",
        "- Machine Learning 기계가 스스로 학습함 ( k-nn, L.n, ... )\n",
        "\n",
        "- Deep Learning ( ex: 알파고 ) 등장\n",
        "\n",
        "- 현재의 'AI를 한다' -> 딥러닝기법을 한다 ( 머신러닝안에 k-nn기법, L.n기법, 딥러닝 기법등 다양하게 존재 ) \n",
        "\n",
        "- 우리는 딥러닝기법을 배우게 됨. \n",
        "\n",
        "- 221025~26 딥러닝을 수학적알고리즘으로 이해 후 간단하게 딥러닝으로 구현\n",
        "\n",
        "- 딥러닝 프레임워크 (텐서플로우 이용) 실습\n",
        "\n",
        "\n"
      ],
      "metadata": {
        "id": "UPsnm2FttwMi"
      }
    },
    {
      "cell_type": "markdown",
      "source": [
        "# 딥러닝 알고리즘 사전지식\n",
        "\n",
        "- 벡터, 행렬, 미분(일반미분, 편미분, 합성함수미분 )\n",
        "\n",
        "- 일차원 직선이 존재한다고 가정, 임의의 원점 작성\n",
        "\n",
        "- 원점에서 오른쪽방향으로 3만큼 크기의 점 ( 벡터 : 크기와 방향이 항상 존재함 ) a백터=3, 반대방향 b벡터=-3\n",
        "\n",
        "- A벡터 (a,b) = 루트(a제곱 + b제곱) (2차원벡터)\n",
        "\n",
        "- A벡터 (a,b,c) = 루트(a제곱 + b제곱 + c제곱) (3차원벡터)\n",
        "\n",
        "- -> n차원벡터(a1, a2, a3, ... , an) => 벡터의사이즈 : 루트(a1제곱 + a2제곱 + a3제곱 + ... + an제곱 ) (n차원벡터)"
      ],
      "metadata": {
        "id": "KZtrCmiov8ZJ"
      }
    },
    {
      "cell_type": "markdown",
      "source": [
        "# 매트릭스\n",
        "\n",
        "- 벡터를 row로 쌓았다고 가정\n",
        "\n",
        "-  A = \n",
        "        [ a b c \n",
        "          d e f ]\n",
        "\n",
        "- 2 x 3 \n",
        "\n",
        "- B = \n",
        "      [ 1\n",
        "        2\n",
        "        3  ]            \n",
        "\n",
        "- 3 x 1 \n",
        "\n",
        "- A x B =  \n",
        "          [ a + 2b + c \n",
        "            d + 2e + f ]\n",
        "- (2 x 3) X (3 x 1) => 결과는 1,4번 숫자 따라 (2 x 1), 조건은 2,3번 숫자가 같아야 함\n",
        "\n"
      ],
      "metadata": {
        "id": "PlqCvtu5yQMx"
      }
    },
    {
      "cell_type": "markdown",
      "source": [
        "A = \n",
        "    [ 1 1 3 ]\n",
        "B = \n",
        "  [ 1\n",
        "    2\n",
        "    3 ]\n",
        "A x B = 12\n",
        "\n",
        "- [ 1 1 3 ] x [ 1 2 \n",
        "                1 1\n",
        "                2 2 ] = [ 8 9 ]\n",
        "    \n",
        "- [ 1 0 1 \n",
        "    2 1 1 ] x [1 2 \n",
        "               1 0\n",
        "               3 0 ] = (2x2)\n",
        "                       [ 4 2 \n",
        "                         6 4 ]\n",
        "\n"
      ],
      "metadata": {
        "id": "E4dCD6ugzqio"
      }
    },
    {
      "cell_type": "markdown",
      "source": [
        "- [ 1 2 1\n",
        "    1 1 3\n",
        "    3 2 2 ] x [ 1 0 0 \n",
        "                0 1 0\n",
        "                0 0 1 ] = [ 1 2 1 \n",
        "                            1 1 3\n",
        "                            3 2 2 ]\n",
        "\n",
        "- 즉 [ 1 0 0 \n",
        "       0 1 0\n",
        "       0 0 1 ] 행렬을 곱하면 똑같은 값이 나옴 -> 단위행렬 ( 정방행렬 ) ( 곱하면 원행렬이 그대로 나옴 ) 대문자 I 로 표시함\n",
        "\n",
        "- A = [ 1 2 3\n",
        "        3 2 2 ] ( 2 x 3 )\n",
        "\n",
        "- A의 transpose = [ 1 3 \n",
        "                    2 2\n",
        "                    3 2 ] (3 x 2) -> 전치행렬 (A의 t), 행과열을 뒤집은 것\n",
        "\n",
        "- 행렬 끝,  미분 들어감"
      ],
      "metadata": {
        "id": "c0QVqq444dAe"
      }
    },
    {
      "cell_type": "markdown",
      "source": [
        "# 미분\n",
        "\n",
        "- f(x) = y = x + 2 \n",
        "\n",
        "- x축기준으로 얼마나 기울었느냐 = 기울기\n",
        "\n",
        "- 기울기를 구하는 방법 -> a = y변화량/x변화량 -> f(x) 기울기 = 1, 각도가 45도\n",
        "\n",
        "- 즉, f(x) = ax + 2\n",
        "\n",
        "- f(x) = 1/2x 일때, 기울기는 1/2\n",
        "\n",
        "- 기울기의 의미 = x 값이 변할때 y값이 얼마나 영향을 주느냐\n",
        "\n",
        "- 기울기값이 크면 y영향도 큼, 작으면 영향도 낮음\n",
        "\n",
        "\n"
      ],
      "metadata": {
        "id": "AFs1TXcT5aau"
      }
    },
    {
      "cell_type": "markdown",
      "source": [
        "# 이차함수\n",
        "\n",
        "- y = ax제곱 + bx + c\n",
        "\n",
        "- i)  a>0     형태는 U\n",
        "\n",
        "- ii) a<0     형태는 n\n",
        "\n",
        "- https://www.desmos.com/calculator?lang=ko"
      ],
      "metadata": {
        "id": "Dw23oEtL7g5V"
      }
    },
    {
      "cell_type": "markdown",
      "source": [
        "- f(x) = y = 1/8x^2\n",
        "\n",
        "- (f(x2) - f(x1)) / (x2-x1) = (f(x2) - f(x1)) / Δx (x의변화량)\n",
        "\n",
        "-  lim무한극한((f(x2) - f(x1))/Δx) - > 순간변화율\n",
        "\n",
        "- 도함수 y` = limΔx->∞ (f(x2)-f(x1)) / Δx \n",
        "\n",
        "- df(x)/d(x) = dy/dx = y` 도함수 , 뉴튼이발견\n",
        "\n",
        "- lim(Δx->0) (y2 - y1) / Δx = y` (도함수) = dx / dy\n",
        "\n",
        "- y = anx^2 + a(n-1)x^(n-1) + a(n-2)x^(n-2) + a(n-3)x^(n-3) + ... + a1x1 + b*x0\n",
        "\n",
        "- y = 1/8x^2 의 도함수 -> y1 = 1/4x\n",
        "\n",
        "- 원함수 x에 값을 넣었을 때의 기울기가 얼마냐 -> 도함수 (미분공식)\n",
        "\n",
        "- "
      ],
      "metadata": {
        "id": "70MzyZRL9-lm"
      }
    }
  ]
}