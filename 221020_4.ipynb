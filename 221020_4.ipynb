{
  "nbformat": 4,
  "nbformat_minor": 0,
  "metadata": {
    "colab": {
      "provenance": [],
      "authorship_tag": "ABX9TyNwamaSZruX8p0VH4zAj7Hi",
      "include_colab_link": true
    },
    "kernelspec": {
      "name": "python3",
      "display_name": "Python 3"
    },
    "language_info": {
      "name": "python"
    }
  },
  "cells": [
    {
      "cell_type": "markdown",
      "metadata": {
        "id": "view-in-github",
        "colab_type": "text"
      },
      "source": [
        "<a href=\"https://colab.research.google.com/github/hkhong72/big_data/blob/main/221020_4.ipynb\" target=\"_parent\"><img src=\"https://colab.research.google.com/assets/colab-badge.svg\" alt=\"Open In Colab\"/></a>"
      ]
    },
    {
      "cell_type": "markdown",
      "source": [
        "Maven Clean , Maven install"
      ],
      "metadata": {
        "id": "BORzA4USjrE_"
      }
    },
    {
      "cell_type": "markdown",
      "source": [
        "home 디렉터리 밑에 \n",
        "work밑에 \n",
        "mkdir java\n"
      ],
      "metadata": {
        "id": "wkZ-KvlYkYog"
      }
    },
    {
      "cell_type": "markdown",
      "source": [
        "c아래 javaworkspace 아래 hadoopmr 아래 target 아래 jar파일생성확인 및 경로복사\n",
        "\n",
        "윈도우 터미널에서 cd C:\\java_workspace\\hadoopMR\\target (경로)\n",
        "\n",
        "ls로 hadoopMR-0.1.jar 확인\n"
      ],
      "metadata": {
        "id": "OaqGuwtJkt33"
      }
    },
    {
      "cell_type": "markdown",
      "source": [
        " scp .\\hadoopMR-0.1.jar ubuntu:~/work/java \n",
        "\n",
        " 윈도우에서 리눅스로 보내기."
      ],
      "metadata": {
        "id": "HiOmIq-tlYen"
      }
    },
    {
      "cell_type": "markdown",
      "source": [
        "start-dfs.sh\n",
        "\n",
        "start-yarn.sh\n",
        "\n",
        "jps\n",
        "\n",
        "mapred historyserver start&\n",
        "\n",
        "exit"
      ],
      "metadata": {
        "id": "vbyOq3ZqlZRX"
      }
    },
    {
      "cell_type": "markdown",
      "source": [
        "cd work\n",
        "\n",
        "cd java\n",
        "\n",
        "yarn jar ./hadoopMR-0.1.jar com.adacho.driver.WordCount sample-input sample-out\n",
        "put2\n",
        "\n",
        "hdfs dfs -ls sample-output2 로 확인\n",
        "\n",
        "hdfs dfs -cat sample-output2/part-r-00000 \n",
        "\n",
        "만약 우리가올린파일이 128MB넘으면 00001 ~ 해서 파티션이 생김"
      ],
      "metadata": {
        "id": "O4OHMOv3mjHw"
      }
    },
    {
      "cell_type": "markdown",
      "source": [
        "work 아래에 \n",
        "\n",
        "mkdir air-data\n",
        "\n",
        "AirOnTimeCSV.zip 슬랙에서 다운 후 압축풀기"
      ],
      "metadata": {
        "id": "j9HgbzXMlZOf"
      }
    },
    {
      "cell_type": "markdown",
      "source": [
        "cd 원하는파일경로\n",
        "\n",
        "scp .\\airOT2012*.csv ubuntu:~/work/air-data/\n",
        "\n",
        "리눅스에서 \n",
        "work/air-data에서\n",
        "모든 csv\n",
        "vi .csv\n",
        "dd로 하나씩 헤더부분지우고저장"
      ],
      "metadata": {
        "id": "u3fwInJxlZMH"
      }
    },
    {
      "cell_type": "markdown",
      "source": [
        "hdfs dfs -mkdir air-input 에어인풋만들기\n",
        "\n",
        "hdfs dfs -put ./* air-input 현재위치에 csv모든것을 air-input 으로 보낸다"
      ],
      "metadata": {
        "id": "iSM0FA8SxwQY"
      }
    },
    {
      "cell_type": "markdown",
      "source": [
        "새로운 maven project\n",
        "\n",
        "com.adacho\n",
        "\n",
        "airPerformance\n",
        "\n",
        "0.1 \n",
        "\n",
        "jar\n",
        "\n",
        "pom.xml그대로 가져오기"
      ],
      "metadata": {
        "id": "n3_rXkkTy2MH"
      }
    },
    {
      "cell_type": "markdown",
      "source": [
        "com.adacho.common 패키지생성\n",
        "\n",
        "AirlinePerformanceParser 클래스생성\n"
      ],
      "metadata": {
        "id": "Mu2QqOcMy2T_"
      }
    },
    {
      "cell_type": "code",
      "source": [
        "package com.adacho.common;\n",
        "\n",
        "import org.apache.hadoop.io.Text;\n",
        "\n",
        "public class AirlinePerformanceParser {\n",
        "\tprivate int year;\n",
        "\tprivate int month;\n",
        "\tprivate int day;\n",
        "\t\n",
        "\tprivate int arriveDelayTime = 0;\n",
        "\tprivate int departureDelayTime = 0;\n",
        "\tprivate int distance = 0;\n",
        "\t\n",
        "\tprivate boolean arriveDelayAvailable = true;\n",
        "\tprivate boolean departureDelayAvailable = true;\n",
        "\tprivate boolean distanceAvailable = true;\n",
        "\t\n",
        "\tprivate String uniqueCarrier;\n",
        "\t\n",
        "\tpublic AirlinePerformanceParser(Text text) {\n",
        "\t\ttry {\n",
        "\t\t\tString[] columns = text.toString().split(\",\");\n",
        "\t\t\t\n",
        "\t\t\tyear = Integer.parseInt(columns[0]);\n",
        "\t\t\tmonth = Integer.parseInt(columns[1]);\n",
        "\t\t\tday = Integer.parseInt(columns[2]);\n",
        "\t\t\tuniqueCarrier = columns[5];\n",
        "\t\t\t\n",
        "\t\t\tif(!columns[16].equals(\"\")) {\n",
        "\t\t\t\tdepartureDelayTime = (int)Float.parseFloat(columns[16]);\n",
        "\t\t\t}else {\n",
        "\t\t\t\tdepartureDelayAvailable = false;\n",
        "\t\t\t}\n",
        "\t\t\t\n",
        "\t\t\tif(!columns[26].equals(\"\")) {\n",
        "\t\t\t\tarriveDelayTime = (int)Float.parseFloat(columns[26]);\n",
        "\t\t\t}else {\n",
        "\t\t\t\tarriveDelayAvailable = false;\n",
        "\t\t\t}\n",
        "\t\t\t\n",
        "\t\t\tif(!columns[37].equals(\"\")) {\n",
        "\t\t\t\tdistance = (int)Float.parseFloat(columns[37]);\n",
        "\t\t\t}else {\n",
        "\t\t\t\tdistanceAvailable = false;\n",
        "\t\t\t}\n",
        "\t\t} catch (Exception e) {\n",
        "\t\t\t\n",
        "\t\t}\n",
        "\t}\n",
        "\n",
        "\tpublic int getYear() {\n",
        "\t\treturn year;\n",
        "\t}\n",
        "\n",
        "\tpublic int getMonth() {\n",
        "\t\treturn month;\n",
        "\t}\n",
        "\n",
        "\tpublic int getDay() {\n",
        "\t\treturn day;\n",
        "\t}\n",
        "\n",
        "\tpublic int getArriveDelayTime() {\n",
        "\t\treturn arriveDelayTime;\n",
        "\t}\n",
        "\n",
        "\tpublic int getDepartureDelayTime() {\n",
        "\t\treturn departureDelayTime;\n",
        "\t}\n",
        "\n",
        "\tpublic int getDistance() {\n",
        "\t\treturn distance;\n",
        "\t}\n",
        "\n",
        "\tpublic boolean isArriveDelayAvailable() {\n",
        "\t\treturn arriveDelayAvailable;\n",
        "\t}\n",
        "\n",
        "\tpublic boolean isDepartureDelayAvailable() {\n",
        "\t\treturn departureDelayAvailable;\n",
        "\t}\n",
        "\n",
        "\tpublic boolean isDistanceAvailable() {\n",
        "\t\treturn distanceAvailable;\n",
        "\t}\n",
        "\n",
        "\tpublic String getUniqueCarrier() {\n",
        "\t\treturn uniqueCarrier;\n",
        "\t}\n",
        "\t\n",
        "\t\n",
        "\t\n",
        "}\n"
      ],
      "metadata": {
        "id": "kIaHM1ivzK82"
      },
      "execution_count": null,
      "outputs": []
    },
    {
      "cell_type": "markdown",
      "source": [
        "com.adacho.mapper 패키지생성\n",
        "\n",
        "DepartureDelayCountMapper 클래스생성"
      ],
      "metadata": {
        "id": "KjAKq9A028ov"
      }
    },
    {
      "cell_type": "code",
      "source": [
        "package com.adacho.mapper;\n",
        "\n",
        "import java.io.IOException;\n",
        "\n",
        "import org.apache.hadoop.io.IntWritable;\n",
        "import org.apache.hadoop.io.LongWritable;\n",
        "import org.apache.hadoop.io.Text;\n",
        "import org.apache.hadoop.mapreduce.Mapper;\n",
        "\n",
        "import com.adacho.common.AirlinePerformanceParser;\n",
        "\n",
        "public class DepartureDelayCountMapper extends Mapper<LongWritable, Text, Text, IntWritable>{\n",
        "\tprivate final static IntWritable outputValue = new IntWritable(1);\n",
        "\tprivate Text outputKey = new Text();\n",
        "\t@Override\n",
        "\tprotected void map(LongWritable key, Text value, Mapper<LongWritable, Text, Text, IntWritable>.Context context)\n",
        "\t\t\tthrows IOException, InterruptedException {\n",
        "\t\t// TODO Auto-generated method stub\n",
        "\t\tAirlinePerformanceParser parser = new AirlinePerformanceParser(value);\n",
        "\t\t\n",
        "\t\toutputKey.set(parser.getYear() + \",\" + parser.getMonth()); //파서에 년도 콤마 월 붙여서 키를 만듦\n",
        "\t\t\n",
        "\t\tif(parser.getDepartureDelayTime() > 0) { //양수일때만\n",
        "\t\t\tcontext.write(outputKey, outputValue); // 딜레이와 1을 연결해서 context에 담음\n",
        "\t\t}\n",
        "\t\t\n",
        "\t}\n",
        "\t\n",
        "\t\n",
        "}\n"
      ],
      "metadata": {
        "id": "03vn_et63Al2"
      },
      "execution_count": null,
      "outputs": []
    },
    {
      "cell_type": "markdown",
      "source": [
        "com.adacho.reducer 패키지 생성\n",
        "\n",
        "DelayCountReducer 클래스 생성"
      ],
      "metadata": {
        "id": "q4CfKnjn4HHg"
      }
    },
    {
      "cell_type": "code",
      "source": [
        "package com.adacho.reducer;\n",
        "\n",
        "import java.io.IOException;\n",
        "\n",
        "import org.apache.hadoop.io.IntWritable;\n",
        "import org.apache.hadoop.io.Text;\n",
        "import org.apache.hadoop.mapreduce.Reducer;\n",
        "\n",
        "public class DelayCountReducer extends Reducer<Text, IntWritable, Text, IntWritable>{\n",
        "\tprivate IntWritable result = new IntWritable();\n",
        "\n",
        "\t@Override\n",
        "\tprotected void reduce(Text key, Iterable<IntWritable> values,\n",
        "\t\t\tReducer<Text, IntWritable, Text, IntWritable>.Context context) throws IOException, InterruptedException {\n",
        "\t\t// TODO Auto-generated method stub\n",
        "\t\tint sum = 0;\n",
        "\t    for(IntWritable value: values) {\n",
        "\t       sum += value.get();\n",
        "\t    }\n",
        "\t    result.set(sum);\n",
        "\t    context.write(key, result);\n",
        "\t}\n",
        "\n",
        "\t\n",
        "}\n"
      ],
      "metadata": {
        "id": "j_HY5rAO4rjl"
      },
      "execution_count": null,
      "outputs": []
    },
    {
      "cell_type": "markdown",
      "source": [
        "com.adacho.driver 패키지생성\n",
        "\n",
        "DepartureDelayCount 클래스 생성"
      ],
      "metadata": {
        "id": "zkgfOdOu4sx1"
      }
    },
    {
      "cell_type": "code",
      "source": [
        "package com.adacho.driver;\n",
        "\n",
        "import org.apache.hadoop.conf.Configuration;\n",
        "import org.apache.hadoop.fs.Path;\n",
        "import org.apache.hadoop.io.IntWritable;\n",
        "import org.apache.hadoop.io.Text;\n",
        "import org.apache.hadoop.mapreduce.Job;\n",
        "import org.apache.hadoop.mapreduce.lib.input.FileInputFormat;\n",
        "import org.apache.hadoop.mapreduce.lib.input.TextInputFormat;\n",
        "import org.apache.hadoop.mapreduce.lib.output.FileOutputFormat;\n",
        "import org.apache.hadoop.mapreduce.lib.output.TextOutputFormat;\n",
        "\n",
        "import com.adacho.mapper.DepartureDelayCountMapper;\n",
        "import com.adacho.reducer.DelayCountReducer;\n",
        "\n",
        "public class DepartureDelayCount {\n",
        "\n",
        "\tpublic static void main(String[] args) throws Exception{\n",
        "\t\tConfiguration conf = new Configuration();\n",
        "\t\tif(args.length !=2) {\n",
        "\t\t\tSystem.err.println(\"Usage: DepartureDelayCount <input> <output>\");\n",
        "\t\t\tSystem.exit(1);\n",
        "\t\t}\n",
        "\t\t\n",
        "\t\tJob job = Job.getInstance(conf, \"DepartureDelayCount\");\n",
        "\t\t\n",
        "\t\tjob.setJarByClass(DepartureDelayCount.class); //드라이브 클래스 저장\n",
        "\t\tjob.setMapperClass(DepartureDelayCountMapper.class); //메퍼클래스저장\n",
        "\t\tjob.setReducerClass(DelayCountReducer.class); //리듀스클래스저장\n",
        "\t\t\n",
        "\t\tjob.setInputFormatClass(TextInputFormat.class); //두개중에 길이가 긴 것 임포트\n",
        "\t\tjob.setOutputFormatClass(TextOutputFormat.class); //두개중에 길이가 긴 것 임포트\n",
        "\t\t\n",
        "\t\tjob.setMapOutputKeyClass(Text.class);\n",
        "\t\tjob.setMapOutputValueClass(IntWritable.class);\n",
        "\t\t\n",
        "\t\tFileInputFormat.addInputPath(job, new Path(args[0])); //여러개에 인풋데이타가 있으면 다 줄 수 있음\n",
        "\t\tFileOutputFormat.setOutputPath(job, new Path(args[1]));\n",
        "\t\t\n",
        "\t\tjob.waitForCompletion(true); //job이끝날때까지 기다리고있다가 동기방식으로 \n",
        "\t\t\n",
        "\t}\n",
        "}\n"
      ],
      "metadata": {
        "id": "3bRnmeOB5gIX"
      },
      "execution_count": null,
      "outputs": []
    },
    {
      "cell_type": "markdown",
      "source": [
        "Maven Clean , Maven install\n",
        "\n",
        "c아래 javaworkspace 아래 airPerformance 아래 target 아래 jar파일생성확인 및 경로복사\n",
        "\n",
        "윈도우 터미널에서 cd C:\\java_workspace\\airPerformance\\target (경로)\n",
        "\n",
        "ls로 airPerformance-0.1.jar 확인\n",
        "\n",
        "scp .\\airPerformance-0.1.jar ubuntu:~/work/java\n",
        "\n",
        "윈도우에서 리눅스로 보내기.\n",
        "\n",
        "start-dfs.sh\n",
        "\n",
        "start-yarn.sh\n",
        "\n",
        "jps\n",
        "\n",
        "mapred historyserver start&\n",
        "\n",
        "exit\n",
        "\n",
        "cd work\n",
        "\n",
        "cd java\n",
        "\n",
        "yarn jar ./airPerformance-0.1.jar com.adacho.driver.DepartureDelayCount air-input dep-delay-count\n",
        "\n",
        "hdfs dfs -ls dep-delay-count 로 확인\n",
        "\n",
        "hdfs dfs -cat dep-delay-count/part-r-00000\n",
        "\n",
        "만약 우리가올린파일이 128MB넘으면 00001 ~ 해서 파티션이 생김"
      ],
      "metadata": {
        "id": "zZcijwFc5hMR"
      }
    }
  ]
}