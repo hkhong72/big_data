{
 "cells": [
  {
   "cell_type": "code",
   "execution_count": 1,
   "id": "c3ee9193",
   "metadata": {},
   "outputs": [],
   "source": [
    "# Keras 사용\n",
    "from tensorflow.keras.models import Sequential\n",
    "from tensorflow.keras import layers\n",
    "import numpy as np"
   ]
  },
  {
   "cell_type": "code",
   "execution_count": 2,
   "id": "6022f976",
   "metadata": {},
   "outputs": [],
   "source": [
    "# 슬랙데이터csv, e드라이브 소스에 파이썬에 넣기\n",
    "data_set = np.loadtxt('data/ThoraricSurgery3.csv', delimiter=',')"
   ]
  },
  {
   "cell_type": "code",
   "execution_count": 3,
   "id": "f2e27321",
   "metadata": {},
   "outputs": [
    {
     "name": "stdout",
     "output_type": "stream",
     "text": [
      "<class 'numpy.ndarray'>\n"
     ]
    }
   ],
   "source": [
    "print(type(data_set))"
   ]
  },
  {
   "cell_type": "code",
   "execution_count": 4,
   "id": "46b2e5d4",
   "metadata": {},
   "outputs": [
    {
     "name": "stdout",
     "output_type": "stream",
     "text": [
      "(470, 17)\n"
     ]
    }
   ],
   "source": [
    "print(data_set.shape)"
   ]
  },
  {
   "cell_type": "code",
   "execution_count": 5,
   "id": "260d567e",
   "metadata": {},
   "outputs": [
    {
     "name": "stdout",
     "output_type": "stream",
     "text": [
      "float64\n"
     ]
    }
   ],
   "source": [
    "print(data_set.dtype)"
   ]
  },
  {
   "cell_type": "code",
   "execution_count": 6,
   "id": "95604cae",
   "metadata": {},
   "outputs": [],
   "source": [
    "X = data_set[:, :16] #대문자, 매트릭스라는 개념으로 대문자\n",
    "y = data_set[:, 16] #소문자, 타겟만있으니까 1차원이라 소문자"
   ]
  },
  {
   "cell_type": "code",
   "execution_count": 7,
   "id": "6b276e61",
   "metadata": {},
   "outputs": [
    {
     "name": "stdout",
     "output_type": "stream",
     "text": [
      "[ 2.    3.4   1.88  0.    0.    0.    0.    0.    0.    1.    0.    0.\n",
      "  0.    1.    0.   51.  ]\n"
     ]
    }
   ],
   "source": [
    "print(X[1])"
   ]
  },
  {
   "cell_type": "code",
   "execution_count": 8,
   "id": "17553ff7",
   "metadata": {},
   "outputs": [
    {
     "name": "stdout",
     "output_type": "stream",
     "text": [
      "0.0\n"
     ]
    }
   ],
   "source": [
    "print(y[1])"
   ]
  },
  {
   "cell_type": "code",
   "execution_count": 9,
   "id": "2fc5ef27",
   "metadata": {},
   "outputs": [],
   "source": [
    "#케라스api로 신경망만들기 Sequential기법 , 모델설계\n",
    "model = Sequential() #Sequential 객체 생성\n",
    "model.add(layers.Dense(30, input_dim=16, activation='relu')) #활성화함수 Relu 사용, Dense밀집하다 -> fully connected, \n",
    "# 케라스가 알아서 w,b 만들어주기 때문에 신경쓸필요 x\n",
    "model.add(layers.Dense(1, activation='sigmoid'))"
   ]
  },
  {
   "cell_type": "code",
   "execution_count": 10,
   "id": "c35951ee",
   "metadata": {},
   "outputs": [
    {
     "name": "stdout",
     "output_type": "stream",
     "text": [
      "Model: \"sequential\"\n",
      "_________________________________________________________________\n",
      " Layer (type)                Output Shape              Param #   \n",
      "=================================================================\n",
      " dense (Dense)               (None, 30)                510       \n",
      "                                                                 \n",
      " dense_1 (Dense)             (None, 1)                 31        \n",
      "                                                                 \n",
      "=================================================================\n",
      "Total params: 541\n",
      "Trainable params: 541\n",
      "Non-trainable params: 0\n",
      "_________________________________________________________________\n"
     ]
    }
   ],
   "source": [
    "# w + b ?\n",
    "model.summary()\n",
    "# (30  ) * (16 ) = 510 // 30 + 1 -> 총 541"
   ]
  },
  {
   "cell_type": "code",
   "execution_count": 11,
   "id": "554576f3",
   "metadata": {},
   "outputs": [],
   "source": [
    "model.compile(loss='binary_crossentropy', optimizer='adam', metrics=['accuracy'])  \n",
    "#손실함수작성할때 쓰는게 complile 함수, 케라스에서 2진분류할때 오차측정함수 : binary_crossentropy,\n",
    "# optimizer는 웬만하면adam, 나중에학습할때무엇을에포크하냐알려주는게 metrics=['accuracy']"
   ]
  },
  {
   "cell_type": "code",
   "execution_count": 12,
   "id": "5badd715",
   "metadata": {},
   "outputs": [
    {
     "name": "stdout",
     "output_type": "stream",
     "text": [
      "Epoch 1/5\n",
      "30/30 [==============================] - 1s 1ms/step - loss: 0.8337 - accuracy: 0.8511\n",
      "Epoch 2/5\n",
      "30/30 [==============================] - 0s 1ms/step - loss: 0.4332 - accuracy: 0.8489\n",
      "Epoch 3/5\n",
      "30/30 [==============================] - 0s 997us/step - loss: 0.4391 - accuracy: 0.8511\n",
      "Epoch 4/5\n",
      "30/30 [==============================] - 0s 1ms/step - loss: 0.4171 - accuracy: 0.8511\n",
      "Epoch 5/5\n",
      "30/30 [==============================] - 0s 1ms/step - loss: 0.4128 - accuracy: 0.8511\n"
     ]
    }
   ],
   "source": [
    "history = model.fit(X, y, epochs=5, batch_size=16)"
   ]
  },
  {
   "cell_type": "markdown",
   "id": "f5b37268",
   "metadata": {},
   "source": [
    "### Subclassing"
   ]
  },
  {
   "cell_type": "code",
   "execution_count": 13,
   "id": "92d5031b",
   "metadata": {},
   "outputs": [],
   "source": [
    "model_name = 'thoraric_surgery'\n",
    "batch_size = 16\n",
    "params = {'model_name' : model_name,\n",
    "              'input_dimension' : 16,\n",
    "              'hidden_dimension' : 30,\n",
    "              'output_dimension' : 1}"
   ]
  },
  {
   "cell_type": "code",
   "execution_count": 14,
   "id": "46433067",
   "metadata": {},
   "outputs": [],
   "source": [
    "import tensorflow as tf"
   ]
  },
  {
   "cell_type": "code",
   "execution_count": 15,
   "id": "192f81a4",
   "metadata": {},
   "outputs": [],
   "source": [
    "class ThoraricSurgery(tf.keras.Model):\n",
    "    def __init__(self, **kargs):\n",
    "        super(ThoraricSurgery, self).__init__(name=kargs['model_name'])\n",
    "        self.fc1 = layers.Dense(kargs['hidden_dimension'], \n",
    "                                input_dim=kargs['input_dimension'],\n",
    "                               activation='relu')\n",
    "        self.fc2 = layers.Dense(kargs['output_dimension'], activation='sigmoid')\n",
    "        \n",
    "    def call(self, x):\n",
    "        x = self.fc1(x)\n",
    "        x = self.fc2(x)\n",
    "        return x"
   ]
  },
  {
   "cell_type": "code",
   "execution_count": 16,
   "id": "37cfc72d",
   "metadata": {},
   "outputs": [],
   "source": [
    "model = ThoraricSurgery(**params)"
   ]
  },
  {
   "cell_type": "code",
   "execution_count": 17,
   "id": "e1bfc6f9",
   "metadata": {},
   "outputs": [
    {
     "name": "stdout",
     "output_type": "stream",
     "text": [
      "Epoch 1/5\n",
      "30/30 [==============================] - 0s 997us/step - loss: 5.0044 - accuracy: 0.2000\n",
      "Epoch 2/5\n",
      "30/30 [==============================] - 0s 1ms/step - loss: 0.6660 - accuracy: 0.8255\n",
      "Epoch 3/5\n",
      "30/30 [==============================] - 0s 1ms/step - loss: 0.5232 - accuracy: 0.8319\n",
      "Epoch 4/5\n",
      "30/30 [==============================] - 0s 1ms/step - loss: 0.4549 - accuracy: 0.8468\n",
      "Epoch 5/5\n",
      "30/30 [==============================] - 0s 1ms/step - loss: 0.4436 - accuracy: 0.8511\n"
     ]
    }
   ],
   "source": [
    "model.compile(loss='binary_crossentropy', optimizer='adam', metrics=['accuracy'])\n",
    "history = model.fit(X, y, epochs=5, batch_size=batch_size)"
   ]
  },
  {
   "cell_type": "code",
   "execution_count": null,
   "id": "0b5dc178",
   "metadata": {},
   "outputs": [],
   "source": []
  }
 ],
 "metadata": {
  "kernelspec": {
   "display_name": "Python 3 (ipykernel)",
   "language": "python",
   "name": "python3"
  },
  "language_info": {
   "codemirror_mode": {
    "name": "ipython",
    "version": 3
   },
   "file_extension": ".py",
   "mimetype": "text/x-python",
   "name": "python",
   "nbconvert_exporter": "python",
   "pygments_lexer": "ipython3",
   "version": "3.8.13"
  }
 },
 "nbformat": 4,
 "nbformat_minor": 5
}
