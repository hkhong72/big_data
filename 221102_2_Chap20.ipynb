{
  "cells": [
    {
      "cell_type": "markdown",
      "metadata": {
        "id": "view-in-github",
        "colab_type": "text"
      },
      "source": [
        "<a href=\"https://colab.research.google.com/github/hkhong72/big_data/blob/main/221102_2_Chap20.ipynb\" target=\"_parent\"><img src=\"https://colab.research.google.com/assets/colab-badge.svg\" alt=\"Open In Colab\"/></a>"
      ]
    },
    {
      "cell_type": "code",
      "execution_count": null,
      "id": "32415f38",
      "metadata": {
        "id": "32415f38"
      },
      "outputs": [],
      "source": [
        "#치매환자의 뇌단면과 정상인의 뇌단면 비교학습\n",
        "from tensorflow.keras import models, layers, optimizers\n",
        "from tensorflow.keras.preprocessing.image import ImageDataGenerator\n",
        "from tensorflow.keras.callbacks import EarlyStopping\n",
        "import matplotlib.pyplot as plt\n",
        "import numpy as np\n",
        "import os\n",
        "os.environ[\"KMP_DUPLICATE_LIB_OK\"]=\"TRUE\""
      ]
    },
    {
      "cell_type": "code",
      "execution_count": null,
      "id": "597bb61d",
      "metadata": {
        "id": "597bb61d",
        "outputId": "eb7ebfe6-4d49-4f30-f8f6-41a241611ca6"
      },
      "outputs": [
        {
          "name": "stdout",
          "output_type": "stream",
          "text": [
            "Found 160 images belonging to 2 classes.\n",
            "Found 120 images belonging to 2 classes.\n"
          ]
        }
      ],
      "source": [
        "# ImageDataGenerator (p308)\n",
        "# horizontal_flip=True  =>수평 대칭 이미지를 50%확률로 만들어 추가합니다\n",
        "# width_shift_range=0.1 , height_shift_range=0.1 > 전체 크기 15% 범위에서 좌우로 이동합니다.\n",
        "train_datagen = ImageDataGenerator(rescale=1./255, horizontal_flip=True, # 수평 대칭 이미지를 50%확률로 만들어 추가\n",
        "                                  width_shift_range=0.1, # 전체 크기의 15% 범위에서 좌우로 이동\n",
        "                                  height_shift_range=0.1)\n",
        "test_datagen = ImageDataGenerator(rescale=1./255) # 테스트 할 데이터는 변형시키면 안됨\n",
        "train_generator = train_datagen.flow_from_directory('data/data/train',\n",
        "                                                   target_size=(150, 150),\n",
        "                                                   batch_size=5,\n",
        "                                                   class_mode='binary')\n",
        "test_generator = test_datagen.flow_from_directory('data/data/test',\n",
        "                                                   target_size=(150, 150),\n",
        "                                                   batch_size=5,\n",
        "                                                   class_mode='binary')"
      ]
    },
    {
      "cell_type": "code",
      "execution_count": null,
      "id": "91464dfe",
      "metadata": {
        "id": "91464dfe",
        "outputId": "ef7ea42f-eee3-444d-af4e-727f8210e1f7"
      },
      "outputs": [
        {
          "name": "stdout",
          "output_type": "stream",
          "text": [
            "Model: \"sequential_2\"\n",
            "_________________________________________________________________\n",
            " Layer (type)                Output Shape              Param #   \n",
            "=================================================================\n",
            " conv2d_4 (Conv2D)           (None, 148, 148, 32)      896       \n",
            "                                                                 \n",
            " max_pooling2d_3 (MaxPooling  (None, 74, 74, 32)       0         \n",
            " 2D)                                                             \n",
            "                                                                 \n",
            " conv2d_5 (Conv2D)           (None, 72, 72, 32)        9248      \n",
            "                                                                 \n",
            " max_pooling2d_4 (MaxPooling  (None, 36, 36, 32)       0         \n",
            " 2D)                                                             \n",
            "                                                                 \n",
            " conv2d_6 (Conv2D)           (None, 34, 34, 64)        18496     \n",
            "                                                                 \n",
            " max_pooling2d_5 (MaxPooling  (None, 17, 17, 64)       0         \n",
            " 2D)                                                             \n",
            "                                                                 \n",
            " flatten_1 (Flatten)         (None, 18496)             0         \n",
            "                                                                 \n",
            " dense_2 (Dense)             (None, 64)                1183808   \n",
            "                                                                 \n",
            " dropout_1 (Dropout)         (None, 64)                0         \n",
            "                                                                 \n",
            " dense_3 (Dense)             (None, 1)                 65        \n",
            "                                                                 \n",
            "=================================================================\n",
            "Total params: 1,212,513\n",
            "Trainable params: 1,212,513\n",
            "Non-trainable params: 0\n",
            "_________________________________________________________________\n"
          ]
        }
      ],
      "source": [
        "model = models.Sequential()\n",
        "model.add(layers.Conv2D(32, (3,3), input_shape=(150,150,3), activation='relu'))\n",
        "model.add(layers.MaxPooling2D(pool_size=(2,2)))\n",
        "\n",
        "model.add(layers.Conv2D(32, (3,3), activation='relu'))\n",
        "model.add(layers.MaxPooling2D(pool_size=(2,2)))\n",
        "\n",
        "model.add(layers.Conv2D(64, (3,3), activation='relu'))\n",
        "model.add(layers.MaxPooling2D(pool_size=(2,2)))\n",
        "\n",
        "model.add(layers.Flatten())\n",
        "model.add(layers.Dense(64, activation='relu'))\n",
        "model.add(layers.Dropout(0.5))\n",
        "model.add(layers.Dense(1, activation='sigmoid'))\n",
        "model.summary()"
      ]
    },
    {
      "cell_type": "code",
      "execution_count": null,
      "id": "236cc9b4",
      "metadata": {
        "id": "236cc9b4"
      },
      "outputs": [],
      "source": [
        "# 모델 실행 옵션 설정\n",
        "model.compile(loss='binary_crossentropy', optimizer=optimizers.Adam(learning_rate=0.0002), metrics=['accuracy'])\n",
        "\n",
        "# 학습 조기 중단 설정\n",
        "early_stopping = EarlyStopping(monitor='val_loss', patience=5)"
      ]
    },
    {
      "cell_type": "code",
      "execution_count": null,
      "id": "99894805",
      "metadata": {
        "id": "99894805",
        "outputId": "fba80053-9cd2-43d2-a5f2-b29e8425bacb"
      },
      "outputs": [
        {
          "name": "stdout",
          "output_type": "stream",
          "text": [
            "Epoch 1/100\n",
            "32/32 [==============================] - 3s 67ms/step - loss: 0.7026 - accuracy: 0.5125 - val_loss: 0.6965 - val_accuracy: 0.5000\n",
            "Epoch 2/100\n",
            "32/32 [==============================] - 2s 63ms/step - loss: 0.6931 - accuracy: 0.5250 - val_loss: 0.6848 - val_accuracy: 0.5000\n",
            "Epoch 3/100\n",
            "32/32 [==============================] - 2s 63ms/step - loss: 0.6782 - accuracy: 0.6125 - val_loss: 0.6755 - val_accuracy: 0.5500\n",
            "Epoch 4/100\n",
            "32/32 [==============================] - 2s 59ms/step - loss: 0.6863 - accuracy: 0.5250 - val_loss: 0.6743 - val_accuracy: 0.5333\n",
            "Epoch 5/100\n",
            "32/32 [==============================] - 2s 61ms/step - loss: 0.6744 - accuracy: 0.6000 - val_loss: 0.6703 - val_accuracy: 0.5000\n",
            "Epoch 6/100\n",
            "32/32 [==============================] - 2s 63ms/step - loss: 0.6675 - accuracy: 0.6000 - val_loss: 0.6759 - val_accuracy: 0.5000\n",
            "Epoch 7/100\n",
            "32/32 [==============================] - 2s 62ms/step - loss: 0.6590 - accuracy: 0.6562 - val_loss: 0.6354 - val_accuracy: 0.6583\n",
            "Epoch 8/100\n",
            "32/32 [==============================] - 2s 61ms/step - loss: 0.6079 - accuracy: 0.6500 - val_loss: 0.6260 - val_accuracy: 0.5833\n",
            "Epoch 9/100\n",
            "32/32 [==============================] - 2s 63ms/step - loss: 0.5595 - accuracy: 0.7625 - val_loss: 0.6848 - val_accuracy: 0.5500\n",
            "Epoch 10/100\n",
            "32/32 [==============================] - 2s 62ms/step - loss: 0.5752 - accuracy: 0.6687 - val_loss: 0.4915 - val_accuracy: 0.7833\n",
            "Epoch 11/100\n",
            "32/32 [==============================] - 2s 62ms/step - loss: 0.5015 - accuracy: 0.7937 - val_loss: 0.6826 - val_accuracy: 0.5750\n",
            "Epoch 12/100\n",
            "32/32 [==============================] - 2s 63ms/step - loss: 0.4544 - accuracy: 0.8375 - val_loss: 0.3714 - val_accuracy: 0.8500\n",
            "Epoch 13/100\n",
            "32/32 [==============================] - 2s 64ms/step - loss: 0.4299 - accuracy: 0.7937 - val_loss: 0.3367 - val_accuracy: 0.9250\n",
            "Epoch 14/100\n",
            "32/32 [==============================] - 2s 62ms/step - loss: 0.4277 - accuracy: 0.8125 - val_loss: 0.2941 - val_accuracy: 0.8417\n",
            "Epoch 15/100\n",
            "32/32 [==============================] - 2s 64ms/step - loss: 0.3467 - accuracy: 0.8875 - val_loss: 0.2226 - val_accuracy: 0.9250\n",
            "Epoch 16/100\n",
            "32/32 [==============================] - 2s 63ms/step - loss: 0.2558 - accuracy: 0.9000 - val_loss: 0.2094 - val_accuracy: 0.9167\n",
            "Epoch 17/100\n",
            "32/32 [==============================] - 2s 63ms/step - loss: 0.3417 - accuracy: 0.8813 - val_loss: 0.2098 - val_accuracy: 0.9583\n",
            "Epoch 18/100\n",
            "32/32 [==============================] - 2s 68ms/step - loss: 0.3063 - accuracy: 0.8750 - val_loss: 0.1680 - val_accuracy: 0.9750\n",
            "Epoch 19/100\n",
            "32/32 [==============================] - 2s 63ms/step - loss: 0.2573 - accuracy: 0.8875 - val_loss: 0.2714 - val_accuracy: 0.8833\n",
            "Epoch 20/100\n",
            "32/32 [==============================] - 2s 62ms/step - loss: 0.2706 - accuracy: 0.9312 - val_loss: 0.1969 - val_accuracy: 0.9000\n",
            "Epoch 21/100\n",
            "32/32 [==============================] - 2s 68ms/step - loss: 0.1942 - accuracy: 0.9500 - val_loss: 0.1160 - val_accuracy: 0.9750\n",
            "Epoch 22/100\n",
            "32/32 [==============================] - 2s 62ms/step - loss: 0.1502 - accuracy: 0.9625 - val_loss: 0.0965 - val_accuracy: 0.9833\n",
            "Epoch 23/100\n",
            "32/32 [==============================] - 2s 61ms/step - loss: 0.1320 - accuracy: 0.9563 - val_loss: 0.0874 - val_accuracy: 0.9750\n",
            "Epoch 24/100\n",
            "32/32 [==============================] - 2s 66ms/step - loss: 0.1821 - accuracy: 0.9187 - val_loss: 0.1198 - val_accuracy: 0.9417\n",
            "Epoch 25/100\n",
            "32/32 [==============================] - 2s 62ms/step - loss: 0.2046 - accuracy: 0.9375 - val_loss: 0.1329 - val_accuracy: 0.9417\n",
            "Epoch 26/100\n",
            "32/32 [==============================] - 2s 66ms/step - loss: 0.2018 - accuracy: 0.9187 - val_loss: 0.1637 - val_accuracy: 0.9083\n",
            "Epoch 27/100\n",
            "32/32 [==============================] - 2s 62ms/step - loss: 0.1453 - accuracy: 0.9375 - val_loss: 0.1486 - val_accuracy: 0.9250\n",
            "Epoch 28/100\n",
            "32/32 [==============================] - 2s 66ms/step - loss: 0.1374 - accuracy: 0.9563 - val_loss: 0.1063 - val_accuracy: 0.9667\n"
          ]
        }
      ],
      "source": [
        "# 모델 실행\n",
        "history = model.fit(train_generator,epochs=100,\n",
        "                   validation_data=test_generator,\n",
        "                   callbacks=[early_stopping])"
      ]
    },
    {
      "cell_type": "code",
      "execution_count": null,
      "id": "3d4f382e",
      "metadata": {
        "id": "3d4f382e",
        "outputId": "e16fc637-9f22-4141-fc2a-d87e1d699ab9"
      },
      "outputs": [
        {
          "data": {
            "image/png": "[encoded data removed]",
            "text/plain": [
              "<Figure size 640x480 with 1 Axes>"
            ]
          },
          "metadata": {},
          "output_type": "display_data"
        }
      ],
      "source": [
        "# 검증셋과 학습셋의 오차를 저장합니다.\n",
        "y_vloss = history.history['val_loss']\n",
        "y_loss = history.history['loss']\n",
        "\n",
        "# 그래프로 표현해 봅니다.\n",
        "x_len = np.arange(len(y_loss))\n",
        "plt.plot(x_len, y_vloss, marker='.', c=\"red\", label='Testset_loss')\n",
        "plt.plot(x_len, y_loss, marker='.', c=\"blue\", label='Trainset_loss')\n",
        "\n",
        "# 그래프에 그리드를 주고 레이블을 표시하겠습니다.\n",
        "plt.legend(loc='upper right')\n",
        "plt.grid()\n",
        "plt.xlabel('epoch')\n",
        "plt.ylabel('loss')\n",
        "plt.show()"
      ]
    }
  ],
  "metadata": {
    "kernelspec": {
      "display_name": "Python 3 (ipykernel)",
      "language": "python",
      "name": "python3"
    },
    "language_info": {
      "codemirror_mode": {
        "name": "ipython",
        "version": 3
      },
      "file_extension": ".py",
      "mimetype": "text/x-python",
      "name": "python",
      "nbconvert_exporter": "python",
      "pygments_lexer": "ipython3",
      "version": "3.8.13"
    },
    "colab": {
      "provenance": [],
      "include_colab_link": true
    }
  },
  "nbformat": 4,
  "nbformat_minor": 5
}